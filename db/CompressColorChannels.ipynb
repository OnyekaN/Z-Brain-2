{
 "cells": [
  {
   "cell_type": "code",
   "execution_count": 18,
   "metadata": {
    "collapsed": true
   },
   "outputs": [],
   "source": [
    "import os, sys, subprocess"
   ]
  },
  {
   "cell_type": "markdown",
   "metadata": {},
   "source": [
    "#### Collect color channel images"
   ]
  },
  {
   "cell_type": "code",
   "execution_count": 19,
   "metadata": {
    "collapsed": false
   },
   "outputs": [
    {
     "data": {
      "text/plain": [
       "309"
      ]
     },
     "execution_count": 19,
     "metadata": {},
     "output_type": "execute_result"
    }
   ],
   "source": [
    "colo_channel_folders = [d for d in os.listdir(\"../app/assets/images/3-ColorChannels\") \n",
    "                       if not d.startswith('.')]\n",
    "len(colo_channel_folders)"
   ]
  },
  {
   "cell_type": "code",
   "execution_count": 20,
   "metadata": {
    "collapsed": false
   },
   "outputs": [
    {
     "data": {
      "text/plain": [
       "0"
      ]
     },
     "execution_count": 20,
     "metadata": {},
     "output_type": "execute_result"
    }
   ],
   "source": [
    "colo_channel_folders = [d for d in colo_channel_folders if selector in d]\n",
    "len(colo_channel_folders)"
   ]
  },
  {
   "cell_type": "code",
   "execution_count": 21,
   "metadata": {},
   "outputs": [],
   "source": [
    "# Optional, for selecting specific stack folders\n",
    "selector = \"HGn39D\""
   ]
  },
  {
   "cell_type": "code",
   "execution_count": 22,
   "metadata": {
    "collapsed": false
   },
   "outputs": [],
   "source": [
    "def compress_pngs(folder_path, ext, selector=None):\n",
    "    folders = sorted([f for f in os.listdir(folder_path) if not f.startswith('.')])\n",
    "    if selector:\n",
    "        folders = [f for f in folders if selector in f]\n",
    "    \n",
    "    for stack_folder in folders:\n",
    "        stack_folder_path = folder_path + \"/\" + stack_folder\n",
    "        cc_folder = [s for s in os.listdir(stack_folder_path) if not s.startswith('.')]\n",
    "        \n",
    "        for color in cc_folder:\n",
    "            cc_folder_path = stack_folder_path + \"/\" + color\n",
    "            cc_pngs = [cc_folder_path + \"/\" + p for p in os.listdir(cc_folder_path) \n",
    "                             if ext not in p and not p.startswith(\".\")]\n",
    "            print(cc_pngs)\n",
    "            for png in cc_pngs:\n",
    "                subprocess.check_output('pngquant --quality=0-100 \"{}\" --force'.format(png), shell=True)\n",
    "            "
   ]
  },
  {
   "cell_type": "code",
   "execution_count": 23,
   "metadata": {
    "collapsed": false
   },
   "outputs": [
    {
     "name": "stdout",
     "output_type": "stream",
     "text": [
      "['../app/assets/images/3-ColorChannels/HGn39D/green/HGn39D-45.png', '../app/assets/images/3-ColorChannels/HGn39D/green/HGn39D-51.png', '../app/assets/images/3-ColorChannels/HGn39D/green/HGn39D-79.png', '../app/assets/images/3-ColorChannels/HGn39D/green/HGn39D-86.png', '../app/assets/images/3-ColorChannels/HGn39D/green/HGn39D-92.png', '../app/assets/images/3-ColorChannels/HGn39D/green/HGn39D-93.png', '../app/assets/images/3-ColorChannels/HGn39D/green/HGn39D-87.png', '../app/assets/images/3-ColorChannels/HGn39D/green/HGn39D-78.png', '../app/assets/images/3-ColorChannels/HGn39D/green/HGn39D-50.png', '../app/assets/images/3-ColorChannels/HGn39D/green/HGn39D-44.png', '../app/assets/images/3-ColorChannels/HGn39D/green/HGn39D-52.png', '../app/assets/images/3-ColorChannels/HGn39D/green/HGn39D-46.png', '../app/assets/images/3-ColorChannels/HGn39D/green/HGn39D-91.png', '../app/assets/images/3-ColorChannels/HGn39D/green/HGn39D-85.png', '../app/assets/images/3-ColorChannels/HGn39D/green/HGn39D-84.png', '../app/assets/images/3-ColorChannels/HGn39D/green/HGn39D-90.png', '../app/assets/images/3-ColorChannels/HGn39D/green/HGn39D-47.png', '../app/assets/images/3-ColorChannels/HGn39D/green/HGn39D-53.png', '../app/assets/images/3-ColorChannels/HGn39D/green/HGn39D-57.png', '../app/assets/images/3-ColorChannels/HGn39D/green/HGn39D-43.png', '../app/assets/images/3-ColorChannels/HGn39D/green/HGn39D-94.png', '../app/assets/images/3-ColorChannels/HGn39D/green/HGn39D-80.png', '../app/assets/images/3-ColorChannels/HGn39D/green/HGn39D-81.png', '../app/assets/images/3-ColorChannels/HGn39D/green/HGn39D-95.png', '../app/assets/images/3-ColorChannels/HGn39D/green/HGn39D-42.png', '../app/assets/images/3-ColorChannels/HGn39D/green/HGn39D-56.png', '../app/assets/images/3-ColorChannels/HGn39D/green/HGn39D-68.png', '../app/assets/images/3-ColorChannels/HGn39D/green/HGn39D-40.png', '../app/assets/images/3-ColorChannels/HGn39D/green/HGn39D-54.png', '../app/assets/images/3-ColorChannels/HGn39D/green/HGn39D-83.png', '../app/assets/images/3-ColorChannels/HGn39D/green/HGn39D-97.png', '../app/assets/images/3-ColorChannels/HGn39D/green/HGn39D-96.png', '../app/assets/images/3-ColorChannels/HGn39D/green/HGn39D-82.png', '../app/assets/images/3-ColorChannels/HGn39D/green/HGn39D-55.png', '../app/assets/images/3-ColorChannels/HGn39D/green/HGn39D-41.png', '../app/assets/images/3-ColorChannels/HGn39D/green/HGn39D-69.png', '../app/assets/images/3-ColorChannels/HGn39D/green/HGn39D-26.png', '../app/assets/images/3-ColorChannels/HGn39D/green/HGn39D-110.png', '../app/assets/images/3-ColorChannels/HGn39D/green/HGn39D-104.png', '../app/assets/images/3-ColorChannels/HGn39D/green/HGn39D-32.png', '../app/assets/images/3-ColorChannels/HGn39D/green/HGn39D-6.png', '../app/assets/images/3-ColorChannels/HGn39D/green/HGn39D-7.png', '../app/assets/images/3-ColorChannels/HGn39D/green/HGn39D-105.png', '../app/assets/images/3-ColorChannels/HGn39D/green/HGn39D-33.png', '../app/assets/images/3-ColorChannels/HGn39D/green/HGn39D-27.png', '../app/assets/images/3-ColorChannels/HGn39D/green/HGn39D-111.png', '../app/assets/images/3-ColorChannels/HGn39D/green/HGn39D-31.png', '../app/assets/images/3-ColorChannels/HGn39D/green/HGn39D-107.png', '../app/assets/images/3-ColorChannels/HGn39D/green/HGn39D-113.png', '../app/assets/images/3-ColorChannels/HGn39D/green/HGn39D-25.png', '../app/assets/images/3-ColorChannels/HGn39D/green/HGn39D-19.png', '../app/assets/images/3-ColorChannels/HGn39D/green/HGn39D-5.png', '../app/assets/images/3-ColorChannels/HGn39D/green/HGn39D-4.png', '../app/assets/images/3-ColorChannels/HGn39D/green/HGn39D-18.png', '../app/assets/images/3-ColorChannels/HGn39D/green/HGn39D-112.png', '../app/assets/images/3-ColorChannels/HGn39D/green/HGn39D-24.png', '../app/assets/images/3-ColorChannels/HGn39D/green/HGn39D-30.png', '../app/assets/images/3-ColorChannels/HGn39D/green/HGn39D-106.png', '../app/assets/images/3-ColorChannels/HGn39D/green/HGn39D-102.png', '../app/assets/images/3-ColorChannels/HGn39D/green/HGn39D-34.png', '../app/assets/images/3-ColorChannels/HGn39D/green/HGn39D-20.png', '../app/assets/images/3-ColorChannels/HGn39D/green/HGn39D-116.png', '../app/assets/images/3-ColorChannels/HGn39D/green/HGn39D-0.png', '../app/assets/images/3-ColorChannels/HGn39D/green/HGn39D-1.png', '../app/assets/images/3-ColorChannels/HGn39D/green/HGn39D-21.png', '../app/assets/images/3-ColorChannels/HGn39D/green/HGn39D-117.png', '../app/assets/images/3-ColorChannels/HGn39D/green/HGn39D-103.png', '../app/assets/images/3-ColorChannels/HGn39D/green/HGn39D-35.png', '../app/assets/images/3-ColorChannels/HGn39D/green/HGn39D-129.png', '../app/assets/images/3-ColorChannels/HGn39D/green/HGn39D-115.png', '../app/assets/images/3-ColorChannels/HGn39D/green/HGn39D-23.png', '../app/assets/images/3-ColorChannels/HGn39D/green/HGn39D-37.png', '../app/assets/images/3-ColorChannels/HGn39D/green/HGn39D-101.png', '../app/assets/images/3-ColorChannels/HGn39D/green/HGn39D-3.png', '../app/assets/images/3-ColorChannels/HGn39D/green/HGn39D-2.png', '../app/assets/images/3-ColorChannels/HGn39D/green/HGn39D-36.png', '../app/assets/images/3-ColorChannels/HGn39D/green/HGn39D-100.png', '../app/assets/images/3-ColorChannels/HGn39D/green/HGn39D-114.png', '../app/assets/images/3-ColorChannels/HGn39D/green/HGn39D-22.png', '../app/assets/images/3-ColorChannels/HGn39D/green/HGn39D-128.png', '../app/assets/images/3-ColorChannels/HGn39D/green/HGn39D-131.png', '../app/assets/images/3-ColorChannels/HGn39D/green/HGn39D-125.png', '../app/assets/images/3-ColorChannels/HGn39D/green/HGn39D-13.png', '../app/assets/images/3-ColorChannels/HGn39D/green/HGn39D-119.png', '../app/assets/images/3-ColorChannels/HGn39D/green/HGn39D-118.png', '../app/assets/images/3-ColorChannels/HGn39D/green/HGn39D-124.png', '../app/assets/images/3-ColorChannels/HGn39D/green/HGn39D-12.png', '../app/assets/images/3-ColorChannels/HGn39D/green/HGn39D-130.png', '../app/assets/images/3-ColorChannels/HGn39D/green/HGn39D-10.png', '../app/assets/images/3-ColorChannels/HGn39D/green/HGn39D-126.png', '../app/assets/images/3-ColorChannels/HGn39D/green/HGn39D-132.png', '../app/assets/images/3-ColorChannels/HGn39D/green/HGn39D-38.png', '../app/assets/images/3-ColorChannels/HGn39D/green/HGn39D-39.png', '../app/assets/images/3-ColorChannels/HGn39D/green/HGn39D-133.png', '../app/assets/images/3-ColorChannels/HGn39D/green/HGn39D-11.png', '../app/assets/images/3-ColorChannels/HGn39D/green/HGn39D-127.png', '../app/assets/images/3-ColorChannels/HGn39D/green/HGn39D-29.png', '../app/assets/images/3-ColorChannels/HGn39D/green/HGn39D-123.png', '../app/assets/images/3-ColorChannels/HGn39D/green/HGn39D-15.png', '../app/assets/images/3-ColorChannels/HGn39D/green/HGn39D-137.png', '../app/assets/images/3-ColorChannels/HGn39D/green/HGn39D-9.png', '../app/assets/images/3-ColorChannels/HGn39D/green/HGn39D-8.png', '../app/assets/images/3-ColorChannels/HGn39D/green/HGn39D-136.png', '../app/assets/images/3-ColorChannels/HGn39D/green/HGn39D-122.png', '../app/assets/images/3-ColorChannels/HGn39D/green/HGn39D-14.png', '../app/assets/images/3-ColorChannels/HGn39D/green/HGn39D-28.png', '../app/assets/images/3-ColorChannels/HGn39D/green/HGn39D-108.png', '../app/assets/images/3-ColorChannels/HGn39D/green/HGn39D-134.png', '../app/assets/images/3-ColorChannels/HGn39D/green/HGn39D-16.png', '../app/assets/images/3-ColorChannels/HGn39D/green/HGn39D-120.png', '../app/assets/images/3-ColorChannels/HGn39D/green/HGn39D-17.png', '../app/assets/images/3-ColorChannels/HGn39D/green/HGn39D-121.png', '../app/assets/images/3-ColorChannels/HGn39D/green/HGn39D-135.png', '../app/assets/images/3-ColorChannels/HGn39D/green/HGn39D-109.png', '../app/assets/images/3-ColorChannels/HGn39D/green/HGn39D-64.png', '../app/assets/images/3-ColorChannels/HGn39D/green/HGn39D-70.png', '../app/assets/images/3-ColorChannels/HGn39D/green/HGn39D-58.png', '../app/assets/images/3-ColorChannels/HGn39D/green/HGn39D-59.png', '../app/assets/images/3-ColorChannels/HGn39D/green/HGn39D-71.png', '../app/assets/images/3-ColorChannels/HGn39D/green/HGn39D-65.png', '../app/assets/images/3-ColorChannels/HGn39D/green/HGn39D-73.png', '../app/assets/images/3-ColorChannels/HGn39D/green/HGn39D-67.png', '../app/assets/images/3-ColorChannels/HGn39D/green/HGn39D-98.png', '../app/assets/images/3-ColorChannels/HGn39D/green/HGn39D-99.png', '../app/assets/images/3-ColorChannels/HGn39D/green/HGn39D-66.png', '../app/assets/images/3-ColorChannels/HGn39D/green/HGn39D-72.png', '../app/assets/images/3-ColorChannels/HGn39D/green/HGn39D-76.png', '../app/assets/images/3-ColorChannels/HGn39D/green/HGn39D-62.png', '../app/assets/images/3-ColorChannels/HGn39D/green/HGn39D-89.png', '../app/assets/images/3-ColorChannels/HGn39D/green/HGn39D-88.png', '../app/assets/images/3-ColorChannels/HGn39D/green/HGn39D-63.png', '../app/assets/images/3-ColorChannels/HGn39D/green/HGn39D-77.png', '../app/assets/images/3-ColorChannels/HGn39D/green/HGn39D-49.png', '../app/assets/images/3-ColorChannels/HGn39D/green/HGn39D-61.png', '../app/assets/images/3-ColorChannels/HGn39D/green/HGn39D-75.png', '../app/assets/images/3-ColorChannels/HGn39D/green/HGn39D-74.png', '../app/assets/images/3-ColorChannels/HGn39D/green/HGn39D-60.png', '../app/assets/images/3-ColorChannels/HGn39D/green/HGn39D-48.png']\n",
      "['../app/assets/images/3-ColorChannels/HGn39D/blue/HGn39D-45.png', '../app/assets/images/3-ColorChannels/HGn39D/blue/HGn39D-51.png', '../app/assets/images/3-ColorChannels/HGn39D/blue/HGn39D-79.png', '../app/assets/images/3-ColorChannels/HGn39D/blue/HGn39D-86.png', '../app/assets/images/3-ColorChannels/HGn39D/blue/HGn39D-92.png', '../app/assets/images/3-ColorChannels/HGn39D/blue/HGn39D-93.png', '../app/assets/images/3-ColorChannels/HGn39D/blue/HGn39D-87.png', '../app/assets/images/3-ColorChannels/HGn39D/blue/HGn39D-78.png', '../app/assets/images/3-ColorChannels/HGn39D/blue/HGn39D-50.png', '../app/assets/images/3-ColorChannels/HGn39D/blue/HGn39D-44.png', '../app/assets/images/3-ColorChannels/HGn39D/blue/HGn39D-52.png', '../app/assets/images/3-ColorChannels/HGn39D/blue/HGn39D-46.png', '../app/assets/images/3-ColorChannels/HGn39D/blue/HGn39D-91.png', '../app/assets/images/3-ColorChannels/HGn39D/blue/HGn39D-85.png', '../app/assets/images/3-ColorChannels/HGn39D/blue/HGn39D-84.png', '../app/assets/images/3-ColorChannels/HGn39D/blue/HGn39D-90.png', '../app/assets/images/3-ColorChannels/HGn39D/blue/HGn39D-47.png', '../app/assets/images/3-ColorChannels/HGn39D/blue/HGn39D-53.png', '../app/assets/images/3-ColorChannels/HGn39D/blue/HGn39D-57.png', '../app/assets/images/3-ColorChannels/HGn39D/blue/HGn39D-43.png', '../app/assets/images/3-ColorChannels/HGn39D/blue/HGn39D-94.png', '../app/assets/images/3-ColorChannels/HGn39D/blue/HGn39D-80.png', '../app/assets/images/3-ColorChannels/HGn39D/blue/HGn39D-81.png', '../app/assets/images/3-ColorChannels/HGn39D/blue/HGn39D-95.png', '../app/assets/images/3-ColorChannels/HGn39D/blue/HGn39D-42.png', '../app/assets/images/3-ColorChannels/HGn39D/blue/HGn39D-56.png', '../app/assets/images/3-ColorChannels/HGn39D/blue/HGn39D-68.png', '../app/assets/images/3-ColorChannels/HGn39D/blue/HGn39D-40.png', '../app/assets/images/3-ColorChannels/HGn39D/blue/HGn39D-54.png', '../app/assets/images/3-ColorChannels/HGn39D/blue/HGn39D-83.png', '../app/assets/images/3-ColorChannels/HGn39D/blue/HGn39D-97.png', '../app/assets/images/3-ColorChannels/HGn39D/blue/HGn39D-96.png', '../app/assets/images/3-ColorChannels/HGn39D/blue/HGn39D-82.png', '../app/assets/images/3-ColorChannels/HGn39D/blue/HGn39D-55.png', '../app/assets/images/3-ColorChannels/HGn39D/blue/HGn39D-41.png', '../app/assets/images/3-ColorChannels/HGn39D/blue/HGn39D-69.png', '../app/assets/images/3-ColorChannels/HGn39D/blue/HGn39D-26.png', '../app/assets/images/3-ColorChannels/HGn39D/blue/HGn39D-110.png', '../app/assets/images/3-ColorChannels/HGn39D/blue/HGn39D-104.png', '../app/assets/images/3-ColorChannels/HGn39D/blue/HGn39D-32.png', '../app/assets/images/3-ColorChannels/HGn39D/blue/HGn39D-6.png', '../app/assets/images/3-ColorChannels/HGn39D/blue/HGn39D-7.png', '../app/assets/images/3-ColorChannels/HGn39D/blue/HGn39D-105.png', '../app/assets/images/3-ColorChannels/HGn39D/blue/HGn39D-33.png', '../app/assets/images/3-ColorChannels/HGn39D/blue/HGn39D-27.png', '../app/assets/images/3-ColorChannels/HGn39D/blue/HGn39D-111.png', '../app/assets/images/3-ColorChannels/HGn39D/blue/HGn39D-31.png', '../app/assets/images/3-ColorChannels/HGn39D/blue/HGn39D-107.png', '../app/assets/images/3-ColorChannels/HGn39D/blue/HGn39D-113.png', '../app/assets/images/3-ColorChannels/HGn39D/blue/HGn39D-25.png', '../app/assets/images/3-ColorChannels/HGn39D/blue/HGn39D-19.png', '../app/assets/images/3-ColorChannels/HGn39D/blue/HGn39D-5.png', '../app/assets/images/3-ColorChannels/HGn39D/blue/HGn39D-4.png', '../app/assets/images/3-ColorChannels/HGn39D/blue/HGn39D-18.png', '../app/assets/images/3-ColorChannels/HGn39D/blue/HGn39D-112.png', '../app/assets/images/3-ColorChannels/HGn39D/blue/HGn39D-24.png', '../app/assets/images/3-ColorChannels/HGn39D/blue/HGn39D-30.png', '../app/assets/images/3-ColorChannels/HGn39D/blue/HGn39D-106.png', '../app/assets/images/3-ColorChannels/HGn39D/blue/HGn39D-102.png', '../app/assets/images/3-ColorChannels/HGn39D/blue/HGn39D-34.png', '../app/assets/images/3-ColorChannels/HGn39D/blue/HGn39D-20.png', '../app/assets/images/3-ColorChannels/HGn39D/blue/HGn39D-116.png', '../app/assets/images/3-ColorChannels/HGn39D/blue/HGn39D-0.png', '../app/assets/images/3-ColorChannels/HGn39D/blue/HGn39D-1.png', '../app/assets/images/3-ColorChannels/HGn39D/blue/HGn39D-21.png', '../app/assets/images/3-ColorChannels/HGn39D/blue/HGn39D-117.png', '../app/assets/images/3-ColorChannels/HGn39D/blue/HGn39D-103.png', '../app/assets/images/3-ColorChannels/HGn39D/blue/HGn39D-35.png', '../app/assets/images/3-ColorChannels/HGn39D/blue/HGn39D-129.png', '../app/assets/images/3-ColorChannels/HGn39D/blue/HGn39D-115.png', '../app/assets/images/3-ColorChannels/HGn39D/blue/HGn39D-23.png', '../app/assets/images/3-ColorChannels/HGn39D/blue/HGn39D-37.png', '../app/assets/images/3-ColorChannels/HGn39D/blue/HGn39D-101.png', '../app/assets/images/3-ColorChannels/HGn39D/blue/HGn39D-3.png', '../app/assets/images/3-ColorChannels/HGn39D/blue/HGn39D-2.png', '../app/assets/images/3-ColorChannels/HGn39D/blue/HGn39D-36.png', '../app/assets/images/3-ColorChannels/HGn39D/blue/HGn39D-100.png', '../app/assets/images/3-ColorChannels/HGn39D/blue/HGn39D-114.png', '../app/assets/images/3-ColorChannels/HGn39D/blue/HGn39D-22.png', '../app/assets/images/3-ColorChannels/HGn39D/blue/HGn39D-128.png', '../app/assets/images/3-ColorChannels/HGn39D/blue/HGn39D-131.png', '../app/assets/images/3-ColorChannels/HGn39D/blue/HGn39D-125.png', '../app/assets/images/3-ColorChannels/HGn39D/blue/HGn39D-13.png', '../app/assets/images/3-ColorChannels/HGn39D/blue/HGn39D-119.png', '../app/assets/images/3-ColorChannels/HGn39D/blue/HGn39D-118.png', '../app/assets/images/3-ColorChannels/HGn39D/blue/HGn39D-124.png', '../app/assets/images/3-ColorChannels/HGn39D/blue/HGn39D-12.png', '../app/assets/images/3-ColorChannels/HGn39D/blue/HGn39D-130.png', '../app/assets/images/3-ColorChannels/HGn39D/blue/HGn39D-10.png', '../app/assets/images/3-ColorChannels/HGn39D/blue/HGn39D-126.png', '../app/assets/images/3-ColorChannels/HGn39D/blue/HGn39D-132.png', '../app/assets/images/3-ColorChannels/HGn39D/blue/HGn39D-38.png', '../app/assets/images/3-ColorChannels/HGn39D/blue/HGn39D-39.png', '../app/assets/images/3-ColorChannels/HGn39D/blue/HGn39D-133.png', '../app/assets/images/3-ColorChannels/HGn39D/blue/HGn39D-11.png', '../app/assets/images/3-ColorChannels/HGn39D/blue/HGn39D-127.png', '../app/assets/images/3-ColorChannels/HGn39D/blue/HGn39D-29.png', '../app/assets/images/3-ColorChannels/HGn39D/blue/HGn39D-123.png', '../app/assets/images/3-ColorChannels/HGn39D/blue/HGn39D-15.png', '../app/assets/images/3-ColorChannels/HGn39D/blue/HGn39D-137.png', '../app/assets/images/3-ColorChannels/HGn39D/blue/HGn39D-9.png', '../app/assets/images/3-ColorChannels/HGn39D/blue/HGn39D-8.png', '../app/assets/images/3-ColorChannels/HGn39D/blue/HGn39D-136.png', '../app/assets/images/3-ColorChannels/HGn39D/blue/HGn39D-122.png', '../app/assets/images/3-ColorChannels/HGn39D/blue/HGn39D-14.png', '../app/assets/images/3-ColorChannels/HGn39D/blue/HGn39D-28.png', '../app/assets/images/3-ColorChannels/HGn39D/blue/HGn39D-108.png', '../app/assets/images/3-ColorChannels/HGn39D/blue/HGn39D-134.png', '../app/assets/images/3-ColorChannels/HGn39D/blue/HGn39D-16.png', '../app/assets/images/3-ColorChannels/HGn39D/blue/HGn39D-120.png', '../app/assets/images/3-ColorChannels/HGn39D/blue/HGn39D-17.png', '../app/assets/images/3-ColorChannels/HGn39D/blue/HGn39D-121.png', '../app/assets/images/3-ColorChannels/HGn39D/blue/HGn39D-135.png', '../app/assets/images/3-ColorChannels/HGn39D/blue/HGn39D-109.png', '../app/assets/images/3-ColorChannels/HGn39D/blue/HGn39D-64.png', '../app/assets/images/3-ColorChannels/HGn39D/blue/HGn39D-70.png', '../app/assets/images/3-ColorChannels/HGn39D/blue/HGn39D-58.png', '../app/assets/images/3-ColorChannels/HGn39D/blue/HGn39D-59.png', '../app/assets/images/3-ColorChannels/HGn39D/blue/HGn39D-71.png', '../app/assets/images/3-ColorChannels/HGn39D/blue/HGn39D-65.png', '../app/assets/images/3-ColorChannels/HGn39D/blue/HGn39D-73.png', '../app/assets/images/3-ColorChannels/HGn39D/blue/HGn39D-67.png', '../app/assets/images/3-ColorChannels/HGn39D/blue/HGn39D-98.png', '../app/assets/images/3-ColorChannels/HGn39D/blue/HGn39D-99.png', '../app/assets/images/3-ColorChannels/HGn39D/blue/HGn39D-66.png', '../app/assets/images/3-ColorChannels/HGn39D/blue/HGn39D-72.png', '../app/assets/images/3-ColorChannels/HGn39D/blue/HGn39D-76.png', '../app/assets/images/3-ColorChannels/HGn39D/blue/HGn39D-62.png', '../app/assets/images/3-ColorChannels/HGn39D/blue/HGn39D-89.png', '../app/assets/images/3-ColorChannels/HGn39D/blue/HGn39D-88.png', '../app/assets/images/3-ColorChannels/HGn39D/blue/HGn39D-63.png', '../app/assets/images/3-ColorChannels/HGn39D/blue/HGn39D-77.png', '../app/assets/images/3-ColorChannels/HGn39D/blue/HGn39D-49.png', '../app/assets/images/3-ColorChannels/HGn39D/blue/HGn39D-61.png', '../app/assets/images/3-ColorChannels/HGn39D/blue/HGn39D-75.png', '../app/assets/images/3-ColorChannels/HGn39D/blue/HGn39D-74.png', '../app/assets/images/3-ColorChannels/HGn39D/blue/HGn39D-60.png', '../app/assets/images/3-ColorChannels/HGn39D/blue/HGn39D-48.png']\n",
      "['../app/assets/images/3-ColorChannels/HGn39D/cyan/HGn39D-45.png', '../app/assets/images/3-ColorChannels/HGn39D/cyan/HGn39D-51.png', '../app/assets/images/3-ColorChannels/HGn39D/cyan/HGn39D-79.png', '../app/assets/images/3-ColorChannels/HGn39D/cyan/HGn39D-86.png', '../app/assets/images/3-ColorChannels/HGn39D/cyan/HGn39D-92.png', '../app/assets/images/3-ColorChannels/HGn39D/cyan/HGn39D-93.png', '../app/assets/images/3-ColorChannels/HGn39D/cyan/HGn39D-87.png', '../app/assets/images/3-ColorChannels/HGn39D/cyan/HGn39D-78.png', '../app/assets/images/3-ColorChannels/HGn39D/cyan/HGn39D-50.png', '../app/assets/images/3-ColorChannels/HGn39D/cyan/HGn39D-44.png', '../app/assets/images/3-ColorChannels/HGn39D/cyan/HGn39D-52.png', '../app/assets/images/3-ColorChannels/HGn39D/cyan/HGn39D-46.png', '../app/assets/images/3-ColorChannels/HGn39D/cyan/HGn39D-91.png', '../app/assets/images/3-ColorChannels/HGn39D/cyan/HGn39D-85.png', '../app/assets/images/3-ColorChannels/HGn39D/cyan/HGn39D-84.png', '../app/assets/images/3-ColorChannels/HGn39D/cyan/HGn39D-90.png', '../app/assets/images/3-ColorChannels/HGn39D/cyan/HGn39D-47.png', '../app/assets/images/3-ColorChannels/HGn39D/cyan/HGn39D-53.png', '../app/assets/images/3-ColorChannels/HGn39D/cyan/HGn39D-57.png', '../app/assets/images/3-ColorChannels/HGn39D/cyan/HGn39D-43.png', '../app/assets/images/3-ColorChannels/HGn39D/cyan/HGn39D-94.png', '../app/assets/images/3-ColorChannels/HGn39D/cyan/HGn39D-80.png', '../app/assets/images/3-ColorChannels/HGn39D/cyan/HGn39D-81.png', '../app/assets/images/3-ColorChannels/HGn39D/cyan/HGn39D-95.png', '../app/assets/images/3-ColorChannels/HGn39D/cyan/HGn39D-42.png', '../app/assets/images/3-ColorChannels/HGn39D/cyan/HGn39D-56.png', '../app/assets/images/3-ColorChannels/HGn39D/cyan/HGn39D-68.png', '../app/assets/images/3-ColorChannels/HGn39D/cyan/HGn39D-40.png', '../app/assets/images/3-ColorChannels/HGn39D/cyan/HGn39D-54.png', '../app/assets/images/3-ColorChannels/HGn39D/cyan/HGn39D-83.png', '../app/assets/images/3-ColorChannels/HGn39D/cyan/HGn39D-97.png', '../app/assets/images/3-ColorChannels/HGn39D/cyan/HGn39D-96.png', '../app/assets/images/3-ColorChannels/HGn39D/cyan/HGn39D-82.png', '../app/assets/images/3-ColorChannels/HGn39D/cyan/HGn39D-55.png', '../app/assets/images/3-ColorChannels/HGn39D/cyan/HGn39D-41.png', '../app/assets/images/3-ColorChannels/HGn39D/cyan/HGn39D-69.png', '../app/assets/images/3-ColorChannels/HGn39D/cyan/HGn39D-26.png', '../app/assets/images/3-ColorChannels/HGn39D/cyan/HGn39D-110.png', '../app/assets/images/3-ColorChannels/HGn39D/cyan/HGn39D-104.png', '../app/assets/images/3-ColorChannels/HGn39D/cyan/HGn39D-32.png', '../app/assets/images/3-ColorChannels/HGn39D/cyan/HGn39D-6.png', '../app/assets/images/3-ColorChannels/HGn39D/cyan/HGn39D-7.png', '../app/assets/images/3-ColorChannels/HGn39D/cyan/HGn39D-105.png', '../app/assets/images/3-ColorChannels/HGn39D/cyan/HGn39D-33.png', '../app/assets/images/3-ColorChannels/HGn39D/cyan/HGn39D-27.png', '../app/assets/images/3-ColorChannels/HGn39D/cyan/HGn39D-111.png', '../app/assets/images/3-ColorChannels/HGn39D/cyan/HGn39D-31.png', '../app/assets/images/3-ColorChannels/HGn39D/cyan/HGn39D-107.png', '../app/assets/images/3-ColorChannels/HGn39D/cyan/HGn39D-113.png', '../app/assets/images/3-ColorChannels/HGn39D/cyan/HGn39D-25.png', '../app/assets/images/3-ColorChannels/HGn39D/cyan/HGn39D-19.png', '../app/assets/images/3-ColorChannels/HGn39D/cyan/HGn39D-5.png', '../app/assets/images/3-ColorChannels/HGn39D/cyan/HGn39D-4.png', '../app/assets/images/3-ColorChannels/HGn39D/cyan/HGn39D-18.png', '../app/assets/images/3-ColorChannels/HGn39D/cyan/HGn39D-112.png', '../app/assets/images/3-ColorChannels/HGn39D/cyan/HGn39D-24.png', '../app/assets/images/3-ColorChannels/HGn39D/cyan/HGn39D-30.png', '../app/assets/images/3-ColorChannels/HGn39D/cyan/HGn39D-106.png', '../app/assets/images/3-ColorChannels/HGn39D/cyan/HGn39D-102.png', '../app/assets/images/3-ColorChannels/HGn39D/cyan/HGn39D-34.png', '../app/assets/images/3-ColorChannels/HGn39D/cyan/HGn39D-20.png', '../app/assets/images/3-ColorChannels/HGn39D/cyan/HGn39D-116.png', '../app/assets/images/3-ColorChannels/HGn39D/cyan/HGn39D-0.png', '../app/assets/images/3-ColorChannels/HGn39D/cyan/HGn39D-1.png', '../app/assets/images/3-ColorChannels/HGn39D/cyan/HGn39D-21.png', '../app/assets/images/3-ColorChannels/HGn39D/cyan/HGn39D-117.png', '../app/assets/images/3-ColorChannels/HGn39D/cyan/HGn39D-103.png', '../app/assets/images/3-ColorChannels/HGn39D/cyan/HGn39D-35.png', '../app/assets/images/3-ColorChannels/HGn39D/cyan/HGn39D-129.png', '../app/assets/images/3-ColorChannels/HGn39D/cyan/HGn39D-115.png', '../app/assets/images/3-ColorChannels/HGn39D/cyan/HGn39D-23.png', '../app/assets/images/3-ColorChannels/HGn39D/cyan/HGn39D-37.png', '../app/assets/images/3-ColorChannels/HGn39D/cyan/HGn39D-101.png', '../app/assets/images/3-ColorChannels/HGn39D/cyan/HGn39D-3.png', '../app/assets/images/3-ColorChannels/HGn39D/cyan/HGn39D-2.png', '../app/assets/images/3-ColorChannels/HGn39D/cyan/HGn39D-36.png', '../app/assets/images/3-ColorChannels/HGn39D/cyan/HGn39D-100.png', '../app/assets/images/3-ColorChannels/HGn39D/cyan/HGn39D-114.png', '../app/assets/images/3-ColorChannels/HGn39D/cyan/HGn39D-22.png', '../app/assets/images/3-ColorChannels/HGn39D/cyan/HGn39D-128.png', '../app/assets/images/3-ColorChannels/HGn39D/cyan/HGn39D-131.png', '../app/assets/images/3-ColorChannels/HGn39D/cyan/HGn39D-125.png', '../app/assets/images/3-ColorChannels/HGn39D/cyan/HGn39D-13.png', '../app/assets/images/3-ColorChannels/HGn39D/cyan/HGn39D-119.png', '../app/assets/images/3-ColorChannels/HGn39D/cyan/HGn39D-118.png', '../app/assets/images/3-ColorChannels/HGn39D/cyan/HGn39D-124.png', '../app/assets/images/3-ColorChannels/HGn39D/cyan/HGn39D-12.png', '../app/assets/images/3-ColorChannels/HGn39D/cyan/HGn39D-130.png', '../app/assets/images/3-ColorChannels/HGn39D/cyan/HGn39D-10.png', '../app/assets/images/3-ColorChannels/HGn39D/cyan/HGn39D-126.png', '../app/assets/images/3-ColorChannels/HGn39D/cyan/HGn39D-132.png', '../app/assets/images/3-ColorChannels/HGn39D/cyan/HGn39D-38.png', '../app/assets/images/3-ColorChannels/HGn39D/cyan/HGn39D-39.png', '../app/assets/images/3-ColorChannels/HGn39D/cyan/HGn39D-133.png', '../app/assets/images/3-ColorChannels/HGn39D/cyan/HGn39D-11.png', '../app/assets/images/3-ColorChannels/HGn39D/cyan/HGn39D-127.png', '../app/assets/images/3-ColorChannels/HGn39D/cyan/HGn39D-29.png', '../app/assets/images/3-ColorChannels/HGn39D/cyan/HGn39D-123.png', '../app/assets/images/3-ColorChannels/HGn39D/cyan/HGn39D-15.png', '../app/assets/images/3-ColorChannels/HGn39D/cyan/HGn39D-137.png', '../app/assets/images/3-ColorChannels/HGn39D/cyan/HGn39D-9.png', '../app/assets/images/3-ColorChannels/HGn39D/cyan/HGn39D-8.png', '../app/assets/images/3-ColorChannels/HGn39D/cyan/HGn39D-136.png', '../app/assets/images/3-ColorChannels/HGn39D/cyan/HGn39D-122.png', '../app/assets/images/3-ColorChannels/HGn39D/cyan/HGn39D-14.png', '../app/assets/images/3-ColorChannels/HGn39D/cyan/HGn39D-28.png', '../app/assets/images/3-ColorChannels/HGn39D/cyan/HGn39D-108.png', '../app/assets/images/3-ColorChannels/HGn39D/cyan/HGn39D-134.png', '../app/assets/images/3-ColorChannels/HGn39D/cyan/HGn39D-16.png', '../app/assets/images/3-ColorChannels/HGn39D/cyan/HGn39D-120.png', '../app/assets/images/3-ColorChannels/HGn39D/cyan/HGn39D-17.png', '../app/assets/images/3-ColorChannels/HGn39D/cyan/HGn39D-121.png', '../app/assets/images/3-ColorChannels/HGn39D/cyan/HGn39D-135.png', '../app/assets/images/3-ColorChannels/HGn39D/cyan/HGn39D-109.png', '../app/assets/images/3-ColorChannels/HGn39D/cyan/HGn39D-64.png', '../app/assets/images/3-ColorChannels/HGn39D/cyan/HGn39D-70.png', '../app/assets/images/3-ColorChannels/HGn39D/cyan/HGn39D-58.png', '../app/assets/images/3-ColorChannels/HGn39D/cyan/HGn39D-59.png', '../app/assets/images/3-ColorChannels/HGn39D/cyan/HGn39D-71.png', '../app/assets/images/3-ColorChannels/HGn39D/cyan/HGn39D-65.png', '../app/assets/images/3-ColorChannels/HGn39D/cyan/HGn39D-73.png', '../app/assets/images/3-ColorChannels/HGn39D/cyan/HGn39D-67.png', '../app/assets/images/3-ColorChannels/HGn39D/cyan/HGn39D-98.png', '../app/assets/images/3-ColorChannels/HGn39D/cyan/HGn39D-99.png', '../app/assets/images/3-ColorChannels/HGn39D/cyan/HGn39D-66.png', '../app/assets/images/3-ColorChannels/HGn39D/cyan/HGn39D-72.png', '../app/assets/images/3-ColorChannels/HGn39D/cyan/HGn39D-76.png', '../app/assets/images/3-ColorChannels/HGn39D/cyan/HGn39D-62.png', '../app/assets/images/3-ColorChannels/HGn39D/cyan/HGn39D-89.png', '../app/assets/images/3-ColorChannels/HGn39D/cyan/HGn39D-88.png', '../app/assets/images/3-ColorChannels/HGn39D/cyan/HGn39D-63.png', '../app/assets/images/3-ColorChannels/HGn39D/cyan/HGn39D-77.png', '../app/assets/images/3-ColorChannels/HGn39D/cyan/HGn39D-49.png', '../app/assets/images/3-ColorChannels/HGn39D/cyan/HGn39D-61.png', '../app/assets/images/3-ColorChannels/HGn39D/cyan/HGn39D-75.png', '../app/assets/images/3-ColorChannels/HGn39D/cyan/HGn39D-74.png', '../app/assets/images/3-ColorChannels/HGn39D/cyan/HGn39D-60.png', '../app/assets/images/3-ColorChannels/HGn39D/cyan/HGn39D-48.png']\n",
      "['../app/assets/images/3-ColorChannels/HGn39D/red/HGn39D-45.png', '../app/assets/images/3-ColorChannels/HGn39D/red/HGn39D-51.png', '../app/assets/images/3-ColorChannels/HGn39D/red/HGn39D-79.png', '../app/assets/images/3-ColorChannels/HGn39D/red/HGn39D-86.png', '../app/assets/images/3-ColorChannels/HGn39D/red/HGn39D-92.png', '../app/assets/images/3-ColorChannels/HGn39D/red/HGn39D-93.png', '../app/assets/images/3-ColorChannels/HGn39D/red/HGn39D-87.png', '../app/assets/images/3-ColorChannels/HGn39D/red/HGn39D-78.png', '../app/assets/images/3-ColorChannels/HGn39D/red/HGn39D-50.png', '../app/assets/images/3-ColorChannels/HGn39D/red/HGn39D-44.png', '../app/assets/images/3-ColorChannels/HGn39D/red/HGn39D-52.png', '../app/assets/images/3-ColorChannels/HGn39D/red/HGn39D-46.png', '../app/assets/images/3-ColorChannels/HGn39D/red/HGn39D-91.png', '../app/assets/images/3-ColorChannels/HGn39D/red/HGn39D-85.png', '../app/assets/images/3-ColorChannels/HGn39D/red/HGn39D-84.png', '../app/assets/images/3-ColorChannels/HGn39D/red/HGn39D-90.png', '../app/assets/images/3-ColorChannels/HGn39D/red/HGn39D-47.png', '../app/assets/images/3-ColorChannels/HGn39D/red/HGn39D-53.png', '../app/assets/images/3-ColorChannels/HGn39D/red/HGn39D-57.png', '../app/assets/images/3-ColorChannels/HGn39D/red/HGn39D-43.png', '../app/assets/images/3-ColorChannels/HGn39D/red/HGn39D-94.png', '../app/assets/images/3-ColorChannels/HGn39D/red/HGn39D-80.png', '../app/assets/images/3-ColorChannels/HGn39D/red/HGn39D-81.png', '../app/assets/images/3-ColorChannels/HGn39D/red/HGn39D-95.png', '../app/assets/images/3-ColorChannels/HGn39D/red/HGn39D-42.png', '../app/assets/images/3-ColorChannels/HGn39D/red/HGn39D-56.png', '../app/assets/images/3-ColorChannels/HGn39D/red/HGn39D-68.png', '../app/assets/images/3-ColorChannels/HGn39D/red/HGn39D-40.png', '../app/assets/images/3-ColorChannels/HGn39D/red/HGn39D-54.png', '../app/assets/images/3-ColorChannels/HGn39D/red/HGn39D-83.png', '../app/assets/images/3-ColorChannels/HGn39D/red/HGn39D-97.png', '../app/assets/images/3-ColorChannels/HGn39D/red/HGn39D-96.png', '../app/assets/images/3-ColorChannels/HGn39D/red/HGn39D-82.png', '../app/assets/images/3-ColorChannels/HGn39D/red/HGn39D-55.png', '../app/assets/images/3-ColorChannels/HGn39D/red/HGn39D-41.png', '../app/assets/images/3-ColorChannels/HGn39D/red/HGn39D-69.png', '../app/assets/images/3-ColorChannels/HGn39D/red/HGn39D-26.png', '../app/assets/images/3-ColorChannels/HGn39D/red/HGn39D-110.png', '../app/assets/images/3-ColorChannels/HGn39D/red/HGn39D-104.png', '../app/assets/images/3-ColorChannels/HGn39D/red/HGn39D-32.png', '../app/assets/images/3-ColorChannels/HGn39D/red/HGn39D-6.png', '../app/assets/images/3-ColorChannels/HGn39D/red/HGn39D-7.png', '../app/assets/images/3-ColorChannels/HGn39D/red/HGn39D-105.png', '../app/assets/images/3-ColorChannels/HGn39D/red/HGn39D-33.png', '../app/assets/images/3-ColorChannels/HGn39D/red/HGn39D-27.png', '../app/assets/images/3-ColorChannels/HGn39D/red/HGn39D-111.png', '../app/assets/images/3-ColorChannels/HGn39D/red/HGn39D-31.png', '../app/assets/images/3-ColorChannels/HGn39D/red/HGn39D-107.png', '../app/assets/images/3-ColorChannels/HGn39D/red/HGn39D-113.png', '../app/assets/images/3-ColorChannels/HGn39D/red/HGn39D-25.png', '../app/assets/images/3-ColorChannels/HGn39D/red/HGn39D-19.png', '../app/assets/images/3-ColorChannels/HGn39D/red/HGn39D-5.png', '../app/assets/images/3-ColorChannels/HGn39D/red/HGn39D-4.png', '../app/assets/images/3-ColorChannels/HGn39D/red/HGn39D-18.png', '../app/assets/images/3-ColorChannels/HGn39D/red/HGn39D-112.png', '../app/assets/images/3-ColorChannels/HGn39D/red/HGn39D-24.png', '../app/assets/images/3-ColorChannels/HGn39D/red/HGn39D-30.png', '../app/assets/images/3-ColorChannels/HGn39D/red/HGn39D-106.png', '../app/assets/images/3-ColorChannels/HGn39D/red/HGn39D-102.png', '../app/assets/images/3-ColorChannels/HGn39D/red/HGn39D-34.png', '../app/assets/images/3-ColorChannels/HGn39D/red/HGn39D-20.png', '../app/assets/images/3-ColorChannels/HGn39D/red/HGn39D-116.png', '../app/assets/images/3-ColorChannels/HGn39D/red/HGn39D-0.png', '../app/assets/images/3-ColorChannels/HGn39D/red/HGn39D-1.png', '../app/assets/images/3-ColorChannels/HGn39D/red/HGn39D-21.png', '../app/assets/images/3-ColorChannels/HGn39D/red/HGn39D-117.png', '../app/assets/images/3-ColorChannels/HGn39D/red/HGn39D-103.png', '../app/assets/images/3-ColorChannels/HGn39D/red/HGn39D-35.png', '../app/assets/images/3-ColorChannels/HGn39D/red/HGn39D-129.png', '../app/assets/images/3-ColorChannels/HGn39D/red/HGn39D-115.png', '../app/assets/images/3-ColorChannels/HGn39D/red/HGn39D-23.png', '../app/assets/images/3-ColorChannels/HGn39D/red/HGn39D-37.png', '../app/assets/images/3-ColorChannels/HGn39D/red/HGn39D-101.png', '../app/assets/images/3-ColorChannels/HGn39D/red/HGn39D-3.png', '../app/assets/images/3-ColorChannels/HGn39D/red/HGn39D-2.png', '../app/assets/images/3-ColorChannels/HGn39D/red/HGn39D-36.png', '../app/assets/images/3-ColorChannels/HGn39D/red/HGn39D-100.png', '../app/assets/images/3-ColorChannels/HGn39D/red/HGn39D-114.png', '../app/assets/images/3-ColorChannels/HGn39D/red/HGn39D-22.png', '../app/assets/images/3-ColorChannels/HGn39D/red/HGn39D-128.png', '../app/assets/images/3-ColorChannels/HGn39D/red/HGn39D-131.png', '../app/assets/images/3-ColorChannels/HGn39D/red/HGn39D-125.png', '../app/assets/images/3-ColorChannels/HGn39D/red/HGn39D-13.png', '../app/assets/images/3-ColorChannels/HGn39D/red/HGn39D-119.png', '../app/assets/images/3-ColorChannels/HGn39D/red/HGn39D-118.png', '../app/assets/images/3-ColorChannels/HGn39D/red/HGn39D-124.png', '../app/assets/images/3-ColorChannels/HGn39D/red/HGn39D-12.png', '../app/assets/images/3-ColorChannels/HGn39D/red/HGn39D-130.png', '../app/assets/images/3-ColorChannels/HGn39D/red/HGn39D-10.png', '../app/assets/images/3-ColorChannels/HGn39D/red/HGn39D-126.png', '../app/assets/images/3-ColorChannels/HGn39D/red/HGn39D-132.png', '../app/assets/images/3-ColorChannels/HGn39D/red/HGn39D-38.png', '../app/assets/images/3-ColorChannels/HGn39D/red/HGn39D-39.png', '../app/assets/images/3-ColorChannels/HGn39D/red/HGn39D-133.png', '../app/assets/images/3-ColorChannels/HGn39D/red/HGn39D-11.png', '../app/assets/images/3-ColorChannels/HGn39D/red/HGn39D-127.png', '../app/assets/images/3-ColorChannels/HGn39D/red/HGn39D-29.png', '../app/assets/images/3-ColorChannels/HGn39D/red/HGn39D-123.png', '../app/assets/images/3-ColorChannels/HGn39D/red/HGn39D-15.png', '../app/assets/images/3-ColorChannels/HGn39D/red/HGn39D-137.png', '../app/assets/images/3-ColorChannels/HGn39D/red/HGn39D-9.png', '../app/assets/images/3-ColorChannels/HGn39D/red/HGn39D-8.png', '../app/assets/images/3-ColorChannels/HGn39D/red/HGn39D-136.png', '../app/assets/images/3-ColorChannels/HGn39D/red/HGn39D-122.png', '../app/assets/images/3-ColorChannels/HGn39D/red/HGn39D-14.png', '../app/assets/images/3-ColorChannels/HGn39D/red/HGn39D-28.png', '../app/assets/images/3-ColorChannels/HGn39D/red/HGn39D-108.png', '../app/assets/images/3-ColorChannels/HGn39D/red/HGn39D-134.png', '../app/assets/images/3-ColorChannels/HGn39D/red/HGn39D-16.png', '../app/assets/images/3-ColorChannels/HGn39D/red/HGn39D-120.png', '../app/assets/images/3-ColorChannels/HGn39D/red/HGn39D-17.png', '../app/assets/images/3-ColorChannels/HGn39D/red/HGn39D-121.png', '../app/assets/images/3-ColorChannels/HGn39D/red/HGn39D-135.png', '../app/assets/images/3-ColorChannels/HGn39D/red/HGn39D-109.png', '../app/assets/images/3-ColorChannels/HGn39D/red/HGn39D-64.png', '../app/assets/images/3-ColorChannels/HGn39D/red/HGn39D-70.png', '../app/assets/images/3-ColorChannels/HGn39D/red/HGn39D-58.png', '../app/assets/images/3-ColorChannels/HGn39D/red/HGn39D-59.png', '../app/assets/images/3-ColorChannels/HGn39D/red/HGn39D-71.png', '../app/assets/images/3-ColorChannels/HGn39D/red/HGn39D-65.png', '../app/assets/images/3-ColorChannels/HGn39D/red/HGn39D-73.png', '../app/assets/images/3-ColorChannels/HGn39D/red/HGn39D-67.png', '../app/assets/images/3-ColorChannels/HGn39D/red/HGn39D-98.png', '../app/assets/images/3-ColorChannels/HGn39D/red/HGn39D-99.png', '../app/assets/images/3-ColorChannels/HGn39D/red/HGn39D-66.png', '../app/assets/images/3-ColorChannels/HGn39D/red/HGn39D-72.png', '../app/assets/images/3-ColorChannels/HGn39D/red/HGn39D-76.png', '../app/assets/images/3-ColorChannels/HGn39D/red/HGn39D-62.png', '../app/assets/images/3-ColorChannels/HGn39D/red/HGn39D-89.png', '../app/assets/images/3-ColorChannels/HGn39D/red/HGn39D-88.png', '../app/assets/images/3-ColorChannels/HGn39D/red/HGn39D-63.png', '../app/assets/images/3-ColorChannels/HGn39D/red/HGn39D-77.png', '../app/assets/images/3-ColorChannels/HGn39D/red/HGn39D-49.png', '../app/assets/images/3-ColorChannels/HGn39D/red/HGn39D-61.png', '../app/assets/images/3-ColorChannels/HGn39D/red/HGn39D-75.png', '../app/assets/images/3-ColorChannels/HGn39D/red/HGn39D-74.png', '../app/assets/images/3-ColorChannels/HGn39D/red/HGn39D-60.png', '../app/assets/images/3-ColorChannels/HGn39D/red/HGn39D-48.png']\n"
     ]
    }
   ],
   "source": [
    "compress_pngs(\"../app/assets/images/3-ColorChannels\", \"fs8\", selector)"
   ]
  },
  {
   "cell_type": "code",
   "execution_count": 24,
   "metadata": {
    "collapsed": false
   },
   "outputs": [],
   "source": [
    "def rename_pngs(folder_path, ext, selector=None):\n",
    "    folders = sorted([f for f in os.listdir(folder_path) if not f.startswith('.')])\n",
    "    if selector:\n",
    "        folders = [f for f in folders if selector in f]\n",
    "    \n",
    "    for stack_folder in folders:\n",
    "        stack_folder_path = folder_path + \"/\" + stack_folder\n",
    "        cc_folder = [s for s in os.listdir(stack_folder_path) if not s.startswith('.')]\n",
    "        \n",
    "        for color in cc_folder:\n",
    "            cc_folder_path = stack_folder_path + \"/\" + color \n",
    "            cc_pngs = [cc_folder_path + \"/\" + p for p in os.listdir(cc_folder_path) \n",
    "                             if not p.startswith(\".\")]\n",
    "            old_cc_pngs = sorted([p for p in cc_pngs if ext not in p])\n",
    "            new_cc_pngs = sorted([p for p in cc_pngs if ext in p])\n",
    "            if len(new_cc_pngs) is not 138:\n",
    "                print(stack_folder, color, len(new_cc_pngs))\n",
    "            else:\n",
    "                for i, (new_file, old_file) in enumerate(zip(new_cc_pngs, old_cc_pngs)):\n",
    "                    os.replace(new_file, old_file)"
   ]
  },
  {
   "cell_type": "code",
   "execution_count": 25,
   "metadata": {
    "collapsed": false
   },
   "outputs": [],
   "source": [
    "rename_pngs(\"../app/assets/images/3-ColorChannels\", \"fs8\", selector)"
   ]
  },
  {
   "cell_type": "code",
   "execution_count": 26,
   "metadata": {
    "collapsed": true
   },
   "outputs": [],
   "source": [
    "def cleanup_pngs(folder_path, ext, selector=None):\n",
    "    folders = sorted([f for f in os.listdir(folder_path) if not f.startswith('.')])[:2]\n",
    "    if selector:    \n",
    "        folders = [f for f in folders if selector in f]\n",
    "        \n",
    "    for stack_folder in folders:\n",
    "        stack_folder_path = folder_path + \"/\" + stack_folder\n",
    "        cc_folder = [s for s in os.listdir(stack_folder_path) if not s.startswith('.')]\n",
    "        \n",
    "        for color in cc_folder:\n",
    "            cc_folder_path = stack_folder_path + \"/\" + color\n",
    "            pngs = [cc_folder_path + \"/\" + i for i in os.listdir(stack_folder_path + \"/\" + color) \n",
    "                        if ext in i and not i.startswith('.')]\n",
    "            for p in pngs:\n",
    "                os.remove(p)"
   ]
  },
  {
   "cell_type": "code",
   "execution_count": 27,
   "metadata": {
    "collapsed": false
   },
   "outputs": [],
   "source": [
    "cleanup_pngs(\"../app/assets/images/3-ColorChannels\", \"fs8\", selector)"
   ]
  },
  {
   "cell_type": "code",
   "execution_count": null,
   "metadata": {
    "collapsed": true
   },
   "outputs": [],
   "source": []
  }
 ],
 "metadata": {
  "anaconda-cloud": {},
  "kernelspec": {
   "display_name": "Python [conda env:py36]",
   "language": "python",
   "name": "conda-env-py36-py"
  },
  "language_info": {
   "codemirror_mode": {
    "name": "ipython",
    "version": 3
   },
   "file_extension": ".py",
   "mimetype": "text/x-python",
   "name": "python",
   "nbconvert_exporter": "python",
   "pygments_lexer": "ipython3",
   "version": "3.6.3"
  }
 },
 "nbformat": 4,
 "nbformat_minor": 2
}
