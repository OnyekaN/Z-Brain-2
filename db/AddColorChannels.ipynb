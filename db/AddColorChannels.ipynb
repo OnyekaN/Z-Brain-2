{
 "cells": [
  {
   "cell_type": "code",
   "execution_count": 16,
   "metadata": {
    "collapsed": true
   },
   "outputs": [],
   "source": [
    "import os, sys\n",
    "import numpy as np\n",
    "import psycopg2\n",
    "from subprocess import call\n",
    "import subprocess"
   ]
  },
  {
   "cell_type": "code",
   "execution_count": 2,
   "metadata": {
    "collapsed": false
   },
   "outputs": [],
   "source": [
    "# call([\"convert\", \"-size\", \"100x100\", \"xc:wheat\", \"canvas_wheat.gif\"])\n",
    "# call([\"convert\", \"-size\", \"100x100\", \"xc:red\", \"canvas_red.gif\"])"
   ]
  },
  {
   "cell_type": "code",
   "execution_count": 17,
   "metadata": {
    "collapsed": false
   },
   "outputs": [
    {
     "name": "stdout",
     "output_type": "stream",
     "text": [
      "Current working directory /Users/OGN/1Projects/ZBrain2/app/assets/images\n"
     ]
    }
   ],
   "source": [
    "# set context/cwd\n",
    "\n",
    "stack_folder = \"/Users/OGN/1Projects/ZBrain2/app/assets/images/\"\n",
    "channel_folder = \"/Users/OGN/1Projects/ZBrain2/app/assets/images/3-ColorChannels/\"\n",
    "\n",
    "os.chdir(stack_folder)\n",
    "cwd = os.getcwd()\n",
    "print \"Current working directory %s\" % cwd"
   ]
  },
  {
   "cell_type": "code",
   "execution_count": null,
   "metadata": {
    "collapsed": true
   },
   "outputs": [],
   "source": [
    "channel_folder = \"/Users/OGN/1Projects/ZBrain2/app/assets/images/3-ColorChannels/\"\n",
    "stacks = os.listdir(stack_folder)"
   ]
  },
  {
   "cell_type": "code",
   "execution_count": 18,
   "metadata": {
    "collapsed": false
   },
   "outputs": [
    {
     "name": "stdout",
     "output_type": "stream",
     "text": [
      "61\n"
     ]
    }
   ],
   "source": [
    "# get stack names\n",
    "\n",
    "stacks = os.listdir(stack_folder)\n",
    "stacks = [ stack for stack in stacks if os.path.isdir(stack) ]\n",
    "stacks = sorted([ stack for stack in stacks if \"MH_\" in stack])\n",
    "print len(stacks)"
   ]
  },
  {
   "cell_type": "code",
   "execution_count": 12,
   "metadata": {
    "collapsed": false
   },
   "outputs": [],
   "source": [
    "# create color channel folders\n",
    "\n",
    "colors = ['red', 'blue', 'green', 'cyan']\n",
    "\n",
    "for stack in stacks:\n",
    "    folder_path = \"/Users/OGN/1Projects/ZBrain2/app/assets/images/3-ColorChannels/%s/\" % stack\n",
    "    try:\n",
    "        os.mkdir(folder_path)\n",
    "    except:\n",
    "        pass\n",
    "    for color in colors:\n",
    "        channel_path = folder_path + color\n",
    "        try:\n",
    "            os.mkdir(channel_path)\n",
    "        except:\n",
    "            pass"
   ]
  },
  {
   "cell_type": "code",
   "execution_count": 15,
   "metadata": {
    "collapsed": false,
    "scrolled": true
   },
   "outputs": [
    {
     "name": "stdout",
     "output_type": "stream",
     "text": [
      "0 /Users/OGN/1Projects/ZBrain2/app/assets/images/3-ColorChannels/MH_20649-Gal4/\n",
      "/Users/OGN/1Projects/ZBrain2/app/assets/images/MH_20649-Gal4\n",
      "/Users/OGN/1Projects/ZBrain2/app/assets/images/MH_20649-Gal4\n",
      "/Users/OGN/1Projects/ZBrain2/app/assets/images/MH_20649-Gal4\n",
      "/Users/OGN/1Projects/ZBrain2/app/assets/images/MH_20649-Gal4\n",
      "1 /Users/OGN/1Projects/ZBrain2/app/assets/images/3-ColorChannels/MH_20652-Gal4/\n",
      "/Users/OGN/1Projects/ZBrain2/app/assets/images/MH_20652-Gal4\n",
      "/Users/OGN/1Projects/ZBrain2/app/assets/images/MH_20652-Gal4\n",
      "/Users/OGN/1Projects/ZBrain2/app/assets/images/MH_20652-Gal4\n",
      "/Users/OGN/1Projects/ZBrain2/app/assets/images/MH_20652-Gal4\n",
      "2 /Users/OGN/1Projects/ZBrain2/app/assets/images/3-ColorChannels/MH_20653-Gal4/\n",
      "/Users/OGN/1Projects/ZBrain2/app/assets/images/MH_20653-Gal4\n",
      "/Users/OGN/1Projects/ZBrain2/app/assets/images/MH_20653-Gal4\n",
      "/Users/OGN/1Projects/ZBrain2/app/assets/images/MH_20653-Gal4\n",
      "/Users/OGN/1Projects/ZBrain2/app/assets/images/MH_20653-Gal4\n",
      "3 /Users/OGN/1Projects/ZBrain2/app/assets/images/3-ColorChannels/MH_20654-Gal4/\n",
      "/Users/OGN/1Projects/ZBrain2/app/assets/images/MH_20654-Gal4\n",
      "/Users/OGN/1Projects/ZBrain2/app/assets/images/MH_20654-Gal4\n",
      "/Users/OGN/1Projects/ZBrain2/app/assets/images/MH_20654-Gal4\n",
      "/Users/OGN/1Projects/ZBrain2/app/assets/images/MH_20654-Gal4\n",
      "4 /Users/OGN/1Projects/ZBrain2/app/assets/images/3-ColorChannels/MH_20655-Gal4/\n",
      "/Users/OGN/1Projects/ZBrain2/app/assets/images/MH_20655-Gal4\n",
      "/Users/OGN/1Projects/ZBrain2/app/assets/images/MH_20655-Gal4\n",
      "/Users/OGN/1Projects/ZBrain2/app/assets/images/MH_20655-Gal4\n",
      "/Users/OGN/1Projects/ZBrain2/app/assets/images/MH_20655-Gal4\n",
      "5 /Users/OGN/1Projects/ZBrain2/app/assets/images/3-ColorChannels/MH_20660-Gal4/\n",
      "/Users/OGN/1Projects/ZBrain2/app/assets/images/MH_20660-Gal4\n",
      "/Users/OGN/1Projects/ZBrain2/app/assets/images/MH_20660-Gal4\n",
      "/Users/OGN/1Projects/ZBrain2/app/assets/images/MH_20660-Gal4\n",
      "/Users/OGN/1Projects/ZBrain2/app/assets/images/MH_20660-Gal4\n",
      "6 /Users/OGN/1Projects/ZBrain2/app/assets/images/3-ColorChannels/MH_20661-Gal4/\n",
      "/Users/OGN/1Projects/ZBrain2/app/assets/images/MH_20661-Gal4\n",
      "/Users/OGN/1Projects/ZBrain2/app/assets/images/MH_20661-Gal4\n",
      "/Users/OGN/1Projects/ZBrain2/app/assets/images/MH_20661-Gal4\n",
      "/Users/OGN/1Projects/ZBrain2/app/assets/images/MH_20661-Gal4\n",
      "7 /Users/OGN/1Projects/ZBrain2/app/assets/images/3-ColorChannels/MH_20663-Gal4/\n",
      "/Users/OGN/1Projects/ZBrain2/app/assets/images/MH_20663-Gal4\n",
      "/Users/OGN/1Projects/ZBrain2/app/assets/images/MH_20663-Gal4\n",
      "/Users/OGN/1Projects/ZBrain2/app/assets/images/MH_20663-Gal4\n",
      "/Users/OGN/1Projects/ZBrain2/app/assets/images/MH_20663-Gal4\n",
      "8 /Users/OGN/1Projects/ZBrain2/app/assets/images/3-ColorChannels/MH_20940-Gal4/\n",
      "/Users/OGN/1Projects/ZBrain2/app/assets/images/MH_20940-Gal4\n",
      "/Users/OGN/1Projects/ZBrain2/app/assets/images/MH_20940-Gal4\n",
      "/Users/OGN/1Projects/ZBrain2/app/assets/images/MH_20940-Gal4\n",
      "/Users/OGN/1Projects/ZBrain2/app/assets/images/MH_20940-Gal4\n",
      "9 /Users/OGN/1Projects/ZBrain2/app/assets/images/3-ColorChannels/MH_20941-Gal4/\n",
      "/Users/OGN/1Projects/ZBrain2/app/assets/images/MH_20941-Gal4\n",
      "/Users/OGN/1Projects/ZBrain2/app/assets/images/MH_20941-Gal4\n",
      "/Users/OGN/1Projects/ZBrain2/app/assets/images/MH_20941-Gal4\n",
      "/Users/OGN/1Projects/ZBrain2/app/assets/images/MH_20941-Gal4\n"
     ]
    }
   ],
   "source": [
    "# create color channel overlays for each stack\n",
    "\n",
    "for s, stack in enumerate(stacks[51:]):\n",
    "    src = \"/Users/OGN/1Projects/ZBrain2/app/assets/images/%s/\" % stack\n",
    "    base = \"/Users/OGN/1Projects/ZBrain2/app/assets/images/3-ColorChannels/%s/\" % stack\n",
    "\n",
    "    os.chdir(src)\n",
    "    print s, base\n",
    "    for color in colors:\n",
    "        dest = base + color\n",
    "        #call([\"mogrify\", \"-path\", dest, \"+level-colors\", \"black,%s\"%color, \"-fuzz\", \"9%\", \"-transparent\", \"black\", \"*.png\"]\n",
    "        cwd = os.getcwd()\n",
    "        print cwd\n",
    "        try:\n",
    "            pass\n",
    "            #subprocess.check_output([\"mogrify\", \"-path\", dest, \"-format\", \"png\", \"+level-colors\", \"black,%s\"%color, \"-fuzz\", \"9%\", \"-transparent\", \"black\", \"*.jpg\"], stderr=subprocess.STDOUT)\n",
    "        except subprocess.CalledProcessError as err:\n",
    "            print err.output\n"
   ]
  },
  {
   "cell_type": "code",
   "execution_count": 19,
   "metadata": {
    "collapsed": true
   },
   "outputs": [],
   "source": [
    "# prepare postgreSQL table\n",
    "\n",
    "create_table_command = (\n",
    "\"\"\"\n",
    "    DROP TABLE colorchannels;\n",
    "    CREATE TABLE colorChannels (\n",
    "        channel_id SERIAL PRIMARY KEY,\n",
    "        channel_color TEXT NOT NULL,\n",
    "        channel_name TEXT NOT NULL,\n",
    "        channel_image_path TEXT NOT NULL\n",
    "    );\n",
    "\"\"\")"
   ]
  },
  {
   "cell_type": "code",
   "execution_count": 20,
   "metadata": {
    "collapsed": true
   },
   "outputs": [],
   "source": [
    "# connect to zbrain2db postgreSQL database\n",
    "\n",
    "conn = psycopg2.connect(dbname='zbrain2db', user='gqe', host='localhost', password='')\n",
    "cursor = conn.cursor()"
   ]
  },
  {
   "cell_type": "code",
   "execution_count": 21,
   "metadata": {
    "collapsed": true
   },
   "outputs": [],
   "source": [
    "# create table colorChannels\n",
    "\n",
    "try:\n",
    "    cursor.execute(create_table_command)\n",
    "    cursor.close()\n",
    "    conn.commit()\n",
    "except (Exception, psycopg2.DatabaseError) as error:\n",
    "    print error\n",
    "finally:\n",
    "    if conn is not None:\n",
    "        conn.close()"
   ]
  },
  {
   "cell_type": "code",
   "execution_count": 22,
   "metadata": {
    "collapsed": false
   },
   "outputs": [],
   "source": [
    "from natsort import natsorted"
   ]
  },
  {
   "cell_type": "code",
   "execution_count": 37,
   "metadata": {
    "collapsed": false,
    "scrolled": true
   },
   "outputs": [
    {
     "name": "stdout",
     "output_type": "stream",
     "text": [
      "['6.7FRhcrtR-Gal4-uasKaede', 'Anti-5HT', 'Anti-Gad67', 'Anti-GlyR', 'Anti-TH', 'Anti-Zn1', 'Anti-Zn12(Hnk-1)', 'Anti-Znp1(Synaptotagmin2)', 'Anti-Zrf1(GFAP)', 'Anti-Zrf2', 'Anti-tERK', 'Elavl3-GCaMP5G', 'Elavl3-H2BRFP', 'EtVmat2-GFP', 'Gad1b-GFP', 'Glyt2-GFP', 'Hcrt-RFP', 'Isl1-GFP', 'Isl2bGal4-uasDendra', 'MH_13319-Gal4', 'MH_14084-Gal4', 'MH_14085-Gal4', 'MH_14086-Gal4', 'MH_14087-Gal4', 'MH_14543-Gal4', 'MH_15576-Gal4', 'MH_15577-Gal4', 'MH_15635-Gal4', 'MH_15639-Gal4', 'MH_16659-Gal4', 'MH_16715-Gal4', 'MH_16913-Gal4', 'MH_16914-Gal4', 'MH_16915-Gal4', 'MH_16916-Gal4', 'MH_16936-Gal4', 'MH_16946-Gal4', 'MH_17056-Gal4', 'MH_17705-Gal4', 'MH_17767-Gal4', 'MH_17768-Gal4', 'MH_17776-Gal4', 'MH_17777-Gal4', 'MH_17787-Gal4', 'MH_17845-Gal4', 'MH_17846-Gal4', 'MH_18107-Gal4', 'MH_18108-Gal4', 'MH_18327-Gal4', 'MH_18329-Gal4', 'MH_19322-Gal4', 'MH_19564-Gal4', 'MH_19566-Gal4', 'MH_20360-Gal4', 'MH_20361-Gal4', 'MH_20454-Gal4', 'MH_20552-Gal4', 'MH_20553-Gal4', 'MH_20636-Gal4', 'MH_20638-Gal4', 'MH_20639-Gal4', 'MH_20640-Gal4', 'MH_20641-Gal4', 'MH_20642-Gal4', 'MH_20643-Gal4', 'MH_20644-Gal4', 'MH_20645-Gal4', 'MH_20646-Gal4', 'MH_20647-Gal4', 'MH_20648-Gal4', 'MH_20649-Gal4', 'MH_20652-Gal4', 'MH_20653-Gal4', 'MH_20654-Gal4', 'MH_20655-Gal4', 'MH_20660-Gal4', 'MH_20661-Gal4', 'MH_20663-Gal4', 'MH_20940-Gal4', 'MH_20941-Gal4', 'Olig2-GFP', 'Otpb.A-Gal4-UAS-GCaMP', 'Otpb.A-Nsfb-GFP', 'Oxtl-GFP', 'Pet1-GFP', 'Ptf1aGal4-uasKaede', 'Qrfp-GFP', 'S1181tGal4-uasKaede', 'SpinalBackfills', 'Vglut2a-GFP', 'ZBB_HuC-Cer', 'ZBB_ath5-GFP', 'ZBB_bActin-GFP', 'ZBB_chx10-gal4', 'ZBB_dat-GFP', 'ZBB_dbh-Gal4', 'ZBB_eng1b-Gal4', 'ZBB_evx2-Gal4', 'ZBB_flk-GFP', 'ZBB_gad1b-GFP', 'ZBB_gfap-GFP', 'ZBB_glyt2-GFP', 'ZBB_gsx1-GFP', 'ZBB_isl2b-GFP', 'ZBB_j1229-GFP', 'ZBB_pet1-GFP', 'ZBB_phox2b-GFP', 'ZBB_shox2-Gal4', 'ZBB_tph2-Gal4', 'ZBB_vglut-DsRed', 'ZBB_y234-Gal4', 'ZBB_y236-Gal4', 'ZBB_y237-Gal4', 'ZBB_y240-Gal4', 'ZBB_y241-Gal4', 'ZBB_y244-Gal4', 'ZBB_y245-Gal4', 'ZBB_y249-Gal4', 'ZBB_y252-Gal4', 'ZBB_y255-Gal4', 'ZBB_y256-Gal4', 'ZBB_y264-Gal4', 'ZBB_y269-Gal4', 'ZBB_y270-Gal4', 'ZBB_y275-Gal4', 'ZBB_y279-Gal4', 'ZBB_y293-Gal4', 'ZBB_y294-Gal4', 'ZBB_y295-Gal4', 'ZBB_y296-Gal4', 'ZBB_y297-Gal4', 'ZBB_y298-Gal4', 'ZBB_y299-Gal4', 'ZBB_y300-Gal4', 'ZBB_y301-Gal4', 'ZBB_y302-Gal4', 'ZBB_y303-Gal4', 'ZBB_y304-Gal4', 'ZBB_y305-Gal4', 'ZBB_y306-Gal4', 'ZBB_y307-Gal4', 'ZBB_y308-Gal4', 'ZBB_y309-Gal4', 'ZBB_y310-Gal4', 'ZBB_y311-Gal4', 'ZBB_y312-Gal4', 'ZBB_y313-Gal4', 'ZBB_y314-Gal4', 'ZBB_y315-Gal4', 'ZBB_y316-Gal4', 'ZBB_y317-Gal4', 'ZBB_y318-Gal4', 'ZBB_y319-Gal4', 'ZBB_y320-Gal4', 'ZBB_y321-Gal4', 'ZBB_y322-Gal4', 'ZBB_y323-Gal4', 'ZBB_y324-Gal4', 'ZBB_y325-Gal4', 'ZBB_y326-Gal4', 'ZBB_y327-Gal4', 'ZBB_y328-Gal4', 'ZBB_y329-Gal4', 'ZBB_y330-Gal4', 'ZBB_y331-Gal4', 'ZBB_y332-Gal4', 'ZBB_y333-Gal4', 'ZBB_y334-Gal4', 'ZBB_y336-Gal4', 'ZBB_y337-Gal4', 'ZBB_y338-Gal4', 'ZBB_y339-Gal4', 'ZBB_y341-Gal4', 'ZBB_y342-Gal4', 'ZBB_y345-Gal4', 'ZBB_y347-Gal4', 'ZBB_y351-Gal4', 'ZBB_y352-Gal4', 'ZBB_y353-Gal4', 'ZBB_y354-Gal4', 'ZBB_y355-Gal4', 'ZBB_y356-Gal4', 'ZBB_y357-Gal4', 'ZBB_y358-Gal4', 'ZBB_y359-Gal4', 'ZBB_y364-Gal4', 'ZBB_y365-Gal4', 'ZBB_y371-Cre', 'ZBB_y372-Gal4', 'ZBB_y373-Gal4', 'ZBB_y375-Gal4', 'ZBB_y378-Cre', 'ZBB_y379-Cre', 'ZBB_y380-Cre', 'ZBB_y381-Cre', 'ZBB_y382-Cre', 'ZBB_y383-Cre', 'ZBB_y384-Cre', 'ZBB_y385-Cre']\n"
     ]
    }
   ],
   "source": [
    "channel_folder = \"/Users/OGN/1Projects/ZBrain2/app/assets/images/3-ColorChannels/\"\n",
    "stack_folder = \"/Users/OGN/1Projects/ZBrain2/app/assets/images/0-Lines/\" # stacks temporarily stored in folder (0-Lines)\n",
    "stacks = sorted([d for d in os.listdir(stack_folder) if not d.startswith('.')])\n",
    "print stacks"
   ]
  },
  {
   "cell_type": "code",
   "execution_count": 38,
   "metadata": {
    "collapsed": false
   },
   "outputs": [],
   "source": [
    "# create array of table insert commands for each color channel image\n",
    "\n",
    "channel_id = 0\n",
    "insert_commands = []\n",
    "for stack in stacks[:]:\n",
    "    src = \"/Users/OGN/1Projects/ZBrain2/app/assets/images/0-Lines/%s/\" % stack\n",
    "    base = \"/Users/OGN/1Projects/ZBrain2/app/assets/images/3-ColorChannels/%s/\" % stack\n",
    "    rel = \"images/3-ColorChannels/%s/\" % stack\n",
    "    \n",
    "    colors = ['red', 'blue', 'green', 'cyan']\n",
    "    for color in colors:\n",
    "        channel_folder = base + color\n",
    "        channels = os.listdir(channel_folder)\n",
    "        channels = [ \"%s%s/%s\" % (rel, color, channel) for channel in channels]\n",
    "        channels = natsorted(channels)\n",
    "        for channel_image_path in channels:\n",
    "            insert_command = (\"INSERT INTO colorChannels (channel_id, channel_color, channel_name, channel_image_path) values (%i, '%s', '%s', '%s')\" \n",
    "                                 % (channel_id, color, stack, channel_image_path))\n",
    "            channel_id += 1\n",
    "            insert_commands.append(insert_command)"
   ]
  },
  {
   "cell_type": "code",
   "execution_count": 39,
   "metadata": {
    "collapsed": true
   },
   "outputs": [],
   "source": [
    "# use insert command array to create table entries for each color channel image\n",
    "\n",
    "conn = psycopg2.connect(dbname='zbrain2db', user='gqe', host='localhost', password='')\n",
    "cursor = conn.cursor()\n",
    "\n",
    "for insert_command in insert_commands:\n",
    "    try:\n",
    "        cursor.execute(insert_command)\n",
    "    except Exception, e:\n",
    "        print repr(e)\n",
    "        \n",
    "cursor.close()\n",
    "conn.commit()"
   ]
  },
  {
   "cell_type": "code",
   "execution_count": 40,
   "metadata": {
    "collapsed": false
   },
   "outputs": [
    {
     "name": "stdout",
     "output_type": "stream",
     "text": [
      "(300, 'green', '6.7FRhcrtR-Gal4-uasKaede', 'images/3-ColorChannels/6.7FRhcrtR-Gal4-uasKaede/green/6.7FRhcrtR-Gal4-uasKaede_6dpf_MeanImageOf12Fish-22.png')\n",
      "(301, 'green', '6.7FRhcrtR-Gal4-uasKaede', 'images/3-ColorChannels/6.7FRhcrtR-Gal4-uasKaede/green/6.7FRhcrtR-Gal4-uasKaede_6dpf_MeanImageOf12Fish-23.png')\n",
      "(302, 'green', '6.7FRhcrtR-Gal4-uasKaede', 'images/3-ColorChannels/6.7FRhcrtR-Gal4-uasKaede/green/6.7FRhcrtR-Gal4-uasKaede_6dpf_MeanImageOf12Fish-24.png')\n",
      "(303, 'green', '6.7FRhcrtR-Gal4-uasKaede', 'images/3-ColorChannels/6.7FRhcrtR-Gal4-uasKaede/green/6.7FRhcrtR-Gal4-uasKaede_6dpf_MeanImageOf12Fish-25.png')\n",
      "(304, 'green', '6.7FRhcrtR-Gal4-uasKaede', 'images/3-ColorChannels/6.7FRhcrtR-Gal4-uasKaede/green/6.7FRhcrtR-Gal4-uasKaede_6dpf_MeanImageOf12Fish-26.png')\n",
      "(305, 'green', '6.7FRhcrtR-Gal4-uasKaede', 'images/3-ColorChannels/6.7FRhcrtR-Gal4-uasKaede/green/6.7FRhcrtR-Gal4-uasKaede_6dpf_MeanImageOf12Fish-27.png')\n",
      "(306, 'green', '6.7FRhcrtR-Gal4-uasKaede', 'images/3-ColorChannels/6.7FRhcrtR-Gal4-uasKaede/green/6.7FRhcrtR-Gal4-uasKaede_6dpf_MeanImageOf12Fish-28.png')\n",
      "(307, 'green', '6.7FRhcrtR-Gal4-uasKaede', 'images/3-ColorChannels/6.7FRhcrtR-Gal4-uasKaede/green/6.7FRhcrtR-Gal4-uasKaede_6dpf_MeanImageOf12Fish-29.png')\n",
      "(308, 'green', '6.7FRhcrtR-Gal4-uasKaede', 'images/3-ColorChannels/6.7FRhcrtR-Gal4-uasKaede/green/6.7FRhcrtR-Gal4-uasKaede_6dpf_MeanImageOf12Fish-30.png')\n",
      "(309, 'green', '6.7FRhcrtR-Gal4-uasKaede', 'images/3-ColorChannels/6.7FRhcrtR-Gal4-uasKaede/green/6.7FRhcrtR-Gal4-uasKaede_6dpf_MeanImageOf12Fish-31.png')\n",
      "(310, 'green', '6.7FRhcrtR-Gal4-uasKaede', 'images/3-ColorChannels/6.7FRhcrtR-Gal4-uasKaede/green/6.7FRhcrtR-Gal4-uasKaede_6dpf_MeanImageOf12Fish-32.png')\n",
      "(311, 'green', '6.7FRhcrtR-Gal4-uasKaede', 'images/3-ColorChannels/6.7FRhcrtR-Gal4-uasKaede/green/6.7FRhcrtR-Gal4-uasKaede_6dpf_MeanImageOf12Fish-33.png')\n",
      "(312, 'green', '6.7FRhcrtR-Gal4-uasKaede', 'images/3-ColorChannels/6.7FRhcrtR-Gal4-uasKaede/green/6.7FRhcrtR-Gal4-uasKaede_6dpf_MeanImageOf12Fish-34.png')\n",
      "(313, 'green', '6.7FRhcrtR-Gal4-uasKaede', 'images/3-ColorChannels/6.7FRhcrtR-Gal4-uasKaede/green/6.7FRhcrtR-Gal4-uasKaede_6dpf_MeanImageOf12Fish-35.png')\n",
      "(314, 'green', '6.7FRhcrtR-Gal4-uasKaede', 'images/3-ColorChannels/6.7FRhcrtR-Gal4-uasKaede/green/6.7FRhcrtR-Gal4-uasKaede_6dpf_MeanImageOf12Fish-36.png')\n",
      "(315, 'green', '6.7FRhcrtR-Gal4-uasKaede', 'images/3-ColorChannels/6.7FRhcrtR-Gal4-uasKaede/green/6.7FRhcrtR-Gal4-uasKaede_6dpf_MeanImageOf12Fish-37.png')\n",
      "(316, 'green', '6.7FRhcrtR-Gal4-uasKaede', 'images/3-ColorChannels/6.7FRhcrtR-Gal4-uasKaede/green/6.7FRhcrtR-Gal4-uasKaede_6dpf_MeanImageOf12Fish-38.png')\n",
      "(317, 'green', '6.7FRhcrtR-Gal4-uasKaede', 'images/3-ColorChannels/6.7FRhcrtR-Gal4-uasKaede/green/6.7FRhcrtR-Gal4-uasKaede_6dpf_MeanImageOf12Fish-39.png')\n",
      "(318, 'green', '6.7FRhcrtR-Gal4-uasKaede', 'images/3-ColorChannels/6.7FRhcrtR-Gal4-uasKaede/green/6.7FRhcrtR-Gal4-uasKaede_6dpf_MeanImageOf12Fish-40.png')\n",
      "(319, 'green', '6.7FRhcrtR-Gal4-uasKaede', 'images/3-ColorChannels/6.7FRhcrtR-Gal4-uasKaede/green/6.7FRhcrtR-Gal4-uasKaede_6dpf_MeanImageOf12Fish-41.png')\n",
      "(320, 'green', '6.7FRhcrtR-Gal4-uasKaede', 'images/3-ColorChannels/6.7FRhcrtR-Gal4-uasKaede/green/6.7FRhcrtR-Gal4-uasKaede_6dpf_MeanImageOf12Fish-42.png')\n",
      "(321, 'green', '6.7FRhcrtR-Gal4-uasKaede', 'images/3-ColorChannels/6.7FRhcrtR-Gal4-uasKaede/green/6.7FRhcrtR-Gal4-uasKaede_6dpf_MeanImageOf12Fish-43.png')\n",
      "(322, 'green', '6.7FRhcrtR-Gal4-uasKaede', 'images/3-ColorChannels/6.7FRhcrtR-Gal4-uasKaede/green/6.7FRhcrtR-Gal4-uasKaede_6dpf_MeanImageOf12Fish-44.png')\n",
      "(323, 'green', '6.7FRhcrtR-Gal4-uasKaede', 'images/3-ColorChannels/6.7FRhcrtR-Gal4-uasKaede/green/6.7FRhcrtR-Gal4-uasKaede_6dpf_MeanImageOf12Fish-45.png')\n",
      "(324, 'green', '6.7FRhcrtR-Gal4-uasKaede', 'images/3-ColorChannels/6.7FRhcrtR-Gal4-uasKaede/green/6.7FRhcrtR-Gal4-uasKaede_6dpf_MeanImageOf12Fish-46.png')\n",
      "(325, 'green', '6.7FRhcrtR-Gal4-uasKaede', 'images/3-ColorChannels/6.7FRhcrtR-Gal4-uasKaede/green/6.7FRhcrtR-Gal4-uasKaede_6dpf_MeanImageOf12Fish-47.png')\n",
      "(326, 'green', '6.7FRhcrtR-Gal4-uasKaede', 'images/3-ColorChannels/6.7FRhcrtR-Gal4-uasKaede/green/6.7FRhcrtR-Gal4-uasKaede_6dpf_MeanImageOf12Fish-48.png')\n",
      "(327, 'green', '6.7FRhcrtR-Gal4-uasKaede', 'images/3-ColorChannels/6.7FRhcrtR-Gal4-uasKaede/green/6.7FRhcrtR-Gal4-uasKaede_6dpf_MeanImageOf12Fish-49.png')\n",
      "(328, 'green', '6.7FRhcrtR-Gal4-uasKaede', 'images/3-ColorChannels/6.7FRhcrtR-Gal4-uasKaede/green/6.7FRhcrtR-Gal4-uasKaede_6dpf_MeanImageOf12Fish-50.png')\n",
      "(329, 'green', '6.7FRhcrtR-Gal4-uasKaede', 'images/3-ColorChannels/6.7FRhcrtR-Gal4-uasKaede/green/6.7FRhcrtR-Gal4-uasKaede_6dpf_MeanImageOf12Fish-51.png')\n",
      "(330, 'green', '6.7FRhcrtR-Gal4-uasKaede', 'images/3-ColorChannels/6.7FRhcrtR-Gal4-uasKaede/green/6.7FRhcrtR-Gal4-uasKaede_6dpf_MeanImageOf12Fish-52.png')\n",
      "(331, 'green', '6.7FRhcrtR-Gal4-uasKaede', 'images/3-ColorChannels/6.7FRhcrtR-Gal4-uasKaede/green/6.7FRhcrtR-Gal4-uasKaede_6dpf_MeanImageOf12Fish-53.png')\n",
      "(332, 'green', '6.7FRhcrtR-Gal4-uasKaede', 'images/3-ColorChannels/6.7FRhcrtR-Gal4-uasKaede/green/6.7FRhcrtR-Gal4-uasKaede_6dpf_MeanImageOf12Fish-54.png')\n",
      "(333, 'green', '6.7FRhcrtR-Gal4-uasKaede', 'images/3-ColorChannels/6.7FRhcrtR-Gal4-uasKaede/green/6.7FRhcrtR-Gal4-uasKaede_6dpf_MeanImageOf12Fish-55.png')\n",
      "(334, 'green', '6.7FRhcrtR-Gal4-uasKaede', 'images/3-ColorChannels/6.7FRhcrtR-Gal4-uasKaede/green/6.7FRhcrtR-Gal4-uasKaede_6dpf_MeanImageOf12Fish-56.png')\n",
      "(335, 'green', '6.7FRhcrtR-Gal4-uasKaede', 'images/3-ColorChannels/6.7FRhcrtR-Gal4-uasKaede/green/6.7FRhcrtR-Gal4-uasKaede_6dpf_MeanImageOf12Fish-57.png')\n",
      "(336, 'green', '6.7FRhcrtR-Gal4-uasKaede', 'images/3-ColorChannels/6.7FRhcrtR-Gal4-uasKaede/green/6.7FRhcrtR-Gal4-uasKaede_6dpf_MeanImageOf12Fish-58.png')\n",
      "(337, 'green', '6.7FRhcrtR-Gal4-uasKaede', 'images/3-ColorChannels/6.7FRhcrtR-Gal4-uasKaede/green/6.7FRhcrtR-Gal4-uasKaede_6dpf_MeanImageOf12Fish-59.png')\n",
      "(338, 'green', '6.7FRhcrtR-Gal4-uasKaede', 'images/3-ColorChannels/6.7FRhcrtR-Gal4-uasKaede/green/6.7FRhcrtR-Gal4-uasKaede_6dpf_MeanImageOf12Fish-60.png')\n",
      "(339, 'green', '6.7FRhcrtR-Gal4-uasKaede', 'images/3-ColorChannels/6.7FRhcrtR-Gal4-uasKaede/green/6.7FRhcrtR-Gal4-uasKaede_6dpf_MeanImageOf12Fish-61.png')\n",
      "(340, 'green', '6.7FRhcrtR-Gal4-uasKaede', 'images/3-ColorChannels/6.7FRhcrtR-Gal4-uasKaede/green/6.7FRhcrtR-Gal4-uasKaede_6dpf_MeanImageOf12Fish-62.png')\n",
      "(341, 'green', '6.7FRhcrtR-Gal4-uasKaede', 'images/3-ColorChannels/6.7FRhcrtR-Gal4-uasKaede/green/6.7FRhcrtR-Gal4-uasKaede_6dpf_MeanImageOf12Fish-63.png')\n",
      "(342, 'green', '6.7FRhcrtR-Gal4-uasKaede', 'images/3-ColorChannels/6.7FRhcrtR-Gal4-uasKaede/green/6.7FRhcrtR-Gal4-uasKaede_6dpf_MeanImageOf12Fish-64.png')\n",
      "(343, 'green', '6.7FRhcrtR-Gal4-uasKaede', 'images/3-ColorChannels/6.7FRhcrtR-Gal4-uasKaede/green/6.7FRhcrtR-Gal4-uasKaede_6dpf_MeanImageOf12Fish-65.png')\n",
      "(344, 'green', '6.7FRhcrtR-Gal4-uasKaede', 'images/3-ColorChannels/6.7FRhcrtR-Gal4-uasKaede/green/6.7FRhcrtR-Gal4-uasKaede_6dpf_MeanImageOf12Fish-66.png')\n",
      "(345, 'green', '6.7FRhcrtR-Gal4-uasKaede', 'images/3-ColorChannels/6.7FRhcrtR-Gal4-uasKaede/green/6.7FRhcrtR-Gal4-uasKaede_6dpf_MeanImageOf12Fish-67.png')\n",
      "(346, 'green', '6.7FRhcrtR-Gal4-uasKaede', 'images/3-ColorChannels/6.7FRhcrtR-Gal4-uasKaede/green/6.7FRhcrtR-Gal4-uasKaede_6dpf_MeanImageOf12Fish-68.png')\n",
      "(347, 'green', '6.7FRhcrtR-Gal4-uasKaede', 'images/3-ColorChannels/6.7FRhcrtR-Gal4-uasKaede/green/6.7FRhcrtR-Gal4-uasKaede_6dpf_MeanImageOf12Fish-69.png')\n",
      "(348, 'green', '6.7FRhcrtR-Gal4-uasKaede', 'images/3-ColorChannels/6.7FRhcrtR-Gal4-uasKaede/green/6.7FRhcrtR-Gal4-uasKaede_6dpf_MeanImageOf12Fish-70.png')\n",
      "(349, 'green', '6.7FRhcrtR-Gal4-uasKaede', 'images/3-ColorChannels/6.7FRhcrtR-Gal4-uasKaede/green/6.7FRhcrtR-Gal4-uasKaede_6dpf_MeanImageOf12Fish-71.png')\n",
      "(350, 'green', '6.7FRhcrtR-Gal4-uasKaede', 'images/3-ColorChannels/6.7FRhcrtR-Gal4-uasKaede/green/6.7FRhcrtR-Gal4-uasKaede_6dpf_MeanImageOf12Fish-72.png')\n",
      "(351, 'green', '6.7FRhcrtR-Gal4-uasKaede', 'images/3-ColorChannels/6.7FRhcrtR-Gal4-uasKaede/green/6.7FRhcrtR-Gal4-uasKaede_6dpf_MeanImageOf12Fish-73.png')\n",
      "(352, 'green', '6.7FRhcrtR-Gal4-uasKaede', 'images/3-ColorChannels/6.7FRhcrtR-Gal4-uasKaede/green/6.7FRhcrtR-Gal4-uasKaede_6dpf_MeanImageOf12Fish-74.png')\n",
      "(353, 'green', '6.7FRhcrtR-Gal4-uasKaede', 'images/3-ColorChannels/6.7FRhcrtR-Gal4-uasKaede/green/6.7FRhcrtR-Gal4-uasKaede_6dpf_MeanImageOf12Fish-75.png')\n",
      "(354, 'green', '6.7FRhcrtR-Gal4-uasKaede', 'images/3-ColorChannels/6.7FRhcrtR-Gal4-uasKaede/green/6.7FRhcrtR-Gal4-uasKaede_6dpf_MeanImageOf12Fish-76.png')\n",
      "(355, 'green', '6.7FRhcrtR-Gal4-uasKaede', 'images/3-ColorChannels/6.7FRhcrtR-Gal4-uasKaede/green/6.7FRhcrtR-Gal4-uasKaede_6dpf_MeanImageOf12Fish-77.png')\n",
      "(356, 'green', '6.7FRhcrtR-Gal4-uasKaede', 'images/3-ColorChannels/6.7FRhcrtR-Gal4-uasKaede/green/6.7FRhcrtR-Gal4-uasKaede_6dpf_MeanImageOf12Fish-78.png')\n",
      "(357, 'green', '6.7FRhcrtR-Gal4-uasKaede', 'images/3-ColorChannels/6.7FRhcrtR-Gal4-uasKaede/green/6.7FRhcrtR-Gal4-uasKaede_6dpf_MeanImageOf12Fish-79.png')\n",
      "(358, 'green', '6.7FRhcrtR-Gal4-uasKaede', 'images/3-ColorChannels/6.7FRhcrtR-Gal4-uasKaede/green/6.7FRhcrtR-Gal4-uasKaede_6dpf_MeanImageOf12Fish-80.png')\n",
      "(359, 'green', '6.7FRhcrtR-Gal4-uasKaede', 'images/3-ColorChannels/6.7FRhcrtR-Gal4-uasKaede/green/6.7FRhcrtR-Gal4-uasKaede_6dpf_MeanImageOf12Fish-81.png')\n",
      "(360, 'green', '6.7FRhcrtR-Gal4-uasKaede', 'images/3-ColorChannels/6.7FRhcrtR-Gal4-uasKaede/green/6.7FRhcrtR-Gal4-uasKaede_6dpf_MeanImageOf12Fish-82.png')\n",
      "(361, 'green', '6.7FRhcrtR-Gal4-uasKaede', 'images/3-ColorChannels/6.7FRhcrtR-Gal4-uasKaede/green/6.7FRhcrtR-Gal4-uasKaede_6dpf_MeanImageOf12Fish-83.png')\n",
      "(362, 'green', '6.7FRhcrtR-Gal4-uasKaede', 'images/3-ColorChannels/6.7FRhcrtR-Gal4-uasKaede/green/6.7FRhcrtR-Gal4-uasKaede_6dpf_MeanImageOf12Fish-84.png')\n",
      "(363, 'green', '6.7FRhcrtR-Gal4-uasKaede', 'images/3-ColorChannels/6.7FRhcrtR-Gal4-uasKaede/green/6.7FRhcrtR-Gal4-uasKaede_6dpf_MeanImageOf12Fish-85.png')\n",
      "(364, 'green', '6.7FRhcrtR-Gal4-uasKaede', 'images/3-ColorChannels/6.7FRhcrtR-Gal4-uasKaede/green/6.7FRhcrtR-Gal4-uasKaede_6dpf_MeanImageOf12Fish-86.png')\n",
      "(365, 'green', '6.7FRhcrtR-Gal4-uasKaede', 'images/3-ColorChannels/6.7FRhcrtR-Gal4-uasKaede/green/6.7FRhcrtR-Gal4-uasKaede_6dpf_MeanImageOf12Fish-87.png')\n",
      "(366, 'green', '6.7FRhcrtR-Gal4-uasKaede', 'images/3-ColorChannels/6.7FRhcrtR-Gal4-uasKaede/green/6.7FRhcrtR-Gal4-uasKaede_6dpf_MeanImageOf12Fish-88.png')\n",
      "(367, 'green', '6.7FRhcrtR-Gal4-uasKaede', 'images/3-ColorChannels/6.7FRhcrtR-Gal4-uasKaede/green/6.7FRhcrtR-Gal4-uasKaede_6dpf_MeanImageOf12Fish-89.png')\n",
      "(368, 'green', '6.7FRhcrtR-Gal4-uasKaede', 'images/3-ColorChannels/6.7FRhcrtR-Gal4-uasKaede/green/6.7FRhcrtR-Gal4-uasKaede_6dpf_MeanImageOf12Fish-90.png')\n",
      "(369, 'green', '6.7FRhcrtR-Gal4-uasKaede', 'images/3-ColorChannels/6.7FRhcrtR-Gal4-uasKaede/green/6.7FRhcrtR-Gal4-uasKaede_6dpf_MeanImageOf12Fish-91.png')\n",
      "(370, 'green', '6.7FRhcrtR-Gal4-uasKaede', 'images/3-ColorChannels/6.7FRhcrtR-Gal4-uasKaede/green/6.7FRhcrtR-Gal4-uasKaede_6dpf_MeanImageOf12Fish-92.png')\n",
      "(371, 'green', '6.7FRhcrtR-Gal4-uasKaede', 'images/3-ColorChannels/6.7FRhcrtR-Gal4-uasKaede/green/6.7FRhcrtR-Gal4-uasKaede_6dpf_MeanImageOf12Fish-93.png')\n",
      "(372, 'green', '6.7FRhcrtR-Gal4-uasKaede', 'images/3-ColorChannels/6.7FRhcrtR-Gal4-uasKaede/green/6.7FRhcrtR-Gal4-uasKaede_6dpf_MeanImageOf12Fish-94.png')\n",
      "(373, 'green', '6.7FRhcrtR-Gal4-uasKaede', 'images/3-ColorChannels/6.7FRhcrtR-Gal4-uasKaede/green/6.7FRhcrtR-Gal4-uasKaede_6dpf_MeanImageOf12Fish-95.png')\n",
      "(374, 'green', '6.7FRhcrtR-Gal4-uasKaede', 'images/3-ColorChannels/6.7FRhcrtR-Gal4-uasKaede/green/6.7FRhcrtR-Gal4-uasKaede_6dpf_MeanImageOf12Fish-96.png')\n",
      "(375, 'green', '6.7FRhcrtR-Gal4-uasKaede', 'images/3-ColorChannels/6.7FRhcrtR-Gal4-uasKaede/green/6.7FRhcrtR-Gal4-uasKaede_6dpf_MeanImageOf12Fish-97.png')\n",
      "(376, 'green', '6.7FRhcrtR-Gal4-uasKaede', 'images/3-ColorChannels/6.7FRhcrtR-Gal4-uasKaede/green/6.7FRhcrtR-Gal4-uasKaede_6dpf_MeanImageOf12Fish-98.png')\n",
      "(377, 'green', '6.7FRhcrtR-Gal4-uasKaede', 'images/3-ColorChannels/6.7FRhcrtR-Gal4-uasKaede/green/6.7FRhcrtR-Gal4-uasKaede_6dpf_MeanImageOf12Fish-99.png')\n",
      "(378, 'green', '6.7FRhcrtR-Gal4-uasKaede', 'images/3-ColorChannels/6.7FRhcrtR-Gal4-uasKaede/green/6.7FRhcrtR-Gal4-uasKaede_6dpf_MeanImageOf12Fish-100.png')\n",
      "(379, 'green', '6.7FRhcrtR-Gal4-uasKaede', 'images/3-ColorChannels/6.7FRhcrtR-Gal4-uasKaede/green/6.7FRhcrtR-Gal4-uasKaede_6dpf_MeanImageOf12Fish-101.png')\n",
      "(380, 'green', '6.7FRhcrtR-Gal4-uasKaede', 'images/3-ColorChannels/6.7FRhcrtR-Gal4-uasKaede/green/6.7FRhcrtR-Gal4-uasKaede_6dpf_MeanImageOf12Fish-102.png')\n",
      "(381, 'green', '6.7FRhcrtR-Gal4-uasKaede', 'images/3-ColorChannels/6.7FRhcrtR-Gal4-uasKaede/green/6.7FRhcrtR-Gal4-uasKaede_6dpf_MeanImageOf12Fish-103.png')\n",
      "(382, 'green', '6.7FRhcrtR-Gal4-uasKaede', 'images/3-ColorChannels/6.7FRhcrtR-Gal4-uasKaede/green/6.7FRhcrtR-Gal4-uasKaede_6dpf_MeanImageOf12Fish-104.png')\n",
      "(383, 'green', '6.7FRhcrtR-Gal4-uasKaede', 'images/3-ColorChannels/6.7FRhcrtR-Gal4-uasKaede/green/6.7FRhcrtR-Gal4-uasKaede_6dpf_MeanImageOf12Fish-105.png')\n",
      "(384, 'green', '6.7FRhcrtR-Gal4-uasKaede', 'images/3-ColorChannels/6.7FRhcrtR-Gal4-uasKaede/green/6.7FRhcrtR-Gal4-uasKaede_6dpf_MeanImageOf12Fish-106.png')\n",
      "(385, 'green', '6.7FRhcrtR-Gal4-uasKaede', 'images/3-ColorChannels/6.7FRhcrtR-Gal4-uasKaede/green/6.7FRhcrtR-Gal4-uasKaede_6dpf_MeanImageOf12Fish-107.png')\n",
      "(386, 'green', '6.7FRhcrtR-Gal4-uasKaede', 'images/3-ColorChannels/6.7FRhcrtR-Gal4-uasKaede/green/6.7FRhcrtR-Gal4-uasKaede_6dpf_MeanImageOf12Fish-108.png')\n",
      "(387, 'green', '6.7FRhcrtR-Gal4-uasKaede', 'images/3-ColorChannels/6.7FRhcrtR-Gal4-uasKaede/green/6.7FRhcrtR-Gal4-uasKaede_6dpf_MeanImageOf12Fish-109.png')\n",
      "(388, 'green', '6.7FRhcrtR-Gal4-uasKaede', 'images/3-ColorChannels/6.7FRhcrtR-Gal4-uasKaede/green/6.7FRhcrtR-Gal4-uasKaede_6dpf_MeanImageOf12Fish-110.png')\n",
      "(389, 'green', '6.7FRhcrtR-Gal4-uasKaede', 'images/3-ColorChannels/6.7FRhcrtR-Gal4-uasKaede/green/6.7FRhcrtR-Gal4-uasKaede_6dpf_MeanImageOf12Fish-111.png')\n",
      "(390, 'green', '6.7FRhcrtR-Gal4-uasKaede', 'images/3-ColorChannels/6.7FRhcrtR-Gal4-uasKaede/green/6.7FRhcrtR-Gal4-uasKaede_6dpf_MeanImageOf12Fish-112.png')\n",
      "(391, 'green', '6.7FRhcrtR-Gal4-uasKaede', 'images/3-ColorChannels/6.7FRhcrtR-Gal4-uasKaede/green/6.7FRhcrtR-Gal4-uasKaede_6dpf_MeanImageOf12Fish-113.png')\n",
      "(392, 'green', '6.7FRhcrtR-Gal4-uasKaede', 'images/3-ColorChannels/6.7FRhcrtR-Gal4-uasKaede/green/6.7FRhcrtR-Gal4-uasKaede_6dpf_MeanImageOf12Fish-114.png')\n",
      "(393, 'green', '6.7FRhcrtR-Gal4-uasKaede', 'images/3-ColorChannels/6.7FRhcrtR-Gal4-uasKaede/green/6.7FRhcrtR-Gal4-uasKaede_6dpf_MeanImageOf12Fish-115.png')\n",
      "(394, 'green', '6.7FRhcrtR-Gal4-uasKaede', 'images/3-ColorChannels/6.7FRhcrtR-Gal4-uasKaede/green/6.7FRhcrtR-Gal4-uasKaede_6dpf_MeanImageOf12Fish-116.png')\n",
      "(395, 'green', '6.7FRhcrtR-Gal4-uasKaede', 'images/3-ColorChannels/6.7FRhcrtR-Gal4-uasKaede/green/6.7FRhcrtR-Gal4-uasKaede_6dpf_MeanImageOf12Fish-117.png')\n",
      "(396, 'green', '6.7FRhcrtR-Gal4-uasKaede', 'images/3-ColorChannels/6.7FRhcrtR-Gal4-uasKaede/green/6.7FRhcrtR-Gal4-uasKaede_6dpf_MeanImageOf12Fish-118.png')\n",
      "(397, 'green', '6.7FRhcrtR-Gal4-uasKaede', 'images/3-ColorChannels/6.7FRhcrtR-Gal4-uasKaede/green/6.7FRhcrtR-Gal4-uasKaede_6dpf_MeanImageOf12Fish-119.png')\n",
      "(398, 'green', '6.7FRhcrtR-Gal4-uasKaede', 'images/3-ColorChannels/6.7FRhcrtR-Gal4-uasKaede/green/6.7FRhcrtR-Gal4-uasKaede_6dpf_MeanImageOf12Fish-120.png')\n",
      "(399, 'green', '6.7FRhcrtR-Gal4-uasKaede', 'images/3-ColorChannels/6.7FRhcrtR-Gal4-uasKaede/green/6.7FRhcrtR-Gal4-uasKaede_6dpf_MeanImageOf12Fish-121.png')\n",
      "(400, 'green', '6.7FRhcrtR-Gal4-uasKaede', 'images/3-ColorChannels/6.7FRhcrtR-Gal4-uasKaede/green/6.7FRhcrtR-Gal4-uasKaede_6dpf_MeanImageOf12Fish-122.png')\n",
      "(401, 'green', '6.7FRhcrtR-Gal4-uasKaede', 'images/3-ColorChannels/6.7FRhcrtR-Gal4-uasKaede/green/6.7FRhcrtR-Gal4-uasKaede_6dpf_MeanImageOf12Fish-123.png')\n",
      "(402, 'green', '6.7FRhcrtR-Gal4-uasKaede', 'images/3-ColorChannels/6.7FRhcrtR-Gal4-uasKaede/green/6.7FRhcrtR-Gal4-uasKaede_6dpf_MeanImageOf12Fish-124.png')\n",
      "(403, 'green', '6.7FRhcrtR-Gal4-uasKaede', 'images/3-ColorChannels/6.7FRhcrtR-Gal4-uasKaede/green/6.7FRhcrtR-Gal4-uasKaede_6dpf_MeanImageOf12Fish-125.png')\n",
      "(404, 'green', '6.7FRhcrtR-Gal4-uasKaede', 'images/3-ColorChannels/6.7FRhcrtR-Gal4-uasKaede/green/6.7FRhcrtR-Gal4-uasKaede_6dpf_MeanImageOf12Fish-126.png')\n",
      "(405, 'green', '6.7FRhcrtR-Gal4-uasKaede', 'images/3-ColorChannels/6.7FRhcrtR-Gal4-uasKaede/green/6.7FRhcrtR-Gal4-uasKaede_6dpf_MeanImageOf12Fish-127.png')\n",
      "(406, 'green', '6.7FRhcrtR-Gal4-uasKaede', 'images/3-ColorChannels/6.7FRhcrtR-Gal4-uasKaede/green/6.7FRhcrtR-Gal4-uasKaede_6dpf_MeanImageOf12Fish-128.png')\n",
      "(407, 'green', '6.7FRhcrtR-Gal4-uasKaede', 'images/3-ColorChannels/6.7FRhcrtR-Gal4-uasKaede/green/6.7FRhcrtR-Gal4-uasKaede_6dpf_MeanImageOf12Fish-129.png')\n",
      "(408, 'green', '6.7FRhcrtR-Gal4-uasKaede', 'images/3-ColorChannels/6.7FRhcrtR-Gal4-uasKaede/green/6.7FRhcrtR-Gal4-uasKaede_6dpf_MeanImageOf12Fish-130.png')\n",
      "(409, 'green', '6.7FRhcrtR-Gal4-uasKaede', 'images/3-ColorChannels/6.7FRhcrtR-Gal4-uasKaede/green/6.7FRhcrtR-Gal4-uasKaede_6dpf_MeanImageOf12Fish-131.png')\n",
      "(410, 'green', '6.7FRhcrtR-Gal4-uasKaede', 'images/3-ColorChannels/6.7FRhcrtR-Gal4-uasKaede/green/6.7FRhcrtR-Gal4-uasKaede_6dpf_MeanImageOf12Fish-132.png')\n",
      "(411, 'green', '6.7FRhcrtR-Gal4-uasKaede', 'images/3-ColorChannels/6.7FRhcrtR-Gal4-uasKaede/green/6.7FRhcrtR-Gal4-uasKaede_6dpf_MeanImageOf12Fish-133.png')\n",
      "(412, 'green', '6.7FRhcrtR-Gal4-uasKaede', 'images/3-ColorChannels/6.7FRhcrtR-Gal4-uasKaede/green/6.7FRhcrtR-Gal4-uasKaede_6dpf_MeanImageOf12Fish-134.png')\n",
      "(413, 'green', '6.7FRhcrtR-Gal4-uasKaede', 'images/3-ColorChannels/6.7FRhcrtR-Gal4-uasKaede/green/6.7FRhcrtR-Gal4-uasKaede_6dpf_MeanImageOf12Fish-135.png')\n",
      "(414, 'green', '6.7FRhcrtR-Gal4-uasKaede', 'images/3-ColorChannels/6.7FRhcrtR-Gal4-uasKaede/green/6.7FRhcrtR-Gal4-uasKaede_6dpf_MeanImageOf12Fish-136.png')\n",
      "(415, 'green', '6.7FRhcrtR-Gal4-uasKaede', 'images/3-ColorChannels/6.7FRhcrtR-Gal4-uasKaede/green/6.7FRhcrtR-Gal4-uasKaede_6dpf_MeanImageOf12Fish-137.png')\n",
      "(416, 'cyan', '6.7FRhcrtR-Gal4-uasKaede', 'images/3-ColorChannels/6.7FRhcrtR-Gal4-uasKaede/cyan/6.7FRhcrtR-Gal4-uasKaede_6dpf_MeanImageOf12Fish-0.png')\n",
      "(417, 'cyan', '6.7FRhcrtR-Gal4-uasKaede', 'images/3-ColorChannels/6.7FRhcrtR-Gal4-uasKaede/cyan/6.7FRhcrtR-Gal4-uasKaede_6dpf_MeanImageOf12Fish-1.png')\n",
      "(418, 'cyan', '6.7FRhcrtR-Gal4-uasKaede', 'images/3-ColorChannels/6.7FRhcrtR-Gal4-uasKaede/cyan/6.7FRhcrtR-Gal4-uasKaede_6dpf_MeanImageOf12Fish-2.png')\n",
      "(419, 'cyan', '6.7FRhcrtR-Gal4-uasKaede', 'images/3-ColorChannels/6.7FRhcrtR-Gal4-uasKaede/cyan/6.7FRhcrtR-Gal4-uasKaede_6dpf_MeanImageOf12Fish-3.png')\n",
      "(420, 'cyan', '6.7FRhcrtR-Gal4-uasKaede', 'images/3-ColorChannels/6.7FRhcrtR-Gal4-uasKaede/cyan/6.7FRhcrtR-Gal4-uasKaede_6dpf_MeanImageOf12Fish-4.png')\n",
      "(421, 'cyan', '6.7FRhcrtR-Gal4-uasKaede', 'images/3-ColorChannels/6.7FRhcrtR-Gal4-uasKaede/cyan/6.7FRhcrtR-Gal4-uasKaede_6dpf_MeanImageOf12Fish-5.png')\n",
      "(422, 'cyan', '6.7FRhcrtR-Gal4-uasKaede', 'images/3-ColorChannels/6.7FRhcrtR-Gal4-uasKaede/cyan/6.7FRhcrtR-Gal4-uasKaede_6dpf_MeanImageOf12Fish-6.png')\n",
      "(423, 'cyan', '6.7FRhcrtR-Gal4-uasKaede', 'images/3-ColorChannels/6.7FRhcrtR-Gal4-uasKaede/cyan/6.7FRhcrtR-Gal4-uasKaede_6dpf_MeanImageOf12Fish-7.png')\n",
      "(424, 'cyan', '6.7FRhcrtR-Gal4-uasKaede', 'images/3-ColorChannels/6.7FRhcrtR-Gal4-uasKaede/cyan/6.7FRhcrtR-Gal4-uasKaede_6dpf_MeanImageOf12Fish-8.png')\n",
      "(425, 'cyan', '6.7FRhcrtR-Gal4-uasKaede', 'images/3-ColorChannels/6.7FRhcrtR-Gal4-uasKaede/cyan/6.7FRhcrtR-Gal4-uasKaede_6dpf_MeanImageOf12Fish-9.png')\n",
      "(426, 'cyan', '6.7FRhcrtR-Gal4-uasKaede', 'images/3-ColorChannels/6.7FRhcrtR-Gal4-uasKaede/cyan/6.7FRhcrtR-Gal4-uasKaede_6dpf_MeanImageOf12Fish-10.png')\n",
      "(427, 'cyan', '6.7FRhcrtR-Gal4-uasKaede', 'images/3-ColorChannels/6.7FRhcrtR-Gal4-uasKaede/cyan/6.7FRhcrtR-Gal4-uasKaede_6dpf_MeanImageOf12Fish-11.png')\n",
      "(428, 'cyan', '6.7FRhcrtR-Gal4-uasKaede', 'images/3-ColorChannels/6.7FRhcrtR-Gal4-uasKaede/cyan/6.7FRhcrtR-Gal4-uasKaede_6dpf_MeanImageOf12Fish-12.png')\n",
      "(429, 'cyan', '6.7FRhcrtR-Gal4-uasKaede', 'images/3-ColorChannels/6.7FRhcrtR-Gal4-uasKaede/cyan/6.7FRhcrtR-Gal4-uasKaede_6dpf_MeanImageOf12Fish-13.png')\n",
      "(430, 'cyan', '6.7FRhcrtR-Gal4-uasKaede', 'images/3-ColorChannels/6.7FRhcrtR-Gal4-uasKaede/cyan/6.7FRhcrtR-Gal4-uasKaede_6dpf_MeanImageOf12Fish-14.png')\n",
      "(431, 'cyan', '6.7FRhcrtR-Gal4-uasKaede', 'images/3-ColorChannels/6.7FRhcrtR-Gal4-uasKaede/cyan/6.7FRhcrtR-Gal4-uasKaede_6dpf_MeanImageOf12Fish-15.png')\n",
      "(432, 'cyan', '6.7FRhcrtR-Gal4-uasKaede', 'images/3-ColorChannels/6.7FRhcrtR-Gal4-uasKaede/cyan/6.7FRhcrtR-Gal4-uasKaede_6dpf_MeanImageOf12Fish-16.png')\n",
      "(433, 'cyan', '6.7FRhcrtR-Gal4-uasKaede', 'images/3-ColorChannels/6.7FRhcrtR-Gal4-uasKaede/cyan/6.7FRhcrtR-Gal4-uasKaede_6dpf_MeanImageOf12Fish-17.png')\n",
      "(434, 'cyan', '6.7FRhcrtR-Gal4-uasKaede', 'images/3-ColorChannels/6.7FRhcrtR-Gal4-uasKaede/cyan/6.7FRhcrtR-Gal4-uasKaede_6dpf_MeanImageOf12Fish-18.png')\n",
      "(435, 'cyan', '6.7FRhcrtR-Gal4-uasKaede', 'images/3-ColorChannels/6.7FRhcrtR-Gal4-uasKaede/cyan/6.7FRhcrtR-Gal4-uasKaede_6dpf_MeanImageOf12Fish-19.png')\n",
      "(436, 'cyan', '6.7FRhcrtR-Gal4-uasKaede', 'images/3-ColorChannels/6.7FRhcrtR-Gal4-uasKaede/cyan/6.7FRhcrtR-Gal4-uasKaede_6dpf_MeanImageOf12Fish-20.png')\n",
      "(437, 'cyan', '6.7FRhcrtR-Gal4-uasKaede', 'images/3-ColorChannels/6.7FRhcrtR-Gal4-uasKaede/cyan/6.7FRhcrtR-Gal4-uasKaede_6dpf_MeanImageOf12Fish-21.png')\n",
      "(438, 'cyan', '6.7FRhcrtR-Gal4-uasKaede', 'images/3-ColorChannels/6.7FRhcrtR-Gal4-uasKaede/cyan/6.7FRhcrtR-Gal4-uasKaede_6dpf_MeanImageOf12Fish-22.png')\n",
      "(439, 'cyan', '6.7FRhcrtR-Gal4-uasKaede', 'images/3-ColorChannels/6.7FRhcrtR-Gal4-uasKaede/cyan/6.7FRhcrtR-Gal4-uasKaede_6dpf_MeanImageOf12Fish-23.png')\n",
      "(440, 'cyan', '6.7FRhcrtR-Gal4-uasKaede', 'images/3-ColorChannels/6.7FRhcrtR-Gal4-uasKaede/cyan/6.7FRhcrtR-Gal4-uasKaede_6dpf_MeanImageOf12Fish-24.png')\n",
      "(441, 'cyan', '6.7FRhcrtR-Gal4-uasKaede', 'images/3-ColorChannels/6.7FRhcrtR-Gal4-uasKaede/cyan/6.7FRhcrtR-Gal4-uasKaede_6dpf_MeanImageOf12Fish-25.png')\n",
      "(442, 'cyan', '6.7FRhcrtR-Gal4-uasKaede', 'images/3-ColorChannels/6.7FRhcrtR-Gal4-uasKaede/cyan/6.7FRhcrtR-Gal4-uasKaede_6dpf_MeanImageOf12Fish-26.png')\n",
      "(443, 'cyan', '6.7FRhcrtR-Gal4-uasKaede', 'images/3-ColorChannels/6.7FRhcrtR-Gal4-uasKaede/cyan/6.7FRhcrtR-Gal4-uasKaede_6dpf_MeanImageOf12Fish-27.png')\n",
      "(444, 'cyan', '6.7FRhcrtR-Gal4-uasKaede', 'images/3-ColorChannels/6.7FRhcrtR-Gal4-uasKaede/cyan/6.7FRhcrtR-Gal4-uasKaede_6dpf_MeanImageOf12Fish-28.png')\n",
      "(445, 'cyan', '6.7FRhcrtR-Gal4-uasKaede', 'images/3-ColorChannels/6.7FRhcrtR-Gal4-uasKaede/cyan/6.7FRhcrtR-Gal4-uasKaede_6dpf_MeanImageOf12Fish-29.png')\n",
      "(446, 'cyan', '6.7FRhcrtR-Gal4-uasKaede', 'images/3-ColorChannels/6.7FRhcrtR-Gal4-uasKaede/cyan/6.7FRhcrtR-Gal4-uasKaede_6dpf_MeanImageOf12Fish-30.png')\n",
      "(447, 'cyan', '6.7FRhcrtR-Gal4-uasKaede', 'images/3-ColorChannels/6.7FRhcrtR-Gal4-uasKaede/cyan/6.7FRhcrtR-Gal4-uasKaede_6dpf_MeanImageOf12Fish-31.png')\n",
      "(448, 'cyan', '6.7FRhcrtR-Gal4-uasKaede', 'images/3-ColorChannels/6.7FRhcrtR-Gal4-uasKaede/cyan/6.7FRhcrtR-Gal4-uasKaede_6dpf_MeanImageOf12Fish-32.png')\n",
      "(449, 'cyan', '6.7FRhcrtR-Gal4-uasKaede', 'images/3-ColorChannels/6.7FRhcrtR-Gal4-uasKaede/cyan/6.7FRhcrtR-Gal4-uasKaede_6dpf_MeanImageOf12Fish-33.png')\n",
      "(450, 'cyan', '6.7FRhcrtR-Gal4-uasKaede', 'images/3-ColorChannels/6.7FRhcrtR-Gal4-uasKaede/cyan/6.7FRhcrtR-Gal4-uasKaede_6dpf_MeanImageOf12Fish-34.png')\n",
      "(451, 'cyan', '6.7FRhcrtR-Gal4-uasKaede', 'images/3-ColorChannels/6.7FRhcrtR-Gal4-uasKaede/cyan/6.7FRhcrtR-Gal4-uasKaede_6dpf_MeanImageOf12Fish-35.png')\n",
      "(452, 'cyan', '6.7FRhcrtR-Gal4-uasKaede', 'images/3-ColorChannels/6.7FRhcrtR-Gal4-uasKaede/cyan/6.7FRhcrtR-Gal4-uasKaede_6dpf_MeanImageOf12Fish-36.png')\n",
      "(453, 'cyan', '6.7FRhcrtR-Gal4-uasKaede', 'images/3-ColorChannels/6.7FRhcrtR-Gal4-uasKaede/cyan/6.7FRhcrtR-Gal4-uasKaede_6dpf_MeanImageOf12Fish-37.png')\n",
      "(454, 'cyan', '6.7FRhcrtR-Gal4-uasKaede', 'images/3-ColorChannels/6.7FRhcrtR-Gal4-uasKaede/cyan/6.7FRhcrtR-Gal4-uasKaede_6dpf_MeanImageOf12Fish-38.png')\n",
      "(455, 'cyan', '6.7FRhcrtR-Gal4-uasKaede', 'images/3-ColorChannels/6.7FRhcrtR-Gal4-uasKaede/cyan/6.7FRhcrtR-Gal4-uasKaede_6dpf_MeanImageOf12Fish-39.png')\n",
      "(456, 'cyan', '6.7FRhcrtR-Gal4-uasKaede', 'images/3-ColorChannels/6.7FRhcrtR-Gal4-uasKaede/cyan/6.7FRhcrtR-Gal4-uasKaede_6dpf_MeanImageOf12Fish-40.png')\n",
      "(457, 'cyan', '6.7FRhcrtR-Gal4-uasKaede', 'images/3-ColorChannels/6.7FRhcrtR-Gal4-uasKaede/cyan/6.7FRhcrtR-Gal4-uasKaede_6dpf_MeanImageOf12Fish-41.png')\n",
      "(458, 'cyan', '6.7FRhcrtR-Gal4-uasKaede', 'images/3-ColorChannels/6.7FRhcrtR-Gal4-uasKaede/cyan/6.7FRhcrtR-Gal4-uasKaede_6dpf_MeanImageOf12Fish-42.png')\n",
      "(459, 'cyan', '6.7FRhcrtR-Gal4-uasKaede', 'images/3-ColorChannels/6.7FRhcrtR-Gal4-uasKaede/cyan/6.7FRhcrtR-Gal4-uasKaede_6dpf_MeanImageOf12Fish-43.png')\n",
      "(460, 'cyan', '6.7FRhcrtR-Gal4-uasKaede', 'images/3-ColorChannels/6.7FRhcrtR-Gal4-uasKaede/cyan/6.7FRhcrtR-Gal4-uasKaede_6dpf_MeanImageOf12Fish-44.png')\n",
      "(461, 'cyan', '6.7FRhcrtR-Gal4-uasKaede', 'images/3-ColorChannels/6.7FRhcrtR-Gal4-uasKaede/cyan/6.7FRhcrtR-Gal4-uasKaede_6dpf_MeanImageOf12Fish-45.png')\n",
      "(462, 'cyan', '6.7FRhcrtR-Gal4-uasKaede', 'images/3-ColorChannels/6.7FRhcrtR-Gal4-uasKaede/cyan/6.7FRhcrtR-Gal4-uasKaede_6dpf_MeanImageOf12Fish-46.png')\n",
      "(463, 'cyan', '6.7FRhcrtR-Gal4-uasKaede', 'images/3-ColorChannels/6.7FRhcrtR-Gal4-uasKaede/cyan/6.7FRhcrtR-Gal4-uasKaede_6dpf_MeanImageOf12Fish-47.png')\n",
      "(464, 'cyan', '6.7FRhcrtR-Gal4-uasKaede', 'images/3-ColorChannels/6.7FRhcrtR-Gal4-uasKaede/cyan/6.7FRhcrtR-Gal4-uasKaede_6dpf_MeanImageOf12Fish-48.png')\n",
      "(465, 'cyan', '6.7FRhcrtR-Gal4-uasKaede', 'images/3-ColorChannels/6.7FRhcrtR-Gal4-uasKaede/cyan/6.7FRhcrtR-Gal4-uasKaede_6dpf_MeanImageOf12Fish-49.png')\n",
      "(466, 'cyan', '6.7FRhcrtR-Gal4-uasKaede', 'images/3-ColorChannels/6.7FRhcrtR-Gal4-uasKaede/cyan/6.7FRhcrtR-Gal4-uasKaede_6dpf_MeanImageOf12Fish-50.png')\n",
      "(467, 'cyan', '6.7FRhcrtR-Gal4-uasKaede', 'images/3-ColorChannels/6.7FRhcrtR-Gal4-uasKaede/cyan/6.7FRhcrtR-Gal4-uasKaede_6dpf_MeanImageOf12Fish-51.png')\n",
      "(468, 'cyan', '6.7FRhcrtR-Gal4-uasKaede', 'images/3-ColorChannels/6.7FRhcrtR-Gal4-uasKaede/cyan/6.7FRhcrtR-Gal4-uasKaede_6dpf_MeanImageOf12Fish-52.png')\n",
      "(469, 'cyan', '6.7FRhcrtR-Gal4-uasKaede', 'images/3-ColorChannels/6.7FRhcrtR-Gal4-uasKaede/cyan/6.7FRhcrtR-Gal4-uasKaede_6dpf_MeanImageOf12Fish-53.png')\n",
      "(470, 'cyan', '6.7FRhcrtR-Gal4-uasKaede', 'images/3-ColorChannels/6.7FRhcrtR-Gal4-uasKaede/cyan/6.7FRhcrtR-Gal4-uasKaede_6dpf_MeanImageOf12Fish-54.png')\n",
      "(471, 'cyan', '6.7FRhcrtR-Gal4-uasKaede', 'images/3-ColorChannels/6.7FRhcrtR-Gal4-uasKaede/cyan/6.7FRhcrtR-Gal4-uasKaede_6dpf_MeanImageOf12Fish-55.png')\n",
      "(472, 'cyan', '6.7FRhcrtR-Gal4-uasKaede', 'images/3-ColorChannels/6.7FRhcrtR-Gal4-uasKaede/cyan/6.7FRhcrtR-Gal4-uasKaede_6dpf_MeanImageOf12Fish-56.png')\n",
      "(473, 'cyan', '6.7FRhcrtR-Gal4-uasKaede', 'images/3-ColorChannels/6.7FRhcrtR-Gal4-uasKaede/cyan/6.7FRhcrtR-Gal4-uasKaede_6dpf_MeanImageOf12Fish-57.png')\n",
      "(474, 'cyan', '6.7FRhcrtR-Gal4-uasKaede', 'images/3-ColorChannels/6.7FRhcrtR-Gal4-uasKaede/cyan/6.7FRhcrtR-Gal4-uasKaede_6dpf_MeanImageOf12Fish-58.png')\n",
      "(475, 'cyan', '6.7FRhcrtR-Gal4-uasKaede', 'images/3-ColorChannels/6.7FRhcrtR-Gal4-uasKaede/cyan/6.7FRhcrtR-Gal4-uasKaede_6dpf_MeanImageOf12Fish-59.png')\n",
      "(476, 'cyan', '6.7FRhcrtR-Gal4-uasKaede', 'images/3-ColorChannels/6.7FRhcrtR-Gal4-uasKaede/cyan/6.7FRhcrtR-Gal4-uasKaede_6dpf_MeanImageOf12Fish-60.png')\n",
      "(477, 'cyan', '6.7FRhcrtR-Gal4-uasKaede', 'images/3-ColorChannels/6.7FRhcrtR-Gal4-uasKaede/cyan/6.7FRhcrtR-Gal4-uasKaede_6dpf_MeanImageOf12Fish-61.png')\n",
      "(478, 'cyan', '6.7FRhcrtR-Gal4-uasKaede', 'images/3-ColorChannels/6.7FRhcrtR-Gal4-uasKaede/cyan/6.7FRhcrtR-Gal4-uasKaede_6dpf_MeanImageOf12Fish-62.png')\n",
      "(479, 'cyan', '6.7FRhcrtR-Gal4-uasKaede', 'images/3-ColorChannels/6.7FRhcrtR-Gal4-uasKaede/cyan/6.7FRhcrtR-Gal4-uasKaede_6dpf_MeanImageOf12Fish-63.png')\n",
      "(480, 'cyan', '6.7FRhcrtR-Gal4-uasKaede', 'images/3-ColorChannels/6.7FRhcrtR-Gal4-uasKaede/cyan/6.7FRhcrtR-Gal4-uasKaede_6dpf_MeanImageOf12Fish-64.png')\n",
      "(481, 'cyan', '6.7FRhcrtR-Gal4-uasKaede', 'images/3-ColorChannels/6.7FRhcrtR-Gal4-uasKaede/cyan/6.7FRhcrtR-Gal4-uasKaede_6dpf_MeanImageOf12Fish-65.png')\n",
      "(482, 'cyan', '6.7FRhcrtR-Gal4-uasKaede', 'images/3-ColorChannels/6.7FRhcrtR-Gal4-uasKaede/cyan/6.7FRhcrtR-Gal4-uasKaede_6dpf_MeanImageOf12Fish-66.png')\n",
      "(483, 'cyan', '6.7FRhcrtR-Gal4-uasKaede', 'images/3-ColorChannels/6.7FRhcrtR-Gal4-uasKaede/cyan/6.7FRhcrtR-Gal4-uasKaede_6dpf_MeanImageOf12Fish-67.png')\n",
      "(484, 'cyan', '6.7FRhcrtR-Gal4-uasKaede', 'images/3-ColorChannels/6.7FRhcrtR-Gal4-uasKaede/cyan/6.7FRhcrtR-Gal4-uasKaede_6dpf_MeanImageOf12Fish-68.png')\n",
      "(485, 'cyan', '6.7FRhcrtR-Gal4-uasKaede', 'images/3-ColorChannels/6.7FRhcrtR-Gal4-uasKaede/cyan/6.7FRhcrtR-Gal4-uasKaede_6dpf_MeanImageOf12Fish-69.png')\n",
      "(486, 'cyan', '6.7FRhcrtR-Gal4-uasKaede', 'images/3-ColorChannels/6.7FRhcrtR-Gal4-uasKaede/cyan/6.7FRhcrtR-Gal4-uasKaede_6dpf_MeanImageOf12Fish-70.png')\n",
      "(487, 'cyan', '6.7FRhcrtR-Gal4-uasKaede', 'images/3-ColorChannels/6.7FRhcrtR-Gal4-uasKaede/cyan/6.7FRhcrtR-Gal4-uasKaede_6dpf_MeanImageOf12Fish-71.png')\n",
      "(488, 'cyan', '6.7FRhcrtR-Gal4-uasKaede', 'images/3-ColorChannels/6.7FRhcrtR-Gal4-uasKaede/cyan/6.7FRhcrtR-Gal4-uasKaede_6dpf_MeanImageOf12Fish-72.png')\n",
      "(489, 'cyan', '6.7FRhcrtR-Gal4-uasKaede', 'images/3-ColorChannels/6.7FRhcrtR-Gal4-uasKaede/cyan/6.7FRhcrtR-Gal4-uasKaede_6dpf_MeanImageOf12Fish-73.png')\n",
      "(490, 'cyan', '6.7FRhcrtR-Gal4-uasKaede', 'images/3-ColorChannels/6.7FRhcrtR-Gal4-uasKaede/cyan/6.7FRhcrtR-Gal4-uasKaede_6dpf_MeanImageOf12Fish-74.png')\n",
      "(491, 'cyan', '6.7FRhcrtR-Gal4-uasKaede', 'images/3-ColorChannels/6.7FRhcrtR-Gal4-uasKaede/cyan/6.7FRhcrtR-Gal4-uasKaede_6dpf_MeanImageOf12Fish-75.png')\n",
      "(492, 'cyan', '6.7FRhcrtR-Gal4-uasKaede', 'images/3-ColorChannels/6.7FRhcrtR-Gal4-uasKaede/cyan/6.7FRhcrtR-Gal4-uasKaede_6dpf_MeanImageOf12Fish-76.png')\n",
      "(493, 'cyan', '6.7FRhcrtR-Gal4-uasKaede', 'images/3-ColorChannels/6.7FRhcrtR-Gal4-uasKaede/cyan/6.7FRhcrtR-Gal4-uasKaede_6dpf_MeanImageOf12Fish-77.png')\n",
      "(494, 'cyan', '6.7FRhcrtR-Gal4-uasKaede', 'images/3-ColorChannels/6.7FRhcrtR-Gal4-uasKaede/cyan/6.7FRhcrtR-Gal4-uasKaede_6dpf_MeanImageOf12Fish-78.png')\n",
      "(495, 'cyan', '6.7FRhcrtR-Gal4-uasKaede', 'images/3-ColorChannels/6.7FRhcrtR-Gal4-uasKaede/cyan/6.7FRhcrtR-Gal4-uasKaede_6dpf_MeanImageOf12Fish-79.png')\n",
      "(496, 'cyan', '6.7FRhcrtR-Gal4-uasKaede', 'images/3-ColorChannels/6.7FRhcrtR-Gal4-uasKaede/cyan/6.7FRhcrtR-Gal4-uasKaede_6dpf_MeanImageOf12Fish-80.png')\n",
      "(497, 'cyan', '6.7FRhcrtR-Gal4-uasKaede', 'images/3-ColorChannels/6.7FRhcrtR-Gal4-uasKaede/cyan/6.7FRhcrtR-Gal4-uasKaede_6dpf_MeanImageOf12Fish-81.png')\n",
      "(498, 'cyan', '6.7FRhcrtR-Gal4-uasKaede', 'images/3-ColorChannels/6.7FRhcrtR-Gal4-uasKaede/cyan/6.7FRhcrtR-Gal4-uasKaede_6dpf_MeanImageOf12Fish-82.png')\n",
      "(499, 'cyan', '6.7FRhcrtR-Gal4-uasKaede', 'images/3-ColorChannels/6.7FRhcrtR-Gal4-uasKaede/cyan/6.7FRhcrtR-Gal4-uasKaede_6dpf_MeanImageOf12Fish-83.png')\n"
     ]
    }
   ],
   "source": [
    "conn = psycopg2.connect(dbname='zbrain2db', user='gqe', host='localhost', password='')\n",
    "cursor = conn.cursor()\n",
    "cursor.execute('SELECT * FROM colorChannels ORDER BY channel_id')\n",
    "\n",
    "rows = cursor.fetchall()\n",
    "for row in rows[300:500]:\n",
    "    print row"
   ]
  },
  {
   "cell_type": "code",
   "execution_count": null,
   "metadata": {
    "collapsed": true
   },
   "outputs": [],
   "source": []
  }
 ],
 "metadata": {
  "anaconda-cloud": {},
  "kernelspec": {
   "display_name": "Python [conda root]",
   "language": "python",
   "name": "conda-root-py"
  },
  "language_info": {
   "codemirror_mode": {
    "name": "ipython",
    "version": 2
   },
   "file_extension": ".py",
   "mimetype": "text/x-python",
   "name": "python",
   "nbconvert_exporter": "python",
   "pygments_lexer": "ipython2",
   "version": "2.7.12"
  }
 },
 "nbformat": 4,
 "nbformat_minor": 1
}
