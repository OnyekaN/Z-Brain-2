{
 "cells": [
  {
   "cell_type": "markdown",
   "metadata": {},
   "source": [
    "## Create tri-colored PNGs for all slices in HDF5s"
   ]
  },
  {
   "cell_type": "code",
   "execution_count": 25,
   "metadata": {
    "collapsed": true
   },
   "outputs": [],
   "source": [
    "import os, sys, re, psycopg2, subprocess\n",
    "import numpy as np\n",
    "from subprocess import call"
   ]
  },
  {
   "cell_type": "markdown",
   "metadata": {},
   "source": [
    "#### Set context"
   ]
  },
  {
   "cell_type": "code",
   "execution_count": 6,
   "metadata": {
    "collapsed": false
   },
   "outputs": [
    {
     "name": "stdout",
     "output_type": "stream",
     "text": [
      "Current working directory /Users/OGN/1Projects/ZBrain2/app/assets/images/0-Lines\n"
     ]
    }
   ],
   "source": [
    "stack_folder = \"/Users/OGN/1Projects/ZBrain2/app/assets/images/0-Lines\"\n",
    "channel_folder = \"/Users/OGN/1Projects/ZBrain2/app/assets/images/3-ColorChannels/\"\n",
    "\n",
    "os.chdir(stack_folder)\n",
    "cwd = os.getcwd()\n",
    "print(\"Current working directory %s\" % cwd)"
   ]
  },
  {
   "cell_type": "markdown",
   "metadata": {},
   "source": [
    "#### Get stack names"
   ]
  },
  {
   "cell_type": "code",
   "execution_count": 21,
   "metadata": {
    "collapsed": false,
    "scrolled": true
   },
   "outputs": [
    {
     "name": "stdout",
     "output_type": "stream",
     "text": [
      "186 ['6.7FRhcrtR-Gal4-uasKaede', 'Anti-5HT', 'Anti-Gad67', 'Anti-GlyR', 'Anti-TH', 'Anti-Zn1', 'Anti-Zn12(Hnk-1)', 'Anti-Znp1(Synaptotagmin2)', 'Anti-Zrf1(GFAP)', 'Anti-Zrf2', 'Anti-tERK', 'Elavl3-GCaMP5G', 'Elavl3-H2BRFP', 'EtVmat2-GFP', 'Gad1b-GFP', 'Glyt2-GFP', 'Hcrt-RFP', 'Isl1-GFP', 'Isl2bGal4-uasDendra', 'MH_13319-Gal4', 'MH_15576-Gal4', 'MH_16659-Gal4', 'MH_16715-Gal4', 'MH_16913-Gal4', 'MH_16914-Gal4', 'MH_16915-Gal4', 'MH_16916-Gal4', 'MH_16946-Gal4', 'MH_17056-Gal4', 'MH_17767-Gal4', 'MH_17768-Gal4', 'MH_17776-Gal4', 'MH_17777-Gal4', 'MH_17787-Gal4', 'MH_17845-Gal4', 'MH_17846-Gal4', 'MH_18107-Gal4', 'MH_18108-Gal4', 'MH_18327-Gal4', 'MH_18329-Gal4', 'MH_19322-Gal4', 'MH_19566-Gal4', 'MH_20360-Gal4', 'MH_20361-Gal4', 'MH_20454-Gal4', 'MH_20552-Gal4', 'MH_20553-Gal4', 'MH_20638-Gal4', 'MH_20639-Gal4', 'MH_20640-Gal4', 'MH_20641-Gal4', 'MH_20642-Gal4', 'MH_20643-Gal4', 'MH_20644-Gal4', 'MH_20646-Gal4', 'MH_20647-Gal4', 'MH_20648-Gal4', 'MH_20649-Gal4', 'MH_20652-Gal4', 'MH_20653-Gal4', 'MH_20654-Gal4', 'MH_20655-Gal4', 'MH_20660-Gal4', 'MH_20661-Gal4', 'MH_20663-Gal4', 'MH_20940-Gal4', 'MH_20941-Gal4', 'Olig2-GFP', 'Otpb.A-Gal4-UAS-GCaMP', 'Otpb.A-Nsfb-GFP', 'Oxtl-GFP', 'Pet1-GFP', 'Ptf1aGal4-uasKaede', 'Qrfp-GFP', 'S1181tGal4-uasKaede', 'SpinalBackfills', 'Vglut2a-GFP', 'ZBB_HuC-Cer', 'ZBB_ath5-GFP', 'ZBB_bActin-GFP', 'ZBB_chx10-gal4', 'ZBB_dat-GFP', 'ZBB_dbh-Gal4', 'ZBB_eng1b-Gal4', 'ZBB_evx2-Gal4', 'ZBB_flk-GFP', 'ZBB_gad1b-GFP', 'ZBB_gfap-GFP', 'ZBB_glyt2-GFP', 'ZBB_gsx1-GFP', 'ZBB_isl2b-GFP', 'ZBB_j1229-GFP', 'ZBB_pet1-GFP', 'ZBB_phox2b-GFP', 'ZBB_shox2-Gal4', 'ZBB_tph2-Gal4', 'ZBB_vglut-DsRed', 'ZBB_y234-Gal4', 'ZBB_y236-Gal4', 'ZBB_y237-Gal4', 'ZBB_y240-Gal4', 'ZBB_y241-Gal4', 'ZBB_y244-Gal4', 'ZBB_y245-Gal4', 'ZBB_y249-Gal4', 'ZBB_y252-Gal4', 'ZBB_y255-Gal4', 'ZBB_y256-Gal4', 'ZBB_y264-Gal4', 'ZBB_y269-Gal4', 'ZBB_y270-Gal4', 'ZBB_y275-Gal4', 'ZBB_y279-Gal4', 'ZBB_y293-Gal4', 'ZBB_y294-Gal4', 'ZBB_y295-Gal4', 'ZBB_y296-Gal4', 'ZBB_y297-Gal4', 'ZBB_y298-Gal4', 'ZBB_y299-Gal4', 'ZBB_y300-Gal4', 'ZBB_y301-Gal4', 'ZBB_y302-Gal4', 'ZBB_y303-Gal4', 'ZBB_y304-Gal4', 'ZBB_y305-Gal4', 'ZBB_y306-Gal4', 'ZBB_y307-Gal4', 'ZBB_y308-Gal4', 'ZBB_y309-Gal4', 'ZBB_y310-Gal4', 'ZBB_y311-Gal4', 'ZBB_y312-Gal4', 'ZBB_y313-Gal4', 'ZBB_y314-Gal4', 'ZBB_y315-Gal4', 'ZBB_y316-Gal4', 'ZBB_y317-Gal4', 'ZBB_y318-Gal4', 'ZBB_y319-Gal4', 'ZBB_y320-Gal4', 'ZBB_y321-Gal4', 'ZBB_y322-Gal4', 'ZBB_y323-Gal4', 'ZBB_y324-Gal4', 'ZBB_y325-Gal4', 'ZBB_y326-Gal4', 'ZBB_y327-Gal4', 'ZBB_y328-Gal4', 'ZBB_y329-Gal4', 'ZBB_y330-Gal4', 'ZBB_y331-Gal4', 'ZBB_y332-Gal4', 'ZBB_y333-Gal4', 'ZBB_y334-Gal4', 'ZBB_y336-Gal4', 'ZBB_y337-Gal4', 'ZBB_y338-Gal4', 'ZBB_y339-Gal4', 'ZBB_y341-Gal4', 'ZBB_y342-Gal4', 'ZBB_y345-Gal4', 'ZBB_y347-Gal4', 'ZBB_y351-Gal4', 'ZBB_y352-Gal4', 'ZBB_y353-Gal4', 'ZBB_y354-Gal4', 'ZBB_y355-Gal4', 'ZBB_y356-Gal4', 'ZBB_y357-Gal4', 'ZBB_y358-Gal4', 'ZBB_y359-Gal4', 'ZBB_y364-Gal4', 'ZBB_y365-Gal4', 'ZBB_y371-Cre', 'ZBB_y372-Gal4', 'ZBB_y373-Gal4', 'ZBB_y375-Gal4', 'ZBB_y378-Cre', 'ZBB_y379-Cre', 'ZBB_y380-Cre', 'ZBB_y381-Cre', 'ZBB_y382-Cre', 'ZBB_y383-Cre', 'ZBB_y384-Cre', 'ZBB_y385-Cre']\n"
     ]
    }
   ],
   "source": [
    "stacks = sorted([d for d in os.listdir(stack_folder) if not d.startswith('.')])\n",
    "print(len(stacks), stacks)"
   ]
  },
  {
   "cell_type": "markdown",
   "metadata": {},
   "source": [
    "#### Create color channel folders & color subfolders"
   ]
  },
  {
   "cell_type": "code",
   "execution_count": 22,
   "metadata": {
    "collapsed": false
   },
   "outputs": [],
   "source": [
    "colors = ['red', 'blue', 'green', 'cyan']\n",
    "\n",
    "for stack in stacks:\n",
    "    folder_path = \"/Users/OGN/1Projects/ZBrain2/app/assets/images/3-ColorChannels/%s/\" % stack\n",
    "    try:\n",
    "        os.mkdir(folder_path)\n",
    "    except:\n",
    "        pass\n",
    "    for color in colors:\n",
    "        channel_path = folder_path + color\n",
    "        try:\n",
    "            os.mkdir(channel_path)\n",
    "        except:\n",
    "            pass"
   ]
  },
  {
   "cell_type": "markdown",
   "metadata": {},
   "source": [
    "#### Create color channel overlays for each stack"
   ]
  },
  {
   "cell_type": "code",
   "execution_count": 23,
   "metadata": {
    "collapsed": false,
    "scrolled": true
   },
   "outputs": [
    {
     "name": "stdout",
     "output_type": "stream",
     "text": [
      "0 /Users/OGN/1Projects/ZBrain2/app/assets/images/3-ColorChannels/MH_13319-Gal4/\n",
      "/Users/OGN/1Projects/ZBrain2/app/assets/images/0-Lines/MH_13319-Gal4\n",
      "/Users/OGN/1Projects/ZBrain2/app/assets/images/0-Lines/MH_13319-Gal4\n",
      "/Users/OGN/1Projects/ZBrain2/app/assets/images/0-Lines/MH_13319-Gal4\n",
      "/Users/OGN/1Projects/ZBrain2/app/assets/images/0-Lines/MH_13319-Gal4\n",
      "1 /Users/OGN/1Projects/ZBrain2/app/assets/images/3-ColorChannels/MH_15576-Gal4/\n",
      "/Users/OGN/1Projects/ZBrain2/app/assets/images/0-Lines/MH_15576-Gal4\n",
      "/Users/OGN/1Projects/ZBrain2/app/assets/images/0-Lines/MH_15576-Gal4\n",
      "/Users/OGN/1Projects/ZBrain2/app/assets/images/0-Lines/MH_15576-Gal4\n",
      "/Users/OGN/1Projects/ZBrain2/app/assets/images/0-Lines/MH_15576-Gal4\n",
      "2 /Users/OGN/1Projects/ZBrain2/app/assets/images/3-ColorChannels/MH_16659-Gal4/\n",
      "/Users/OGN/1Projects/ZBrain2/app/assets/images/0-Lines/MH_16659-Gal4\n",
      "/Users/OGN/1Projects/ZBrain2/app/assets/images/0-Lines/MH_16659-Gal4\n",
      "/Users/OGN/1Projects/ZBrain2/app/assets/images/0-Lines/MH_16659-Gal4\n",
      "/Users/OGN/1Projects/ZBrain2/app/assets/images/0-Lines/MH_16659-Gal4\n",
      "3 /Users/OGN/1Projects/ZBrain2/app/assets/images/3-ColorChannels/MH_16715-Gal4/\n",
      "/Users/OGN/1Projects/ZBrain2/app/assets/images/0-Lines/MH_16715-Gal4\n",
      "/Users/OGN/1Projects/ZBrain2/app/assets/images/0-Lines/MH_16715-Gal4\n",
      "/Users/OGN/1Projects/ZBrain2/app/assets/images/0-Lines/MH_16715-Gal4\n",
      "/Users/OGN/1Projects/ZBrain2/app/assets/images/0-Lines/MH_16715-Gal4\n",
      "4 /Users/OGN/1Projects/ZBrain2/app/assets/images/3-ColorChannels/MH_16913-Gal4/\n",
      "/Users/OGN/1Projects/ZBrain2/app/assets/images/0-Lines/MH_16913-Gal4\n",
      "/Users/OGN/1Projects/ZBrain2/app/assets/images/0-Lines/MH_16913-Gal4\n",
      "/Users/OGN/1Projects/ZBrain2/app/assets/images/0-Lines/MH_16913-Gal4\n",
      "/Users/OGN/1Projects/ZBrain2/app/assets/images/0-Lines/MH_16913-Gal4\n",
      "5 /Users/OGN/1Projects/ZBrain2/app/assets/images/3-ColorChannels/MH_16914-Gal4/\n",
      "/Users/OGN/1Projects/ZBrain2/app/assets/images/0-Lines/MH_16914-Gal4\n",
      "/Users/OGN/1Projects/ZBrain2/app/assets/images/0-Lines/MH_16914-Gal4\n",
      "/Users/OGN/1Projects/ZBrain2/app/assets/images/0-Lines/MH_16914-Gal4\n",
      "/Users/OGN/1Projects/ZBrain2/app/assets/images/0-Lines/MH_16914-Gal4\n",
      "6 /Users/OGN/1Projects/ZBrain2/app/assets/images/3-ColorChannels/MH_16915-Gal4/\n",
      "/Users/OGN/1Projects/ZBrain2/app/assets/images/0-Lines/MH_16915-Gal4\n",
      "/Users/OGN/1Projects/ZBrain2/app/assets/images/0-Lines/MH_16915-Gal4\n",
      "/Users/OGN/1Projects/ZBrain2/app/assets/images/0-Lines/MH_16915-Gal4\n",
      "/Users/OGN/1Projects/ZBrain2/app/assets/images/0-Lines/MH_16915-Gal4\n",
      "7 /Users/OGN/1Projects/ZBrain2/app/assets/images/3-ColorChannels/MH_16916-Gal4/\n",
      "/Users/OGN/1Projects/ZBrain2/app/assets/images/0-Lines/MH_16916-Gal4\n",
      "/Users/OGN/1Projects/ZBrain2/app/assets/images/0-Lines/MH_16916-Gal4\n",
      "/Users/OGN/1Projects/ZBrain2/app/assets/images/0-Lines/MH_16916-Gal4\n",
      "/Users/OGN/1Projects/ZBrain2/app/assets/images/0-Lines/MH_16916-Gal4\n",
      "8 /Users/OGN/1Projects/ZBrain2/app/assets/images/3-ColorChannels/MH_16946-Gal4/\n",
      "/Users/OGN/1Projects/ZBrain2/app/assets/images/0-Lines/MH_16946-Gal4\n",
      "/Users/OGN/1Projects/ZBrain2/app/assets/images/0-Lines/MH_16946-Gal4\n",
      "/Users/OGN/1Projects/ZBrain2/app/assets/images/0-Lines/MH_16946-Gal4\n",
      "/Users/OGN/1Projects/ZBrain2/app/assets/images/0-Lines/MH_16946-Gal4\n",
      "9 /Users/OGN/1Projects/ZBrain2/app/assets/images/3-ColorChannels/MH_17056-Gal4/\n",
      "/Users/OGN/1Projects/ZBrain2/app/assets/images/0-Lines/MH_17056-Gal4\n",
      "/Users/OGN/1Projects/ZBrain2/app/assets/images/0-Lines/MH_17056-Gal4\n",
      "/Users/OGN/1Projects/ZBrain2/app/assets/images/0-Lines/MH_17056-Gal4\n",
      "/Users/OGN/1Projects/ZBrain2/app/assets/images/0-Lines/MH_17056-Gal4\n",
      "10 /Users/OGN/1Projects/ZBrain2/app/assets/images/3-ColorChannels/MH_17767-Gal4/\n",
      "/Users/OGN/1Projects/ZBrain2/app/assets/images/0-Lines/MH_17767-Gal4\n",
      "/Users/OGN/1Projects/ZBrain2/app/assets/images/0-Lines/MH_17767-Gal4\n",
      "/Users/OGN/1Projects/ZBrain2/app/assets/images/0-Lines/MH_17767-Gal4\n",
      "/Users/OGN/1Projects/ZBrain2/app/assets/images/0-Lines/MH_17767-Gal4\n",
      "11 /Users/OGN/1Projects/ZBrain2/app/assets/images/3-ColorChannels/MH_17768-Gal4/\n",
      "/Users/OGN/1Projects/ZBrain2/app/assets/images/0-Lines/MH_17768-Gal4\n",
      "/Users/OGN/1Projects/ZBrain2/app/assets/images/0-Lines/MH_17768-Gal4\n",
      "/Users/OGN/1Projects/ZBrain2/app/assets/images/0-Lines/MH_17768-Gal4\n",
      "/Users/OGN/1Projects/ZBrain2/app/assets/images/0-Lines/MH_17768-Gal4\n",
      "12 /Users/OGN/1Projects/ZBrain2/app/assets/images/3-ColorChannels/MH_17776-Gal4/\n",
      "/Users/OGN/1Projects/ZBrain2/app/assets/images/0-Lines/MH_17776-Gal4\n",
      "/Users/OGN/1Projects/ZBrain2/app/assets/images/0-Lines/MH_17776-Gal4\n",
      "/Users/OGN/1Projects/ZBrain2/app/assets/images/0-Lines/MH_17776-Gal4\n",
      "/Users/OGN/1Projects/ZBrain2/app/assets/images/0-Lines/MH_17776-Gal4\n",
      "13 /Users/OGN/1Projects/ZBrain2/app/assets/images/3-ColorChannels/MH_17777-Gal4/\n",
      "/Users/OGN/1Projects/ZBrain2/app/assets/images/0-Lines/MH_17777-Gal4\n",
      "/Users/OGN/1Projects/ZBrain2/app/assets/images/0-Lines/MH_17777-Gal4\n",
      "/Users/OGN/1Projects/ZBrain2/app/assets/images/0-Lines/MH_17777-Gal4\n",
      "/Users/OGN/1Projects/ZBrain2/app/assets/images/0-Lines/MH_17777-Gal4\n",
      "14 /Users/OGN/1Projects/ZBrain2/app/assets/images/3-ColorChannels/MH_17787-Gal4/\n",
      "/Users/OGN/1Projects/ZBrain2/app/assets/images/0-Lines/MH_17787-Gal4\n",
      "/Users/OGN/1Projects/ZBrain2/app/assets/images/0-Lines/MH_17787-Gal4\n",
      "/Users/OGN/1Projects/ZBrain2/app/assets/images/0-Lines/MH_17787-Gal4\n",
      "/Users/OGN/1Projects/ZBrain2/app/assets/images/0-Lines/MH_17787-Gal4\n",
      "15 /Users/OGN/1Projects/ZBrain2/app/assets/images/3-ColorChannels/MH_17845-Gal4/\n",
      "/Users/OGN/1Projects/ZBrain2/app/assets/images/0-Lines/MH_17845-Gal4\n",
      "/Users/OGN/1Projects/ZBrain2/app/assets/images/0-Lines/MH_17845-Gal4\n",
      "/Users/OGN/1Projects/ZBrain2/app/assets/images/0-Lines/MH_17845-Gal4\n",
      "/Users/OGN/1Projects/ZBrain2/app/assets/images/0-Lines/MH_17845-Gal4\n",
      "16 /Users/OGN/1Projects/ZBrain2/app/assets/images/3-ColorChannels/MH_17846-Gal4/\n",
      "/Users/OGN/1Projects/ZBrain2/app/assets/images/0-Lines/MH_17846-Gal4\n",
      "/Users/OGN/1Projects/ZBrain2/app/assets/images/0-Lines/MH_17846-Gal4\n",
      "/Users/OGN/1Projects/ZBrain2/app/assets/images/0-Lines/MH_17846-Gal4\n",
      "/Users/OGN/1Projects/ZBrain2/app/assets/images/0-Lines/MH_17846-Gal4\n",
      "17 /Users/OGN/1Projects/ZBrain2/app/assets/images/3-ColorChannels/MH_18107-Gal4/\n",
      "/Users/OGN/1Projects/ZBrain2/app/assets/images/0-Lines/MH_18107-Gal4\n",
      "/Users/OGN/1Projects/ZBrain2/app/assets/images/0-Lines/MH_18107-Gal4\n",
      "/Users/OGN/1Projects/ZBrain2/app/assets/images/0-Lines/MH_18107-Gal4\n",
      "/Users/OGN/1Projects/ZBrain2/app/assets/images/0-Lines/MH_18107-Gal4\n",
      "18 /Users/OGN/1Projects/ZBrain2/app/assets/images/3-ColorChannels/MH_18108-Gal4/\n",
      "/Users/OGN/1Projects/ZBrain2/app/assets/images/0-Lines/MH_18108-Gal4\n",
      "/Users/OGN/1Projects/ZBrain2/app/assets/images/0-Lines/MH_18108-Gal4\n",
      "/Users/OGN/1Projects/ZBrain2/app/assets/images/0-Lines/MH_18108-Gal4\n",
      "/Users/OGN/1Projects/ZBrain2/app/assets/images/0-Lines/MH_18108-Gal4\n",
      "19 /Users/OGN/1Projects/ZBrain2/app/assets/images/3-ColorChannels/MH_18327-Gal4/\n",
      "/Users/OGN/1Projects/ZBrain2/app/assets/images/0-Lines/MH_18327-Gal4\n",
      "/Users/OGN/1Projects/ZBrain2/app/assets/images/0-Lines/MH_18327-Gal4\n",
      "/Users/OGN/1Projects/ZBrain2/app/assets/images/0-Lines/MH_18327-Gal4\n",
      "/Users/OGN/1Projects/ZBrain2/app/assets/images/0-Lines/MH_18327-Gal4\n",
      "20 /Users/OGN/1Projects/ZBrain2/app/assets/images/3-ColorChannels/MH_18329-Gal4/\n",
      "/Users/OGN/1Projects/ZBrain2/app/assets/images/0-Lines/MH_18329-Gal4\n",
      "/Users/OGN/1Projects/ZBrain2/app/assets/images/0-Lines/MH_18329-Gal4\n",
      "/Users/OGN/1Projects/ZBrain2/app/assets/images/0-Lines/MH_18329-Gal4\n",
      "/Users/OGN/1Projects/ZBrain2/app/assets/images/0-Lines/MH_18329-Gal4\n",
      "21 /Users/OGN/1Projects/ZBrain2/app/assets/images/3-ColorChannels/MH_19322-Gal4/\n",
      "/Users/OGN/1Projects/ZBrain2/app/assets/images/0-Lines/MH_19322-Gal4\n",
      "/Users/OGN/1Projects/ZBrain2/app/assets/images/0-Lines/MH_19322-Gal4\n",
      "/Users/OGN/1Projects/ZBrain2/app/assets/images/0-Lines/MH_19322-Gal4\n",
      "/Users/OGN/1Projects/ZBrain2/app/assets/images/0-Lines/MH_19322-Gal4\n",
      "22 /Users/OGN/1Projects/ZBrain2/app/assets/images/3-ColorChannels/MH_19566-Gal4/\n",
      "/Users/OGN/1Projects/ZBrain2/app/assets/images/0-Lines/MH_19566-Gal4\n",
      "/Users/OGN/1Projects/ZBrain2/app/assets/images/0-Lines/MH_19566-Gal4\n",
      "/Users/OGN/1Projects/ZBrain2/app/assets/images/0-Lines/MH_19566-Gal4\n",
      "/Users/OGN/1Projects/ZBrain2/app/assets/images/0-Lines/MH_19566-Gal4\n",
      "23 /Users/OGN/1Projects/ZBrain2/app/assets/images/3-ColorChannels/MH_20360-Gal4/\n",
      "/Users/OGN/1Projects/ZBrain2/app/assets/images/0-Lines/MH_20360-Gal4\n",
      "/Users/OGN/1Projects/ZBrain2/app/assets/images/0-Lines/MH_20360-Gal4\n",
      "/Users/OGN/1Projects/ZBrain2/app/assets/images/0-Lines/MH_20360-Gal4\n",
      "/Users/OGN/1Projects/ZBrain2/app/assets/images/0-Lines/MH_20360-Gal4\n",
      "24 /Users/OGN/1Projects/ZBrain2/app/assets/images/3-ColorChannels/MH_20361-Gal4/\n",
      "/Users/OGN/1Projects/ZBrain2/app/assets/images/0-Lines/MH_20361-Gal4\n",
      "/Users/OGN/1Projects/ZBrain2/app/assets/images/0-Lines/MH_20361-Gal4\n",
      "/Users/OGN/1Projects/ZBrain2/app/assets/images/0-Lines/MH_20361-Gal4\n",
      "/Users/OGN/1Projects/ZBrain2/app/assets/images/0-Lines/MH_20361-Gal4\n",
      "25 /Users/OGN/1Projects/ZBrain2/app/assets/images/3-ColorChannels/MH_20454-Gal4/\n",
      "/Users/OGN/1Projects/ZBrain2/app/assets/images/0-Lines/MH_20454-Gal4\n",
      "/Users/OGN/1Projects/ZBrain2/app/assets/images/0-Lines/MH_20454-Gal4\n",
      "/Users/OGN/1Projects/ZBrain2/app/assets/images/0-Lines/MH_20454-Gal4\n",
      "/Users/OGN/1Projects/ZBrain2/app/assets/images/0-Lines/MH_20454-Gal4\n",
      "26 /Users/OGN/1Projects/ZBrain2/app/assets/images/3-ColorChannels/MH_20552-Gal4/\n",
      "/Users/OGN/1Projects/ZBrain2/app/assets/images/0-Lines/MH_20552-Gal4\n",
      "/Users/OGN/1Projects/ZBrain2/app/assets/images/0-Lines/MH_20552-Gal4\n",
      "/Users/OGN/1Projects/ZBrain2/app/assets/images/0-Lines/MH_20552-Gal4\n",
      "/Users/OGN/1Projects/ZBrain2/app/assets/images/0-Lines/MH_20552-Gal4\n",
      "27 /Users/OGN/1Projects/ZBrain2/app/assets/images/3-ColorChannels/MH_20553-Gal4/\n",
      "/Users/OGN/1Projects/ZBrain2/app/assets/images/0-Lines/MH_20553-Gal4\n",
      "/Users/OGN/1Projects/ZBrain2/app/assets/images/0-Lines/MH_20553-Gal4\n",
      "/Users/OGN/1Projects/ZBrain2/app/assets/images/0-Lines/MH_20553-Gal4\n",
      "/Users/OGN/1Projects/ZBrain2/app/assets/images/0-Lines/MH_20553-Gal4\n",
      "28 /Users/OGN/1Projects/ZBrain2/app/assets/images/3-ColorChannels/MH_20638-Gal4/\n",
      "/Users/OGN/1Projects/ZBrain2/app/assets/images/0-Lines/MH_20638-Gal4\n",
      "/Users/OGN/1Projects/ZBrain2/app/assets/images/0-Lines/MH_20638-Gal4\n",
      "/Users/OGN/1Projects/ZBrain2/app/assets/images/0-Lines/MH_20638-Gal4\n",
      "/Users/OGN/1Projects/ZBrain2/app/assets/images/0-Lines/MH_20638-Gal4\n",
      "29 /Users/OGN/1Projects/ZBrain2/app/assets/images/3-ColorChannels/MH_20639-Gal4/\n",
      "/Users/OGN/1Projects/ZBrain2/app/assets/images/0-Lines/MH_20639-Gal4\n",
      "/Users/OGN/1Projects/ZBrain2/app/assets/images/0-Lines/MH_20639-Gal4\n",
      "/Users/OGN/1Projects/ZBrain2/app/assets/images/0-Lines/MH_20639-Gal4\n",
      "/Users/OGN/1Projects/ZBrain2/app/assets/images/0-Lines/MH_20639-Gal4\n",
      "30 /Users/OGN/1Projects/ZBrain2/app/assets/images/3-ColorChannels/MH_20640-Gal4/\n",
      "/Users/OGN/1Projects/ZBrain2/app/assets/images/0-Lines/MH_20640-Gal4\n",
      "/Users/OGN/1Projects/ZBrain2/app/assets/images/0-Lines/MH_20640-Gal4\n",
      "/Users/OGN/1Projects/ZBrain2/app/assets/images/0-Lines/MH_20640-Gal4\n",
      "/Users/OGN/1Projects/ZBrain2/app/assets/images/0-Lines/MH_20640-Gal4\n",
      "31 /Users/OGN/1Projects/ZBrain2/app/assets/images/3-ColorChannels/MH_20641-Gal4/\n",
      "/Users/OGN/1Projects/ZBrain2/app/assets/images/0-Lines/MH_20641-Gal4\n",
      "/Users/OGN/1Projects/ZBrain2/app/assets/images/0-Lines/MH_20641-Gal4\n",
      "/Users/OGN/1Projects/ZBrain2/app/assets/images/0-Lines/MH_20641-Gal4\n",
      "/Users/OGN/1Projects/ZBrain2/app/assets/images/0-Lines/MH_20641-Gal4\n",
      "32 /Users/OGN/1Projects/ZBrain2/app/assets/images/3-ColorChannels/MH_20642-Gal4/\n",
      "/Users/OGN/1Projects/ZBrain2/app/assets/images/0-Lines/MH_20642-Gal4\n",
      "/Users/OGN/1Projects/ZBrain2/app/assets/images/0-Lines/MH_20642-Gal4\n",
      "/Users/OGN/1Projects/ZBrain2/app/assets/images/0-Lines/MH_20642-Gal4\n",
      "/Users/OGN/1Projects/ZBrain2/app/assets/images/0-Lines/MH_20642-Gal4\n",
      "33 /Users/OGN/1Projects/ZBrain2/app/assets/images/3-ColorChannels/MH_20643-Gal4/\n",
      "/Users/OGN/1Projects/ZBrain2/app/assets/images/0-Lines/MH_20643-Gal4\n",
      "/Users/OGN/1Projects/ZBrain2/app/assets/images/0-Lines/MH_20643-Gal4\n",
      "/Users/OGN/1Projects/ZBrain2/app/assets/images/0-Lines/MH_20643-Gal4\n",
      "/Users/OGN/1Projects/ZBrain2/app/assets/images/0-Lines/MH_20643-Gal4\n",
      "34 /Users/OGN/1Projects/ZBrain2/app/assets/images/3-ColorChannels/MH_20644-Gal4/\n",
      "/Users/OGN/1Projects/ZBrain2/app/assets/images/0-Lines/MH_20644-Gal4\n",
      "/Users/OGN/1Projects/ZBrain2/app/assets/images/0-Lines/MH_20644-Gal4\n",
      "/Users/OGN/1Projects/ZBrain2/app/assets/images/0-Lines/MH_20644-Gal4\n",
      "/Users/OGN/1Projects/ZBrain2/app/assets/images/0-Lines/MH_20644-Gal4\n",
      "35 /Users/OGN/1Projects/ZBrain2/app/assets/images/3-ColorChannels/MH_20646-Gal4/\n",
      "/Users/OGN/1Projects/ZBrain2/app/assets/images/0-Lines/MH_20646-Gal4\n",
      "/Users/OGN/1Projects/ZBrain2/app/assets/images/0-Lines/MH_20646-Gal4\n",
      "/Users/OGN/1Projects/ZBrain2/app/assets/images/0-Lines/MH_20646-Gal4\n",
      "/Users/OGN/1Projects/ZBrain2/app/assets/images/0-Lines/MH_20646-Gal4\n",
      "36 /Users/OGN/1Projects/ZBrain2/app/assets/images/3-ColorChannels/MH_20647-Gal4/\n",
      "/Users/OGN/1Projects/ZBrain2/app/assets/images/0-Lines/MH_20647-Gal4\n",
      "/Users/OGN/1Projects/ZBrain2/app/assets/images/0-Lines/MH_20647-Gal4\n",
      "/Users/OGN/1Projects/ZBrain2/app/assets/images/0-Lines/MH_20647-Gal4\n",
      "/Users/OGN/1Projects/ZBrain2/app/assets/images/0-Lines/MH_20647-Gal4\n",
      "37 /Users/OGN/1Projects/ZBrain2/app/assets/images/3-ColorChannels/MH_20648-Gal4/\n",
      "/Users/OGN/1Projects/ZBrain2/app/assets/images/0-Lines/MH_20648-Gal4\n",
      "/Users/OGN/1Projects/ZBrain2/app/assets/images/0-Lines/MH_20648-Gal4\n",
      "/Users/OGN/1Projects/ZBrain2/app/assets/images/0-Lines/MH_20648-Gal4\n",
      "/Users/OGN/1Projects/ZBrain2/app/assets/images/0-Lines/MH_20648-Gal4\n",
      "38 /Users/OGN/1Projects/ZBrain2/app/assets/images/3-ColorChannels/MH_20649-Gal4/\n",
      "/Users/OGN/1Projects/ZBrain2/app/assets/images/0-Lines/MH_20649-Gal4\n",
      "/Users/OGN/1Projects/ZBrain2/app/assets/images/0-Lines/MH_20649-Gal4\n",
      "/Users/OGN/1Projects/ZBrain2/app/assets/images/0-Lines/MH_20649-Gal4\n",
      "/Users/OGN/1Projects/ZBrain2/app/assets/images/0-Lines/MH_20649-Gal4\n",
      "39 /Users/OGN/1Projects/ZBrain2/app/assets/images/3-ColorChannels/MH_20652-Gal4/\n",
      "/Users/OGN/1Projects/ZBrain2/app/assets/images/0-Lines/MH_20652-Gal4\n",
      "/Users/OGN/1Projects/ZBrain2/app/assets/images/0-Lines/MH_20652-Gal4\n",
      "/Users/OGN/1Projects/ZBrain2/app/assets/images/0-Lines/MH_20652-Gal4\n",
      "/Users/OGN/1Projects/ZBrain2/app/assets/images/0-Lines/MH_20652-Gal4\n",
      "40 /Users/OGN/1Projects/ZBrain2/app/assets/images/3-ColorChannels/MH_20653-Gal4/\n",
      "/Users/OGN/1Projects/ZBrain2/app/assets/images/0-Lines/MH_20653-Gal4\n",
      "/Users/OGN/1Projects/ZBrain2/app/assets/images/0-Lines/MH_20653-Gal4\n",
      "/Users/OGN/1Projects/ZBrain2/app/assets/images/0-Lines/MH_20653-Gal4\n",
      "/Users/OGN/1Projects/ZBrain2/app/assets/images/0-Lines/MH_20653-Gal4\n",
      "41 /Users/OGN/1Projects/ZBrain2/app/assets/images/3-ColorChannels/MH_20654-Gal4/\n",
      "/Users/OGN/1Projects/ZBrain2/app/assets/images/0-Lines/MH_20654-Gal4\n",
      "/Users/OGN/1Projects/ZBrain2/app/assets/images/0-Lines/MH_20654-Gal4\n",
      "/Users/OGN/1Projects/ZBrain2/app/assets/images/0-Lines/MH_20654-Gal4\n",
      "/Users/OGN/1Projects/ZBrain2/app/assets/images/0-Lines/MH_20654-Gal4\n",
      "42 /Users/OGN/1Projects/ZBrain2/app/assets/images/3-ColorChannels/MH_20655-Gal4/\n",
      "/Users/OGN/1Projects/ZBrain2/app/assets/images/0-Lines/MH_20655-Gal4\n",
      "/Users/OGN/1Projects/ZBrain2/app/assets/images/0-Lines/MH_20655-Gal4\n",
      "/Users/OGN/1Projects/ZBrain2/app/assets/images/0-Lines/MH_20655-Gal4\n",
      "/Users/OGN/1Projects/ZBrain2/app/assets/images/0-Lines/MH_20655-Gal4\n",
      "43 /Users/OGN/1Projects/ZBrain2/app/assets/images/3-ColorChannels/MH_20660-Gal4/\n",
      "/Users/OGN/1Projects/ZBrain2/app/assets/images/0-Lines/MH_20660-Gal4\n",
      "/Users/OGN/1Projects/ZBrain2/app/assets/images/0-Lines/MH_20660-Gal4\n",
      "/Users/OGN/1Projects/ZBrain2/app/assets/images/0-Lines/MH_20660-Gal4\n",
      "/Users/OGN/1Projects/ZBrain2/app/assets/images/0-Lines/MH_20660-Gal4\n",
      "44 /Users/OGN/1Projects/ZBrain2/app/assets/images/3-ColorChannels/MH_20661-Gal4/\n",
      "/Users/OGN/1Projects/ZBrain2/app/assets/images/0-Lines/MH_20661-Gal4\n",
      "/Users/OGN/1Projects/ZBrain2/app/assets/images/0-Lines/MH_20661-Gal4\n",
      "/Users/OGN/1Projects/ZBrain2/app/assets/images/0-Lines/MH_20661-Gal4\n",
      "/Users/OGN/1Projects/ZBrain2/app/assets/images/0-Lines/MH_20661-Gal4\n",
      "45 /Users/OGN/1Projects/ZBrain2/app/assets/images/3-ColorChannels/MH_20663-Gal4/\n",
      "/Users/OGN/1Projects/ZBrain2/app/assets/images/0-Lines/MH_20663-Gal4\n",
      "/Users/OGN/1Projects/ZBrain2/app/assets/images/0-Lines/MH_20663-Gal4\n",
      "/Users/OGN/1Projects/ZBrain2/app/assets/images/0-Lines/MH_20663-Gal4\n",
      "/Users/OGN/1Projects/ZBrain2/app/assets/images/0-Lines/MH_20663-Gal4\n",
      "46 /Users/OGN/1Projects/ZBrain2/app/assets/images/3-ColorChannels/MH_20940-Gal4/\n",
      "/Users/OGN/1Projects/ZBrain2/app/assets/images/0-Lines/MH_20940-Gal4\n",
      "/Users/OGN/1Projects/ZBrain2/app/assets/images/0-Lines/MH_20940-Gal4\n",
      "/Users/OGN/1Projects/ZBrain2/app/assets/images/0-Lines/MH_20940-Gal4\n",
      "/Users/OGN/1Projects/ZBrain2/app/assets/images/0-Lines/MH_20940-Gal4\n",
      "47 /Users/OGN/1Projects/ZBrain2/app/assets/images/3-ColorChannels/MH_20941-Gal4/\n",
      "/Users/OGN/1Projects/ZBrain2/app/assets/images/0-Lines/MH_20941-Gal4\n",
      "/Users/OGN/1Projects/ZBrain2/app/assets/images/0-Lines/MH_20941-Gal4\n",
      "/Users/OGN/1Projects/ZBrain2/app/assets/images/0-Lines/MH_20941-Gal4\n",
      "/Users/OGN/1Projects/ZBrain2/app/assets/images/0-Lines/MH_20941-Gal4\n"
     ]
    }
   ],
   "source": [
    "new_stacks = [s for s in stacks if 'MH_' in s]\n",
    "for i, stack in enumerate(new_stacks):\n",
    "    src = \"/Users/OGN/1Projects/ZBrain2/app/assets/images/0-Lines/%s/\" % stack\n",
    "    base = \"/Users/OGN/1Projects/ZBrain2/app/assets/images/3-ColorChannels/%s/\" % stack\n",
    "\n",
    "    os.chdir(src)\n",
    "    print(i, base)\n",
    "    for color in colors:\n",
    "        dest = base + color\n",
    "        cwd = os.getcwd()\n",
    "        print(cwd)\n",
    "        try:\n",
    "            subprocess.check_output([\"mogrify\", \"-path\", dest, \"-format\", \"png\", \"+level-colors\", \"black,%s\"%color, \"-fuzz\", \"9%\", \"-transparent\", \"black\", \"*.jpg\"], stderr=subprocess.STDOUT)\n",
    "        except subprocess.CalledProcessError as err:\n",
    "            print(err.output)\n"
   ]
  },
  {
   "cell_type": "code",
   "execution_count": 31,
   "metadata": {
    "collapsed": true
   },
   "outputs": [],
   "source": [
    "# prepare postgreSQL table\n",
    "\n",
    "create_table_command = (\n",
    "\"\"\"\n",
    "    DROP TABLE colorchannels;\n",
    "    CREATE TABLE colorChannels (\n",
    "        channel_id SERIAL PRIMARY KEY,\n",
    "        channel_color TEXT NOT NULL,\n",
    "        channel_name TEXT NOT NULL,\n",
    "        channel_image_path TEXT NOT NULL\n",
    "    );\n",
    "\"\"\")"
   ]
  },
  {
   "cell_type": "code",
   "execution_count": 32,
   "metadata": {
    "collapsed": true
   },
   "outputs": [],
   "source": [
    "# connect to zbrain2db postgreSQL database\n",
    "\n",
    "conn = psycopg2.connect(dbname='zbrain2db', user='gqe', host='localhost', password='')\n",
    "cursor = conn.cursor()"
   ]
  },
  {
   "cell_type": "code",
   "execution_count": 33,
   "metadata": {
    "collapsed": false
   },
   "outputs": [],
   "source": [
    "# create table colorChannels\n",
    "\n",
    "try:\n",
    "    cursor.execute(create_table_command)\n",
    "    cursor.close()\n",
    "    conn.commit()\n",
    "except (Exception, psycopg2.DatabaseError) as error:\n",
    "    print(error)\n",
    "finally:\n",
    "    if conn is not None:\n",
    "        conn.close()"
   ]
  },
  {
   "cell_type": "code",
   "execution_count": 34,
   "metadata": {
    "collapsed": false
   },
   "outputs": [],
   "source": [
    "from natsort import natsorted"
   ]
  },
  {
   "cell_type": "code",
   "execution_count": 35,
   "metadata": {
    "collapsed": false,
    "scrolled": true
   },
   "outputs": [
    {
     "name": "stdout",
     "output_type": "stream",
     "text": [
      "['6.7FRhcrtR-Gal4-uasKaede', 'Anti-5HT', 'Anti-Gad67', 'Anti-GlyR', 'Anti-TH', 'Anti-Zn1', 'Anti-Zn12(Hnk-1)', 'Anti-Znp1(Synaptotagmin2)', 'Anti-Zrf1(GFAP)', 'Anti-Zrf2', 'Anti-tERK', 'Elavl3-GCaMP5G', 'Elavl3-H2BRFP', 'EtVmat2-GFP', 'Gad1b-GFP', 'Glyt2-GFP', 'Hcrt-RFP', 'Isl1-GFP', 'Isl2bGal4-uasDendra', 'MH_13319-Gal4', 'MH_15576-Gal4', 'MH_16659-Gal4', 'MH_16715-Gal4', 'MH_16913-Gal4', 'MH_16914-Gal4', 'MH_16915-Gal4', 'MH_16916-Gal4', 'MH_16946-Gal4', 'MH_17056-Gal4', 'MH_17767-Gal4', 'MH_17768-Gal4', 'MH_17776-Gal4', 'MH_17777-Gal4', 'MH_17787-Gal4', 'MH_17845-Gal4', 'MH_17846-Gal4', 'MH_18107-Gal4', 'MH_18108-Gal4', 'MH_18327-Gal4', 'MH_18329-Gal4', 'MH_19322-Gal4', 'MH_19566-Gal4', 'MH_20360-Gal4', 'MH_20361-Gal4', 'MH_20454-Gal4', 'MH_20552-Gal4', 'MH_20553-Gal4', 'MH_20638-Gal4', 'MH_20639-Gal4', 'MH_20640-Gal4', 'MH_20641-Gal4', 'MH_20642-Gal4', 'MH_20643-Gal4', 'MH_20644-Gal4', 'MH_20646-Gal4', 'MH_20647-Gal4', 'MH_20648-Gal4', 'MH_20649-Gal4', 'MH_20652-Gal4', 'MH_20653-Gal4', 'MH_20654-Gal4', 'MH_20655-Gal4', 'MH_20660-Gal4', 'MH_20661-Gal4', 'MH_20663-Gal4', 'MH_20940-Gal4', 'MH_20941-Gal4', 'Olig2-GFP', 'Otpb.A-Gal4-UAS-GCaMP', 'Otpb.A-Nsfb-GFP', 'Oxtl-GFP', 'Pet1-GFP', 'Ptf1aGal4-uasKaede', 'Qrfp-GFP', 'S1181tGal4-uasKaede', 'SpinalBackfills', 'Vglut2a-GFP', 'ZBB_HuC-Cer', 'ZBB_ath5-GFP', 'ZBB_bActin-GFP', 'ZBB_chx10-gal4', 'ZBB_dat-GFP', 'ZBB_dbh-Gal4', 'ZBB_eng1b-Gal4', 'ZBB_evx2-Gal4', 'ZBB_flk-GFP', 'ZBB_gad1b-GFP', 'ZBB_gfap-GFP', 'ZBB_glyt2-GFP', 'ZBB_gsx1-GFP', 'ZBB_isl2b-GFP', 'ZBB_j1229-GFP', 'ZBB_pet1-GFP', 'ZBB_phox2b-GFP', 'ZBB_shox2-Gal4', 'ZBB_tph2-Gal4', 'ZBB_vglut-DsRed', 'ZBB_y234-Gal4', 'ZBB_y236-Gal4', 'ZBB_y237-Gal4', 'ZBB_y240-Gal4', 'ZBB_y241-Gal4', 'ZBB_y244-Gal4', 'ZBB_y245-Gal4', 'ZBB_y249-Gal4', 'ZBB_y252-Gal4', 'ZBB_y255-Gal4', 'ZBB_y256-Gal4', 'ZBB_y264-Gal4', 'ZBB_y269-Gal4', 'ZBB_y270-Gal4', 'ZBB_y275-Gal4', 'ZBB_y279-Gal4', 'ZBB_y293-Gal4', 'ZBB_y294-Gal4', 'ZBB_y295-Gal4', 'ZBB_y296-Gal4', 'ZBB_y297-Gal4', 'ZBB_y298-Gal4', 'ZBB_y299-Gal4', 'ZBB_y300-Gal4', 'ZBB_y301-Gal4', 'ZBB_y302-Gal4', 'ZBB_y303-Gal4', 'ZBB_y304-Gal4', 'ZBB_y305-Gal4', 'ZBB_y306-Gal4', 'ZBB_y307-Gal4', 'ZBB_y308-Gal4', 'ZBB_y309-Gal4', 'ZBB_y310-Gal4', 'ZBB_y311-Gal4', 'ZBB_y312-Gal4', 'ZBB_y313-Gal4', 'ZBB_y314-Gal4', 'ZBB_y315-Gal4', 'ZBB_y316-Gal4', 'ZBB_y317-Gal4', 'ZBB_y318-Gal4', 'ZBB_y319-Gal4', 'ZBB_y320-Gal4', 'ZBB_y321-Gal4', 'ZBB_y322-Gal4', 'ZBB_y323-Gal4', 'ZBB_y324-Gal4', 'ZBB_y325-Gal4', 'ZBB_y326-Gal4', 'ZBB_y327-Gal4', 'ZBB_y328-Gal4', 'ZBB_y329-Gal4', 'ZBB_y330-Gal4', 'ZBB_y331-Gal4', 'ZBB_y332-Gal4', 'ZBB_y333-Gal4', 'ZBB_y334-Gal4', 'ZBB_y336-Gal4', 'ZBB_y337-Gal4', 'ZBB_y338-Gal4', 'ZBB_y339-Gal4', 'ZBB_y341-Gal4', 'ZBB_y342-Gal4', 'ZBB_y345-Gal4', 'ZBB_y347-Gal4', 'ZBB_y351-Gal4', 'ZBB_y352-Gal4', 'ZBB_y353-Gal4', 'ZBB_y354-Gal4', 'ZBB_y355-Gal4', 'ZBB_y356-Gal4', 'ZBB_y357-Gal4', 'ZBB_y358-Gal4', 'ZBB_y359-Gal4', 'ZBB_y364-Gal4', 'ZBB_y365-Gal4', 'ZBB_y371-Cre', 'ZBB_y372-Gal4', 'ZBB_y373-Gal4', 'ZBB_y375-Gal4', 'ZBB_y378-Cre', 'ZBB_y379-Cre', 'ZBB_y380-Cre', 'ZBB_y381-Cre', 'ZBB_y382-Cre', 'ZBB_y383-Cre', 'ZBB_y384-Cre', 'ZBB_y385-Cre']\n"
     ]
    }
   ],
   "source": [
    "channel_folder = \"/Users/OGN/1Projects/ZBrain2/app/assets/images/3-ColorChannels/\"\n",
    "stack_folder = \"/Users/OGN/1Projects/ZBrain2/app/assets/images/0-Lines/\" # stacks temporarily stored in folder (0-Lines)\n",
    "stacks = sorted([d for d in os.listdir(stack_folder) if not d.startswith('.')])\n",
    "print(stacks)"
   ]
  },
  {
   "cell_type": "code",
   "execution_count": 37,
   "metadata": {
    "collapsed": false
   },
   "outputs": [],
   "source": [
    "# create array of table insert commands for each color channel image\n",
    "\n",
    "def create_insert_commands(stacks):\n",
    "    channel_id = 0\n",
    "    for stack in stacks:\n",
    "        src = \"/Users/OGN/1Projects/ZBrain2/app/assets/images/0-Lines/%s/\" % stack\n",
    "        base = \"/Users/OGN/1Projects/ZBrain2/app/assets/images/3-ColorChannels/%s/\" % stack\n",
    "        rel = \"images/3-ColorChannels/%s/\" % stack\n",
    "    \n",
    "        colors = ['red', 'blue', 'green', 'cyan']\n",
    "        for color in colors:\n",
    "            channel_folder = base + color\n",
    "            channels = os.listdir(channel_folder)\n",
    "            channels = [ \"%s%s/%s\" % (rel, color, channel) for channel in channels]\n",
    "            channels = natsorted(channels)\n",
    "            for channel_image_path in channels:\n",
    "                insert_command = (\"INSERT INTO colorChannels (channel_id, channel_color, channel_name, channel_image_path) values (%i, '%s', '%s', '%s')\" \n",
    "                                 % (channel_id, color, stack, channel_image_path))\n",
    "                channel_id += 1\n",
    "                yield insert_command\n",
    "insert_commands = create_insert_commands(stacks)"
   ]
  },
  {
   "cell_type": "code",
   "execution_count": 39,
   "metadata": {
    "collapsed": false
   },
   "outputs": [],
   "source": [
    "# use insert command array to create table entries for each color channel image\n",
    "\n",
    "conn = psycopg2.connect(dbname='zbrain2db', user='gqe', host='localhost', password='')\n",
    "cursor = conn.cursor()\n",
    "\n",
    "for insert_command in insert_commands:\n",
    "    try:\n",
    "        cursor.execute(insert_command)\n",
    "    except Exception as e:\n",
    "        print(e)\n",
    "        \n",
    "cursor.close()\n",
    "conn.commit()"
   ]
  },
  {
   "cell_type": "code",
   "execution_count": 43,
   "metadata": {
    "collapsed": false
   },
   "outputs": [
    {
     "name": "stdout",
     "output_type": "stream",
     "text": [
      "(14000, 'blue', 'MH_16915-Gal4', 'images/3-ColorChannels/MH_16915-Gal4/blue/MH_16915-Gal4-60.png')\n",
      "(14001, 'blue', 'MH_16915-Gal4', 'images/3-ColorChannels/MH_16915-Gal4/blue/MH_16915-Gal4-61.png')\n",
      "(14002, 'blue', 'MH_16915-Gal4', 'images/3-ColorChannels/MH_16915-Gal4/blue/MH_16915-Gal4-62.png')\n",
      "(14003, 'blue', 'MH_16915-Gal4', 'images/3-ColorChannels/MH_16915-Gal4/blue/MH_16915-Gal4-63.png')\n",
      "(14004, 'blue', 'MH_16915-Gal4', 'images/3-ColorChannels/MH_16915-Gal4/blue/MH_16915-Gal4-64.png')\n",
      "(14005, 'blue', 'MH_16915-Gal4', 'images/3-ColorChannels/MH_16915-Gal4/blue/MH_16915-Gal4-65.png')\n",
      "(14006, 'blue', 'MH_16915-Gal4', 'images/3-ColorChannels/MH_16915-Gal4/blue/MH_16915-Gal4-66.png')\n",
      "(14007, 'blue', 'MH_16915-Gal4', 'images/3-ColorChannels/MH_16915-Gal4/blue/MH_16915-Gal4-67.png')\n",
      "(14008, 'blue', 'MH_16915-Gal4', 'images/3-ColorChannels/MH_16915-Gal4/blue/MH_16915-Gal4-68.png')\n",
      "(14009, 'blue', 'MH_16915-Gal4', 'images/3-ColorChannels/MH_16915-Gal4/blue/MH_16915-Gal4-69.png')\n",
      "(14010, 'blue', 'MH_16915-Gal4', 'images/3-ColorChannels/MH_16915-Gal4/blue/MH_16915-Gal4-70.png')\n",
      "(14011, 'blue', 'MH_16915-Gal4', 'images/3-ColorChannels/MH_16915-Gal4/blue/MH_16915-Gal4-71.png')\n",
      "(14012, 'blue', 'MH_16915-Gal4', 'images/3-ColorChannels/MH_16915-Gal4/blue/MH_16915-Gal4-72.png')\n",
      "(14013, 'blue', 'MH_16915-Gal4', 'images/3-ColorChannels/MH_16915-Gal4/blue/MH_16915-Gal4-73.png')\n",
      "(14014, 'blue', 'MH_16915-Gal4', 'images/3-ColorChannels/MH_16915-Gal4/blue/MH_16915-Gal4-74.png')\n",
      "(14015, 'blue', 'MH_16915-Gal4', 'images/3-ColorChannels/MH_16915-Gal4/blue/MH_16915-Gal4-75.png')\n",
      "(14016, 'blue', 'MH_16915-Gal4', 'images/3-ColorChannels/MH_16915-Gal4/blue/MH_16915-Gal4-76.png')\n",
      "(14017, 'blue', 'MH_16915-Gal4', 'images/3-ColorChannels/MH_16915-Gal4/blue/MH_16915-Gal4-77.png')\n",
      "(14018, 'blue', 'MH_16915-Gal4', 'images/3-ColorChannels/MH_16915-Gal4/blue/MH_16915-Gal4-78.png')\n",
      "(14019, 'blue', 'MH_16915-Gal4', 'images/3-ColorChannels/MH_16915-Gal4/blue/MH_16915-Gal4-79.png')\n",
      "(14020, 'blue', 'MH_16915-Gal4', 'images/3-ColorChannels/MH_16915-Gal4/blue/MH_16915-Gal4-80.png')\n",
      "(14021, 'blue', 'MH_16915-Gal4', 'images/3-ColorChannels/MH_16915-Gal4/blue/MH_16915-Gal4-81.png')\n",
      "(14022, 'blue', 'MH_16915-Gal4', 'images/3-ColorChannels/MH_16915-Gal4/blue/MH_16915-Gal4-82.png')\n",
      "(14023, 'blue', 'MH_16915-Gal4', 'images/3-ColorChannels/MH_16915-Gal4/blue/MH_16915-Gal4-83.png')\n",
      "(14024, 'blue', 'MH_16915-Gal4', 'images/3-ColorChannels/MH_16915-Gal4/blue/MH_16915-Gal4-84.png')\n",
      "(14025, 'blue', 'MH_16915-Gal4', 'images/3-ColorChannels/MH_16915-Gal4/blue/MH_16915-Gal4-85.png')\n",
      "(14026, 'blue', 'MH_16915-Gal4', 'images/3-ColorChannels/MH_16915-Gal4/blue/MH_16915-Gal4-86.png')\n",
      "(14027, 'blue', 'MH_16915-Gal4', 'images/3-ColorChannels/MH_16915-Gal4/blue/MH_16915-Gal4-87.png')\n",
      "(14028, 'blue', 'MH_16915-Gal4', 'images/3-ColorChannels/MH_16915-Gal4/blue/MH_16915-Gal4-88.png')\n",
      "(14029, 'blue', 'MH_16915-Gal4', 'images/3-ColorChannels/MH_16915-Gal4/blue/MH_16915-Gal4-89.png')\n",
      "(14030, 'blue', 'MH_16915-Gal4', 'images/3-ColorChannels/MH_16915-Gal4/blue/MH_16915-Gal4-90.png')\n",
      "(14031, 'blue', 'MH_16915-Gal4', 'images/3-ColorChannels/MH_16915-Gal4/blue/MH_16915-Gal4-91.png')\n",
      "(14032, 'blue', 'MH_16915-Gal4', 'images/3-ColorChannels/MH_16915-Gal4/blue/MH_16915-Gal4-92.png')\n",
      "(14033, 'blue', 'MH_16915-Gal4', 'images/3-ColorChannels/MH_16915-Gal4/blue/MH_16915-Gal4-93.png')\n",
      "(14034, 'blue', 'MH_16915-Gal4', 'images/3-ColorChannels/MH_16915-Gal4/blue/MH_16915-Gal4-94.png')\n",
      "(14035, 'blue', 'MH_16915-Gal4', 'images/3-ColorChannels/MH_16915-Gal4/blue/MH_16915-Gal4-95.png')\n",
      "(14036, 'blue', 'MH_16915-Gal4', 'images/3-ColorChannels/MH_16915-Gal4/blue/MH_16915-Gal4-96.png')\n",
      "(14037, 'blue', 'MH_16915-Gal4', 'images/3-ColorChannels/MH_16915-Gal4/blue/MH_16915-Gal4-97.png')\n",
      "(14038, 'blue', 'MH_16915-Gal4', 'images/3-ColorChannels/MH_16915-Gal4/blue/MH_16915-Gal4-98.png')\n",
      "(14039, 'blue', 'MH_16915-Gal4', 'images/3-ColorChannels/MH_16915-Gal4/blue/MH_16915-Gal4-99.png')\n",
      "(14040, 'blue', 'MH_16915-Gal4', 'images/3-ColorChannels/MH_16915-Gal4/blue/MH_16915-Gal4-100.png')\n",
      "(14041, 'blue', 'MH_16915-Gal4', 'images/3-ColorChannels/MH_16915-Gal4/blue/MH_16915-Gal4-101.png')\n",
      "(14042, 'blue', 'MH_16915-Gal4', 'images/3-ColorChannels/MH_16915-Gal4/blue/MH_16915-Gal4-102.png')\n",
      "(14043, 'blue', 'MH_16915-Gal4', 'images/3-ColorChannels/MH_16915-Gal4/blue/MH_16915-Gal4-103.png')\n",
      "(14044, 'blue', 'MH_16915-Gal4', 'images/3-ColorChannels/MH_16915-Gal4/blue/MH_16915-Gal4-104.png')\n",
      "(14045, 'blue', 'MH_16915-Gal4', 'images/3-ColorChannels/MH_16915-Gal4/blue/MH_16915-Gal4-105.png')\n",
      "(14046, 'blue', 'MH_16915-Gal4', 'images/3-ColorChannels/MH_16915-Gal4/blue/MH_16915-Gal4-106.png')\n",
      "(14047, 'blue', 'MH_16915-Gal4', 'images/3-ColorChannels/MH_16915-Gal4/blue/MH_16915-Gal4-107.png')\n",
      "(14048, 'blue', 'MH_16915-Gal4', 'images/3-ColorChannels/MH_16915-Gal4/blue/MH_16915-Gal4-108.png')\n",
      "(14049, 'blue', 'MH_16915-Gal4', 'images/3-ColorChannels/MH_16915-Gal4/blue/MH_16915-Gal4-109.png')\n",
      "(14050, 'blue', 'MH_16915-Gal4', 'images/3-ColorChannels/MH_16915-Gal4/blue/MH_16915-Gal4-110.png')\n",
      "(14051, 'blue', 'MH_16915-Gal4', 'images/3-ColorChannels/MH_16915-Gal4/blue/MH_16915-Gal4-111.png')\n",
      "(14052, 'blue', 'MH_16915-Gal4', 'images/3-ColorChannels/MH_16915-Gal4/blue/MH_16915-Gal4-112.png')\n",
      "(14053, 'blue', 'MH_16915-Gal4', 'images/3-ColorChannels/MH_16915-Gal4/blue/MH_16915-Gal4-113.png')\n",
      "(14054, 'blue', 'MH_16915-Gal4', 'images/3-ColorChannels/MH_16915-Gal4/blue/MH_16915-Gal4-114.png')\n",
      "(14055, 'blue', 'MH_16915-Gal4', 'images/3-ColorChannels/MH_16915-Gal4/blue/MH_16915-Gal4-115.png')\n",
      "(14056, 'blue', 'MH_16915-Gal4', 'images/3-ColorChannels/MH_16915-Gal4/blue/MH_16915-Gal4-116.png')\n",
      "(14057, 'blue', 'MH_16915-Gal4', 'images/3-ColorChannels/MH_16915-Gal4/blue/MH_16915-Gal4-117.png')\n",
      "(14058, 'blue', 'MH_16915-Gal4', 'images/3-ColorChannels/MH_16915-Gal4/blue/MH_16915-Gal4-118.png')\n",
      "(14059, 'blue', 'MH_16915-Gal4', 'images/3-ColorChannels/MH_16915-Gal4/blue/MH_16915-Gal4-119.png')\n",
      "(14060, 'blue', 'MH_16915-Gal4', 'images/3-ColorChannels/MH_16915-Gal4/blue/MH_16915-Gal4-120.png')\n",
      "(14061, 'blue', 'MH_16915-Gal4', 'images/3-ColorChannels/MH_16915-Gal4/blue/MH_16915-Gal4-121.png')\n",
      "(14062, 'blue', 'MH_16915-Gal4', 'images/3-ColorChannels/MH_16915-Gal4/blue/MH_16915-Gal4-122.png')\n",
      "(14063, 'blue', 'MH_16915-Gal4', 'images/3-ColorChannels/MH_16915-Gal4/blue/MH_16915-Gal4-123.png')\n",
      "(14064, 'blue', 'MH_16915-Gal4', 'images/3-ColorChannels/MH_16915-Gal4/blue/MH_16915-Gal4-124.png')\n",
      "(14065, 'blue', 'MH_16915-Gal4', 'images/3-ColorChannels/MH_16915-Gal4/blue/MH_16915-Gal4-125.png')\n",
      "(14066, 'blue', 'MH_16915-Gal4', 'images/3-ColorChannels/MH_16915-Gal4/blue/MH_16915-Gal4-126.png')\n",
      "(14067, 'blue', 'MH_16915-Gal4', 'images/3-ColorChannels/MH_16915-Gal4/blue/MH_16915-Gal4-127.png')\n",
      "(14068, 'blue', 'MH_16915-Gal4', 'images/3-ColorChannels/MH_16915-Gal4/blue/MH_16915-Gal4-128.png')\n",
      "(14069, 'blue', 'MH_16915-Gal4', 'images/3-ColorChannels/MH_16915-Gal4/blue/MH_16915-Gal4-129.png')\n",
      "(14070, 'blue', 'MH_16915-Gal4', 'images/3-ColorChannels/MH_16915-Gal4/blue/MH_16915-Gal4-130.png')\n",
      "(14071, 'blue', 'MH_16915-Gal4', 'images/3-ColorChannels/MH_16915-Gal4/blue/MH_16915-Gal4-131.png')\n",
      "(14072, 'blue', 'MH_16915-Gal4', 'images/3-ColorChannels/MH_16915-Gal4/blue/MH_16915-Gal4-132.png')\n",
      "(14073, 'blue', 'MH_16915-Gal4', 'images/3-ColorChannels/MH_16915-Gal4/blue/MH_16915-Gal4-133.png')\n",
      "(14074, 'blue', 'MH_16915-Gal4', 'images/3-ColorChannels/MH_16915-Gal4/blue/MH_16915-Gal4-134.png')\n",
      "(14075, 'blue', 'MH_16915-Gal4', 'images/3-ColorChannels/MH_16915-Gal4/blue/MH_16915-Gal4-135.png')\n",
      "(14076, 'blue', 'MH_16915-Gal4', 'images/3-ColorChannels/MH_16915-Gal4/blue/MH_16915-Gal4-136.png')\n",
      "(14077, 'blue', 'MH_16915-Gal4', 'images/3-ColorChannels/MH_16915-Gal4/blue/MH_16915-Gal4-137.png')\n",
      "(14078, 'green', 'MH_16915-Gal4', 'images/3-ColorChannels/MH_16915-Gal4/green/MH_16915-Gal4-0.png')\n",
      "(14079, 'green', 'MH_16915-Gal4', 'images/3-ColorChannels/MH_16915-Gal4/green/MH_16915-Gal4-1.png')\n",
      "(14080, 'green', 'MH_16915-Gal4', 'images/3-ColorChannels/MH_16915-Gal4/green/MH_16915-Gal4-2.png')\n",
      "(14081, 'green', 'MH_16915-Gal4', 'images/3-ColorChannels/MH_16915-Gal4/green/MH_16915-Gal4-3.png')\n",
      "(14082, 'green', 'MH_16915-Gal4', 'images/3-ColorChannels/MH_16915-Gal4/green/MH_16915-Gal4-4.png')\n",
      "(14083, 'green', 'MH_16915-Gal4', 'images/3-ColorChannels/MH_16915-Gal4/green/MH_16915-Gal4-5.png')\n",
      "(14084, 'green', 'MH_16915-Gal4', 'images/3-ColorChannels/MH_16915-Gal4/green/MH_16915-Gal4-6.png')\n",
      "(14085, 'green', 'MH_16915-Gal4', 'images/3-ColorChannels/MH_16915-Gal4/green/MH_16915-Gal4-7.png')\n",
      "(14086, 'green', 'MH_16915-Gal4', 'images/3-ColorChannels/MH_16915-Gal4/green/MH_16915-Gal4-8.png')\n",
      "(14087, 'green', 'MH_16915-Gal4', 'images/3-ColorChannels/MH_16915-Gal4/green/MH_16915-Gal4-9.png')\n",
      "(14088, 'green', 'MH_16915-Gal4', 'images/3-ColorChannels/MH_16915-Gal4/green/MH_16915-Gal4-10.png')\n",
      "(14089, 'green', 'MH_16915-Gal4', 'images/3-ColorChannels/MH_16915-Gal4/green/MH_16915-Gal4-11.png')\n",
      "(14090, 'green', 'MH_16915-Gal4', 'images/3-ColorChannels/MH_16915-Gal4/green/MH_16915-Gal4-12.png')\n",
      "(14091, 'green', 'MH_16915-Gal4', 'images/3-ColorChannels/MH_16915-Gal4/green/MH_16915-Gal4-13.png')\n",
      "(14092, 'green', 'MH_16915-Gal4', 'images/3-ColorChannels/MH_16915-Gal4/green/MH_16915-Gal4-14.png')\n",
      "(14093, 'green', 'MH_16915-Gal4', 'images/3-ColorChannels/MH_16915-Gal4/green/MH_16915-Gal4-15.png')\n",
      "(14094, 'green', 'MH_16915-Gal4', 'images/3-ColorChannels/MH_16915-Gal4/green/MH_16915-Gal4-16.png')\n",
      "(14095, 'green', 'MH_16915-Gal4', 'images/3-ColorChannels/MH_16915-Gal4/green/MH_16915-Gal4-17.png')\n",
      "(14096, 'green', 'MH_16915-Gal4', 'images/3-ColorChannels/MH_16915-Gal4/green/MH_16915-Gal4-18.png')\n",
      "(14097, 'green', 'MH_16915-Gal4', 'images/3-ColorChannels/MH_16915-Gal4/green/MH_16915-Gal4-19.png')\n",
      "(14098, 'green', 'MH_16915-Gal4', 'images/3-ColorChannels/MH_16915-Gal4/green/MH_16915-Gal4-20.png')\n",
      "(14099, 'green', 'MH_16915-Gal4', 'images/3-ColorChannels/MH_16915-Gal4/green/MH_16915-Gal4-21.png')\n"
     ]
    }
   ],
   "source": [
    "conn = psycopg2.connect(dbname='zbrain2db', user='gqe', host='localhost', password='')\n",
    "cursor = conn.cursor()\n",
    "cursor.execute('SELECT * FROM colorChannels ORDER BY channel_id')\n",
    "\n",
    "rows = cursor.fetchall()\n",
    "for row in rows[14000:14100]:\n",
    "    print(row)"
   ]
  },
  {
   "cell_type": "code",
   "execution_count": null,
   "metadata": {
    "collapsed": true
   },
   "outputs": [],
   "source": []
  }
 ],
 "metadata": {
  "anaconda-cloud": {},
  "kernelspec": {
   "display_name": "Python [conda env:py36]",
   "language": "python",
   "name": "conda-env-py36-py"
  },
  "language_info": {
   "codemirror_mode": {
    "name": "ipython",
    "version": 3
   },
   "file_extension": ".py",
   "mimetype": "text/x-python",
   "name": "python",
   "nbconvert_exporter": "python",
   "pygments_lexer": "ipython3",
   "version": "3.6.3"
  }
 },
 "nbformat": 4,
 "nbformat_minor": 1
}
