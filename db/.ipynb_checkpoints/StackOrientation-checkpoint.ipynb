{
 "cells": [
  {
   "cell_type": "code",
   "execution_count": 7,
   "metadata": {
    "collapsed": false
   },
   "outputs": [
    {
     "name": "stderr",
     "output_type": "stream",
     "text": [
      "/Users/OGN/anaconda/envs/py36/lib/python3.6/site-packages/matplotlib/font_manager.py:279: UserWarning: Matplotlib is building the font cache using fc-list. This may take a moment.\n",
      "  'Matplotlib is building the font cache using fc-list. '\n",
      "/Users/OGN/anaconda/envs/py36/lib/python3.6/site-packages/skimage/viewer/utils/core.py:10: UserWarning: Recommended matplotlib backend is `Agg` for full skimage.viewer functionality.\n",
      "  warn(\"Recommended matplotlib backend is `Agg` for full \"\n"
     ]
    }
   ],
   "source": [
    "import os\n",
    "import h5py\n",
    "import numpy as np\n",
    "import tifffile as Tiff\n",
    "from PIL import Image\n",
    "from skimage import io\n",
    "from skimage import exposure\n",
    "from skimage.viewer import ImageViewer"
   ]
  },
  {
   "cell_type": "code",
   "execution_count": 22,
   "metadata": {
    "collapsed": false
   },
   "outputs": [
    {
     "name": "stdout",
     "output_type": "stream",
     "text": [
      "['6.7FRhcrtR-Gal4-uasKaede_6dpf_MeanImageOf12Fish', 'Anti-5HT_6dpf_MeanImageOf40Fish', 'Anti-Gad67_6dpf_MeanImageOf17Fish', 'Anti-GlyR_6dpf_MeanImageOf160Fish', 'Anti-TH_6dpf_MeanImageOf10Fish', 'Anti-Zn12(Hnk-1)_6dpf_MeanImageOf9Fish', 'Anti-Zn1_6dpf_MeanImageOf10Fish', 'Anti-Znp1(Synaptotagmin2)_6dpf_MeanImageOf118Fish', 'Anti-Zrf1(GFAP)_6dpf_MeanImageOf5Fish', 'Anti-Zrf2_6dpf_MeanImageOf5Fish', 'Anti-tERK_6dpf_MeanImageOf193Fish', 'Elavl3-GCaMP5G_6dpf_MeanImageOf7Fish', 'Elavl3-H2BRFP_6dpf_MeanImageOf10Fish', 'EtVmat2-GFP_6dpf_MeanImageOf55Fish', 'Gad1b-GFP_6dpf_MeanImageOf10Fish', 'Glyt2-GFP_6dpf_MeanImageOf13Fish', 'Hcrt-RFP_6dpf_MeanImageOf15Fish', 'Isl1-GFP_6dpf_MeanImageOf17Fish', 'Isl2bGal4-uasDendra_6dpf_MeanImageOf8Fish', 'Olig2-GFP_6dpf_MeanImageOf12Fish', 'Otpb.A-Gal4-UAS-GCaMP_6-7dpf_MeanImageOf19Fish', 'Otpb.A-Nsfb-GFP_6dpf_MeanImageOf10Fish', 'Oxtl-GFP_6dpf_MeanImageOf68Fish', 'Pet1-GFP_6dpf_MeanImageOf13Fish', 'Ptf1aGal4-uasKaede_6dpf_MeanImageOf11Fish', 'Qrfp-GFP_6dpf_MeanImageOf15Fish', 'S1181tGal4-uasKaede_6dpf_MeanImageOf14Fish', 'SpinalBackfills_6dpf_MeanImageOf23Fish', 'Vglut2a-GFP_6dpf_MeanImageOf15Fish']\n"
     ]
    }
   ],
   "source": [
    "hdf5 = h5py.File('AnatomyLabelDatabase.hdf5')\n",
    "print([k for k in hdf5.keys()])"
   ]
  },
  {
   "cell_type": "code",
   "execution_count": 67,
   "metadata": {
    "collapsed": true
   },
   "outputs": [],
   "source": [
    "Elav_zyx = hdf5['Elavl3-H2BRFP_6dpf_MeanImageOf10Fish'][()]"
   ]
  },
  {
   "cell_type": "code",
   "execution_count": 75,
   "metadata": {
    "collapsed": false,
    "scrolled": true
   },
   "outputs": [
    {
     "name": "stdout",
     "output_type": "stream",
     "text": [
      "(138, 621, 1406)\n"
     ]
    }
   ],
   "source": [
    "x_len = Elav.shape[2]\n",
    "y_len = Elav.shape[1]\n",
    "z_len = Elav.shape[0]\n",
    "print(Elav.shape)"
   ]
  },
  {
   "cell_type": "code",
   "execution_count": 74,
   "metadata": {
    "collapsed": false
   },
   "outputs": [
    {
     "name": "stdout",
     "output_type": "stream",
     "text": [
      "(1406, 138, 621)\n"
     ]
    }
   ],
   "source": [
    "Elav_xzy = np.moveaxis(Elav, -1, 0)\n",
    "print(Elav_xzy.shape)"
   ]
  },
  {
   "cell_type": "code",
   "execution_count": 81,
   "metadata": {
    "collapsed": false
   },
   "outputs": [
    {
     "name": "stdout",
     "output_type": "stream",
     "text": [
      "(621, 1406, 138)\n"
     ]
    }
   ],
   "source": [
    "Elav_yxz = np.moveaxis(Elav, 0, 2)\n",
    "print(Elav_yxz.shape)"
   ]
  },
  {
   "cell_type": "code",
   "execution_count": null,
   "metadata": {
    "collapsed": true
   },
   "outputs": [],
   "source": []
  }
 ],
 "metadata": {
  "anaconda-cloud": {},
  "kernelspec": {
   "display_name": "Python [conda env:py36]",
   "language": "python",
   "name": "conda-env-py36-py"
  },
  "language_info": {
   "codemirror_mode": {
    "name": "ipython",
    "version": 3
   },
   "file_extension": ".py",
   "mimetype": "text/x-python",
   "name": "python",
   "nbconvert_exporter": "python",
   "pygments_lexer": "ipython3",
   "version": "3.6.3"
  }
 },
 "nbformat": 4,
 "nbformat_minor": 1
}
