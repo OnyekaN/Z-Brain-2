{
 "cells": [
  {
   "cell_type": "code",
   "execution_count": 1,
   "metadata": {
    "collapsed": false
   },
   "outputs": [],
   "source": [
    "import os, sys\n",
    "import psycopg2"
   ]
  },
  {
   "cell_type": "code",
   "execution_count": 3,
   "metadata": {
    "collapsed": false
   },
   "outputs": [
    {
     "name": "stdout",
     "output_type": "stream",
     "text": [
      "['../app/assets/images/2-Masks/cyan', '../app/assets/images/2-Masks/green', '../app/assets/images/2-Masks/magenta', '../app/assets/images/2-Masks/yellow']\n"
     ]
    }
   ],
   "source": [
    "masks_dir_path = \"../app/assets/images/2-Masks\"\n",
    "mask_dirs = os.listdir(masks_dir_path)\n",
    "mask_dirs = [os.path.join(masks_dir_path, el) for el in mask_dirs]\n",
    "fil = [os.path.isdir(el) for el in mask_dirs]\n",
    "\n",
    "from itertools import compress\n",
    "mask_dirs = list(compress(mask_dirs, fil))\n",
    "print mask_dirs"
   ]
  },
  {
   "cell_type": "code",
   "execution_count": 19,
   "metadata": {
    "collapsed": false
   },
   "outputs": [],
   "source": [
    "for color_dir in mask_dirs:\n",
    "    old = [old for old in os.listdir(color_dir) if \" -_\" in old]\n",
    "    new = list(map(lambda x: x.replace(\" -_\", \"_\") , old))\n",
    "\n",
    "    for i, _slice in enumerate(old):\n",
    "        src = color_dir + \"/\" + old[i]\n",
    "        dest = color_dir + \"/\" + new[i]\n",
    "        os.rename(src, dest)"
   ]
  },
  {
   "cell_type": "code",
   "execution_count": 24,
   "metadata": {
    "collapsed": false
   },
   "outputs": [
    {
     "name": "stdout",
     "output_type": "stream",
     "text": [
      "['Diencephalon_slice001.png', 'Diencephalon_slice002.png', 'Diencephalon_slice003.png', 'Diencephalon_slice004.png', 'Diencephalon_slice005.png', 'Diencephalon_slice006.png', 'Diencephalon_slice007.png', 'Diencephalon_slice008.png', 'Diencephalon_slice009.png', 'Diencephalon_slice010.png', 'Diencephalon_slice011.png', 'Diencephalon_slice012.png', 'Diencephalon_slice013.png', 'Diencephalon_slice014.png', 'Diencephalon_slice015.png', 'Diencephalon_slice016.png', 'Diencephalon_slice017.png', 'Diencephalon_slice018.png', 'Diencephalon_slice019.png', 'Diencephalon_slice020.png', 'Diencephalon_slice021.png', 'Diencephalon_slice022.png', 'Diencephalon_slice023.png', 'Diencephalon_slice024.png', 'Diencephalon_slice025.png', 'Diencephalon_slice026.png', 'Diencephalon_slice027.png', 'Diencephalon_slice028.png', 'Diencephalon_slice029.png', 'Diencephalon_slice030.png', 'Diencephalon_slice031.png', 'Diencephalon_slice032.png', 'Diencephalon_slice033.png', 'Diencephalon_slice034.png', 'Diencephalon_slice035.png', 'Diencephalon_slice036.png', 'Diencephalon_slice037.png', 'Diencephalon_slice038.png', 'Diencephalon_slice039.png', 'Diencephalon_slice040.png', 'Diencephalon_slice041.png', 'Diencephalon_slice042.png', 'Diencephalon_slice043.png', 'Diencephalon_slice044.png', 'Diencephalon_slice045.png', 'Diencephalon_slice046.png', 'Diencephalon_slice047.png', 'Diencephalon_slice048.png', 'Diencephalon_slice049.png', 'Diencephalon_slice050.png', 'Diencephalon_slice051.png', 'Diencephalon_slice052.png', 'Diencephalon_slice053.png', 'Diencephalon_slice054.png', 'Diencephalon_slice055.png', 'Diencephalon_slice056.png', 'Diencephalon_slice057.png', 'Diencephalon_slice058.png', 'Diencephalon_slice059.png', 'Diencephalon_slice060.png', 'Diencephalon_slice061.png', 'Diencephalon_slice062.png', 'Diencephalon_slice063.png', 'Diencephalon_slice064.png', 'Diencephalon_slice065.png', 'Diencephalon_slice066.png', 'Diencephalon_slice067.png', 'Diencephalon_slice068.png', 'Diencephalon_slice069.png', 'Diencephalon_slice070.png', 'Diencephalon_slice071.png', 'Diencephalon_slice072.png', 'Diencephalon_slice073.png', 'Diencephalon_slice074.png', 'Diencephalon_slice075.png', 'Diencephalon_slice076.png', 'Diencephalon_slice077.png', 'Diencephalon_slice078.png', 'Diencephalon_slice079.png', 'Diencephalon_slice080.png', 'Diencephalon_slice081.png', 'Diencephalon_slice082.png', 'Diencephalon_slice083.png', 'Diencephalon_slice084.png', 'Diencephalon_slice085.png', 'Diencephalon_slice086.png', 'Diencephalon_slice087.png', 'Diencephalon_slice088.png', 'Diencephalon_slice089.png', 'Diencephalon_slice090.png', 'Diencephalon_slice091.png', 'Diencephalon_slice092.png', 'Diencephalon_slice093.png', 'Diencephalon_slice094.png', 'Diencephalon_slice095.png', 'Diencephalon_slice096.png', 'Diencephalon_slice097.png', 'Diencephalon_slice098.png', 'Diencephalon_slice099.png', 'Diencephalon_slice100.png', 'Diencephalon_slice101.png', 'Diencephalon_slice102.png', 'Diencephalon_slice103.png', 'Diencephalon_slice104.png', 'Diencephalon_slice105.png', 'Diencephalon_slice106.png', 'Diencephalon_slice107.png', 'Diencephalon_slice108.png', 'Diencephalon_slice109.png', 'Diencephalon_slice110.png', 'Diencephalon_slice111.png', 'Diencephalon_slice112.png', 'Diencephalon_slice113.png', 'Diencephalon_slice114.png', 'Diencephalon_slice115.png', 'Diencephalon_slice116.png', 'Diencephalon_slice117.png', 'Diencephalon_slice118.png', 'Diencephalon_slice119.png', 'Diencephalon_slice120.png', 'Diencephalon_slice121.png', 'Diencephalon_slice122.png', 'Diencephalon_slice123.png', 'Diencephalon_slice124.png', 'Diencephalon_slice125.png', 'Diencephalon_slice126.png', 'Diencephalon_slice127.png', 'Diencephalon_slice128.png', 'Diencephalon_slice129.png', 'Diencephalon_slice130.png', 'Diencephalon_slice131.png', 'Diencephalon_slice132.png', 'Diencephalon_slice133.png', 'Diencephalon_slice134.png', 'Diencephalon_slice135.png', 'Diencephalon_slice136.png', 'Diencephalon_slice137.png', 'Diencephalon_slice138.png', 'Mesencephalon_slice001.png', 'Mesencephalon_slice002.png', 'Mesencephalon_slice003.png', 'Mesencephalon_slice004.png', 'Mesencephalon_slice005.png', 'Mesencephalon_slice006.png', 'Mesencephalon_slice007.png', 'Mesencephalon_slice008.png', 'Mesencephalon_slice009.png', 'Mesencephalon_slice010.png', 'Mesencephalon_slice011.png', 'Mesencephalon_slice012.png', 'Mesencephalon_slice013.png', 'Mesencephalon_slice014.png', 'Mesencephalon_slice015.png', 'Mesencephalon_slice016.png', 'Mesencephalon_slice017.png', 'Mesencephalon_slice018.png', 'Mesencephalon_slice019.png', 'Mesencephalon_slice020.png', 'Mesencephalon_slice021.png', 'Mesencephalon_slice022.png', 'Mesencephalon_slice023.png', 'Mesencephalon_slice024.png', 'Mesencephalon_slice025.png', 'Mesencephalon_slice026.png', 'Mesencephalon_slice027.png', 'Mesencephalon_slice028.png', 'Mesencephalon_slice029.png', 'Mesencephalon_slice030.png', 'Mesencephalon_slice031.png', 'Mesencephalon_slice032.png', 'Mesencephalon_slice033.png', 'Mesencephalon_slice034.png', 'Mesencephalon_slice035.png', 'Mesencephalon_slice036.png', 'Mesencephalon_slice037.png', 'Mesencephalon_slice038.png', 'Mesencephalon_slice039.png', 'Mesencephalon_slice040.png', 'Mesencephalon_slice041.png', 'Mesencephalon_slice042.png', 'Mesencephalon_slice043.png', 'Mesencephalon_slice044.png', 'Mesencephalon_slice045.png', 'Mesencephalon_slice046.png', 'Mesencephalon_slice047.png', 'Mesencephalon_slice048.png', 'Mesencephalon_slice049.png', 'Mesencephalon_slice050.png', 'Mesencephalon_slice051.png', 'Mesencephalon_slice052.png', 'Mesencephalon_slice053.png', 'Mesencephalon_slice054.png', 'Mesencephalon_slice055.png', 'Mesencephalon_slice056.png', 'Mesencephalon_slice057.png', 'Mesencephalon_slice058.png', 'Mesencephalon_slice059.png', 'Mesencephalon_slice060.png', 'Mesencephalon_slice061.png', 'Mesencephalon_slice062.png', 'Mesencephalon_slice063.png', 'Mesencephalon_slice064.png', 'Mesencephalon_slice065.png', 'Mesencephalon_slice066.png', 'Mesencephalon_slice067.png', 'Mesencephalon_slice068.png', 'Mesencephalon_slice069.png', 'Mesencephalon_slice070.png', 'Mesencephalon_slice071.png', 'Mesencephalon_slice072.png', 'Mesencephalon_slice073.png', 'Mesencephalon_slice074.png', 'Mesencephalon_slice075.png', 'Mesencephalon_slice076.png', 'Mesencephalon_slice077.png', 'Mesencephalon_slice078.png', 'Mesencephalon_slice079.png', 'Mesencephalon_slice080.png', 'Mesencephalon_slice081.png', 'Mesencephalon_slice082.png', 'Mesencephalon_slice083.png', 'Mesencephalon_slice084.png', 'Mesencephalon_slice085.png', 'Mesencephalon_slice086.png', 'Mesencephalon_slice087.png', 'Mesencephalon_slice088.png', 'Mesencephalon_slice089.png', 'Mesencephalon_slice090.png', 'Mesencephalon_slice091.png', 'Mesencephalon_slice092.png', 'Mesencephalon_slice093.png', 'Mesencephalon_slice094.png', 'Mesencephalon_slice095.png', 'Mesencephalon_slice096.png', 'Mesencephalon_slice097.png', 'Mesencephalon_slice098.png', 'Mesencephalon_slice099.png', 'Mesencephalon_slice100.png', 'Mesencephalon_slice101.png', 'Mesencephalon_slice102.png', 'Mesencephalon_slice103.png', 'Mesencephalon_slice104.png', 'Mesencephalon_slice105.png', 'Mesencephalon_slice106.png', 'Mesencephalon_slice107.png', 'Mesencephalon_slice108.png', 'Mesencephalon_slice109.png', 'Mesencephalon_slice110.png', 'Mesencephalon_slice111.png', 'Mesencephalon_slice112.png', 'Mesencephalon_slice113.png', 'Mesencephalon_slice114.png', 'Mesencephalon_slice115.png', 'Mesencephalon_slice116.png', 'Mesencephalon_slice117.png', 'Mesencephalon_slice118.png', 'Mesencephalon_slice119.png', 'Mesencephalon_slice120.png', 'Mesencephalon_slice121.png', 'Mesencephalon_slice122.png', 'Mesencephalon_slice123.png', 'Mesencephalon_slice124.png', 'Mesencephalon_slice125.png', 'Mesencephalon_slice126.png', 'Mesencephalon_slice127.png', 'Mesencephalon_slice128.png', 'Mesencephalon_slice129.png', 'Mesencephalon_slice130.png', 'Mesencephalon_slice131.png', 'Mesencephalon_slice132.png', 'Mesencephalon_slice133.png', 'Mesencephalon_slice134.png', 'Mesencephalon_slice135.png', 'Mesencephalon_slice136.png', 'Mesencephalon_slice137.png', 'Mesencephalon_slice138.png', 'Rhombencephalon_slice001.png', 'Rhombencephalon_slice002.png', 'Rhombencephalon_slice003.png', 'Rhombencephalon_slice004.png', 'Rhombencephalon_slice005.png', 'Rhombencephalon_slice006.png', 'Rhombencephalon_slice007.png', 'Rhombencephalon_slice008.png', 'Rhombencephalon_slice009.png', 'Rhombencephalon_slice010.png', 'Rhombencephalon_slice011.png', 'Rhombencephalon_slice012.png', 'Rhombencephalon_slice013.png', 'Rhombencephalon_slice014.png', 'Rhombencephalon_slice015.png', 'Rhombencephalon_slice016.png', 'Rhombencephalon_slice017.png', 'Rhombencephalon_slice018.png', 'Rhombencephalon_slice019.png', 'Rhombencephalon_slice020.png', 'Rhombencephalon_slice021.png', 'Rhombencephalon_slice022.png', 'Rhombencephalon_slice023.png', 'Rhombencephalon_slice024.png', 'Rhombencephalon_slice025.png', 'Rhombencephalon_slice026.png', 'Rhombencephalon_slice027.png', 'Rhombencephalon_slice028.png', 'Rhombencephalon_slice029.png', 'Rhombencephalon_slice030.png', 'Rhombencephalon_slice031.png', 'Rhombencephalon_slice032.png', 'Rhombencephalon_slice033.png', 'Rhombencephalon_slice034.png', 'Rhombencephalon_slice035.png', 'Rhombencephalon_slice036.png', 'Rhombencephalon_slice037.png', 'Rhombencephalon_slice038.png', 'Rhombencephalon_slice039.png', 'Rhombencephalon_slice040.png', 'Rhombencephalon_slice041.png', 'Rhombencephalon_slice042.png', 'Rhombencephalon_slice043.png', 'Rhombencephalon_slice044.png', 'Rhombencephalon_slice045.png', 'Rhombencephalon_slice046.png', 'Rhombencephalon_slice047.png', 'Rhombencephalon_slice048.png', 'Rhombencephalon_slice049.png', 'Rhombencephalon_slice050.png', 'Rhombencephalon_slice051.png', 'Rhombencephalon_slice052.png', 'Rhombencephalon_slice053.png', 'Rhombencephalon_slice054.png', 'Rhombencephalon_slice055.png', 'Rhombencephalon_slice056.png', 'Rhombencephalon_slice057.png', 'Rhombencephalon_slice058.png', 'Rhombencephalon_slice059.png', 'Rhombencephalon_slice060.png', 'Rhombencephalon_slice061.png', 'Rhombencephalon_slice062.png', 'Rhombencephalon_slice063.png', 'Rhombencephalon_slice064.png', 'Rhombencephalon_slice065.png', 'Rhombencephalon_slice066.png', 'Rhombencephalon_slice067.png', 'Rhombencephalon_slice068.png', 'Rhombencephalon_slice069.png', 'Rhombencephalon_slice070.png', 'Rhombencephalon_slice071.png', 'Rhombencephalon_slice072.png', 'Rhombencephalon_slice073.png', 'Rhombencephalon_slice074.png', 'Rhombencephalon_slice075.png', 'Rhombencephalon_slice076.png', 'Rhombencephalon_slice077.png', 'Rhombencephalon_slice078.png', 'Rhombencephalon_slice079.png', 'Rhombencephalon_slice080.png', 'Rhombencephalon_slice081.png', 'Rhombencephalon_slice082.png', 'Rhombencephalon_slice083.png', 'Rhombencephalon_slice084.png', 'Rhombencephalon_slice085.png', 'Rhombencephalon_slice086.png', 'Rhombencephalon_slice087.png', 'Rhombencephalon_slice088.png', 'Rhombencephalon_slice089.png', 'Rhombencephalon_slice090.png', 'Rhombencephalon_slice091.png', 'Rhombencephalon_slice092.png', 'Rhombencephalon_slice093.png', 'Rhombencephalon_slice094.png', 'Rhombencephalon_slice095.png', 'Rhombencephalon_slice096.png', 'Rhombencephalon_slice097.png', 'Rhombencephalon_slice098.png', 'Rhombencephalon_slice099.png', 'Rhombencephalon_slice100.png', 'Rhombencephalon_slice101.png', 'Rhombencephalon_slice102.png', 'Rhombencephalon_slice103.png', 'Rhombencephalon_slice104.png', 'Rhombencephalon_slice105.png', 'Rhombencephalon_slice106.png', 'Rhombencephalon_slice107.png', 'Rhombencephalon_slice108.png', 'Rhombencephalon_slice109.png', 'Rhombencephalon_slice110.png', 'Rhombencephalon_slice111.png', 'Rhombencephalon_slice112.png', 'Rhombencephalon_slice113.png', 'Rhombencephalon_slice114.png', 'Rhombencephalon_slice115.png', 'Rhombencephalon_slice116.png', 'Rhombencephalon_slice117.png', 'Rhombencephalon_slice118.png', 'Rhombencephalon_slice119.png', 'Rhombencephalon_slice120.png', 'Rhombencephalon_slice121.png', 'Rhombencephalon_slice122.png', 'Rhombencephalon_slice123.png', 'Rhombencephalon_slice124.png', 'Rhombencephalon_slice125.png', 'Rhombencephalon_slice126.png', 'Rhombencephalon_slice127.png', 'Rhombencephalon_slice128.png', 'Rhombencephalon_slice129.png', 'Rhombencephalon_slice130.png', 'Rhombencephalon_slice131.png', 'Rhombencephalon_slice132.png', 'Rhombencephalon_slice133.png', 'Rhombencephalon_slice134.png', 'Rhombencephalon_slice135.png', 'Rhombencephalon_slice136.png', 'Rhombencephalon_slice137.png', 'Rhombencephalon_slice138.png', 'Telencephalon_slice001.png', 'Telencephalon_slice002.png', 'Telencephalon_slice003.png', 'Telencephalon_slice004.png', 'Telencephalon_slice005.png', 'Telencephalon_slice006.png', 'Telencephalon_slice007.png', 'Telencephalon_slice008.png', 'Telencephalon_slice009.png', 'Telencephalon_slice010.png', 'Telencephalon_slice011.png', 'Telencephalon_slice012.png', 'Telencephalon_slice013.png', 'Telencephalon_slice014.png', 'Telencephalon_slice015.png', 'Telencephalon_slice016.png', 'Telencephalon_slice017.png', 'Telencephalon_slice018.png', 'Telencephalon_slice019.png', 'Telencephalon_slice020.png', 'Telencephalon_slice021.png', 'Telencephalon_slice022.png', 'Telencephalon_slice023.png', 'Telencephalon_slice024.png', 'Telencephalon_slice025.png', 'Telencephalon_slice026.png', 'Telencephalon_slice027.png', 'Telencephalon_slice028.png', 'Telencephalon_slice029.png', 'Telencephalon_slice030.png', 'Telencephalon_slice031.png', 'Telencephalon_slice032.png', 'Telencephalon_slice033.png', 'Telencephalon_slice034.png', 'Telencephalon_slice035.png', 'Telencephalon_slice036.png', 'Telencephalon_slice037.png', 'Telencephalon_slice038.png', 'Telencephalon_slice039.png', 'Telencephalon_slice040.png', 'Telencephalon_slice041.png', 'Telencephalon_slice042.png', 'Telencephalon_slice043.png', 'Telencephalon_slice044.png', 'Telencephalon_slice045.png', 'Telencephalon_slice046.png', 'Telencephalon_slice047.png', 'Telencephalon_slice048.png', 'Telencephalon_slice049.png', 'Telencephalon_slice050.png', 'Telencephalon_slice051.png', 'Telencephalon_slice052.png', 'Telencephalon_slice053.png', 'Telencephalon_slice054.png', 'Telencephalon_slice055.png', 'Telencephalon_slice056.png', 'Telencephalon_slice057.png', 'Telencephalon_slice058.png', 'Telencephalon_slice059.png', 'Telencephalon_slice060.png', 'Telencephalon_slice061.png', 'Telencephalon_slice062.png', 'Telencephalon_slice063.png', 'Telencephalon_slice064.png', 'Telencephalon_slice065.png', 'Telencephalon_slice066.png', 'Telencephalon_slice067.png', 'Telencephalon_slice068.png', 'Telencephalon_slice069.png', 'Telencephalon_slice070.png', 'Telencephalon_slice071.png', 'Telencephalon_slice072.png', 'Telencephalon_slice073.png', 'Telencephalon_slice074.png', 'Telencephalon_slice075.png', 'Telencephalon_slice076.png', 'Telencephalon_slice077.png', 'Telencephalon_slice078.png', 'Telencephalon_slice079.png', 'Telencephalon_slice080.png', 'Telencephalon_slice081.png', 'Telencephalon_slice082.png', 'Telencephalon_slice083.png', 'Telencephalon_slice084.png', 'Telencephalon_slice085.png', 'Telencephalon_slice086.png', 'Telencephalon_slice087.png', 'Telencephalon_slice088.png', 'Telencephalon_slice089.png', 'Telencephalon_slice090.png', 'Telencephalon_slice091.png', 'Telencephalon_slice092.png', 'Telencephalon_slice093.png', 'Telencephalon_slice094.png', 'Telencephalon_slice095.png', 'Telencephalon_slice096.png', 'Telencephalon_slice097.png', 'Telencephalon_slice098.png', 'Telencephalon_slice099.png', 'Telencephalon_slice100.png', 'Telencephalon_slice101.png', 'Telencephalon_slice102.png', 'Telencephalon_slice103.png', 'Telencephalon_slice104.png', 'Telencephalon_slice105.png', 'Telencephalon_slice106.png', 'Telencephalon_slice107.png', 'Telencephalon_slice108.png', 'Telencephalon_slice109.png', 'Telencephalon_slice110.png', 'Telencephalon_slice111.png', 'Telencephalon_slice112.png', 'Telencephalon_slice113.png', 'Telencephalon_slice114.png', 'Telencephalon_slice115.png', 'Telencephalon_slice116.png', 'Telencephalon_slice117.png', 'Telencephalon_slice118.png', 'Telencephalon_slice119.png', 'Telencephalon_slice120.png', 'Telencephalon_slice121.png', 'Telencephalon_slice122.png', 'Telencephalon_slice123.png', 'Telencephalon_slice124.png', 'Telencephalon_slice125.png', 'Telencephalon_slice126.png', 'Telencephalon_slice127.png', 'Telencephalon_slice128.png', 'Telencephalon_slice129.png', 'Telencephalon_slice130.png', 'Telencephalon_slice131.png', 'Telencephalon_slice132.png', 'Telencephalon_slice133.png', 'Telencephalon_slice134.png', 'Telencephalon_slice135.png', 'Telencephalon_slice136.png', 'Telencephalon_slice137.png', 'Telencephalon_slice138.png']\n"
     ]
    }
   ],
   "source": [
    "test = [mask for mask in os.listdir(mask_dirs[0]) if \"lon_\" in mask]\n",
    "print test"
   ]
  },
  {
   "cell_type": "code",
   "execution_count": null,
   "metadata": {
    "collapsed": true
   },
   "outputs": [],
   "source": []
  }
 ],
 "metadata": {
  "kernelspec": {
   "display_name": "Python [conda root]",
   "language": "python",
   "name": "conda-root-py"
  },
  "language_info": {
   "codemirror_mode": {
    "name": "ipython",
    "version": 2
   },
   "file_extension": ".py",
   "mimetype": "text/x-python",
   "name": "python",
   "nbconvert_exporter": "python",
   "pygments_lexer": "ipython2",
   "version": "2.7.12"
  }
 },
 "nbformat": 4,
 "nbformat_minor": 1
}
