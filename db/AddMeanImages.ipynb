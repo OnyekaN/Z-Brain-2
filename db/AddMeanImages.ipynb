{
 "cells": [
  {
   "cell_type": "raw",
   "metadata": {},
   "source": [
    "import os, numpy, PIL\n",
    "from PIL import Image\n",
    "\n",
    "# Access all PNG files in directory\n",
    "allfiles=os.listdir(os.getcwd())\n",
    "imlist=[filename for filename in allfiles if  filename[-4:] in [\".png\",\".PNG\"]]\n",
    "\n",
    "# Assuming all images are the same size, get dimensions of first image\n",
    "w,h=Image.open(imlist[0]).size\n",
    "N=len(imlist)\n",
    "\n",
    "# Create a numpy array of floats to store the average (assume RGB images)\n",
    "arr=numpy.zeros((h,w,3),numpy.float)\n",
    "\n",
    "# Build up average pixel intensities, casting each image as an array of floats\n",
    "for im in imlist:\n",
    "    imarr=numpy.array(Image.open(im),dtype=numpy.float)\n",
    "    arr=arr+imarr/N\n",
    "\n",
    "# Round values in array and cast as 8-bit integer\n",
    "arr=numpy.array(numpy.round(arr),dtype=numpy.uint8)\n",
    "\n",
    "# Generate, save and preview final image\n",
    "out=Image.fromarray(arr,mode=\"RGB\")\n",
    "out.save(\"Average.png\")\n",
    "out.show()"
   ]
  },
  {
   "cell_type": "code",
   "execution_count": 2,
   "metadata": {},
   "outputs": [],
   "source": [
    "import os, PIL\n",
    "import numpy as np\n",
    "from PIL import Image"
   ]
  },
  {
   "cell_type": "code",
   "execution_count": 3,
   "metadata": {},
   "outputs": [
    {
     "name": "stdout",
     "output_type": "stream",
     "text": [
      "['0-Reference-Brain', '6.7FRhcrtR-Gal4-uasKaede', 'Anti-5HT', 'Anti-Gad67', 'Anti-GlyR', 'Anti-TH', 'Anti-Zn1', 'Anti-Zn12(Hnk-1)', 'Anti-Znp1(Synaptotagmin2)', 'Anti-Zrf1(GFAP)', 'Anti-Zrf2', 'Anti-tERK', 'Elavl3-GCaMP5G', 'Elavl3-H2BRFP', 'EtVmat2-GFP', 'Gad1b-GFP', 'GemaLine_noFish4or3_MeanImageOf5Fish', 'Glyt2-GFP', 'Hcrt-RFP', 'Isl1-GFP', 'Isl2bGal4-uasDendra', 'MH_13319-Gal4', 'MH_15576-Gal4', 'MH_16659-Gal4', 'MH_16715-Gal4', 'MH_16913-Gal4', 'MH_16914-Gal4', 'MH_16915-Gal4', 'MH_16916-Gal4', 'MH_16946-Gal4', 'MH_17056-Gal4', 'MH_17767-Gal4', 'MH_17768-Gal4', 'MH_17776-Gal4', 'MH_17777-Gal4', 'MH_17787-Gal4', 'MH_17845-Gal4', 'MH_17846-Gal4', 'MH_18107-Gal4', 'MH_18108-Gal4', 'MH_18327-Gal4', 'MH_18329-Gal4', 'MH_19322-Gal4', 'MH_19566-Gal4', 'MH_20360-Gal4', 'MH_20361-Gal4', 'MH_20454-Gal4', 'MH_20552-Gal4', 'MH_20553-Gal4', 'MH_20638-Gal4', 'MH_20639-Gal4', 'MH_20640-Gal4', 'MH_20641-Gal4', 'MH_20642-Gal4', 'MH_20643-Gal4', 'MH_20644-Gal4', 'MH_20646-Gal4', 'MH_20647-Gal4', 'MH_20648-Gal4', 'MH_20649-Gal4', 'MH_20652-Gal4', 'MH_20653-Gal4', 'MH_20654-Gal4', 'MH_20655-Gal4', 'MH_20660-Gal4', 'MH_20661-Gal4', 'MH_20663-Gal4', 'MH_20940-Gal4', 'MH_20941-Gal4', 'Olig2-GFP', 'Otpb.A-Gal4-UAS-GCaMP', 'Otpb.A-Nsfb-GFP', 'Oxtl-GFP', 'Pet1-GFP', 'Ptf1aGal4-uasKaede', 'Qrfp-GFP', 'S1181tGal4-uasKaede', 'SpinalBackfills', 'Vglut2a-GFP', 'ZBB_HuC-Cer', 'ZBB_ath5-GFP', 'ZBB_bActin-GFP', 'ZBB_ba2_sox10-GFP', 'ZBB_chx10-gal4', 'ZBB_dat-GFP', 'ZBB_dbh-Gal4', 'ZBB_eng1b-Gal4', 'ZBB_evx2-Gal4', 'ZBB_flk-GFP', 'ZBB_gad1b-GFP', 'ZBB_gfap-GFP', 'ZBB_glyt2-GFP', 'ZBB_gsx1-GFP', 'ZBB_isl2b-GFP', 'ZBB_j1229-GFP', 'ZBB_jf9_huC-CaMPARI', 'ZBB_m1233_th-Gal4', 'ZBB_ml2_mnx1-GFP', 'ZBB_nl1_neurod-GFP', 'ZBB_pet1-GFP', 'ZBB_phox2b-GFP', 'ZBB_s1156t-Gal4', 'ZBB_s356t_brn3c-GFP', 'ZBB_sb1_neurog1-GFP', 'ZBB_sd2_gata1-dsRed', 'ZBB_shox2-Gal4', 'ZBB_tph2-Gal4', 'ZBB_vglut-DsRed', 'ZBB_y226_tph2-ntr-mCh', 'ZBB_y227-ntr-mCh', 'ZBB_y234-Gal4', 'ZBB_y236-Gal4', 'ZBB_y237-Gal4', 'ZBB_y240-Gal4', 'ZBB_y241-Gal4', 'ZBB_y242-Gal4', 'ZBB_y244-Gal4', 'ZBB_y245-Gal4', 'ZBB_y249-Gal4', 'ZBB_y252-Gal4', 'ZBB_y255-Gal4', 'ZBB_y256-Gal4', 'ZBB_y264-Gal4', 'ZBB_y265-Gal4', 'ZBB_y269-Gal4', 'ZBB_y270-Gal4', 'ZBB_y271-Gal4', 'ZBB_y274-Gal4', 'ZBB_y275-Gal4', 'ZBB_y279-Gal4', 'ZBB_y293-Gal4', 'ZBB_y294-Gal4', 'ZBB_y295-Gal4', 'ZBB_y296-Gal4', 'ZBB_y297-Gal4', 'ZBB_y298-Gal4', 'ZBB_y299-Gal4', 'ZBB_y300-Gal4', 'ZBB_y301-Gal4', 'ZBB_y302-Gal4', 'ZBB_y303-Gal4', 'ZBB_y304-Gal4', 'ZBB_y305-Gal4', 'ZBB_y306-Gal4', 'ZBB_y307-Gal4', 'ZBB_y308-Gal4', 'ZBB_y309-Gal4', 'ZBB_y310-Gal4', 'ZBB_y311-Gal4', 'ZBB_y312-Gal4', 'ZBB_y313-Gal4', 'ZBB_y314-Gal4', 'ZBB_y315-Gal4', 'ZBB_y316-Gal4', 'ZBB_y317-Gal4', 'ZBB_y318-Gal4', 'ZBB_y319-Gal4', 'ZBB_y320-Gal4', 'ZBB_y321-Gal4', 'ZBB_y322-Gal4', 'ZBB_y323-Gal4', 'ZBB_y324-Gal4', 'ZBB_y325-Gal4', 'ZBB_y326-Gal4', 'ZBB_y327-Gal4', 'ZBB_y328-Gal4', 'ZBB_y329-Gal4', 'ZBB_y330-Gal4', 'ZBB_y331-Gal4', 'ZBB_y332-Gal4', 'ZBB_y333-Gal4', 'ZBB_y334-Gal4', 'ZBB_y336-Gal4', 'ZBB_y337-Gal4', 'ZBB_y338-Gal4', 'ZBB_y339-Gal4', 'ZBB_y341-Gal4', 'ZBB_y342-Gal4', 'ZBB_y345-Gal4', 'ZBB_y347-Gal4', 'ZBB_y348-Gal4', 'ZBB_y350-Gal4', 'ZBB_y351-Gal4', 'ZBB_y352-Gal4', 'ZBB_y353-Gal4', 'ZBB_y354-Gal4', 'ZBB_y355-Gal4', 'ZBB_y356-Gal4', 'ZBB_y357-Gal4', 'ZBB_y358-Gal4', 'ZBB_y359-Gal4', 'ZBB_y364-Gal4', 'ZBB_y365-Gal4', 'ZBB_y371-Cre', 'ZBB_y372-Gal4', 'ZBB_y373-Gal4', 'ZBB_y375-Gal4', 'ZBB_y378-Cre', 'ZBB_y379-Cre', 'ZBB_y380-Cre', 'ZBB_y381-Cre', 'ZBB_y382-Cre', 'ZBB_y383-Cre', 'ZBB_y384-Cre', 'ZBB_y385-Cre', 'ZBB_y387-Gal4', 'ZBB_y388-Gal4', 'ZBB_y393-Gal4', 'ZBB_y394-Gal4', 'ZBB_y396-Gal4', 'ZBB_y397-Gal4', 'ZBB_y401-Gal4', 'ZBB_y405-Gal4', 'ZBB_y407-Gal4', 'ZBB_y412-Gal4', 'ZBB_y416-Gal4', 'ZBB_y417-Gal4', 'ZBB_y420-Gal4', 'ZBB_y421-Gal4', 'ZBB_y423-Gal4', 'ZBB_y425-Gal4', 'ZBB_y433-Gal4', 'ZBB_y436-Gal4', 'ZBB_y441-Gal4', 'ZBB_y444-Gal4', 'ZBB_y445-Cre', 'ZBB_y446-ntr-mCh', 'ZBB_y454_R3-eltC-Cre', 'ZBB_y455_R5-dr16-Cre', 'ZBB_y456-Cre', 'ZBB_y457-Cre', 'ZBB_y458-Cre', 'ZBB_y459-Cre', 'ZBB_y460-ntr-mCh', 'ZBB_y461_R4-hoxb1a-Cre', 'ZBB_y465-Cre', 'ZBB_y466_R2-hoxa2-Cre', 'ZBB_y467-Gal4', 'ZBB_y468-Gal4', 'ZBB_y469-Gal4', 'ZBB_y470-Gal4', 'ZBB_y471-Gal4', 'ZBB_y472-Gal4', 'ZBB_y473-Gal4', 'ZBB_y477-Gal4', 'ZBB_y478-Cre', 'ZBB_y479-Cre', 'ZBB_y480-Cre', 'ZBB_y481-Cre', 'ZBB_y483-Cre', 'ZBB_y484-Cre', 'ZBB_y485-Cre', 'ZBB_y486-Cre', 'ZBB_y487-Cre', 'ZBB_y488-Cre', 'ZBB_y489-Cre', 'ZBB_y490-Cre', 'ZBB_y492-Cre', 'ZBB_y493-Cre', 'ZBB_y494-Cre', 'ZBB_y495-Cre', 'ZBB_y511-Gal4', 'ZBB_y512-Gal4', 'ZBB_y514-Gal4', 'ZBB_y515-Gal4', 'ZBB_y516_tuba-mCar', 'ZBB_y517_huC-nls-mCar', 'ZBB_y519-Cre', 'ZBB_y520-Cre', 'ZBB_y521-Cre', 'ZBB_y523-Cre', 'ZBB_y524-Cre', 'ZBB_y526-Cre', 'ZBB_y527-Cre', 'ZBB_y528-Cre', 'ZBB_y532-Gal4', 'ZBB_y533-Gal4', 'ZBB_y534_kctd15a-GFP', 'ZBB_y541-Cre', 'ZBB_y542-Cre', 'ZBB_y543-Cre', 'ZBB_y544-Cre', 'ZBB_y545-Cre', 'ZBB_y546-Cre', 'ZBB_y547-Cre', 'ZBB_y548-Cre', 'ZBB_y549-Cre', 'ZBB_y550-Cre', 'ZBB_y551-Cre', 'ZBB_y552-Cre', 'ZBB_y553-Cre', 'ZBB_y554-Cre', 'ZBB_y555-Cre', 'ZBB_y556-Cre', 'ZBB_y557-Cre', 'ZBB_y558-Cre', 'ZBB_y559-Cre', 'ZBB_y564-Gal4', 'ZBB_y565-Gal4', 'ZBB_y566-Gal4', 'ZBB_y567-Gal4', 'ZBB_y568-Cre', 'ZBB_y569-Cre', 'ZBB_y570-Cre', 'ZBB_y571-Cre', 'ZBB_y574-Cre', 'ZBB_y575-Gal4', 'ZBB_y576-Gal4', 'ZBB_y583_huC-mCardinal']\n"
     ]
    }
   ],
   "source": [
    "base = \"../app/assets/images/0-Lines/\"\n",
    "stacks = sorted([d for d in os.listdir(base) if not d.startswith('.')])\n",
    "outdir = \"../app/assets/images/5-MeanImages/\"\n",
    "print(stacks)"
   ]
  },
  {
   "cell_type": "code",
   "execution_count": 5,
   "metadata": {},
   "outputs": [
    {
     "name": "stdout",
     "output_type": "stream",
     "text": [
      "['GemaLine_noFish4or3_MeanImageOf5Fish']\n"
     ]
    }
   ],
   "source": [
    "# Optional, for selecting specific stacks\n",
    "selector = \"Gema\"\n",
    "stacks = [stack for stack in stacks if selector in stack]\n",
    "print(stacks)"
   ]
  },
  {
   "cell_type": "code",
   "execution_count": 6,
   "metadata": {},
   "outputs": [],
   "source": [
    "for stack in stacks:\n",
    "    stack_dir = base + stack\n",
    "    stack_slices = [stack_dir +\"/\"+ i for i in os.listdir(stack_dir) \n",
    "                        if i.endswith('.jpg')]\n",
    "\n",
    "    w, h = Image.open(stack_slices[0]).size\n",
    "    N = len(stack_slices)\n",
    "    arr = np.zeros((h, w), np.float)\n",
    "    \n",
    "    for im in stack_slices:\n",
    "        imarr = np.array(Image.open(im), dtype=np.float)\n",
    "        arr = arr + imarr/N\n",
    "    \n",
    "    arr = np.array(np.round(arr), dtype=np.uint8)\n",
    "    out = Image.fromarray(arr)\n",
    "    out.save(outdir + stack + \".jpg\")"
   ]
  },
  {
   "cell_type": "code",
   "execution_count": null,
   "metadata": {},
   "outputs": [],
   "source": []
  }
 ],
 "metadata": {
  "kernelspec": {
   "display_name": "Python [conda env:py36]",
   "language": "python",
   "name": "conda-env-py36-py"
  },
  "language_info": {
   "codemirror_mode": {
    "name": "ipython",
    "version": 3
   },
   "file_extension": ".py",
   "mimetype": "text/x-python",
   "name": "python",
   "nbconvert_exporter": "python",
   "pygments_lexer": "ipython3",
   "version": "3.6.3"
  }
 },
 "nbformat": 4,
 "nbformat_minor": 2
}
