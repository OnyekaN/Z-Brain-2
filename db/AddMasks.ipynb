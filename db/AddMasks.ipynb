{
 "cells": [
  {
   "cell_type": "code",
   "execution_count": 1,
   "metadata": {
    "collapsed": true
   },
   "outputs": [],
   "source": [
    "import os, sys\n",
    "import numpy as np\n",
    "import psycopg2"
   ]
  },
  {
   "cell_type": "code",
   "execution_count": 2,
   "metadata": {
    "collapsed": false,
    "scrolled": true
   },
   "outputs": [
    {
     "name": "stdout",
     "output_type": "stream",
     "text": [
      "['../app/assets/images/2Masks/cyan', '../app/assets/images/2Masks/green', '../app/assets/images/2Masks/magenta', '../app/assets/images/2Masks/yellow']\n"
     ]
    }
   ],
   "source": [
    "# obtain paths for each colored mask image directory\n",
    "\n",
    "masks_dir_path = \"../app/assets/images/2Masks\"\n",
    "mask_dirs = os.listdir(masks_dir_path)\n",
    "mask_dirs = [os.path.join(masks_dir_path, el) for el in mask_dirs]\n",
    "fil = [os.path.isdir(el) for el in mask_dirs]\n",
    "\n",
    "from itertools import compress\n",
    "mask_dirs = list(compress(mask_dirs, fil))\n",
    "print mask_dirs"
   ]
  },
  {
   "cell_type": "code",
   "execution_count": 3,
   "metadata": {
    "collapsed": false
   },
   "outputs": [
    {
     "name": "stdout",
     "output_type": "stream",
     "text": [
      "['Diencephalon -', 'Diencephalon - Anterior group of the posterior tubercular vmat2 neurons', 'Diencephalon - Anterior preoptic dopaminergic cluster', 'Diencephalon - Anterior pretectum cluster of vmat2 Neurons', 'Diencephalon - Caudal Hypothalamus']\n"
     ]
    }
   ],
   "source": [
    "# obtain names of each unique mask\n",
    "\n",
    "masks = os.listdir(mask_dirs[0])\n",
    "mask_names = [el.split(\"_\")[0] for el in masks]\n",
    "mask_names = list(set(mask_names))\n",
    "mask_names.sort()\n",
    "print mask_names[:5]\n"
   ]
  },
  {
   "cell_type": "code",
   "execution_count": 63,
   "metadata": {
    "collapsed": false
   },
   "outputs": [
    {
     "name": "stdout",
     "output_type": "stream",
     "text": [
      "391\n"
     ]
    }
   ],
   "source": [
    "# check file size of a single mask image\n",
    "\n",
    "example_mask_image = os.listdir(mask_dirs[0])[0]\n",
    "example_mask_image = os.path.join(mask_dirs[0], example_mask_image)\n",
    "print os.stat(example_mask_image).st_size"
   ]
  },
  {
   "cell_type": "code",
   "execution_count": 44,
   "metadata": {
    "collapsed": true
   },
   "outputs": [],
   "source": [
    "# prepare postgreSQL table\n",
    "\n",
    "create_table_command = (\n",
    "\"\"\"\n",
    "    DROP TABLE masks;\n",
    "    CREAT TABLE masks (\n",
    "        mask_id SERIAL PRIMARY KEY,\n",
    "        mask_name TEXT NOT NULL,\n",
    "        mask_image_path TEXT NOT NULL,\n",
    "        mask_image_size INT\n",
    "    )\n",
    "\"\"\")"
   ]
  },
  {
   "cell_type": "code",
   "execution_count": 45,
   "metadata": {
    "collapsed": true
   },
   "outputs": [],
   "source": [
    "# connect to zbrain2db postgreSQL database\n",
    "\n",
    "conn = psycopg2.connect(dbname='zbrain2db', user='gqe', host='localhost', password='')\n",
    "cursor = conn.cursor()"
   ]
  },
  {
   "cell_type": "code",
   "execution_count": 46,
   "metadata": {
    "collapsed": true
   },
   "outputs": [],
   "source": [
    "# create table masks\n",
    "try:\n",
    "    #cursor.execute(create_table_command)\n",
    "    cursor.close()\n",
    "    conn.commit()\n",
    "except (Exception, psycopg2.DatabaseError) as error:\n",
    "    print error\n",
    "finally:\n",
    "    if conn is not None:\n",
    "        conn.close()"
   ]
  },
  {
   "cell_type": "code",
   "execution_count": 47,
   "metadata": {
    "collapsed": true
   },
   "outputs": [],
   "source": [
    "conn = psycopg2.connect(dbname='zbrain2db', user='gqe', host='localhost', password='')\n",
    "cursor = conn.cursor()"
   ]
  },
  {
   "cell_type": "code",
   "execution_count": 48,
   "metadata": {
    "collapsed": false
   },
   "outputs": [],
   "source": [
    "# for each mask image create an entry in postgreSQL database\n",
    "\n",
    "for i, img in enumerate(masks): # masks = os.listdir(mask_dirs[0])\n",
    "    mask_image_path = img\n",
    "    mask_name = img.split(\"_\")[0]\n",
    "    mask_image_size = os.stat(os.path.join(mask_dirs[0], mask_image_path)).st_size\n",
    "    \n",
    "    insert_command = (\"INSERT INTO masks (mask_id, mask_name, mask_image_path, mask_image_size) values (%i, '%s', '%s', %i)\"\n",
    "                    % (i, mask_name.replace(\"'\", \"''\"), mask_image_path.replace(\"'\", \"''\"), mask_image_size))\n",
    "    \n",
    "    try:\n",
    "        cursor.execute(insert_command)\n",
    "    except Exception, e:\n",
    "        print repr(e)"
   ]
  },
  {
   "cell_type": "code",
   "execution_count": 49,
   "metadata": {
    "collapsed": true
   },
   "outputs": [],
   "source": [
    "cursor.close()\n",
    "conn.commit()"
   ]
  },
  {
   "cell_type": "code",
   "execution_count": 61,
   "metadata": {
    "collapsed": true
   },
   "outputs": [],
   "source": [
    "conn = psycopg2.connect(dbname='zbrain2db', user='gqe', host='localhost', password='')\n",
    "cursor = conn.cursor()\n",
    "cursor.execute('SELECT * FROM masks ORDER BY mask_id')"
   ]
  },
  {
   "cell_type": "code",
   "execution_count": 62,
   "metadata": {
    "collapsed": false
   },
   "outputs": [
    {
     "name": "stdout",
     "output_type": "stream",
     "text": [
      "(0, 'Diencephalon - Anterior group of the posterior tubercular vmat2 neurons', 'Diencephalon - Anterior group of the posterior tubercular vmat2 neurons_slice001.png', 391)\n",
      "(1, 'Diencephalon - Anterior group of the posterior tubercular vmat2 neurons', 'Diencephalon - Anterior group of the posterior tubercular vmat2 neurons_slice002.png', 391)\n",
      "(2, 'Diencephalon - Anterior group of the posterior tubercular vmat2 neurons', 'Diencephalon - Anterior group of the posterior tubercular vmat2 neurons_slice003.png', 391)\n",
      "(3, 'Diencephalon - Anterior group of the posterior tubercular vmat2 neurons', 'Diencephalon - Anterior group of the posterior tubercular vmat2 neurons_slice004.png', 391)\n",
      "(4, 'Diencephalon - Anterior group of the posterior tubercular vmat2 neurons', 'Diencephalon - Anterior group of the posterior tubercular vmat2 neurons_slice005.png', 391)\n",
      "(5, 'Diencephalon - Anterior group of the posterior tubercular vmat2 neurons', 'Diencephalon - Anterior group of the posterior tubercular vmat2 neurons_slice006.png', 391)\n",
      "(6, 'Diencephalon - Anterior group of the posterior tubercular vmat2 neurons', 'Diencephalon - Anterior group of the posterior tubercular vmat2 neurons_slice007.png', 391)\n",
      "(7, 'Diencephalon - Anterior group of the posterior tubercular vmat2 neurons', 'Diencephalon - Anterior group of the posterior tubercular vmat2 neurons_slice008.png', 391)\n",
      "(8, 'Diencephalon - Anterior group of the posterior tubercular vmat2 neurons', 'Diencephalon - Anterior group of the posterior tubercular vmat2 neurons_slice009.png', 391)\n",
      "(9, 'Diencephalon - Anterior group of the posterior tubercular vmat2 neurons', 'Diencephalon - Anterior group of the posterior tubercular vmat2 neurons_slice010.png', 391)\n"
     ]
    }
   ],
   "source": [
    "# list entries\n",
    "\n",
    "rows = cursor.fetchall()\n",
    "for row in rows[0:10]:\n",
    "    print row"
   ]
  },
  {
   "cell_type": "code",
   "execution_count": 58,
   "metadata": {
    "collapsed": false
   },
   "outputs": [
    {
     "name": "stdout",
     "output_type": "stream",
     "text": [
      "40572\n"
     ]
    }
   ],
   "source": [
    "print len(rows)"
   ]
  },
  {
   "cell_type": "code",
   "execution_count": null,
   "metadata": {
    "collapsed": true
   },
   "outputs": [],
   "source": []
  }
 ],
 "metadata": {
  "kernelspec": {
   "display_name": "Python [conda root]",
   "language": "python",
   "name": "conda-root-py"
  },
  "language_info": {
   "codemirror_mode": {
    "name": "ipython",
    "version": 2
   },
   "file_extension": ".py",
   "mimetype": "text/x-python",
   "name": "python",
   "nbconvert_exporter": "python",
   "pygments_lexer": "ipython2",
   "version": "2.7.12"
  }
 },
 "nbformat": 4,
 "nbformat_minor": 1
}
