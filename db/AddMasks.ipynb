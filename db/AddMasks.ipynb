{
 "cells": [
  {
   "cell_type": "code",
   "execution_count": 2,
   "metadata": {
    "collapsed": true
   },
   "outputs": [],
   "source": [
    "import os, sys\n",
    "import numpy as np\n",
    "import psycopg2"
   ]
  },
  {
   "cell_type": "markdown",
   "metadata": {},
   "source": [
    "#### Obtain paths for each colored mask image directory\n"
   ]
  },
  {
   "cell_type": "code",
   "execution_count": null,
   "metadata": {
    "collapsed": false,
    "scrolled": true
   },
   "outputs": [],
   "source": [
    "masks_dir_path = \"../app/assets/images/2-Masks\"\n",
    "mask_dirs = os.listdir(masks_dir_path)\n",
    "mask_dirs = [os.path.join(masks_dir_path, el) for el in mask_dirs]\n",
    "fil = [os.path.isdir(el) for el in mask_dirs]\n",
    "\n",
    "from itertools import compress\n",
    "mask_dirs = list(compress(mask_dirs, fil))\n",
    "print mask_dirs"
   ]
  },
  {
   "cell_type": "code",
   "execution_count": 55,
   "metadata": {
    "collapsed": false
   },
   "outputs": [
    {
     "name": "stdout",
     "output_type": "stream",
     "text": [
      "['Diencephalon - Anterior group of the posterior tubercular vmat2 neurons_slice001.png', 'Diencephalon - Anterior group of the posterior tubercular vmat2 neurons_slice002.png', 'Diencephalon - Anterior group of the posterior tubercular vmat2 neurons_slice003.png', 'Diencephalon - Anterior group of the posterior tubercular vmat2 neurons_slice004.png', 'Diencephalon - Anterior group of the posterior tubercular vmat2 neurons_slice005.png', 'Diencephalon - Anterior group of the posterior tubercular vmat2 neurons_slice006.png', 'Diencephalon - Anterior group of the posterior tubercular vmat2 neurons_slice007.png', 'Diencephalon - Anterior group of the posterior tubercular vmat2 neurons_slice008.png', 'Diencephalon - Anterior group of the posterior tubercular vmat2 neurons_slice009.png', 'Diencephalon - Anterior group of the posterior tubercular vmat2 neurons_slice010.png', 'Diencephalon - Anterior group of the posterior tubercular vmat2 neurons_slice011.png', 'Diencephalon - Anterior group of the posterior tubercular vmat2 neurons_slice012.png', 'Diencephalon - Anterior group of the posterior tubercular vmat2 neurons_slice013.png', 'Diencephalon - Anterior group of the posterior tubercular vmat2 neurons_slice014.png', 'Diencephalon - Anterior group of the posterior tubercular vmat2 neurons_slice015.png', 'Diencephalon - Anterior group of the posterior tubercular vmat2 neurons_slice016.png', 'Diencephalon - Anterior group of the posterior tubercular vmat2 neurons_slice017.png', 'Diencephalon - Anterior group of the posterior tubercular vmat2 neurons_slice018.png', 'Diencephalon - Anterior group of the posterior tubercular vmat2 neurons_slice019.png', 'Diencephalon - Anterior group of the posterior tubercular vmat2 neurons_slice020.png', 'Diencephalon - Anterior group of the posterior tubercular vmat2 neurons_slice021.png', 'Diencephalon - Anterior group of the posterior tubercular vmat2 neurons_slice022.png', 'Diencephalon - Anterior group of the posterior tubercular vmat2 neurons_slice023.png', 'Diencephalon - Anterior group of the posterior tubercular vmat2 neurons_slice024.png', 'Diencephalon - Anterior group of the posterior tubercular vmat2 neurons_slice025.png', 'Diencephalon - Anterior group of the posterior tubercular vmat2 neurons_slice026.png', 'Diencephalon - Anterior group of the posterior tubercular vmat2 neurons_slice027.png', 'Diencephalon - Anterior group of the posterior tubercular vmat2 neurons_slice028.png', 'Diencephalon - Anterior group of the posterior tubercular vmat2 neurons_slice029.png', 'Diencephalon - Anterior group of the posterior tubercular vmat2 neurons_slice030.png', 'Diencephalon - Anterior group of the posterior tubercular vmat2 neurons_slice031.png', 'Diencephalon - Anterior group of the posterior tubercular vmat2 neurons_slice032.png', 'Diencephalon - Anterior group of the posterior tubercular vmat2 neurons_slice033.png', 'Diencephalon - Anterior group of the posterior tubercular vmat2 neurons_slice034.png', 'Diencephalon - Anterior group of the posterior tubercular vmat2 neurons_slice035.png', 'Diencephalon - Anterior group of the posterior tubercular vmat2 neurons_slice036.png', 'Diencephalon - Anterior group of the posterior tubercular vmat2 neurons_slice037.png', 'Diencephalon - Anterior group of the posterior tubercular vmat2 neurons_slice038.png', 'Diencephalon - Anterior group of the posterior tubercular vmat2 neurons_slice039.png', 'Diencephalon - Anterior group of the posterior tubercular vmat2 neurons_slice040.png', 'Diencephalon - Anterior group of the posterior tubercular vmat2 neurons_slice041.png', 'Diencephalon - Anterior group of the posterior tubercular vmat2 neurons_slice042.png', 'Diencephalon - Anterior group of the posterior tubercular vmat2 neurons_slice043.png', 'Diencephalon - Anterior group of the posterior tubercular vmat2 neurons_slice044.png', 'Diencephalon - Anterior group of the posterior tubercular vmat2 neurons_slice045.png', 'Diencephalon - Anterior group of the posterior tubercular vmat2 neurons_slice046.png', 'Diencephalon - Anterior group of the posterior tubercular vmat2 neurons_slice047.png', 'Diencephalon - Anterior group of the posterior tubercular vmat2 neurons_slice048.png', 'Diencephalon - Anterior group of the posterior tubercular vmat2 neurons_slice049.png', 'Diencephalon - Anterior group of the posterior tubercular vmat2 neurons_slice050.png', 'Diencephalon - Anterior group of the posterior tubercular vmat2 neurons_slice051.png', 'Diencephalon - Anterior group of the posterior tubercular vmat2 neurons_slice052.png', 'Diencephalon - Anterior group of the posterior tubercular vmat2 neurons_slice053.png', 'Diencephalon - Anterior group of the posterior tubercular vmat2 neurons_slice054.png', 'Diencephalon - Anterior group of the posterior tubercular vmat2 neurons_slice055.png', 'Diencephalon - Anterior group of the posterior tubercular vmat2 neurons_slice056.png', 'Diencephalon - Anterior group of the posterior tubercular vmat2 neurons_slice057.png', 'Diencephalon - Anterior group of the posterior tubercular vmat2 neurons_slice058.png', 'Diencephalon - Anterior group of the posterior tubercular vmat2 neurons_slice059.png', 'Diencephalon - Anterior group of the posterior tubercular vmat2 neurons_slice060.png', 'Diencephalon - Anterior group of the posterior tubercular vmat2 neurons_slice061.png', 'Diencephalon - Anterior group of the posterior tubercular vmat2 neurons_slice062.png', 'Diencephalon - Anterior group of the posterior tubercular vmat2 neurons_slice063.png', 'Diencephalon - Anterior group of the posterior tubercular vmat2 neurons_slice064.png', 'Diencephalon - Anterior group of the posterior tubercular vmat2 neurons_slice065.png', 'Diencephalon - Anterior group of the posterior tubercular vmat2 neurons_slice066.png', 'Diencephalon - Anterior group of the posterior tubercular vmat2 neurons_slice067.png', 'Diencephalon - Anterior group of the posterior tubercular vmat2 neurons_slice068.png', 'Diencephalon - Anterior group of the posterior tubercular vmat2 neurons_slice069.png', 'Diencephalon - Anterior group of the posterior tubercular vmat2 neurons_slice070.png', 'Diencephalon - Anterior group of the posterior tubercular vmat2 neurons_slice071.png', 'Diencephalon - Anterior group of the posterior tubercular vmat2 neurons_slice072.png', 'Diencephalon - Anterior group of the posterior tubercular vmat2 neurons_slice073.png', 'Diencephalon - Anterior group of the posterior tubercular vmat2 neurons_slice074.png', 'Diencephalon - Anterior group of the posterior tubercular vmat2 neurons_slice075.png', 'Diencephalon - Anterior group of the posterior tubercular vmat2 neurons_slice076.png', 'Diencephalon - Anterior group of the posterior tubercular vmat2 neurons_slice077.png', 'Diencephalon - Anterior group of the posterior tubercular vmat2 neurons_slice078.png', 'Diencephalon - Anterior group of the posterior tubercular vmat2 neurons_slice079.png', 'Diencephalon - Anterior group of the posterior tubercular vmat2 neurons_slice080.png', 'Diencephalon - Anterior group of the posterior tubercular vmat2 neurons_slice081.png', 'Diencephalon - Anterior group of the posterior tubercular vmat2 neurons_slice082.png', 'Diencephalon - Anterior group of the posterior tubercular vmat2 neurons_slice083.png', 'Diencephalon - Anterior group of the posterior tubercular vmat2 neurons_slice084.png', 'Diencephalon - Anterior group of the posterior tubercular vmat2 neurons_slice085.png', 'Diencephalon - Anterior group of the posterior tubercular vmat2 neurons_slice086.png', 'Diencephalon - Anterior group of the posterior tubercular vmat2 neurons_slice087.png', 'Diencephalon - Anterior group of the posterior tubercular vmat2 neurons_slice088.png', 'Diencephalon - Anterior group of the posterior tubercular vmat2 neurons_slice089.png', 'Diencephalon - Anterior group of the posterior tubercular vmat2 neurons_slice090.png', 'Diencephalon - Anterior group of the posterior tubercular vmat2 neurons_slice091.png', 'Diencephalon - Anterior group of the posterior tubercular vmat2 neurons_slice092.png', 'Diencephalon - Anterior group of the posterior tubercular vmat2 neurons_slice093.png', 'Diencephalon - Anterior group of the posterior tubercular vmat2 neurons_slice094.png', 'Diencephalon - Anterior group of the posterior tubercular vmat2 neurons_slice095.png', 'Diencephalon - Anterior group of the posterior tubercular vmat2 neurons_slice096.png', 'Diencephalon - Anterior group of the posterior tubercular vmat2 neurons_slice097.png', 'Diencephalon - Anterior group of the posterior tubercular vmat2 neurons_slice098.png', 'Diencephalon - Anterior group of the posterior tubercular vmat2 neurons_slice099.png', 'Diencephalon - Anterior group of the posterior tubercular vmat2 neurons_slice100.png', 'Diencephalon - Anterior group of the posterior tubercular vmat2 neurons_slice101.png', 'Diencephalon - Anterior group of the posterior tubercular vmat2 neurons_slice102.png', 'Diencephalon - Anterior group of the posterior tubercular vmat2 neurons_slice103.png', 'Diencephalon - Anterior group of the posterior tubercular vmat2 neurons_slice104.png', 'Diencephalon - Anterior group of the posterior tubercular vmat2 neurons_slice105.png', 'Diencephalon - Anterior group of the posterior tubercular vmat2 neurons_slice106.png', 'Diencephalon - Anterior group of the posterior tubercular vmat2 neurons_slice107.png', 'Diencephalon - Anterior group of the posterior tubercular vmat2 neurons_slice108.png', 'Diencephalon - Anterior group of the posterior tubercular vmat2 neurons_slice109.png', 'Diencephalon - Anterior group of the posterior tubercular vmat2 neurons_slice110.png', 'Diencephalon - Anterior group of the posterior tubercular vmat2 neurons_slice111.png', 'Diencephalon - Anterior group of the posterior tubercular vmat2 neurons_slice112.png', 'Diencephalon - Anterior group of the posterior tubercular vmat2 neurons_slice113.png', 'Diencephalon - Anterior group of the posterior tubercular vmat2 neurons_slice114.png', 'Diencephalon - Anterior group of the posterior tubercular vmat2 neurons_slice115.png', 'Diencephalon - Anterior group of the posterior tubercular vmat2 neurons_slice116.png', 'Diencephalon - Anterior group of the posterior tubercular vmat2 neurons_slice117.png', 'Diencephalon - Anterior group of the posterior tubercular vmat2 neurons_slice118.png', 'Diencephalon - Anterior group of the posterior tubercular vmat2 neurons_slice119.png', 'Diencephalon - Anterior group of the posterior tubercular vmat2 neurons_slice120.png', 'Diencephalon - Anterior group of the posterior tubercular vmat2 neurons_slice121.png', 'Diencephalon - Anterior group of the posterior tubercular vmat2 neurons_slice122.png', 'Diencephalon - Anterior group of the posterior tubercular vmat2 neurons_slice123.png', 'Diencephalon - Anterior group of the posterior tubercular vmat2 neurons_slice124.png', 'Diencephalon - Anterior group of the posterior tubercular vmat2 neurons_slice125.png', 'Diencephalon - Anterior group of the posterior tubercular vmat2 neurons_slice126.png', 'Diencephalon - Anterior group of the posterior tubercular vmat2 neurons_slice127.png', 'Diencephalon - Anterior group of the posterior tubercular vmat2 neurons_slice128.png', 'Diencephalon - Anterior group of the posterior tubercular vmat2 neurons_slice129.png', 'Diencephalon - Anterior group of the posterior tubercular vmat2 neurons_slice130.png', 'Diencephalon - Anterior group of the posterior tubercular vmat2 neurons_slice131.png', 'Diencephalon - Anterior group of the posterior tubercular vmat2 neurons_slice132.png', 'Diencephalon - Anterior group of the posterior tubercular vmat2 neurons_slice133.png', 'Diencephalon - Anterior group of the posterior tubercular vmat2 neurons_slice134.png', 'Diencephalon - Anterior group of the posterior tubercular vmat2 neurons_slice135.png', 'Diencephalon - Anterior group of the posterior tubercular vmat2 neurons_slice136.png', 'Diencephalon - Anterior group of the posterior tubercular vmat2 neurons_slice137.png', 'Diencephalon - Anterior group of the posterior tubercular vmat2 neurons_slice138.png', 'Diencephalon - Anterior preoptic dopaminergic cluster_slice001.png', 'Diencephalon - Anterior preoptic dopaminergic cluster_slice002.png', 'Diencephalon - Anterior preoptic dopaminergic cluster_slice003.png', 'Diencephalon - Anterior preoptic dopaminergic cluster_slice004.png', 'Diencephalon - Anterior preoptic dopaminergic cluster_slice005.png', 'Diencephalon - Anterior preoptic dopaminergic cluster_slice006.png', 'Diencephalon - Anterior preoptic dopaminergic cluster_slice007.png', 'Diencephalon - Anterior preoptic dopaminergic cluster_slice008.png', 'Diencephalon - Anterior preoptic dopaminergic cluster_slice009.png', 'Diencephalon - Anterior preoptic dopaminergic cluster_slice010.png', 'Diencephalon - Anterior preoptic dopaminergic cluster_slice011.png', 'Diencephalon - Anterior preoptic dopaminergic cluster_slice012.png', 'Diencephalon - Anterior preoptic dopaminergic cluster_slice013.png', 'Diencephalon - Anterior preoptic dopaminergic cluster_slice014.png', 'Diencephalon - Anterior preoptic dopaminergic cluster_slice015.png', 'Diencephalon - Anterior preoptic dopaminergic cluster_slice016.png', 'Diencephalon - Anterior preoptic dopaminergic cluster_slice017.png', 'Diencephalon - Anterior preoptic dopaminergic cluster_slice018.png', 'Diencephalon - Anterior preoptic dopaminergic cluster_slice019.png', 'Diencephalon - Anterior preoptic dopaminergic cluster_slice020.png', 'Diencephalon - Anterior preoptic dopaminergic cluster_slice021.png', 'Diencephalon - Anterior preoptic dopaminergic cluster_slice022.png', 'Diencephalon - Anterior preoptic dopaminergic cluster_slice023.png', 'Diencephalon - Anterior preoptic dopaminergic cluster_slice024.png', 'Diencephalon - Anterior preoptic dopaminergic cluster_slice025.png', 'Diencephalon - Anterior preoptic dopaminergic cluster_slice026.png', 'Diencephalon - Anterior preoptic dopaminergic cluster_slice027.png', 'Diencephalon - Anterior preoptic dopaminergic cluster_slice028.png', 'Diencephalon - Anterior preoptic dopaminergic cluster_slice029.png', 'Diencephalon - Anterior preoptic dopaminergic cluster_slice030.png', 'Diencephalon - Anterior preoptic dopaminergic cluster_slice031.png', 'Diencephalon - Anterior preoptic dopaminergic cluster_slice032.png', 'Diencephalon - Anterior preoptic dopaminergic cluster_slice033.png', 'Diencephalon - Anterior preoptic dopaminergic cluster_slice034.png', 'Diencephalon - Anterior preoptic dopaminergic cluster_slice035.png', 'Diencephalon - Anterior preoptic dopaminergic cluster_slice036.png', 'Diencephalon - Anterior preoptic dopaminergic cluster_slice037.png', 'Diencephalon - Anterior preoptic dopaminergic cluster_slice038.png', 'Diencephalon - Anterior preoptic dopaminergic cluster_slice039.png', 'Diencephalon - Anterior preoptic dopaminergic cluster_slice040.png', 'Diencephalon - Anterior preoptic dopaminergic cluster_slice041.png', 'Diencephalon - Anterior preoptic dopaminergic cluster_slice042.png', 'Diencephalon - Anterior preoptic dopaminergic cluster_slice043.png', 'Diencephalon - Anterior preoptic dopaminergic cluster_slice044.png', 'Diencephalon - Anterior preoptic dopaminergic cluster_slice045.png', 'Diencephalon - Anterior preoptic dopaminergic cluster_slice046.png', 'Diencephalon - Anterior preoptic dopaminergic cluster_slice047.png', 'Diencephalon - Anterior preoptic dopaminergic cluster_slice048.png', 'Diencephalon - Anterior preoptic dopaminergic cluster_slice049.png', 'Diencephalon - Anterior preoptic dopaminergic cluster_slice050.png', 'Diencephalon - Anterior preoptic dopaminergic cluster_slice051.png', 'Diencephalon - Anterior preoptic dopaminergic cluster_slice052.png', 'Diencephalon - Anterior preoptic dopaminergic cluster_slice053.png', 'Diencephalon - Anterior preoptic dopaminergic cluster_slice054.png', 'Diencephalon - Anterior preoptic dopaminergic cluster_slice055.png', 'Diencephalon - Anterior preoptic dopaminergic cluster_slice056.png', 'Diencephalon - Anterior preoptic dopaminergic cluster_slice057.png', 'Diencephalon - Anterior preoptic dopaminergic cluster_slice058.png', 'Diencephalon - Anterior preoptic dopaminergic cluster_slice059.png', 'Diencephalon - Anterior preoptic dopaminergic cluster_slice060.png', 'Diencephalon - Anterior preoptic dopaminergic cluster_slice061.png', 'Diencephalon - Anterior preoptic dopaminergic cluster_slice062.png', 'Diencephalon - Anterior preoptic dopaminergic cluster_slice063.png', 'Diencephalon - Anterior preoptic dopaminergic cluster_slice064.png', 'Diencephalon - Anterior preoptic dopaminergic cluster_slice065.png', 'Diencephalon - Anterior preoptic dopaminergic cluster_slice066.png', 'Diencephalon - Anterior preoptic dopaminergic cluster_slice067.png', 'Diencephalon - Anterior preoptic dopaminergic cluster_slice068.png', 'Diencephalon - Anterior preoptic dopaminergic cluster_slice069.png', 'Diencephalon - Anterior preoptic dopaminergic cluster_slice070.png', 'Diencephalon - Anterior preoptic dopaminergic cluster_slice071.png', 'Diencephalon - Anterior preoptic dopaminergic cluster_slice072.png', 'Diencephalon - Anterior preoptic dopaminergic cluster_slice073.png', 'Diencephalon - Anterior preoptic dopaminergic cluster_slice074.png', 'Diencephalon - Anterior preoptic dopaminergic cluster_slice075.png', 'Diencephalon - Anterior preoptic dopaminergic cluster_slice076.png', 'Diencephalon - Anterior preoptic dopaminergic cluster_slice077.png', 'Diencephalon - Anterior preoptic dopaminergic cluster_slice078.png', 'Diencephalon - Anterior preoptic dopaminergic cluster_slice079.png', 'Diencephalon - Anterior preoptic dopaminergic cluster_slice080.png', 'Diencephalon - Anterior preoptic dopaminergic cluster_slice081.png', 'Diencephalon - Anterior preoptic dopaminergic cluster_slice082.png', 'Diencephalon - Anterior preoptic dopaminergic cluster_slice083.png', 'Diencephalon - Anterior preoptic dopaminergic cluster_slice084.png', 'Diencephalon - Anterior preoptic dopaminergic cluster_slice085.png', 'Diencephalon - Anterior preoptic dopaminergic cluster_slice086.png', 'Diencephalon - Anterior preoptic dopaminergic cluster_slice087.png', 'Diencephalon - Anterior preoptic dopaminergic cluster_slice088.png', 'Diencephalon - Anterior preoptic dopaminergic cluster_slice089.png', 'Diencephalon - Anterior preoptic dopaminergic cluster_slice090.png', 'Diencephalon - Anterior preoptic dopaminergic cluster_slice091.png', 'Diencephalon - Anterior preoptic dopaminergic cluster_slice092.png', 'Diencephalon - Anterior preoptic dopaminergic cluster_slice093.png', 'Diencephalon - Anterior preoptic dopaminergic cluster_slice094.png', 'Diencephalon - Anterior preoptic dopaminergic cluster_slice095.png', 'Diencephalon - Anterior preoptic dopaminergic cluster_slice096.png', 'Diencephalon - Anterior preoptic dopaminergic cluster_slice097.png', 'Diencephalon - Anterior preoptic dopaminergic cluster_slice098.png', 'Diencephalon - Anterior preoptic dopaminergic cluster_slice099.png', 'Diencephalon - Anterior preoptic dopaminergic cluster_slice100.png', 'Diencephalon - Anterior preoptic dopaminergic cluster_slice101.png', 'Diencephalon - Anterior preoptic dopaminergic cluster_slice102.png', 'Diencephalon - Anterior preoptic dopaminergic cluster_slice103.png', 'Diencephalon - Anterior preoptic dopaminergic cluster_slice104.png', 'Diencephalon - Anterior preoptic dopaminergic cluster_slice105.png', 'Diencephalon - Anterior preoptic dopaminergic cluster_slice106.png', 'Diencephalon - Anterior preoptic dopaminergic cluster_slice107.png', 'Diencephalon - Anterior preoptic dopaminergic cluster_slice108.png', 'Diencephalon - Anterior preoptic dopaminergic cluster_slice109.png', 'Diencephalon - Anterior preoptic dopaminergic cluster_slice110.png', 'Diencephalon - Anterior preoptic dopaminergic cluster_slice111.png', 'Diencephalon - Anterior preoptic dopaminergic cluster_slice112.png', 'Diencephalon - Anterior preoptic dopaminergic cluster_slice113.png', 'Diencephalon - Anterior preoptic dopaminergic cluster_slice114.png', 'Diencephalon - Anterior preoptic dopaminergic cluster_slice115.png', 'Diencephalon - Anterior preoptic dopaminergic cluster_slice116.png', 'Diencephalon - Anterior preoptic dopaminergic cluster_slice117.png', 'Diencephalon - Anterior preoptic dopaminergic cluster_slice118.png', 'Diencephalon - Anterior preoptic dopaminergic cluster_slice119.png', 'Diencephalon - Anterior preoptic dopaminergic cluster_slice120.png', 'Diencephalon - Anterior preoptic dopaminergic cluster_slice121.png', 'Diencephalon - Anterior preoptic dopaminergic cluster_slice122.png', 'Diencephalon - Anterior preoptic dopaminergic cluster_slice123.png', 'Diencephalon - Anterior preoptic dopaminergic cluster_slice124.png', 'Diencephalon - Anterior preoptic dopaminergic cluster_slice125.png', 'Diencephalon - Anterior preoptic dopaminergic cluster_slice126.png', 'Diencephalon - Anterior preoptic dopaminergic cluster_slice127.png', 'Diencephalon - Anterior preoptic dopaminergic cluster_slice128.png', 'Diencephalon - Anterior preoptic dopaminergic cluster_slice129.png', 'Diencephalon - Anterior preoptic dopaminergic cluster_slice130.png', 'Diencephalon - Anterior preoptic dopaminergic cluster_slice131.png', 'Diencephalon - Anterior preoptic dopaminergic cluster_slice132.png', 'Diencephalon - Anterior preoptic dopaminergic cluster_slice133.png', 'Diencephalon - Anterior preoptic dopaminergic cluster_slice134.png', 'Diencephalon - Anterior preoptic dopaminergic cluster_slice135.png', 'Diencephalon - Anterior preoptic dopaminergic cluster_slice136.png', 'Diencephalon - Anterior preoptic dopaminergic cluster_slice137.png', 'Diencephalon - Anterior preoptic dopaminergic cluster_slice138.png', 'Diencephalon - Anterior pretectum cluster of vmat2 Neurons_slice001.png', 'Diencephalon - Anterior pretectum cluster of vmat2 Neurons_slice002.png', 'Diencephalon - Anterior pretectum cluster of vmat2 Neurons_slice003.png', 'Diencephalon - Anterior pretectum cluster of vmat2 Neurons_slice004.png', 'Diencephalon - Anterior pretectum cluster of vmat2 Neurons_slice005.png', 'Diencephalon - Anterior pretectum cluster of vmat2 Neurons_slice006.png', 'Diencephalon - Anterior pretectum cluster of vmat2 Neurons_slice007.png', 'Diencephalon - Anterior pretectum cluster of vmat2 Neurons_slice008.png', 'Diencephalon - Anterior pretectum cluster of vmat2 Neurons_slice009.png', 'Diencephalon - Anterior pretectum cluster of vmat2 Neurons_slice010.png', 'Diencephalon - Anterior pretectum cluster of vmat2 Neurons_slice011.png', 'Diencephalon - Anterior pretectum cluster of vmat2 Neurons_slice012.png', 'Diencephalon - Anterior pretectum cluster of vmat2 Neurons_slice013.png', 'Diencephalon - Anterior pretectum cluster of vmat2 Neurons_slice014.png', 'Diencephalon - Anterior pretectum cluster of vmat2 Neurons_slice015.png', 'Diencephalon - Anterior pretectum cluster of vmat2 Neurons_slice016.png', 'Diencephalon - Anterior pretectum cluster of vmat2 Neurons_slice017.png', 'Diencephalon - Anterior pretectum cluster of vmat2 Neurons_slice018.png', 'Diencephalon - Anterior pretectum cluster of vmat2 Neurons_slice019.png', 'Diencephalon - Anterior pretectum cluster of vmat2 Neurons_slice020.png', 'Diencephalon - Anterior pretectum cluster of vmat2 Neurons_slice021.png', 'Diencephalon - Anterior pretectum cluster of vmat2 Neurons_slice022.png', 'Diencephalon - Anterior pretectum cluster of vmat2 Neurons_slice023.png', 'Diencephalon - Anterior pretectum cluster of vmat2 Neurons_slice024.png']\n",
      "['Diencephalon', 'Diencephalon - Anterior group of the posterior tubercular vmat2 neurons', 'Diencephalon - Anterior preoptic dopaminergic cluster', 'Diencephalon - Anterior pretectum cluster of vmat2 Neurons', 'Diencephalon - Caudal Hypothalamus']\n"
     ]
    }
   ],
   "source": [
    "# obtain mask names for every mask image\n",
    "\n",
    "masks = os.listdir(mask_dirs[0])\n",
    "masks.sort()\n",
    "mask_names = [el.split(\"_\")[0] for el in masks]\n",
    "mask_names = list(set(mask_names))\n",
    "mask_names = [mask[:-2] if mask.endswith(\" -\") else mask for mask in mask_names]\n",
    "mask_names.sort()\n",
    "print mask_names[:5]\n"
   ]
  },
  {
   "cell_type": "code",
   "execution_count": 45,
   "metadata": {},
   "outputs": [
    {
     "data": {
      "text/plain": [
       "['Telencephalon - S1181t Cluster',\n",
       " 'Rhombencephalon - Inferior Olive',\n",
       " 'Spinal Cord',\n",
       " 'Rhombencephalon - Caudal Ventral Cluster Labelled by Spinal Backfills',\n",
       " 'Diencephalon']"
      ]
     },
     "execution_count": 45,
     "metadata": {},
     "output_type": "execute_result"
    }
   ],
   "source": [
    "# create numeric id_dict for mask names\n",
    "mask_dict = dict()\n",
    "for i, mask in enumerate(mask_names, 1001):\n",
    "    mask_dict[mask] = i\n",
    "mask_dict.keys()[:5]"
   ]
  },
  {
   "cell_type": "code",
   "execution_count": 46,
   "metadata": {
    "collapsed": false
   },
   "outputs": [
    {
     "name": "stdout",
     "output_type": "stream",
     "text": [
      "391\n"
     ]
    }
   ],
   "source": [
    "# check file size of a single mask image\n",
    "\n",
    "example_mask_image = os.listdir(mask_dirs[0])[0]\n",
    "example_mask_image = os.path.join(mask_dirs[0], example_mask_image)\n",
    "print os.stat(example_mask_image).st_size"
   ]
  },
  {
   "cell_type": "code",
   "execution_count": 47,
   "metadata": {
    "collapsed": true
   },
   "outputs": [],
   "source": [
    "# prepare postgreSQL table\n",
    "\n",
    "create_table_command = (\n",
    "\"\"\"\n",
    "    DROP TABLE masks;\n",
    "    CREATE TABLE masks (\n",
    "        mask_img_id SERIAL PRIMARY KEY,\n",
    "        mask_name TEXT NOT NULL,\n",
    "        mask_id INT NOT NULL,\n",
    "        mask_image_path TEXT NOT NULL,\n",
    "        mask_image_size INT\n",
    "    )\n",
    "\"\"\")"
   ]
  },
  {
   "cell_type": "code",
   "execution_count": 3,
   "metadata": {
    "collapsed": true
   },
   "outputs": [],
   "source": [
    "# connect to zbrain2db database\n",
    "\n",
    "conn = psycopg2.connect(dbname='zbrain2db', user='gqe', host='localhost', password='')\n",
    "cursor = conn.cursor()"
   ]
  },
  {
   "cell_type": "code",
   "execution_count": 49,
   "metadata": {
    "collapsed": false
   },
   "outputs": [],
   "source": [
    "# create table masks\n",
    "try:\n",
    "    cursor.execute(create_table_command)\n",
    "    cursor.close()\n",
    "    conn.commit()\n",
    "except (Exception, psycopg2.DatabaseError) as error:\n",
    "    print error\n",
    "finally:\n",
    "    if conn is not None:\n",
    "        conn.close()"
   ]
  },
  {
   "cell_type": "code",
   "execution_count": 50,
   "metadata": {
    "collapsed": true
   },
   "outputs": [],
   "source": [
    "conn = psycopg2.connect(dbname='zbrain2db', user='gqe', host='localhost', password='')\n",
    "cursor = conn.cursor()"
   ]
  },
  {
   "cell_type": "code",
   "execution_count": 51,
   "metadata": {
    "collapsed": false
   },
   "outputs": [],
   "source": [
    "# for each mask image create an entry in postgreSQL database\n",
    "\n",
    "for i, img in enumerate(masks): # masks = os.listdir(mask_dirs[0])\n",
    "    mask_image_path = img\n",
    "    mask_name = img.split(\"_\")[0]\n",
    "    mask_id = mask_dict[mask_name]\n",
    "    mask_image_size = os.stat(os.path.join(mask_dirs[0], mask_image_path)).st_size\n",
    "    \n",
    "    insert_command = (\"INSERT INTO masks (mask_img_id, mask_name, mask_id, mask_image_path, mask_image_size) values (%i, '%s', %i, '%s', %i)\"\n",
    "                    % (i, mask_name.replace(\"'\", \"''\"), mask_id, mask_image_path.replace(\"'\", \"''\"), mask_image_size))\n",
    "    \n",
    "    try:\n",
    "        cursor.execute(insert_command)\n",
    "    except Exception, e:\n",
    "        print repr(e)"
   ]
  },
  {
   "cell_type": "code",
   "execution_count": 52,
   "metadata": {
    "collapsed": true
   },
   "outputs": [],
   "source": [
    "cursor.close()\n",
    "conn.commit()"
   ]
  },
  {
   "cell_type": "code",
   "execution_count": 53,
   "metadata": {
    "collapsed": true
   },
   "outputs": [],
   "source": [
    "conn = psycopg2.connect(dbname='zbrain2db', user='gqe', host='localhost', password='')\n",
    "cursor = conn.cursor()\n",
    "cursor.execute('SELECT * FROM masks ORDER BY mask_img_id')"
   ]
  },
  {
   "cell_type": "code",
   "execution_count": 54,
   "metadata": {
    "collapsed": false
   },
   "outputs": [
    {
     "name": "stdout",
     "output_type": "stream",
     "text": [
      "(0, 'Diencephalon - Anterior group of the posterior tubercular vmat2 neurons', 1002, 'Diencephalon - Anterior group of the posterior tubercular vmat2 neurons_slice001.png', 391)\n",
      "(1, 'Diencephalon - Anterior group of the posterior tubercular vmat2 neurons', 1002, 'Diencephalon - Anterior group of the posterior tubercular vmat2 neurons_slice002.png', 391)\n",
      "(2, 'Diencephalon - Anterior group of the posterior tubercular vmat2 neurons', 1002, 'Diencephalon - Anterior group of the posterior tubercular vmat2 neurons_slice003.png', 391)\n",
      "(3, 'Diencephalon - Anterior group of the posterior tubercular vmat2 neurons', 1002, 'Diencephalon - Anterior group of the posterior tubercular vmat2 neurons_slice004.png', 391)\n",
      "(4, 'Diencephalon - Anterior group of the posterior tubercular vmat2 neurons', 1002, 'Diencephalon - Anterior group of the posterior tubercular vmat2 neurons_slice005.png', 391)\n",
      "(5, 'Diencephalon - Anterior group of the posterior tubercular vmat2 neurons', 1002, 'Diencephalon - Anterior group of the posterior tubercular vmat2 neurons_slice006.png', 391)\n",
      "(6, 'Diencephalon - Anterior group of the posterior tubercular vmat2 neurons', 1002, 'Diencephalon - Anterior group of the posterior tubercular vmat2 neurons_slice007.png', 391)\n",
      "(7, 'Diencephalon - Anterior group of the posterior tubercular vmat2 neurons', 1002, 'Diencephalon - Anterior group of the posterior tubercular vmat2 neurons_slice008.png', 391)\n",
      "(8, 'Diencephalon - Anterior group of the posterior tubercular vmat2 neurons', 1002, 'Diencephalon - Anterior group of the posterior tubercular vmat2 neurons_slice009.png', 391)\n",
      "(9, 'Diencephalon - Anterior group of the posterior tubercular vmat2 neurons', 1002, 'Diencephalon - Anterior group of the posterior tubercular vmat2 neurons_slice010.png', 391)\n"
     ]
    }
   ],
   "source": [
    "# list entries\n",
    "\n",
    "rows = cursor.fetchall()\n",
    "for row in rows[0:10]:\n",
    "    print row"
   ]
  },
  {
   "cell_type": "code",
   "execution_count": 40,
   "metadata": {
    "collapsed": false
   },
   "outputs": [
    {
     "name": "stdout",
     "output_type": "stream",
     "text": [
      "40572\n"
     ]
    }
   ],
   "source": [
    "print len(rows)"
   ]
  },
  {
   "cell_type": "code",
   "execution_count": null,
   "metadata": {
    "collapsed": true
   },
   "outputs": [],
   "source": []
  }
 ],
 "metadata": {
  "anaconda-cloud": {},
  "kernelspec": {
   "display_name": "Python [conda root]",
   "language": "python",
   "name": "conda-root-py"
  },
  "language_info": {
   "codemirror_mode": {
    "name": "ipython",
    "version": 2
   },
   "file_extension": ".py",
   "mimetype": "text/x-python",
   "name": "python",
   "nbconvert_exporter": "python",
   "pygments_lexer": "ipython2",
   "version": "2.7.14"
  }
 },
 "nbformat": 4,
 "nbformat_minor": 2
}
