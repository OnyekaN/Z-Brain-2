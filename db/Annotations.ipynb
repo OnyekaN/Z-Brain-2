{
 "cells": [
  {
   "cell_type": "markdown",
   "metadata": {},
   "source": [
    "## Create PostgreSQL Table for Lines Annotations"
   ]
  },
  {
   "cell_type": "code",
   "execution_count": 1,
   "metadata": {},
   "outputs": [],
   "source": [
    "import os, sys, csv\n",
    "import psycopg2"
   ]
  },
  {
   "cell_type": "markdown",
   "metadata": {},
   "source": [
    "#### Obtain data from Zbr Annotations spreadsheet"
   ]
  },
  {
   "cell_type": "code",
   "execution_count": 2,
   "metadata": {},
   "outputs": [],
   "source": [
    "zbr_path = os.path.dirname(os.path.realpath('__file__')) + \"/ZB_Annotations.csv\"\n",
    "etr_path = os.path.dirname(os.path.realpath('__file__')) + \"/Website Formation.csv\"\n"
   ]
  },
  {
   "cell_type": "code",
   "execution_count": 3,
   "metadata": {},
   "outputs": [
    {
     "name": "stdout",
     "output_type": "stream",
     "text": [
      "{'Name': '6.7FRhcrtR-Gal4-uasKaede', 'Identifier (Name)': 'a150Tg ; Tg(UAS:Kaede)\\t\\n', 'Identifier (Link)': 'http://zfin.org/action/feature/view/ZDB-ALT-151028-3 ; http://zfin.org/ZDB-TGCONSTRCT-070117-81', 'Keywords': ['Tg(-6.7Tru.Hcrt:GAL4-VP16)', 'Tg(Uas:Kaede)', 'Hypocretin receptor', 'Vestibular', 'Gal4', 'UAS', 'Kaede'], 'Regions of Expression': '', 'Number of Fish Imaged': '12', 'Source (Reagent)': 'Schier Lab, Engert Lab, Baier Lab', 'Source (Images)': 'Schier, Engert', 'Notes': '5KB upstream region of the hypocretin receptor driving Gal4 expression. Labels neurons in the vestibular nucleus important for the vestibulo-ocular reflex', 'References': 'Randlett et al., Nature Methods, 2015, doi:10.1038/nmeth.3581 , Schoppik et al., J.Neurosci, 2017; DOI: https://doi.org/10.1523/JNEUROSCI.1711-17.2017'}\n",
      "dict_keys(['6.7FRhcrtR-Gal4-uasKaede', 'Anti-5HT', 'Anti-Gad67', 'Anti-GlyR', 'Anti-TH', 'Anti-Zn12(Hnk-1)', 'Anti-Zn1', 'Anti-Znp1(Synaptotagmin2)', 'Anti-Zrf1(GFAP)', 'Anti-Zrf2', 'Anti-tERK', 'Elavl3-GCaMP5G', 'Elavl3-H2BRFP', 'EtVmat2-GFP', 'Gad1b-GFP', 'Glyt2-GFP', 'Hcrt-RFP', 'Isl1-GFP', 'Isl2bGal4-uasDendra', 'Olig2-GFP', 'Otpb.A-Nsfb-GFP', 'Otpb.A-Gal4-UAS-GCaMP', 'Oxtl-GFP', 'Pet1-GFP', 'Ptf1aGal4-uasKaede', 'Qrfp-GFP', 'S1181tGal4-uasKaede', 'SpinalBackfills', 'Vglut2a-GFP', 'HGn39D'])\n"
     ]
    }
   ],
   "source": [
    "with open(zbr_path) as zbr_csv:\n",
    "    \n",
    "    csvreader = list(csv.reader(zbr_csv, dialect=csv.excel_tab,\n",
    "                    delimiter=',', quotechar='\"'))\n",
    "    table = csvreader[1:]\n",
    "    headers = csvreader[0]\n",
    "    csv_dict = dict()\n",
    "    \n",
    "    for i, row in enumerate(table):\n",
    "        if not row[0]:\n",
    "            continue\n",
    "        current_row = csv_dict[row[0]] = dict()\n",
    "        for j, col in enumerate(row):\n",
    "            if headers[j] == 'Keywords':\n",
    "                col = col.split(', ')\n",
    "            current_row[headers[j]] = col\n",
    "            \n",
    "    print(csv_dict[list(csv_dict.keys())[0]])\n",
    "    print(csv_dict.keys())"
   ]
  },
  {
   "cell_type": "code",
   "execution_count": 4,
   "metadata": {},
   "outputs": [],
   "source": [
    "with open(etr_path) as etr_csv:\n",
    "          csvreader = csv.reader(etr_csv, dialect=csv.excel_tab,\n",
    "                    delimiter=',', quotechar='\"')\n",
    "\n",
    "          linesDict = dict()\n",
    "          line = dict()\n",
    "\n",
    "          for i, row in enumerate(csvreader):\n",
    "               for j, col in enumerate(row):\n",
    "                    if i == 0:\n",
    "                         line[j] = col\n",
    "                         linesDict[line[j]] = dict()\n",
    "                         linesDict[line[j]]['Line Number'] = col\n",
    "                         linesDict[line[j]]['Annotations'] = []\n",
    "                    else:\n",
    "                         if col != '' and col not in linesDict[line[j]]['Annotations']:\n",
    "                              linesDict[line[j]]['Annotations'].append(col)\n"
   ]
  },
  {
   "cell_type": "markdown",
   "metadata": {},
   "source": [
    "### Merge dicts"
   ]
  },
  {
   "cell_type": "code",
   "execution_count": 5,
   "metadata": {},
   "outputs": [
    {
     "name": "stdout",
     "output_type": "stream",
     "text": [
      "{'6.7FRhcrtR-Gal4-uasKaede': {'Name': '6.7FRhcrtR-Gal4-uasKaede', 'Identifier (Name)': 'a150Tg ; Tg(UAS:Kaede)\\t\\n', 'Identifier (Link)': 'http://zfin.org/action/feature/view/ZDB-ALT-151028-3 ; http://zfin.org/ZDB-TGCONSTRCT-070117-81', 'Keywords': ['Tg(-6.7Tru.Hcrt:GAL4-VP16)', 'Tg(Uas:Kaede)', 'Hypocretin receptor', 'Vestibular', 'Gal4', 'UAS', 'Kaede'], 'Regions of Expression': '', 'Number of Fish Imaged': '12', 'Source (Reagent)': 'Schier Lab, Engert Lab, Baier Lab', 'Source (Images)': 'Schier, Engert', 'Notes': '5KB upstream region of the hypocretin receptor driving Gal4 expression. Labels neurons in the vestibular nucleus important for the vestibulo-ocular reflex', 'References': 'Randlett et al., Nature Methods, 2015, doi:10.1038/nmeth.3581 , Schoppik et al., J.Neurosci, 2017; DOI: https://doi.org/10.1523/JNEUROSCI.1711-17.2017'}, 'Anti-5HT': {'Name': 'Anti-5HT', 'Identifier (Name)': 'Ab1-serotonin', 'Identifier (Link)': 'http://zfin.org/ZDB-ATB-081017-7', 'Keywords': ['Serotonin', '5HT', 'antibody'], 'Regions of Expression': '', 'Number of Fish Imaged': '40', 'Source (Reagent)': 'Sigma', 'Source (Images)': 'Schier, Engert', 'Notes': 'Used at 1:100 AB concentration, Staining quality is relatively poor, with lots of background', 'References': 'Randlett et al., Nature Methods, 2015, doi:10.1038/nmeth.3581'}, 'Anti-Gad67': {'Name': 'Anti-Gad67', 'Identifier (Name)': 'Ab1-gad', 'Identifier (Link)': 'http://zfin.org/ZDB-ATB-090617-2', 'Keywords': ['Gad65', 'Gad67', 'Glutamic Acid Decarboxylase', 'GABA', 'antibody'], 'Regions of Expression': '', 'Number of Fish Imaged': '17', 'Source (Reagent)': 'Millipore', 'Source (Images)': 'Schier, Engert', 'Notes': 'Stains Gad65 + Gad67, used at 1:100', 'References': 'Randlett et al., Nature Methods, 2015, doi:10.1038/nmeth.3581'}, 'Anti-GlyR': {'Name': 'Anti-GlyR', 'Identifier (Name)': 'Ab1-glra', 'Identifier (Link)': 'http://zfin.org/ZDB-ATB-090218-2', 'Keywords': ['Glycine Receptor', 'GlyR4a', 'antibody'], 'Regions of Expression': '', 'Number of Fish Imaged': '160', 'Source (Reagent)': 'Synaptic Systems', 'Source (Images)': 'Schier, Engert', 'Notes': 'Synaptic Systems mAb4a, used 1:100, http://www.sysy.com/products/glycrec/facts-146011.php', 'References': 'Randlett et al., Nature Methods, 2015, doi:10.1038/nmeth.3581'}, 'Anti-TH': {'Name': 'Anti-TH', 'Identifier (Name)': 'Ab4-th', 'Identifier (Link)': 'http://zfin.org/ZDB-ATB-081017-7', 'Keywords': ['tyrosine hydroxylase', 'TH', 'dopamine', 'noradrenaline', 'antibody'], 'Regions of Expression': '', 'Number of Fish Imaged': '10', 'Source (Reagent)': 'Millipore', 'Source (Images)': 'Schier, Engert', 'Notes': 'Millipore AB152, used 1:500', 'References': 'Randlett et al., Nature Methods, 2015, doi:10.1038/nmeth.3581'}, 'Anti-Zn12(Hnk-1)': {'Name': 'Anti-Zn12(Hnk-1)', 'Identifier (Name)': 'zn-12', 'Identifier (Link)': 'http://zfin.org/ZDB-ATB-081002-12', 'Keywords': ['zn-12', 'zn12', 'Hnk-1'], 'Regions of Expression': '', 'Number of Fish Imaged': '9', 'Source (Reagent)': 'ZIRC', 'Source (Images)': 'Schier, Engert', 'Notes': 'ZIRC antibody collection, used 1:500', 'References': 'Randlett et al., Nature Methods, 2015, doi:10.1038/nmeth.3581'}, 'Anti-Zn1': {'Name': 'Anti-Zn1', 'Identifier (Name)': 'zn-1', 'Identifier (Link)': 'http://zfin.org/ZDB-ATB-081002-9', 'Keywords': ['zn1'], 'Regions of Expression': '', 'Number of Fish Imaged': '10', 'Source (Reagent)': 'ZIRC', 'Source (Images)': 'Schier, Engert', 'Notes': 'ZIRC antibody collection, used 1:1000', 'References': 'Randlett et al., Nature Methods, 2015, doi:10.1038/nmeth.3581'}, 'Anti-Znp1(Synaptotagmin2)': {'Name': 'Anti-Znp1(Synaptotagmin2)', 'Identifier (Name)': 'znp-1', 'Identifier (Link)': 'http://zfin.org/ZDB-ATB-081002-25', 'Keywords': ['znp1', 'anti-synaptotagmin 2', 'anti-syt2'], 'Regions of Expression': '', 'Number of Fish Imaged': '118', 'Source (Reagent)': 'ZIRC', 'Source (Images)': 'Schier, Engert', 'Notes': 'ZIRC antibody collection, used 1:200', 'References': 'Randlett et al., Nature Methods, 2015, doi:10.1038/nmeth.3581'}, 'Anti-Zrf1(GFAP)': {'Name': 'Anti-Zrf1(GFAP)', 'Identifier (Name)': 'zrf-1', 'Identifier (Link)': 'http://zfin.org/ZDB-ATB-081002-46', 'Keywords': ['zrf1', 'GFAP'], 'Regions of Expression': '', 'Number of Fish Imaged': '5', 'Source (Reagent)': 'ZIRC', 'Source (Images)': 'Schier, Engert', 'Notes': 'ZIRC antibody collection, used 1:1000', 'References': 'Randlett et al., Nature Methods, 2015, doi:10.1038/nmeth.3581'}, 'Anti-Zrf2': {'Name': 'Anti-Zrf2', 'Identifier (Name)': 'zrf-2', 'Identifier (Link)': 'http://zfin.org/ZDB-ATB-081002-47', 'Keywords': ['zrf2'], 'Regions of Expression': '', 'Number of Fish Imaged': '5', 'Source (Reagent)': 'ZIRC', 'Source (Images)': 'Schier, Engert', 'Notes': 'ZIRC antibody collection, used 1:500, http://zfin.org/ZDB-ATB-081002-47', 'References': 'Randlett et al., Nature Methods, 2015, doi:10.1038/nmeth.3581'}, 'Anti-tERK': {'Name': 'Anti-tERK', 'Identifier (Name)': 'p44/42 MAPK (Erk1/2) (L34F12) Mouse mAb #4696', 'Identifier (Link)': 'https://www.cellsignal.com/products/primary-antibodies/p44-42-mapk-erk1-2-l34f12-mouse-mab/4696', 'Keywords': ['ERK', 'p44/42 MAPK'], 'Regions of Expression': 'Global', 'Number of Fish Imaged': '193', 'Source (Reagent)': 'Cell Signaling Technology', 'Source (Images)': 'Schier, Engert', 'Notes': 'Cell Signalling #4696, used 1:500', 'References': 'Randlett et al., Nature Methods, 2015, doi:10.1038/nmeth.3581'}, 'Elavl3-GCaMP5G': {'Name': 'Elavl3-GCaMP5G', 'Identifier (Name)': 'a4598Tg', 'Identifier (Link)': 'http://zfin.org/ZDB-ALT-130924-1', 'Keywords': ['Tg(elavl3:GCaMP5G)a4598', 'HuC', 'Elavl3', 'GCaMP', 'GCaMP5G', 'Ca2+', 'cytoplasmic'], 'Regions of Expression': 'Pan-neuronal', 'Number of Fish Imaged': '7', 'Source (Reagent)': 'Schier Lab', 'Source (Images)': 'Schier, Engert', 'Notes': '', 'References': 'Ahrens et al., (2013) Nature Methods, 10(5), 413–420. doi:10.1038/nmeth.2434 , Randlett et al., Nature Methods, 2015, doi:10.1038/nmeth.3581'}, 'Elavl3-H2BRFP': {'Name': 'Elavl3-H2BRFP', 'Identifier (Name)': 'a154Tg', 'Identifier (Link)': 'http://zfin.org/ZDB-ALT-160404-4', 'Keywords': ['Tg(elavl3:Hsa.HIST2H2BE-RFP)', 'H2B', 'Histone', 'RFP', 'nuclear'], 'Regions of Expression': 'Pan-neuronal', 'Number of Fish Imaged': '10', 'Source (Reagent)': 'Engert Lab', 'Source (Images)': 'Schier, Engert', 'Notes': '', 'References': 'Randlett et al., Nature Methods, 2015, doi:10.1038/nmeth.3581'}, 'EtVmat2-GFP': {'Name': 'EtVmat2-GFP', 'Identifier (Name)': 'pku2Et', 'Identifier (Link)': 'http://zfin.org/ZDB-ALT-080514-1', 'Keywords': ['Et(gata2:GFP)zf81', 'Et(gata2a:EGFP)pku2', 'Et(gata2a:GFP)zf81', 'ETvmat2:GFP', 'zf81', 'Vmat', 'monoamine'], 'Regions of Expression': '', 'Number of Fish Imaged': '55', 'Source (Reagent)': 'PKU Zebrafish Functional Genomics Group', 'Source (Images)': 'Schier, Engert', 'Notes': '', 'References': 'Wen et al., (2008) Developmental Biology, 314(1), 84–92. doi:10.1016/j.ydbio.2007.11.012 , Randlett et al., Nature Methods, 2015, doi:10.1038/nmeth.3581'}, 'Gad1b-GFP': {'Name': 'Gad1b-GFP', 'Identifier (Name)': 'nns25Tg', 'Identifier (Link)': 'http://zfin.org/ZDB-ALT-131127-6', 'Keywords': ['Tg(oxt.2:EGFP)gu1', 'Gad1b', 'GABA'], 'Regions of Expression': 'GABAergic neurons, broad', 'Number of Fish Imaged': '10', 'Source (Reagent)': 'Higashijima Lab', 'Source (Images)': 'Schier, Engert', 'Notes': '', 'References': 'Satou et al., (2013) Development, 140(18), 3927–3931. doi:10.1242/dev.099531 , Randlett et al., Nature Methods, 2015, doi:10.1038/nmeth.3581'}, 'Glyt2-GFP': {'Name': 'Glyt2-GFP', 'Identifier (Name)': 'cf3Tg', 'Identifier (Link)': 'http://zfin.org/ZDB-ALT-070514-1', 'Keywords': ['Tg(slc6a5:GFP)cf3', 'Glyt2', 'Glycine', 'GFP'], 'Regions of Expression': 'Glycinergic neurons, hindbrain', 'Number of Fish Imaged': '13', 'Source (Reagent)': 'Joe Fetcho Lab', 'Source (Images)': 'Schier, Engert', 'Notes': '', 'References': 'McLean et al., (2007) Nature, 446(7131), 71–75. doi:10.1038/nature05588 , Randlett et al., Nature Methods, 2015, doi:10.1038/nmeth.3581'}, 'Hcrt-RFP': {'Name': 'Hcrt-RFP', 'Identifier (Name)': 'ct819Tg', 'Identifier (Link)': 'http://zfin.org/ZDB-ALT-150605-1', 'Keywords': ['Tg(hcrt:RFP)', 'hypocretin', 'hcrt', 'RFP'], 'Regions of Expression': 'Hypocretin neurons, hypothalamus', 'Number of Fish Imaged': '15', 'Source (Reagent)': 'Prober Lab', 'Source (Images)': 'Schier, Engert', 'Notes': '', 'References': 'Liu et al., (2015) Development. doi:10.1242/dev.117424 , Randlett et al., Nature Methods, 2015, doi:10.1038/nmeth.3581'}, 'Isl1-GFP': {'Name': 'Isl1-GFP', 'Identifier (Name)': 'rw0Tg', 'Identifier (Link)': 'http://zfin.org/ZDB-ALT-030919-2', 'Keywords': ['Tg(isl1:GFP)', 'Isl1', 'GFP', 'motorneuron'], 'Regions of Expression': 'Motor nuclei, hindbrain, midbrain tegmentum', 'Number of Fish Imaged': '17', 'Source (Reagent)': 'Okamoto Lab', 'Source (Images)': 'Schier, Engert', 'Notes': '', 'References': 'Higashijima et al., (2000). The Journal of Neuroscience 20(1), 206–218. , Randlett et al., Nature Methods, 2015, doi:10.1038/nmeth.3581'}, 'Isl2bGal4-uasDendra': {'Name': 'Isl2bGal4-uasDendra', 'Identifier (Name)': 'zc60Tg', 'Identifier (Link)': 'http://zfin.org/ZDB-ALT-101130-1', 'Keywords': ['Isl2b', 'Gal4', 'UAS', 'Dendra', 'Retinal ganglion cell', 'Retinal arborization field'], 'Regions of Expression': '', 'Number of Fish Imaged': '8', 'Source (Reagent)': 'Chien Lab', 'Source (Images)': 'Schier, Engert', 'Notes': '', 'References': 'Fredj  et al., (2010) The Journal of Neuroscience 30(32), 10939–10951. doi:10.1523/JNEUROSCI.1556-10.2010 , Randlett et al., Nature Methods, 2015, doi:10.1038/nmeth.3581'}, 'Olig2-GFP': {'Name': 'Olig2-GFP', 'Identifier (Name)': 'vu12Tg', 'Identifier (Link)': 'http://zfin.org/ZDB-ALT-041129-8', 'Keywords': ['Tg(olig2:EGFP)', 'Tg(olig2:EGFP)vu12', 'vu12', 'olig2', 'GFP'], 'Regions of Expression': '', 'Number of Fish Imaged': '12', 'Source (Reagent)': 'Appel Lab', 'Source (Images)': 'Schier, Engert', 'Notes': '', 'References': ' Shin et al., (2003) Methods in Cell Science,  25(1-2), 7–14. doi:10.1023/B:MICS.0000006847.09037.3a , Randlett et al., Nature Methods, 2015, doi:10.1038/nmeth.3581'}, 'Otpb.A-Nsfb-GFP': {'Name': 'Otpb.A-Nsfb-GFP', 'Identifier (Name)': 'zc77Tg', 'Identifier (Link)': 'http://zfin.org/ZDB-ALT-121017-1', 'Keywords': ['Tg(otpb:Eco.NsfB-EGFP)', 'otpb', 'NsfB', 'GFP', 'dopamine'], 'Regions of Expression': '', 'Number of Fish Imaged': '10', 'Source (Reagent)': 'Bonkowsky Lab', 'Source (Images)': 'Schier, Engert', 'Notes': '', 'References': 'Lambert et al.,. (2012) The Journal of Neuroscience, 32(39), 13488–13500. doi:10.1523/JNEUROSCI.1638-12.2012 , Randlett et al., Nature Methods, 2015, doi:10.1038/nmeth.3581'}, 'Otpb.A-Gal4-UAS-GCaMP': {'Name': 'Otpb.A-Gal4-UAS-GCaMP', 'Identifier (Name)': 'zc57Tg', 'Identifier (Link)': 'http://zfin.org/ZDB-ALT-101129-6', 'Keywords': ['Tg(otpb.A:Gal4-VP16)zc57', 'Tg(otpb:Gal4-VP16)zc57', 'Otpb', 'UAS', 'GCaMP'], 'Regions of Expression': '', 'Number of Fish Imaged': '19', 'Source (Reagent)': 'Bonkowsky Lab', 'Source (Images)': 'Schier, Engert', 'Notes': 'Tg(UAS:GCaMP5G): was created by Adam Douglass and Jared Wortzman,', 'References': 'Fujimoto et al., (2011), Developmental Biology, 352(2), 393–404. doi:10.1016/j.ydbio.2011.01.023 , Randlett et al., Nature Methods, 2015, doi:10.1038/nmeth.3581 '}, 'Oxtl-GFP': {'Name': 'Oxtl-GFP', 'Identifier (Name)': 'gu1Tg', 'Identifier (Link)': 'http://zfin.org/ZDB-ALT-130214-8', 'Keywords': ['Tg(oxt.2:EGFP)gu1', 'oxytocin', 'isotocin', 'oxtl'], 'Regions of Expression': 'Oxytocin neurons, hypothalamus', 'Number of Fish Imaged': '68', 'Source (Reagent)': 'Glasgow Lab', 'Source (Images)': 'Schier, Engert', 'Notes': '', 'References': 'Coffey et al., (2013)  PLoS ONE, 8(1), e53991. doi:10.1371/journal.pone.0053991.s007 , Randlett et al., Nature Methods, 2015, doi:10.1038/nmeth.3581'}, 'Pet1-GFP': {'Name': 'Pet1-GFP', 'Identifier (Name)': 'ne0214Tg', 'Identifier (Link)': 'http://zfin.org/ZDB-ALT-090918-1', 'Keywords': ['Pet1', 'GFP', 'Serotonin'], 'Regions of Expression': '', 'Number of Fish Imaged': '13', 'Source (Reagent)': 'Bally-Cuif Lab', 'Source (Images)': 'Schier, Engert', 'Notes': '', 'References': 'Lillesaar et al., (2009) The Journal of Comparative Neurology, 512(2), 158–182. doi:10.1002/cne.21887 , Randlett et al., Nature Methods, 2015, doi:10.1038/nmeth.3581'}, 'Ptf1aGal4-uasKaede': {'Name': 'Ptf1aGal4-uasKaede', 'Identifier (Name)': 'jh16Tg ; s1999tTg', 'Identifier (Link)': 'http://zfin.org/ZDB-ALT-100929-1 ; http://zfin.org/ZDB-ALT-070314-1', 'Keywords': ['Ptf1a', 'Gal4', 'UAS', 'Kaede'], 'Regions of Expression': '', 'Number of Fish Imaged': '11', 'Source (Reagent)': 'Parsons Lab', 'Source (Images)': 'Schier, Engert', 'Notes': '', 'References': 'Tg(Ptf1a:Gal4:) Parsons et al., (2009). Mechanisms of Development, 126(10), 898–912. doi:10.1016/j.mod.2009.07.002, Tg(Uas:Kaede) Scott et al., (2007) Nature Methods. doi:10.1038/nmeth1033 Randlett et al., Nature Methods, 2015, doi:10.1038/nmeth.3581'}, 'Qrfp-GFP': {'Name': 'Qrfp-GFP', 'Identifier (Name)': 'ct820Tg', 'Identifier (Link)': 'http://zfin.org/ZDB-ALT-150605-2', 'Keywords': ['Tg(qrfp:EGFP)', 'Qrfp', 'GFP'], 'Regions of Expression': 'Qrfp neurons, hypothalamus', 'Number of Fish Imaged': '15', 'Source (Reagent)': 'Prober lab', 'Source (Images)': 'Schier, Engert', 'Notes': '', 'References': ' Liu et al.,  (2015) Development. doi:10.1242/dev.117424 , Randlett et al., Nature Methods, 2015, doi:10.1038/nmeth.3581'}, 'S1181tGal4-uasKaede': {'Name': 'S1181tGal4-uasKaede', 'Identifier (Name)': 's1181tEt ; s1999tTg', 'Identifier (Link)': 'http://zfin.org/ZDB-ALT-080327-149 ; http://zfin.org/ZDB-ALT-070314-1', 'Keywords': ['S1181t', 'Gal4', 'UAS', 'Kaede', 'Mauthner'], 'Regions of Expression': '', 'Number of Fish Imaged': '14', 'Source (Reagent)': 'Baier Lab', 'Source (Images)': 'Schier, Engert', 'Notes': '', 'References': 'Et(fos:Gal4-VP16)s1181t: Scott and Baier (2009). Frontiers in Neural Circuits, 3, 13. doi:10.3389/neuro.04.013.2009, Tg(Uas:Kaede) Scott et al., (2007) Nature Methods. doi:10.1038/nmeth1033 , Randlett et al., Nature Methods, 2015, doi:10.1038/nmeth.3581'}, 'SpinalBackfills': {'Name': 'SpinalBackfills', 'Identifier (Name)': 'SpinalBackfills', 'Identifier (Link)': '', 'Keywords': [''], 'Regions of Expression': 'hindbrain, reticulospinal neurons', 'Number of Fish Imaged': '23', 'Source (Reagent)': 'Schier, Engert', 'Source (Images)': 'Schier, Engert', 'Notes': 'Spinal backfills performed by injecting rhodamine-dextran into the spinal cord', 'References': 'Kimmel et al., (1982) The Journal of Comparative Neurology, 205(2), 112–127. doi:10.1002/cne.902050203 , Randlett et al., Nature Methods, 2015, doi:10.1038/nmeth.3581'}, 'Vglut2a-GFP': {'Name': 'Vglut2a-GFP', 'Identifier (Name)': 'zf139Tg', 'Identifier (Link)': 'http://zfin.org/ZDB-ALT-090716-1', 'Keywords': ['Tg(slc17a6:EGFP)zf139', 'Tg(vglut2a:EGFP)', 'glutamate', 'GFP'], 'Regions of Expression': 'Glutamatergic Neurons, broad', 'Number of Fish Imaged': '15', 'Source (Reagent)': 'Hibi Lab', 'Source (Images)': 'Schier, Engert', 'Notes': '', 'References': 'Bae et al., (2009) Developmental Biology, 330(2), 406–426. doi:10.1016/j.ydbio.2009.04.013 , Randlett et al., Nature Methods, 2015, doi:10.1038/nmeth.3581'}, 'HGn39D': {'Name': 'HGn39D', 'Identifier (Name)': 'cntnap2ankhgn39dEt', 'Identifier (Link)': 'https://zfin.org/ZDB-FISH-150901-6689', 'Keywords': ['cntnap2a', 'HGn39D', 'lateralis afferent neurons', 'Lateral Line'], 'Regions of Expression': 'Lateralis afferent neurons, lenses', 'Number of Fish Imaged': '5', 'Source (Reagent)': 'Koichi Lab', 'Source (Images)': 'López-Schier', 'Notes': '', 'References': 'Faucherre, A. et al., (2009) PLoS One, 4(2):e4477. doi: 10.1371/journal.pone.0004477'}, 'MH_13319-Gal4': {'Name': '', 'Identifier (Name)': '', 'Identifier (Link)': '', 'Keywords': ['Brain', 'Anterior Lateral Line Ganglion', 'Diencephalon-Habenula', 'Diencephalon', 'Diencephalon-Anterior Pretectum Cluster of Vmat2 Neurons'], 'Regions of Expression': '', 'Number of Fish Imaged': 0, 'Source (Reagent)': '', 'Source (Images)': '', 'Notes': '', 'References': ''}, 'MH_15576-Gal4': {'Name': '', 'Identifier (Name)': '', 'Identifier (Link)': '', 'Keywords': ['Brain', 'Diencephalon', 'Diencephalon-Habenula', 'Mesencephalon-Vglut2 cluster 1', 'Telencephalon', 'Rhombencephalon', 'Neuropil Region 5', '6.7FDhcrtR-Gal4 Stripe 1'], 'Regions of Expression': '', 'Number of Fish Imaged': 0, 'Source (Reagent)': '', 'Source (Images)': '', 'Notes': '', 'References': ''}, 'MH_16659-Gal4': {'Name': '', 'Identifier (Name)': '', 'Identifier (Link)': '', 'Keywords': ['Brain', 'Ganglia-Posterior Lateral Line Ganglia', 'Diencephalon', 'Diencephalon-Habenula', 'Rhombencephalon-Neuropil Region 4', 'Rhombencephalon-Interpeduncular Nucleus'], 'Regions of Expression': '', 'Number of Fish Imaged': 0, 'Source (Reagent)': '', 'Source (Images)': '', 'Notes': '', 'References': ''}, 'MH_16715-Gal4': {'Name': '', 'Identifier (Name)': '', 'Identifier (Link)': '', 'Keywords': ['Brain', 'Diencephalon', 'Diencephalon-Habenula', 'Rhombencephalon-Neuropil Region 4', 'Rhombencephalon-Interpeduncular Nucleus', 'Mesencephalon'], 'Regions of Expression': '', 'Number of Fish Imaged': 0, 'Source (Reagent)': '', 'Source (Images)': '', 'Notes': '', 'References': ''}, 'MH_16913-Gal4': {'Name': '', 'Identifier (Name)': '', 'Identifier (Link)': '', 'Keywords': ['Brain', 'Mesencephalon', 'Mesencephalon-Torus Semicircularis', 'Rhombencephalon', 'Rhombencephalon-Rhombomere 2', 'Rhombencephalon-VII Facial Motor and octavolateralis efferent neurons', 'Rhombencephalon-Vglut2 Stripe 4', 'Diencephalon', 'Diencephalon-Ventral Thalamus'], 'Regions of Expression': '', 'Number of Fish Imaged': 0, 'Source (Reagent)': '', 'Source (Images)': '', 'Notes': '', 'References': ''}, 'MH_16914-Gal4': {'Name': '', 'Identifier (Name)': '', 'Identifier (Link)': '', 'Keywords': ['Brain', 'Rhombencephalon', 'Rhombencephalon-Neuropil Region 4', 'Ganglia-Anterior Lateral Line Ganglia', 'Ganglia-Posterior Lateral Line Ganglia', 'Ganglia-Olfactory Epithelium', 'Rhombencephalon-Rhombomere 1', 'Diencephalon', 'Telencephalon', 'Telencephalon-Subpallial Otpb Cluster 2', 'Telencephalon-Olfactory Bulb'], 'Regions of Expression': '', 'Number of Fish Imaged': 0, 'Source (Reagent)': '', 'Source (Images)': '', 'Notes': '', 'References': ''}, 'MH_16916-Gal4': {'Name': '', 'Identifier (Name)': '', 'Identifier (Link)': '', 'Keywords': ['Brain', 'Ganglia-Posterior Lateral Line Ganglia', 'Ganglia-Anterior Lateral Line Ganglia', 'Diencephalon-Habenula', 'Rhombencephalon', 'Rhombencephalon-Interpeduncular Nucleus'], 'Regions of Expression': '', 'Number of Fish Imaged': 0, 'Source (Reagent)': '', 'Source (Images)': '', 'Notes': '', 'References': ''}, 'MH_16946-Gal4': {'Name': '', 'Identifier (Name)': '', 'Identifier (Link)': '', 'Keywords': ['Brain', 'Diencephalon', 'Diencephalon-Habenula', 'Mesencephalon', 'Mesencephalon-Retinal Arborization Field 9 (AF9)', 'Rhombencephalon', 'Rhombencephalon-Rhombomere 7'], 'Regions of Expression': '', 'Number of Fish Imaged': 0, 'Source (Reagent)': '', 'Source (Images)': '', 'Notes': '', 'References': ''}, 'MH_17056-Gal4': {'Name': '', 'Identifier (Name)': '', 'Identifier (Link)': '', 'Keywords': ['Brain', 'Telencephalon', 'Telencephalon-Subpallium', 'Rhombencephalon-Interpeduncular Nucleus', 'Ganglia-Olfactory Epithelium', 'Ganglia-Anterior Lateral Line Ganglia', 'Mesencephalon'], 'Regions of Expression': '', 'Number of Fish Imaged': 0, 'Source (Reagent)': '', 'Source (Images)': '', 'Notes': '', 'References': ''}, 'MH_16915-Gal4': {'Name': '', 'Identifier (Name)': '', 'Identifier (Link)': '', 'Keywords': ['Brain', 'Ganglia-Anterior Lateral Line Ganglia', 'Diencephalon', 'Diencephalon-Habenula', 'Rhombencephalon', 'Rhombencephalon-Interpeduncular Nucleus'], 'Regions of Expression': '', 'Number of Fish Imaged': 0, 'Source (Reagent)': '', 'Source (Images)': '', 'Notes': '', 'References': ''}, 'MH_18107-Gal4': {'Name': '', 'Identifier (Name)': '', 'Identifier (Link)': '', 'Keywords': ['Brain', 'Diencephalon', 'Diencephalon-Posterior Tuberculum', 'Mesencephalon', 'Mesencephalon-Tegmentum', 'Mesencephalon-Vglut2 cluster 1', 'Telencephalon-Subpallium', 'Rhombencephalon', 'Rhombencephalon-Rhombomere 7'], 'Regions of Expression': '', 'Number of Fish Imaged': 0, 'Source (Reagent)': '', 'Source (Images)': '', 'Notes': '', 'References': ''}, 'MH_18108-Gal4': {'Name': '', 'Identifier (Name)': '', 'Identifier (Link)': '', 'Keywords': ['Brain', 'Telencephalon', 'Telencephalon-Olfactory Bulb', 'Ganglia-Posterior Lateral Line Ganglia', 'Rhombencephalon', 'Rhombencephalon-Neuropil Region 4', 'Rhombencephalon-Gad1b Stripe 3', 'Mesencephalon', 'Mesencephalon-Torus Semicircularis'], 'Regions of Expression': '', 'Number of Fish Imaged': 0, 'Source (Reagent)': '', 'Source (Images)': '', 'Notes': '', 'References': ''}, 'MH_18327-Gal4': {'Name': '', 'Identifier (Name)': '', 'Identifier (Link)': '', 'Keywords': ['Brain', 'Diencephalon', 'Diencephalon-Right Habenula Vglut2 cluster', 'Diencephalon-Posterior Tuberculum', 'Diencephalon-Medial vglut2 cluster', 'Rhombencephalon', 'Rhombencephalon-RoM2', 'Rhombencephalon-Olig2 enriched areas in cerebellum'], 'Regions of Expression': '', 'Number of Fish Imaged': 0, 'Source (Reagent)': '', 'Source (Images)': '', 'Notes': '', 'References': ''}, 'MH_18329-Gal4': {'Name': '', 'Identifier (Name)': '', 'Identifier (Link)': '', 'Keywords': ['Brain', 'Ganglia-Vagal Ganglia', 'Ganglia-Anterior Lateral Line Ganglia', 'Diencephalon', 'Diencephalon-Habenula', 'Rhombencephalon', 'Rhombencephalon-Neuropil Region 2'], 'Regions of Expression': '', 'Number of Fish Imaged': 0, 'Source (Reagent)': '', 'Source (Images)': '', 'Notes': '', 'References': ''}, 'MH_17768-Gal4': {'Name': '', 'Identifier (Name)': '', 'Identifier (Link)': '', 'Keywords': ['Brain', 'Diencephalon', 'Diencephalon-Habenula', 'Rhombencephalon', 'Rhombencephalon-Olig2 enriched areas in cerebellum', 'Rhombencephalon-Cerbellum', 'Ganglia-Anterior Lateral Line Ganglia', 'Ganglia-Vagal Ganglia'], 'Regions of Expression': '', 'Number of Fish Imaged': 0, 'Source (Reagent)': '', 'Source (Images)': '', 'Notes': '', 'References': ''}, 'MH_17776-Gal4': {'Name': '', 'Identifier (Name)': '', 'Identifier (Link)': '', 'Keywords': ['Brain', 'Ganglia-Lateral Line Neuromast N', 'Telencephalon', 'Telencephalon-Subpallium', 'Rhombencephalon', 'Rhombencephalon-Rhombomere 7'], 'Regions of Expression': '', 'Number of Fish Imaged': 0, 'Source (Reagent)': '', 'Source (Images)': '', 'Notes': '', 'References': ''}, 'MH_17777-Gal4': {'Name': '', 'Identifier (Name)': '', 'Identifier (Link)': '', 'Keywords': ['Brain', 'Ganglia-Posterior Lateral Line Ganglia', 'Ganglia-Lateral Line Neuromast N', 'Ganglia-Anterior Lateral Line Ganglia', 'Diencephalon-Habenula', 'Mesencephalon'], 'Regions of Expression': '', 'Number of Fish Imaged': 0, 'Source (Reagent)': '', 'Source (Images)': '', 'Notes': '', 'References': ''}, 'MH_17845-Gal4': {'Name': '', 'Identifier (Name)': '', 'Identifier (Link)': '', 'Keywords': ['Brain', 'Diencephalon', 'Diencephalon-Habenula', 'Rhombencephalon'], 'Regions of Expression': '', 'Number of Fish Imaged': 0, 'Source (Reagent)': '', 'Source (Images)': '', 'Notes': '', 'References': ''}, 'MH_17846-Gal4': {'Name': '', 'Identifier (Name)': '', 'Identifier (Link)': '', 'Keywords': ['Brain', 'Diencephalon', 'Diencephalon-Habenula', 'Mesencephalon'], 'Regions of Expression': '', 'Number of Fish Imaged': 0, 'Source (Reagent)': '', 'Source (Images)': '', 'Notes': '', 'References': ''}, 'MH_20638-Gal4': {'Name': '', 'Identifier (Name)': '', 'Identifier (Link)': '', 'Keywords': ['Brain'], 'Regions of Expression': '', 'Number of Fish Imaged': 0, 'Source (Reagent)': '', 'Source (Images)': '', 'Notes': '', 'References': ''}, 'MH_20647-Gal4': {'Name': '', 'Identifier (Name)': '', 'Identifier (Link)': '', 'Keywords': ['Brain'], 'Regions of Expression': '', 'Number of Fish Imaged': 0, 'Source (Reagent)': '', 'Source (Images)': '', 'Notes': '', 'References': ''}, 'MH_20652-Gal4': {'Name': '', 'Identifier (Name)': '', 'Identifier (Link)': '', 'Keywords': ['Brain'], 'Regions of Expression': '', 'Number of Fish Imaged': 0, 'Source (Reagent)': '', 'Source (Images)': '', 'Notes': '', 'References': ''}, 'MH_20653-Gal4': {'Name': '', 'Identifier (Name)': '', 'Identifier (Link)': '', 'Keywords': ['Brain'], 'Regions of Expression': '', 'Number of Fish Imaged': 0, 'Source (Reagent)': '', 'Source (Images)': '', 'Notes': '', 'References': ''}, 'MH_20654-Gal4': {'Name': '', 'Identifier (Name)': '', 'Identifier (Link)': '', 'Keywords': ['Brain'], 'Regions of Expression': '', 'Number of Fish Imaged': 0, 'Source (Reagent)': '', 'Source (Images)': '', 'Notes': '', 'References': ''}, 'MH_20643-Gal4': {'Name': '', 'Identifier (Name)': '', 'Identifier (Link)': '', 'Keywords': ['Brain'], 'Regions of Expression': '', 'Number of Fish Imaged': 0, 'Source (Reagent)': '', 'Source (Images)': '', 'Notes': '', 'References': ''}, 'MH_20648-Gal4': {'Name': '', 'Identifier (Name)': '', 'Identifier (Link)': '', 'Keywords': ['Brain'], 'Regions of Expression': '', 'Number of Fish Imaged': 0, 'Source (Reagent)': '', 'Source (Images)': '', 'Notes': '', 'References': ''}, 'MH_20655-Gal4': {'Name': '', 'Identifier (Name)': '', 'Identifier (Link)': '', 'Keywords': ['Brain'], 'Regions of Expression': '', 'Number of Fish Imaged': 0, 'Source (Reagent)': '', 'Source (Images)': '', 'Notes': '', 'References': ''}, 'MH_20640-Gal4': {'Name': '', 'Identifier (Name)': '', 'Identifier (Link)': '', 'Keywords': ['Brain'], 'Regions of Expression': '', 'Number of Fish Imaged': 0, 'Source (Reagent)': '', 'Source (Images)': '', 'Notes': '', 'References': ''}, 'MH_17767-Gal4': {'Name': '', 'Identifier (Name)': '', 'Identifier (Link)': '', 'Keywords': ['Brain'], 'Regions of Expression': '', 'Number of Fish Imaged': 0, 'Source (Reagent)': '', 'Source (Images)': '', 'Notes': '', 'References': ''}, 'MH_19322-Gal4': {'Name': '', 'Identifier (Name)': '', 'Identifier (Link)': '', 'Keywords': ['Brain'], 'Regions of Expression': '', 'Number of Fish Imaged': 0, 'Source (Reagent)': '', 'Source (Images)': '', 'Notes': '', 'References': ''}, 'MH_20552-Gal4': {'Name': '', 'Identifier (Name)': '', 'Identifier (Link)': '', 'Keywords': ['Brain'], 'Regions of Expression': '', 'Number of Fish Imaged': 0, 'Source (Reagent)': '', 'Source (Images)': '', 'Notes': '', 'References': ''}, 'MH_20639-Gal4': {'Name': '', 'Identifier (Name)': '', 'Identifier (Link)': '', 'Keywords': ['Brain'], 'Regions of Expression': '', 'Number of Fish Imaged': 0, 'Source (Reagent)': '', 'Source (Images)': '', 'Notes': '', 'References': ''}, 'MH_20642-Gal4': {'Name': '', 'Identifier (Name)': '', 'Identifier (Link)': '', 'Keywords': ['Brain'], 'Regions of Expression': '', 'Number of Fish Imaged': 0, 'Source (Reagent)': '', 'Source (Images)': '', 'Notes': '', 'References': ''}, 'MH_20644-Gal4': {'Name': '', 'Identifier (Name)': '', 'Identifier (Link)': '', 'Keywords': ['Brain'], 'Regions of Expression': '', 'Number of Fish Imaged': 0, 'Source (Reagent)': '', 'Source (Images)': '', 'Notes': '', 'References': ''}, 'MH_20649-Gal4': {'Name': '', 'Identifier (Name)': '', 'Identifier (Link)': '', 'Keywords': ['Brain'], 'Regions of Expression': '', 'Number of Fish Imaged': 0, 'Source (Reagent)': '', 'Source (Images)': '', 'Notes': '', 'References': ''}, 'MH_20660-Gal4': {'Name': '', 'Identifier (Name)': '', 'Identifier (Link)': '', 'Keywords': ['Brain'], 'Regions of Expression': '', 'Number of Fish Imaged': 0, 'Source (Reagent)': '', 'Source (Images)': '', 'Notes': '', 'References': ''}, 'MH_20661-Gal4': {'Name': '', 'Identifier (Name)': '', 'Identifier (Link)': '', 'Keywords': ['Brain'], 'Regions of Expression': '', 'Number of Fish Imaged': 0, 'Source (Reagent)': '', 'Source (Images)': '', 'Notes': '', 'References': ''}, 'MH_20553-Gal4': {'Name': '', 'Identifier (Name)': '', 'Identifier (Link)': '', 'Keywords': ['Brain'], 'Regions of Expression': '', 'Number of Fish Imaged': 0, 'Source (Reagent)': '', 'Source (Images)': '', 'Notes': '', 'References': ''}, 'MH_20641-Gal4': {'Name': '', 'Identifier (Name)': '', 'Identifier (Link)': '', 'Keywords': ['Brain'], 'Regions of Expression': '', 'Number of Fish Imaged': 0, 'Source (Reagent)': '', 'Source (Images)': '', 'Notes': '', 'References': ''}, 'MH_20941-Gal4': {'Name': '', 'Identifier (Name)': '', 'Identifier (Link)': '', 'Keywords': ['Brain'], 'Regions of Expression': '', 'Number of Fish Imaged': 0, 'Source (Reagent)': '', 'Source (Images)': '', 'Notes': '', 'References': ''}, 'MH_17787-Gal4': {'Name': '', 'Identifier (Name)': '', 'Identifier (Link)': '', 'Keywords': ['Brain'], 'Regions of Expression': '', 'Number of Fish Imaged': 0, 'Source (Reagent)': '', 'Source (Images)': '', 'Notes': '', 'References': ''}, 'MH_19566-Gal4': {'Name': '', 'Identifier (Name)': '', 'Identifier (Link)': '', 'Keywords': ['Brain'], 'Regions of Expression': '', 'Number of Fish Imaged': 0, 'Source (Reagent)': '', 'Source (Images)': '', 'Notes': '', 'References': ''}, 'MH_20360-Gal4': {'Name': '', 'Identifier (Name)': '', 'Identifier (Link)': '', 'Keywords': ['Brain'], 'Regions of Expression': '', 'Number of Fish Imaged': 0, 'Source (Reagent)': '', 'Source (Images)': '', 'Notes': '', 'References': ''}, 'MH_20361-Gal4': {'Name': '', 'Identifier (Name)': '', 'Identifier (Link)': '', 'Keywords': ['Brain'], 'Regions of Expression': '', 'Number of Fish Imaged': 0, 'Source (Reagent)': '', 'Source (Images)': '', 'Notes': '', 'References': ''}, 'MH_20454-Gal4': {'Name': '', 'Identifier (Name)': '', 'Identifier (Link)': '', 'Keywords': ['Brain'], 'Regions of Expression': '', 'Number of Fish Imaged': 0, 'Source (Reagent)': '', 'Source (Images)': '', 'Notes': '', 'References': ''}, 'MH_20646-Gal4': {'Name': '', 'Identifier (Name)': '', 'Identifier (Link)': '', 'Keywords': ['Brain'], 'Regions of Expression': '', 'Number of Fish Imaged': 0, 'Source (Reagent)': '', 'Source (Images)': '', 'Notes': '', 'References': ''}, 'MH_20663-Gal4': {'Name': '', 'Identifier (Name)': '', 'Identifier (Link)': '', 'Keywords': ['Brain'], 'Regions of Expression': '', 'Number of Fish Imaged': 0, 'Source (Reagent)': '', 'Source (Images)': '', 'Notes': '', 'References': ''}}\n"
     ]
    }
   ],
   "source": [
    "for key in linesDict.keys():\n",
    "    name = 'MH_' + key + '-Gal4'\n",
    "    current = csv_dict[name] = dict()\n",
    "    for header in headers:\n",
    "        if header == 'Keywords':\n",
    "            keywords = [k for k in linesDict[key]['Annotations'] if k is not 'Brain']\n",
    "            current[header] = keywords\n",
    "        elif header == 'Number of Fish Imaged':\n",
    "            current[header] = 0\n",
    "        else:\n",
    "            current[header] = ''\n",
    "            \n",
    "print(csv_dict)"
   ]
  },
  {
   "cell_type": "markdown",
   "metadata": {},
   "source": [
    "#### Create PostgreSQL table for annotations, transfer csv content, pickle content\n"
   ]
  },
  {
   "cell_type": "code",
   "execution_count": 6,
   "metadata": {},
   "outputs": [],
   "source": [
    "conn = psycopg2.connect(dbname='zbrain2db', user='gqe', host='localhost', password='')\n",
    "cursor = conn.cursor()\n",
    "\n",
    "create_table_command = (\n",
    "\"\"\"\n",
    "    DROP TABLE IF EXISTS annotations;\n",
    "    CREATE TABLE annotations (\n",
    "        line_id SERIAL PRIMARY KEY,\n",
    "        line_name TEXT NOT NULL,\n",
    "        identifier_name TEXT,\n",
    "        identifier_link TEXT,\n",
    "        keywords TEXT [],\n",
    "        notes TEXT,\n",
    "        refs TEXT,\n",
    "        regions_of_expression TEXT,\n",
    "        number_of_fish_imaged INT,\n",
    "        source_reagent TEXT,\n",
    "        source_images TEXT\n",
    "    );\n",
    "\"\"\")"
   ]
  },
  {
   "cell_type": "code",
   "execution_count": 7,
   "metadata": {},
   "outputs": [],
   "source": [
    "try:\n",
    "    cursor.execute(create_table_command)\n",
    "    cursor.close()\n",
    "    conn.commit()\n",
    "except (Exception, psycopg2.DatabaseError) as error:\n",
    "    print(error)\n",
    "finally:\n",
    "    conn.close()"
   ]
  },
  {
   "cell_type": "code",
   "execution_count": 8,
   "metadata": {},
   "outputs": [],
   "source": [
    "def list_to_pg2_array(lst):\n",
    "    if lst:\n",
    "        formatted_lst = str(lst).replace('[', '{').replace(']', '}').replace('\\'', '\\\"')\n",
    "    else:\n",
    "        formatted_lst = \"{}\"\n",
    "    return formatted_lst"
   ]
  },
  {
   "cell_type": "code",
   "execution_count": 9,
   "metadata": {},
   "outputs": [],
   "source": [
    "def create_insert_commands(csv_dict):\n",
    "    for i, key in enumerate(csv_dict.keys()):\n",
    "        line = csv_dict[key]\n",
    "        insert_command = (\n",
    "            \"\"\"\n",
    "            INSERT INTO annotations\n",
    "                (line_id, line_name, identifier_name, identifier_link,\n",
    "                keywords, notes, regions_of_expression, number_of_fish_imaged,\n",
    "                source_reagent, source_images, refs) \n",
    "                values (%i, '%s', '%s', '%s', '%s', '%s', '%s', '%s', '%s', '%s', '%s') \n",
    "            \"\"\" % (\n",
    "                i, key, line['Identifier (Name)'], line['Identifier (Link)'],\n",
    "                list_to_pg2_array(line['Keywords']), line['Notes'], \n",
    "                line['Regions of Expression'], line['Number of Fish Imaged'], \n",
    "                line['Source (Reagent)'], line['Source (Images)'], line['References']\n",
    "            ))\n",
    "        yield insert_command"
   ]
  },
  {
   "cell_type": "markdown",
   "metadata": {},
   "source": [
    "#### Insert to table"
   ]
  },
  {
   "cell_type": "code",
   "execution_count": 10,
   "metadata": {},
   "outputs": [],
   "source": [
    "insert_commands = list(create_insert_commands(csv_dict))"
   ]
  },
  {
   "cell_type": "code",
   "execution_count": 11,
   "metadata": {},
   "outputs": [],
   "source": [
    "conn = psycopg2.connect(dbname='zbrain2db', user='gqe', host='localhost', password='')\n",
    "cursor = conn.cursor()\n",
    "\n",
    "for insert_command in insert_commands:\n",
    "    try:\n",
    "        cursor.execute(insert_command)\n",
    "    except Exception as e:\n",
    "        print(e)\n",
    "        \n",
    "cursor.close()\n",
    "conn.commit()"
   ]
  },
  {
   "cell_type": "markdown",
   "metadata": {},
   "source": [
    "#### Check completed table"
   ]
  },
  {
   "cell_type": "code",
   "execution_count": 12,
   "metadata": {},
   "outputs": [
    {
     "name": "stdout",
     "output_type": "stream",
     "text": [
      "(0, '6.7FRhcrtR-Gal4-uasKaede', 'a150Tg ; Tg(UAS:Kaede)\\t\\n', 'http://zfin.org/action/feature/view/ZDB-ALT-151028-3 ; http://zfin.org/ZDB-TGCONSTRCT-070117-81', ['Tg(-6.7Tru.Hcrt:GAL4-VP16)', 'Tg(Uas:Kaede)', 'Hypocretin receptor', 'Vestibular', 'Gal4', 'UAS', 'Kaede'], '5KB upstream region of the hypocretin receptor driving Gal4 expression. Labels neurons in the vestibular nucleus important for the vestibulo-ocular reflex', 'Randlett et al., Nature Methods, 2015, doi:10.1038/nmeth.3581 , Schoppik et al., J.Neurosci, 2017; DOI: https://doi.org/10.1523/JNEUROSCI.1711-17.2017', '', 12, 'Schier Lab, Engert Lab, Baier Lab', 'Schier, Engert')\n",
      "(1, 'Anti-5HT', 'Ab1-serotonin', 'http://zfin.org/ZDB-ATB-081017-7', ['Serotonin', '5HT', 'antibody'], 'Used at 1:100 AB concentration, Staining quality is relatively poor, with lots of background', 'Randlett et al., Nature Methods, 2015, doi:10.1038/nmeth.3581', '', 40, 'Sigma', 'Schier, Engert')\n",
      "(2, 'Anti-Gad67', 'Ab1-gad', 'http://zfin.org/ZDB-ATB-090617-2', ['Gad65', 'Gad67', 'Glutamic Acid Decarboxylase', 'GABA', 'antibody'], 'Stains Gad65 + Gad67, used at 1:100', 'Randlett et al., Nature Methods, 2015, doi:10.1038/nmeth.3581', '', 17, 'Millipore', 'Schier, Engert')\n",
      "(3, 'Anti-GlyR', 'Ab1-glra', 'http://zfin.org/ZDB-ATB-090218-2', ['Glycine Receptor', 'GlyR4a', 'antibody'], 'Synaptic Systems mAb4a, used 1:100, http://www.sysy.com/products/glycrec/facts-146011.php', 'Randlett et al., Nature Methods, 2015, doi:10.1038/nmeth.3581', '', 160, 'Synaptic Systems', 'Schier, Engert')\n",
      "(4, 'Anti-TH', 'Ab4-th', 'http://zfin.org/ZDB-ATB-081017-7', ['tyrosine hydroxylase', 'TH', 'dopamine', 'noradrenaline', 'antibody'], 'Millipore AB152, used 1:500', 'Randlett et al., Nature Methods, 2015, doi:10.1038/nmeth.3581', '', 10, 'Millipore', 'Schier, Engert')\n",
      "(5, 'Anti-Zn12(Hnk-1)', 'zn-12', 'http://zfin.org/ZDB-ATB-081002-12', ['zn-12', 'zn12', 'Hnk-1'], 'ZIRC antibody collection, used 1:500', 'Randlett et al., Nature Methods, 2015, doi:10.1038/nmeth.3581', '', 9, 'ZIRC', 'Schier, Engert')\n",
      "(6, 'Anti-Zn1', 'zn-1', 'http://zfin.org/ZDB-ATB-081002-9', ['zn1'], 'ZIRC antibody collection, used 1:1000', 'Randlett et al., Nature Methods, 2015, doi:10.1038/nmeth.3581', '', 10, 'ZIRC', 'Schier, Engert')\n",
      "(7, 'Anti-Znp1(Synaptotagmin2)', 'znp-1', 'http://zfin.org/ZDB-ATB-081002-25', ['znp1', 'anti-synaptotagmin 2', 'anti-syt2'], 'ZIRC antibody collection, used 1:200', 'Randlett et al., Nature Methods, 2015, doi:10.1038/nmeth.3581', '', 118, 'ZIRC', 'Schier, Engert')\n",
      "(8, 'Anti-Zrf1(GFAP)', 'zrf-1', 'http://zfin.org/ZDB-ATB-081002-46', ['zrf1', 'GFAP'], 'ZIRC antibody collection, used 1:1000', 'Randlett et al., Nature Methods, 2015, doi:10.1038/nmeth.3581', '', 5, 'ZIRC', 'Schier, Engert')\n",
      "(9, 'Anti-Zrf2', 'zrf-2', 'http://zfin.org/ZDB-ATB-081002-47', ['zrf2'], 'ZIRC antibody collection, used 1:500, http://zfin.org/ZDB-ATB-081002-47', 'Randlett et al., Nature Methods, 2015, doi:10.1038/nmeth.3581', '', 5, 'ZIRC', 'Schier, Engert')\n",
      "(10, 'Anti-tERK', 'p44/42 MAPK (Erk1/2) (L34F12) Mouse mAb #4696', 'https://www.cellsignal.com/products/primary-antibodies/p44-42-mapk-erk1-2-l34f12-mouse-mab/4696', ['ERK', 'p44/42 MAPK'], 'Cell Signalling #4696, used 1:500', 'Randlett et al., Nature Methods, 2015, doi:10.1038/nmeth.3581', 'Global', 193, 'Cell Signaling Technology', 'Schier, Engert')\n",
      "(11, 'Elavl3-GCaMP5G', 'a4598Tg', 'http://zfin.org/ZDB-ALT-130924-1', ['Tg(elavl3:GCaMP5G)a4598', 'HuC', 'Elavl3', 'GCaMP', 'GCaMP5G', 'Ca2+', 'cytoplasmic'], '', 'Ahrens et al., (2013) Nature Methods, 10(5), 413–420. doi:10.1038/nmeth.2434 , Randlett et al., Nature Methods, 2015, doi:10.1038/nmeth.3581', 'Pan-neuronal', 7, 'Schier Lab', 'Schier, Engert')\n",
      "(12, 'Elavl3-H2BRFP', 'a154Tg', 'http://zfin.org/ZDB-ALT-160404-4', ['Tg(elavl3:Hsa.HIST2H2BE-RFP)', 'H2B', 'Histone', 'RFP', 'nuclear'], '', 'Randlett et al., Nature Methods, 2015, doi:10.1038/nmeth.3581', 'Pan-neuronal', 10, 'Engert Lab', 'Schier, Engert')\n",
      "(13, 'EtVmat2-GFP', 'pku2Et', 'http://zfin.org/ZDB-ALT-080514-1', ['Et(gata2:GFP)zf81', 'Et(gata2a:EGFP)pku2', 'Et(gata2a:GFP)zf81', 'ETvmat2:GFP', 'zf81', 'Vmat', 'monoamine'], '', 'Wen et al., (2008) Developmental Biology, 314(1), 84–92. doi:10.1016/j.ydbio.2007.11.012 , Randlett et al., Nature Methods, 2015, doi:10.1038/nmeth.3581', '', 55, 'PKU Zebrafish Functional Genomics Group', 'Schier, Engert')\n",
      "(14, 'Gad1b-GFP', 'nns25Tg', 'http://zfin.org/ZDB-ALT-131127-6', ['Tg(oxt.2:EGFP)gu1', 'Gad1b', 'GABA'], '', 'Satou et al., (2013) Development, 140(18), 3927–3931. doi:10.1242/dev.099531 , Randlett et al., Nature Methods, 2015, doi:10.1038/nmeth.3581', 'GABAergic neurons, broad', 10, 'Higashijima Lab', 'Schier, Engert')\n",
      "(15, 'Glyt2-GFP', 'cf3Tg', 'http://zfin.org/ZDB-ALT-070514-1', ['Tg(slc6a5:GFP)cf3', 'Glyt2', 'Glycine', 'GFP'], '', 'McLean et al., (2007) Nature, 446(7131), 71–75. doi:10.1038/nature05588 , Randlett et al., Nature Methods, 2015, doi:10.1038/nmeth.3581', 'Glycinergic neurons, hindbrain', 13, 'Joe Fetcho Lab', 'Schier, Engert')\n",
      "(16, 'Hcrt-RFP', 'ct819Tg', 'http://zfin.org/ZDB-ALT-150605-1', ['Tg(hcrt:RFP)', 'hypocretin', 'hcrt', 'RFP'], '', 'Liu et al., (2015) Development. doi:10.1242/dev.117424 , Randlett et al., Nature Methods, 2015, doi:10.1038/nmeth.3581', 'Hypocretin neurons, hypothalamus', 15, 'Prober Lab', 'Schier, Engert')\n",
      "(17, 'Isl1-GFP', 'rw0Tg', 'http://zfin.org/ZDB-ALT-030919-2', ['Tg(isl1:GFP)', 'Isl1', 'GFP', 'motorneuron'], '', 'Higashijima et al., (2000). The Journal of Neuroscience 20(1), 206–218. , Randlett et al., Nature Methods, 2015, doi:10.1038/nmeth.3581', 'Motor nuclei, hindbrain, midbrain tegmentum', 17, 'Okamoto Lab', 'Schier, Engert')\n",
      "(18, 'Isl2bGal4-uasDendra', 'zc60Tg', 'http://zfin.org/ZDB-ALT-101130-1', ['Isl2b', 'Gal4', 'UAS', 'Dendra', 'Retinal ganglion cell', 'Retinal arborization field'], '', 'Fredj  et al., (2010) The Journal of Neuroscience 30(32), 10939–10951. doi:10.1523/JNEUROSCI.1556-10.2010 , Randlett et al., Nature Methods, 2015, doi:10.1038/nmeth.3581', '', 8, 'Chien Lab', 'Schier, Engert')\n",
      "(19, 'Olig2-GFP', 'vu12Tg', 'http://zfin.org/ZDB-ALT-041129-8', ['Tg(olig2:EGFP)', 'Tg(olig2:EGFP)vu12', 'vu12', 'olig2', 'GFP'], '', ' Shin et al., (2003) Methods in Cell Science,  25(1-2), 7–14. doi:10.1023/B:MICS.0000006847.09037.3a , Randlett et al., Nature Methods, 2015, doi:10.1038/nmeth.3581', '', 12, 'Appel Lab', 'Schier, Engert')\n",
      "(20, 'Otpb.A-Nsfb-GFP', 'zc77Tg', 'http://zfin.org/ZDB-ALT-121017-1', ['Tg(otpb:Eco.NsfB-EGFP)', 'otpb', 'NsfB', 'GFP', 'dopamine'], '', 'Lambert et al.,. (2012) The Journal of Neuroscience, 32(39), 13488–13500. doi:10.1523/JNEUROSCI.1638-12.2012 , Randlett et al., Nature Methods, 2015, doi:10.1038/nmeth.3581', '', 10, 'Bonkowsky Lab', 'Schier, Engert')\n",
      "(21, 'Otpb.A-Gal4-UAS-GCaMP', 'zc57Tg', 'http://zfin.org/ZDB-ALT-101129-6', ['Tg(otpb.A:Gal4-VP16)zc57', 'Tg(otpb:Gal4-VP16)zc57', 'Otpb', 'UAS', 'GCaMP'], 'Tg(UAS:GCaMP5G): was created by Adam Douglass and Jared Wortzman,', 'Fujimoto et al., (2011), Developmental Biology, 352(2), 393–404. doi:10.1016/j.ydbio.2011.01.023 , Randlett et al., Nature Methods, 2015, doi:10.1038/nmeth.3581 ', '', 19, 'Bonkowsky Lab', 'Schier, Engert')\n",
      "(22, 'Oxtl-GFP', 'gu1Tg', 'http://zfin.org/ZDB-ALT-130214-8', ['Tg(oxt.2:EGFP)gu1', 'oxytocin', 'isotocin', 'oxtl'], '', 'Coffey et al., (2013)  PLoS ONE, 8(1), e53991. doi:10.1371/journal.pone.0053991.s007 , Randlett et al., Nature Methods, 2015, doi:10.1038/nmeth.3581', 'Oxytocin neurons, hypothalamus', 68, 'Glasgow Lab', 'Schier, Engert')\n",
      "(23, 'Pet1-GFP', 'ne0214Tg', 'http://zfin.org/ZDB-ALT-090918-1', ['Pet1', 'GFP', 'Serotonin'], '', 'Lillesaar et al., (2009) The Journal of Comparative Neurology, 512(2), 158–182. doi:10.1002/cne.21887 , Randlett et al., Nature Methods, 2015, doi:10.1038/nmeth.3581', '', 13, 'Bally-Cuif Lab', 'Schier, Engert')\n",
      "(24, 'Ptf1aGal4-uasKaede', 'jh16Tg ; s1999tTg', 'http://zfin.org/ZDB-ALT-100929-1 ; http://zfin.org/ZDB-ALT-070314-1', ['Ptf1a', 'Gal4', 'UAS', 'Kaede'], '', 'Tg(Ptf1a:Gal4:) Parsons et al., (2009). Mechanisms of Development, 126(10), 898–912. doi:10.1016/j.mod.2009.07.002, Tg(Uas:Kaede) Scott et al., (2007) Nature Methods. doi:10.1038/nmeth1033 Randlett et al., Nature Methods, 2015, doi:10.1038/nmeth.3581', '', 11, 'Parsons Lab', 'Schier, Engert')\n",
      "(25, 'Qrfp-GFP', 'ct820Tg', 'http://zfin.org/ZDB-ALT-150605-2', ['Tg(qrfp:EGFP)', 'Qrfp', 'GFP'], '', ' Liu et al.,  (2015) Development. doi:10.1242/dev.117424 , Randlett et al., Nature Methods, 2015, doi:10.1038/nmeth.3581', 'Qrfp neurons, hypothalamus', 15, 'Prober lab', 'Schier, Engert')\n",
      "(26, 'S1181tGal4-uasKaede', 's1181tEt ; s1999tTg', 'http://zfin.org/ZDB-ALT-080327-149 ; http://zfin.org/ZDB-ALT-070314-1', ['S1181t', 'Gal4', 'UAS', 'Kaede', 'Mauthner'], '', 'Et(fos:Gal4-VP16)s1181t: Scott and Baier (2009). Frontiers in Neural Circuits, 3, 13. doi:10.3389/neuro.04.013.2009, Tg(Uas:Kaede) Scott et al., (2007) Nature Methods. doi:10.1038/nmeth1033 , Randlett et al., Nature Methods, 2015, doi:10.1038/nmeth.3581', '', 14, 'Baier Lab', 'Schier, Engert')\n",
      "(27, 'SpinalBackfills', 'SpinalBackfills', '', [''], 'Spinal backfills performed by injecting rhodamine-dextran into the spinal cord', 'Kimmel et al., (1982) The Journal of Comparative Neurology, 205(2), 112–127. doi:10.1002/cne.902050203 , Randlett et al., Nature Methods, 2015, doi:10.1038/nmeth.3581', 'hindbrain, reticulospinal neurons', 23, 'Schier, Engert', 'Schier, Engert')\n",
      "(28, 'Vglut2a-GFP', 'zf139Tg', 'http://zfin.org/ZDB-ALT-090716-1', ['Tg(slc17a6:EGFP)zf139', 'Tg(vglut2a:EGFP)', 'glutamate', 'GFP'], '', 'Bae et al., (2009) Developmental Biology, 330(2), 406–426. doi:10.1016/j.ydbio.2009.04.013 , Randlett et al., Nature Methods, 2015, doi:10.1038/nmeth.3581', 'Glutamatergic Neurons, broad', 15, 'Hibi Lab', 'Schier, Engert')\n",
      "(29, 'HGn39D', 'cntnap2ankhgn39dEt', 'https://zfin.org/ZDB-FISH-150901-6689', ['cntnap2a', 'HGn39D', 'lateralis afferent neurons', 'Lateral Line'], '', 'Faucherre, A. et al., (2009) PLoS One, 4(2):e4477. doi: 10.1371/journal.pone.0004477', 'Lateralis afferent neurons, lenses', 5, 'Koichi Lab', 'López-Schier')\n",
      "(30, 'MH_13319-Gal4', '', '', ['Brain', 'Anterior Lateral Line Ganglion', 'Diencephalon-Habenula', 'Diencephalon', 'Diencephalon-Anterior Pretectum Cluster of Vmat2 Neurons'], '', '', '', 0, '', '')\n",
      "(31, 'MH_15576-Gal4', '', '', ['Brain', 'Diencephalon', 'Diencephalon-Habenula', 'Mesencephalon-Vglut2 cluster 1', 'Telencephalon', 'Rhombencephalon', 'Neuropil Region 5', '6.7FDhcrtR-Gal4 Stripe 1'], '', '', '', 0, '', '')\n",
      "(32, 'MH_16659-Gal4', '', '', ['Brain', 'Ganglia-Posterior Lateral Line Ganglia', 'Diencephalon', 'Diencephalon-Habenula', 'Rhombencephalon-Neuropil Region 4', 'Rhombencephalon-Interpeduncular Nucleus'], '', '', '', 0, '', '')\n",
      "(33, 'MH_16715-Gal4', '', '', ['Brain', 'Diencephalon', 'Diencephalon-Habenula', 'Rhombencephalon-Neuropil Region 4', 'Rhombencephalon-Interpeduncular Nucleus', 'Mesencephalon'], '', '', '', 0, '', '')\n",
      "(34, 'MH_16913-Gal4', '', '', ['Brain', 'Mesencephalon', 'Mesencephalon-Torus Semicircularis', 'Rhombencephalon', 'Rhombencephalon-Rhombomere 2', 'Rhombencephalon-VII Facial Motor and octavolateralis efferent neurons', 'Rhombencephalon-Vglut2 Stripe 4', 'Diencephalon', 'Diencephalon-Ventral Thalamus'], '', '', '', 0, '', '')\n",
      "(35, 'MH_16914-Gal4', '', '', ['Brain', 'Rhombencephalon', 'Rhombencephalon-Neuropil Region 4', 'Ganglia-Anterior Lateral Line Ganglia', 'Ganglia-Posterior Lateral Line Ganglia', 'Ganglia-Olfactory Epithelium', 'Rhombencephalon-Rhombomere 1', 'Diencephalon', 'Telencephalon', 'Telencephalon-Subpallial Otpb Cluster 2', 'Telencephalon-Olfactory Bulb'], '', '', '', 0, '', '')\n",
      "(36, 'MH_16916-Gal4', '', '', ['Brain', 'Ganglia-Posterior Lateral Line Ganglia', 'Ganglia-Anterior Lateral Line Ganglia', 'Diencephalon-Habenula', 'Rhombencephalon', 'Rhombencephalon-Interpeduncular Nucleus'], '', '', '', 0, '', '')\n",
      "(37, 'MH_16946-Gal4', '', '', ['Brain', 'Diencephalon', 'Diencephalon-Habenula', 'Mesencephalon', 'Mesencephalon-Retinal Arborization Field 9 (AF9)', 'Rhombencephalon', 'Rhombencephalon-Rhombomere 7'], '', '', '', 0, '', '')\n",
      "(38, 'MH_17056-Gal4', '', '', ['Brain', 'Telencephalon', 'Telencephalon-Subpallium', 'Rhombencephalon-Interpeduncular Nucleus', 'Ganglia-Olfactory Epithelium', 'Ganglia-Anterior Lateral Line Ganglia', 'Mesencephalon'], '', '', '', 0, '', '')\n",
      "(39, 'MH_16915-Gal4', '', '', ['Brain', 'Ganglia-Anterior Lateral Line Ganglia', 'Diencephalon', 'Diencephalon-Habenula', 'Rhombencephalon', 'Rhombencephalon-Interpeduncular Nucleus'], '', '', '', 0, '', '')\n",
      "(40, 'MH_18107-Gal4', '', '', ['Brain', 'Diencephalon', 'Diencephalon-Posterior Tuberculum', 'Mesencephalon', 'Mesencephalon-Tegmentum', 'Mesencephalon-Vglut2 cluster 1', 'Telencephalon-Subpallium', 'Rhombencephalon', 'Rhombencephalon-Rhombomere 7'], '', '', '', 0, '', '')\n",
      "(41, 'MH_18108-Gal4', '', '', ['Brain', 'Telencephalon', 'Telencephalon-Olfactory Bulb', 'Ganglia-Posterior Lateral Line Ganglia', 'Rhombencephalon', 'Rhombencephalon-Neuropil Region 4', 'Rhombencephalon-Gad1b Stripe 3', 'Mesencephalon', 'Mesencephalon-Torus Semicircularis'], '', '', '', 0, '', '')\n",
      "(42, 'MH_18327-Gal4', '', '', ['Brain', 'Diencephalon', 'Diencephalon-Right Habenula Vglut2 cluster', 'Diencephalon-Posterior Tuberculum', 'Diencephalon-Medial vglut2 cluster', 'Rhombencephalon', 'Rhombencephalon-RoM2', 'Rhombencephalon-Olig2 enriched areas in cerebellum'], '', '', '', 0, '', '')\n",
      "(43, 'MH_18329-Gal4', '', '', ['Brain', 'Ganglia-Vagal Ganglia', 'Ganglia-Anterior Lateral Line Ganglia', 'Diencephalon', 'Diencephalon-Habenula', 'Rhombencephalon', 'Rhombencephalon-Neuropil Region 2'], '', '', '', 0, '', '')\n",
      "(44, 'MH_17768-Gal4', '', '', ['Brain', 'Diencephalon', 'Diencephalon-Habenula', 'Rhombencephalon', 'Rhombencephalon-Olig2 enriched areas in cerebellum', 'Rhombencephalon-Cerbellum', 'Ganglia-Anterior Lateral Line Ganglia', 'Ganglia-Vagal Ganglia'], '', '', '', 0, '', '')\n",
      "(45, 'MH_17776-Gal4', '', '', ['Brain', 'Ganglia-Lateral Line Neuromast N', 'Telencephalon', 'Telencephalon-Subpallium', 'Rhombencephalon', 'Rhombencephalon-Rhombomere 7'], '', '', '', 0, '', '')\n",
      "(46, 'MH_17777-Gal4', '', '', ['Brain', 'Ganglia-Posterior Lateral Line Ganglia', 'Ganglia-Lateral Line Neuromast N', 'Ganglia-Anterior Lateral Line Ganglia', 'Diencephalon-Habenula', 'Mesencephalon'], '', '', '', 0, '', '')\n",
      "(47, 'MH_17845-Gal4', '', '', ['Brain', 'Diencephalon', 'Diencephalon-Habenula', 'Rhombencephalon'], '', '', '', 0, '', '')\n",
      "(48, 'MH_17846-Gal4', '', '', ['Brain', 'Diencephalon', 'Diencephalon-Habenula', 'Mesencephalon'], '', '', '', 0, '', '')\n",
      "(49, 'MH_20638-Gal4', '', '', ['Brain'], '', '', '', 0, '', '')\n",
      "(50, 'MH_20647-Gal4', '', '', ['Brain'], '', '', '', 0, '', '')\n",
      "(51, 'MH_20652-Gal4', '', '', ['Brain'], '', '', '', 0, '', '')\n",
      "(52, 'MH_20653-Gal4', '', '', ['Brain'], '', '', '', 0, '', '')\n",
      "(53, 'MH_20654-Gal4', '', '', ['Brain'], '', '', '', 0, '', '')\n",
      "(54, 'MH_20643-Gal4', '', '', ['Brain'], '', '', '', 0, '', '')\n",
      "(55, 'MH_20648-Gal4', '', '', ['Brain'], '', '', '', 0, '', '')\n",
      "(56, 'MH_20655-Gal4', '', '', ['Brain'], '', '', '', 0, '', '')\n",
      "(57, 'MH_20640-Gal4', '', '', ['Brain'], '', '', '', 0, '', '')\n",
      "(58, 'MH_17767-Gal4', '', '', ['Brain'], '', '', '', 0, '', '')\n",
      "(59, 'MH_19322-Gal4', '', '', ['Brain'], '', '', '', 0, '', '')\n",
      "(60, 'MH_20552-Gal4', '', '', ['Brain'], '', '', '', 0, '', '')\n",
      "(61, 'MH_20639-Gal4', '', '', ['Brain'], '', '', '', 0, '', '')\n",
      "(62, 'MH_20642-Gal4', '', '', ['Brain'], '', '', '', 0, '', '')\n",
      "(63, 'MH_20644-Gal4', '', '', ['Brain'], '', '', '', 0, '', '')\n",
      "(64, 'MH_20649-Gal4', '', '', ['Brain'], '', '', '', 0, '', '')\n",
      "(65, 'MH_20660-Gal4', '', '', ['Brain'], '', '', '', 0, '', '')\n",
      "(66, 'MH_20661-Gal4', '', '', ['Brain'], '', '', '', 0, '', '')\n",
      "(67, 'MH_20553-Gal4', '', '', ['Brain'], '', '', '', 0, '', '')\n",
      "(68, 'MH_20641-Gal4', '', '', ['Brain'], '', '', '', 0, '', '')\n",
      "(69, 'MH_20941-Gal4', '', '', ['Brain'], '', '', '', 0, '', '')\n",
      "(70, 'MH_17787-Gal4', '', '', ['Brain'], '', '', '', 0, '', '')\n",
      "(71, 'MH_19566-Gal4', '', '', ['Brain'], '', '', '', 0, '', '')\n",
      "(72, 'MH_20360-Gal4', '', '', ['Brain'], '', '', '', 0, '', '')\n",
      "(73, 'MH_20361-Gal4', '', '', ['Brain'], '', '', '', 0, '', '')\n",
      "(74, 'MH_20454-Gal4', '', '', ['Brain'], '', '', '', 0, '', '')\n",
      "(75, 'MH_20646-Gal4', '', '', ['Brain'], '', '', '', 0, '', '')\n",
      "(76, 'MH_20663-Gal4', '', '', ['Brain'], '', '', '', 0, '', '')\n"
     ]
    }
   ],
   "source": [
    "conn = psycopg2.connect(dbname='zbrain2db', user='gqe', host='localhost', password='')\n",
    "cursor = conn.cursor()\n",
    "\n",
    "cursor.execute('SELECT * FROM annotations order by line_id')\n",
    "rows = cursor.fetchall()\n",
    "\n",
    "for row in rows[:]:\n",
    "    print(row)"
   ]
  },
  {
   "cell_type": "code",
   "execution_count": null,
   "metadata": {},
   "outputs": [],
   "source": []
  },
  {
   "cell_type": "code",
   "execution_count": null,
   "metadata": {},
   "outputs": [],
   "source": []
  },
  {
   "cell_type": "code",
   "execution_count": null,
   "metadata": {},
   "outputs": [],
   "source": []
  }
 ],
 "metadata": {
  "kernelspec": {
   "display_name": "Python [conda env:py36]",
   "language": "python",
   "name": "conda-env-py36-py"
  },
  "language_info": {
   "codemirror_mode": {
    "name": "ipython",
    "version": 3
   },
   "file_extension": ".py",
   "mimetype": "text/x-python",
   "name": "python",
   "nbconvert_exporter": "python",
   "pygments_lexer": "ipython3",
   "version": "3.6.3"
  }
 },
 "nbformat": 4,
 "nbformat_minor": 2
}
