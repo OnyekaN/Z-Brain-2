{
 "cells": [
  {
   "cell_type": "markdown",
   "metadata": {},
   "source": [
    "## Create PostgreSQL Table for Stack Annoations"
   ]
  },
  {
   "cell_type": "code",
   "execution_count": 74,
   "metadata": {},
   "outputs": [],
   "source": [
    "import os, sys, csv\n",
    "import psycopg2"
   ]
  },
  {
   "cell_type": "markdown",
   "metadata": {},
   "source": [
    "#### Obtain data from Zbr Annotations spreadsheet"
   ]
  },
  {
   "cell_type": "code",
   "execution_count": 75,
   "metadata": {},
   "outputs": [],
   "source": [
    "file_path = os.path.dirname(os.path.realpath('__file__')) + \"/ZBr Annotations.csv\""
   ]
  },
  {
   "cell_type": "code",
   "execution_count": 76,
   "metadata": {},
   "outputs": [
    {
     "name": "stdout",
     "output_type": "stream",
     "text": [
      "{'Name': '6.7FRhcrtR-Gal4-uasKaede', 'Identifier (Name)': 'a150Tg ; Tg(UAS:Kaede)\\t\\n', 'Identifier (Link)': 'http://zfin.org/action/feature/view/ZDB-ALT-151028-3 ; http://zfin.org/ZDB-TGCONSTRCT-070117-81', 'Keywords': ['Tg(-6.7Tru.Hcrt:GAL4-VP16)', 'Tg(Uas:Kaede)', 'Hypocretin receptor', 'Vestibular', 'Gal4', 'UAS', 'Kaede'], 'Regions of Expression': '', 'Number of Fish Imaged': '12', 'Source (Reagent)': 'Schier Lab, Engert Lab, Baier Lab', 'Source (Images)': 'Schier, Engert', 'Notes': '5KB upstream region of the hypocretin receptor driving Gal4 expression. Labels neurons in the vestibular nucleus important for the vestibulo-ocular reflex', 'References': 'Randlett et al., Nature Methods, 2015, doi:10.1038/nmeth.3581 , Schoppik et al., J.Neurosci, 2017; DOI: https://doi.org/10.1523/JNEUROSCI.1711-17.2017'}\n",
      "dict_keys(['6.7FRhcrtR-Gal4-uasKaede', 'Anti-5HT', 'Anti-Gad67', 'Anti-GlyR', 'Anti-TH', 'Anti-Zn12(Hnk-1)', 'Anti-Zn1', 'Anti-Znp1(Synaptotagmin2)', 'Anti-Zrf1(GFAP)', 'Anti-Zrf2', 'Anti-tERK', 'Elavl3-GCaMP5G', 'Elavl3-H2BRFP', 'EtVmat2-GFP', 'Gad1b-GFP', 'Glyt2-GFP', 'Hcrt-RFP', 'Isl1-GFP', 'Isl2bGal4-uasDendra', 'Olig2-GFP', 'Otpb.A-Nsfb-GFP', 'Otpb.A-Gal4-UAS-GCaMP', 'Oxtl-GFP', 'Pet1-GFP', 'Ptf1aGal4-uasKaede', 'Qrfp-GFP', 'S1181tGal4-uasKaede', 'SpinalBackfills', 'Vglut2a-GFP'])\n"
     ]
    }
   ],
   "source": [
    "with open(file_path) as zbr_csv:\n",
    "    \n",
    "    csvreader = list(csv.reader(zbr_csv, dialect=csv.excel_tab,\n",
    "                    delimiter=',', quotechar='\"'))\n",
    "    table = csvreader[1:]\n",
    "    headers = csvreader[0]\n",
    "    csv_dict = dict()\n",
    "    \n",
    "    for i, row in enumerate(table):\n",
    "        if not row[0]:\n",
    "            continue\n",
    "        current_row = csv_dict[row[0]] = dict()\n",
    "        for j, col in enumerate(row):\n",
    "            if headers[j] == 'Keywords':\n",
    "                col = col.split(', ')\n",
    "            current_row[headers[j]] = col\n",
    "            \n",
    "    print(csv_dict[list(csv_dict.keys())[0]])\n",
    "    print(csv_dict.keys())"
   ]
  },
  {
   "cell_type": "markdown",
   "metadata": {},
   "source": [
    "#### Create PostgreSQL table for annotations, transfer csv content"
   ]
  },
  {
   "cell_type": "code",
   "execution_count": 77,
   "metadata": {},
   "outputs": [],
   "source": [
    "conn = psycopg2.connect(dbname='zbrain2db', user='gqe', host='localhost', password='')\n",
    "cursor = conn.cursor()\n",
    "\n",
    "create_table_command = (\n",
    "\"\"\"\n",
    "    DROP TABLE IF EXISTS annotations;\n",
    "    CREATE TABLE annotations (\n",
    "        line_id SERIAL PRIMARY KEY,\n",
    "        line_name TEXT NOT NULL,\n",
    "        identifier_name TEXT,\n",
    "        identifier_link TEXT,\n",
    "        keywords TEXT [],\n",
    "        notes TEXT,\n",
    "        refs TEXT,\n",
    "        regions_of_expression TEXT,\n",
    "        number_of_fish_imaged INT,\n",
    "        source_reagent TEXT,\n",
    "        source_images TEXT\n",
    "    );\n",
    "\"\"\")"
   ]
  },
  {
   "cell_type": "code",
   "execution_count": 78,
   "metadata": {},
   "outputs": [],
   "source": [
    "try:\n",
    "    cursor.execute(create_table_command)\n",
    "    cursor.close()\n",
    "    conn.commit()\n",
    "except (Exception, psycopg2.DatabaseError) as error:\n",
    "    print(error)\n",
    "finally:\n",
    "    conn.close()"
   ]
  },
  {
   "cell_type": "code",
   "execution_count": 79,
   "metadata": {},
   "outputs": [],
   "source": [
    "def list_to_pg2_array(lst):\n",
    "    if lst:\n",
    "        formatted_lst = str(lst).replace('[', '{').replace(']', '}').replace('\\'', '\\\"')\n",
    "    else:\n",
    "        formatted_lst = \"{}\"\n",
    "    return formatted_lst"
   ]
  },
  {
   "cell_type": "code",
   "execution_count": 82,
   "metadata": {},
   "outputs": [],
   "source": [
    "def create_insert_commands(csv_dict):\n",
    "    for i, key in enumerate(csv_dict.keys()):\n",
    "        line = csv_dict[key]\n",
    "        insert_command = (\n",
    "            \"\"\"\n",
    "            INSERT INTO annotations\n",
    "                (line_id, line_name, identifier_name, identifier_link,\n",
    "                keywords, notes, regions_of_expression, number_of_fish_imaged,\n",
    "                source_reagent, source_images, refs) \n",
    "                values (%i, '%s', '%s', '%s', '%s', '%s', '%s', '%s', '%s', '%s', '%s') \n",
    "            \"\"\" % (\n",
    "                i, key, line['Identifier (Name)'], line['Identifier (Link)'],\n",
    "                list_to_pg2_array(line['Keywords']), line['Notes'], \n",
    "                line['Regions of Expression'], line['Number of Fish Imaged'], \n",
    "                line['Source (Reagent)'], line['Source (Images)'], line['References']\n",
    "            ))\n",
    "        yield insert_command"
   ]
  },
  {
   "cell_type": "markdown",
   "metadata": {},
   "source": [
    "#### Insert to table"
   ]
  },
  {
   "cell_type": "code",
   "execution_count": 83,
   "metadata": {},
   "outputs": [],
   "source": [
    "insert_commands = list(create_insert_commands(csv_dict))"
   ]
  },
  {
   "cell_type": "code",
   "execution_count": 84,
   "metadata": {},
   "outputs": [],
   "source": [
    "conn = psycopg2.connect(dbname='zbrain2db', user='gqe', host='localhost', password='')\n",
    "cursor = conn.cursor()\n",
    "\n",
    "for insert_command in insert_commands:\n",
    "    try:\n",
    "        cursor.execute(insert_command)\n",
    "    except Exception as e:\n",
    "        print(e)\n",
    "        \n",
    "cursor.close()\n",
    "conn.commit()"
   ]
  },
  {
   "cell_type": "markdown",
   "metadata": {},
   "source": [
    "#### Check completed table"
   ]
  },
  {
   "cell_type": "code",
   "execution_count": 85,
   "metadata": {},
   "outputs": [
    {
     "name": "stdout",
     "output_type": "stream",
     "text": [
      "(0, '6.7FRhcrtR-Gal4-uasKaede', 'a150Tg ; Tg(UAS:Kaede)\\t\\n', 'http://zfin.org/action/feature/view/ZDB-ALT-151028-3 ; http://zfin.org/ZDB-TGCONSTRCT-070117-81', ['Tg(-6.7Tru.Hcrt:GAL4-VP16)', 'Tg(Uas:Kaede)', 'Hypocretin receptor', 'Vestibular', 'Gal4', 'UAS', 'Kaede'], '5KB upstream region of the hypocretin receptor driving Gal4 expression. Labels neurons in the vestibular nucleus important for the vestibulo-ocular reflex', 'Randlett et al., Nature Methods, 2015, doi:10.1038/nmeth.3581 , Schoppik et al., J.Neurosci, 2017; DOI: https://doi.org/10.1523/JNEUROSCI.1711-17.2017', '', 12, 'Schier Lab, Engert Lab, Baier Lab', 'Schier, Engert')\n",
      "(1, 'Anti-5HT', 'Ab1-serotonin', 'http://zfin.org/ZDB-ATB-081017-7', ['Serotonin', '5HT', 'antibody'], 'Used at 1:100 AB concentration, Staining quality is relatively poor, with lots of background', 'Randlett et al., Nature Methods, 2015, doi:10.1038/nmeth.3581', '', 40, 'Sigma', 'Schier, Engert')\n",
      "(2, 'Anti-Gad67', 'Ab1-gad', 'http://zfin.org/ZDB-ATB-090617-2', ['Gad65', 'Gad67', 'Glutamic Acid Decarboxylase', 'GABA', 'antibody'], 'Stains Gad65 + Gad67, used at 1:100', 'Randlett et al., Nature Methods, 2015, doi:10.1038/nmeth.3581', '', 17, 'Millipore', 'Schier, Engert')\n",
      "(3, 'Anti-GlyR', 'Ab1-glra', 'http://zfin.org/ZDB-ATB-090218-2', ['Glycine Receptor', 'GlyR4a', 'antibody'], 'Synaptic Systems mAb4a, used 1:100, http://www.sysy.com/products/glycrec/facts-146011.php', 'Randlett et al., Nature Methods, 2015, doi:10.1038/nmeth.3581', '', 160, 'Synaptic Systems', 'Schier, Engert')\n",
      "(4, 'Anti-TH', 'Ab4-th', 'http://zfin.org/ZDB-ATB-081017-7', ['tyrosine hydroxylase', 'TH', 'dopamine', 'noradrenaline', 'antibody'], 'Millipore AB152, used 1:500', 'Randlett et al., Nature Methods, 2015, doi:10.1038/nmeth.3581', '', 10, 'Millipore', 'Schier, Engert')\n",
      "(5, 'Anti-Zn12(Hnk-1)', 'zn-12', 'http://zfin.org/ZDB-ATB-081002-12', ['zn-12', 'zn12', 'Hnk-1'], 'ZIRC antibody collection, used 1:500', 'Randlett et al., Nature Methods, 2015, doi:10.1038/nmeth.3581', '', 9, 'ZIRC', 'Schier, Engert')\n",
      "(6, 'Anti-Zn1', 'zn-1', 'http://zfin.org/ZDB-ATB-081002-9', ['zn1'], 'ZIRC antibody collection, used 1:1000', 'Randlett et al., Nature Methods, 2015, doi:10.1038/nmeth.3581', '', 10, 'ZIRC', 'Schier, Engert')\n",
      "(7, 'Anti-Znp1(Synaptotagmin2)', 'znp-1', 'http://zfin.org/ZDB-ATB-081002-25', ['znp1', 'anti-synaptotagmin 2', 'anti-syt2'], 'ZIRC antibody collection, used 1:200', 'Randlett et al., Nature Methods, 2015, doi:10.1038/nmeth.3581', '', 118, 'ZIRC', 'Schier, Engert')\n",
      "(8, 'Anti-Zrf1(GFAP)', 'zrf-1', 'http://zfin.org/ZDB-ATB-081002-46', ['zrf1', 'GFAP'], 'ZIRC antibody collection, used 1:1000', 'Randlett et al., Nature Methods, 2015, doi:10.1038/nmeth.3581', '', 5, 'ZIRC', 'Schier, Engert')\n",
      "(9, 'Anti-Zrf2', 'zrf-2', 'http://zfin.org/ZDB-ATB-081002-47', ['zrf2'], 'ZIRC antibody collection, used 1:500, http://zfin.org/ZDB-ATB-081002-47', 'Randlett et al., Nature Methods, 2015, doi:10.1038/nmeth.3581', '', 5, 'ZIRC', 'Schier, Engert')\n",
      "(10, 'Anti-tERK', 'p44/42 MAPK (Erk1/2) (L34F12) Mouse mAb #4696', 'https://www.cellsignal.com/products/primary-antibodies/p44-42-mapk-erk1-2-l34f12-mouse-mab/4696', ['ERK', 'p44/42 MAPK'], 'Cell Signalling #4696, used 1:500', 'Randlett et al., Nature Methods, 2015, doi:10.1038/nmeth.3581', 'Global', 193, 'Cell Signaling Technology', 'Schier, Engert')\n",
      "(11, 'Elavl3-GCaMP5G', 'a4598Tg', 'http://zfin.org/ZDB-ALT-130924-1', ['Tg(elavl3:GCaMP5G)a4598', 'HuC', 'Elavl3', 'GCaMP', 'GCaMP5G', 'Ca2+', 'cytoplasmic'], '', 'Ahrens et al., (2013) Nature Methods, 10(5), 413–420. doi:10.1038/nmeth.2434 , Randlett et al., Nature Methods, 2015, doi:10.1038/nmeth.3581', 'Pan-neuronal', 7, 'Schier Lab', 'Schier, Engert')\n",
      "(12, 'Elavl3-H2BRFP', 'a154Tg', 'http://zfin.org/ZDB-ALT-160404-4', ['Tg(elavl3:Hsa.HIST2H2BE-RFP)', 'H2B', 'Histone', 'RFP', 'nuclear'], '', 'Randlett et al., Nature Methods, 2015, doi:10.1038/nmeth.3581', 'Pan-neuronal', 10, 'Engert Lab', 'Schier, Engert')\n",
      "(13, 'EtVmat2-GFP', 'pku2Et', 'http://zfin.org/ZDB-ALT-080514-1', ['Et(gata2:GFP)zf81', 'Et(gata2a:EGFP)pku2', 'Et(gata2a:GFP)zf81', 'ETvmat2:GFP', 'zf81', 'Vmat', 'monoamine'], '', 'Wen et al., (2008) Developmental Biology, 314(1), 84–92. doi:10.1016/j.ydbio.2007.11.012 , Randlett et al., Nature Methods, 2015, doi:10.1038/nmeth.3581', '', 55, 'PKU Zebrafish Functional Genomics Group', 'Schier, Engert')\n",
      "(14, 'Gad1b-GFP', 'nns25Tg', 'http://zfin.org/ZDB-ALT-131127-6', ['Tg(oxt.2:EGFP)gu1', 'Gad1b', 'GABA'], '', 'Satou et al., (2013) Development, 140(18), 3927–3931. doi:10.1242/dev.099531 , Randlett et al., Nature Methods, 2015, doi:10.1038/nmeth.3581', 'GABAergic neurons, broad', 10, 'Higashijima Lab', 'Schier, Engert')\n",
      "(15, 'Glyt2-GFP', 'cf3Tg', 'http://zfin.org/ZDB-ALT-070514-1', ['Tg(slc6a5:GFP)cf3', 'Glyt2', 'Glycine', 'GFP'], '', 'McLean et al., (2007) Nature, 446(7131), 71–75. doi:10.1038/nature05588 , Randlett et al., Nature Methods, 2015, doi:10.1038/nmeth.3581', 'Glycinergic neurons, hindbrain', 13, 'Joe Fetcho Lab', 'Schier, Engert')\n",
      "(16, 'Hcrt-RFP', 'ct819Tg', 'http://zfin.org/ZDB-ALT-150605-1', ['Tg(hcrt:RFP)', 'hypocretin', 'hcrt', 'RFP'], '', 'Liu et al., (2015) Development. doi:10.1242/dev.117424 , Randlett et al., Nature Methods, 2015, doi:10.1038/nmeth.3581', 'Hypocretin neurons, hypothalamus', 15, 'Prober Lab', 'Schier, Engert')\n",
      "(17, 'Isl1-GFP', 'rw0Tg', 'http://zfin.org/ZDB-ALT-030919-2', ['Tg(isl1:GFP)', 'Isl1', 'GFP', 'motorneuron'], '', 'Higashijima et al., (2000). The Journal of Neuroscience 20(1), 206–218. , Randlett et al., Nature Methods, 2015, doi:10.1038/nmeth.3581', 'Motor nuclei, hindbrain, midbrain tegmentum', 17, 'Okamoto Lab', 'Schier, Engert')\n",
      "(18, 'Isl2bGal4-uasDendra', 'zc60Tg', 'http://zfin.org/ZDB-ALT-101130-1', ['Isl2b', 'Gal4', 'UAS', 'Dendra', 'Retinal ganglion cell', 'Retinal arborization field'], '', 'Fredj  et al., (2010) The Journal of Neuroscience 30(32), 10939–10951. doi:10.1523/JNEUROSCI.1556-10.2010 , Randlett et al., Nature Methods, 2015, doi:10.1038/nmeth.3581', '', 8, 'Chien Lab', 'Schier, Engert')\n",
      "(19, 'Olig2-GFP', 'vu12Tg', 'http://zfin.org/ZDB-ALT-041129-8', ['Tg(olig2:EGFP)', 'Tg(olig2:EGFP)vu12', 'vu12', 'olig2', 'GFP'], '', ' Shin et al., (2003) Methods in Cell Science,  25(1-2), 7–14. doi:10.1023/B:MICS.0000006847.09037.3a , Randlett et al., Nature Methods, 2015, doi:10.1038/nmeth.3581', '', 12, 'Appel Lab', 'Schier, Engert')\n",
      "(20, 'Otpb.A-Nsfb-GFP', 'zc77Tg', 'http://zfin.org/ZDB-ALT-121017-1', ['Tg(otpb:Eco.NsfB-EGFP)', 'otpb', 'NsfB', 'GFP', 'dopamine'], '', 'Lambert et al.,. (2012) The Journal of Neuroscience, 32(39), 13488–13500. doi:10.1523/JNEUROSCI.1638-12.2012 , Randlett et al., Nature Methods, 2015, doi:10.1038/nmeth.3581', '', 10, 'Bonkowsky Lab', 'Schier, Engert')\n",
      "(21, 'Otpb.A-Gal4-UAS-GCaMP', 'zc57Tg', 'http://zfin.org/ZDB-ALT-101129-6', ['Tg(otpb.A:Gal4-VP16)zc57', 'Tg(otpb:Gal4-VP16)zc57', 'Otpb', 'UAS', 'GCaMP'], 'Tg(UAS:GCaMP5G): was created by Adam Douglass and Jared Wortzman,', 'Fujimoto et al., (2011), Developmental Biology, 352(2), 393–404. doi:10.1016/j.ydbio.2011.01.023 , Randlett et al., Nature Methods, 2015, doi:10.1038/nmeth.3581 ', '', 19, 'Bonkowsky Lab', 'Schier, Engert')\n",
      "(22, 'Oxtl-GFP', 'gu1Tg', 'http://zfin.org/ZDB-ALT-130214-8', ['Tg(oxt.2:EGFP)gu1', 'oxytocin', 'isotocin', 'oxtl'], '', 'Coffey et al., (2013)  PLoS ONE, 8(1), e53991. doi:10.1371/journal.pone.0053991.s007 , Randlett et al., Nature Methods, 2015, doi:10.1038/nmeth.3581', 'Oxytocin neurons, hypothalamus', 68, 'Glasgow Lab', 'Schier, Engert')\n",
      "(23, 'Pet1-GFP', 'ne0214Tg', 'http://zfin.org/ZDB-ALT-090918-1', ['Pet1', 'GFP', 'Serotonin'], '', 'Lillesaar et al., (2009) The Journal of Comparative Neurology, 512(2), 158–182. doi:10.1002/cne.21887 , Randlett et al., Nature Methods, 2015, doi:10.1038/nmeth.3581', '', 13, 'Bally-Cuif Lab', 'Schier, Engert')\n",
      "(24, 'Ptf1aGal4-uasKaede', 'jh16Tg ; s1999tTg', 'http://zfin.org/ZDB-ALT-100929-1 ; http://zfin.org/ZDB-ALT-070314-1', ['Ptf1a', 'Gal4', 'UAS', 'Kaede'], '', 'Tg(Ptf1a:Gal4:) Parsons et al., (2009). Mechanisms of Development, 126(10), 898–912. doi:10.1016/j.mod.2009.07.002, Tg(Uas:Kaede) Scott et al., (2007) Nature Methods. doi:10.1038/nmeth1033 Randlett et al., Nature Methods, 2015, doi:10.1038/nmeth.3581', '', 11, 'Parsons Lab', 'Schier, Engert')\n",
      "(25, 'Qrfp-GFP', 'ct820Tg', 'http://zfin.org/ZDB-ALT-150605-2', ['Tg(qrfp:EGFP)', 'Qrfp', 'GFP'], '', ' Liu et al.,  (2015) Development. doi:10.1242/dev.117424 , Randlett et al., Nature Methods, 2015, doi:10.1038/nmeth.3581', 'Qrfp neurons, hypothalamus', 15, 'Prober lab', 'Schier, Engert')\n",
      "(26, 'S1181tGal4-uasKaede', 's1181tEt ; s1999tTg', 'http://zfin.org/ZDB-ALT-080327-149 ; http://zfin.org/ZDB-ALT-070314-1', ['S1181t', 'Gal4', 'UAS', 'Kaede', 'Mauthner'], '', 'Et(fos:Gal4-VP16)s1181t: Scott and Baier (2009). Frontiers in Neural Circuits, 3, 13. doi:10.3389/neuro.04.013.2009, Tg(Uas:Kaede) Scott et al., (2007) Nature Methods. doi:10.1038/nmeth1033 , Randlett et al., Nature Methods, 2015, doi:10.1038/nmeth.3581', '', 14, 'Baier Lab', 'Schier, Engert')\n",
      "(27, 'SpinalBackfills', '', '', [''], 'Spinal backfills performed by injecting rhodamine-dextran into the spinal cord', 'Kimmel et al., (1982) The Journal of Comparative Neurology, 205(2), 112–127. doi:10.1002/cne.902050203 , Randlett et al., Nature Methods, 2015, doi:10.1038/nmeth.3581', '', 23, 'Schier, Engert', 'Schier, Engert')\n",
      "(28, 'Vglut2a-GFP', 'zf139Tg', 'http://zfin.org/ZDB-ALT-090716-1', ['Tg(slc17a6:EGFP)zf139', 'Tg(vglut2a:EGFP)', 'glutamate', 'GFP'], '', 'Bae et al., (2009) Developmental Biology, 330(2), 406–426. doi:10.1016/j.ydbio.2009.04.013 , Randlett et al., Nature Methods, 2015, doi:10.1038/nmeth.3581', 'Glutamatergic Neurons, broad', 15, 'Hibi Lab', 'Schier, Engert')\n"
     ]
    }
   ],
   "source": [
    "conn = psycopg2.connect(dbname='zbrain2db', user='gqe', host='localhost', password='')\n",
    "cursor = conn.cursor()\n",
    "\n",
    "cursor.execute('SELECT * FROM annotations order by line_id')\n",
    "rows = cursor.fetchall()\n",
    "\n",
    "for row in rows[:]:\n",
    "    print(row)"
   ]
  },
  {
   "cell_type": "code",
   "execution_count": null,
   "metadata": {},
   "outputs": [],
   "source": []
  },
  {
   "cell_type": "code",
   "execution_count": null,
   "metadata": {},
   "outputs": [],
   "source": []
  }
 ],
 "metadata": {
  "kernelspec": {
   "display_name": "Python [conda env:py36]",
   "language": "python",
   "name": "conda-env-py36-py"
  },
  "language_info": {
   "codemirror_mode": {
    "name": "ipython",
    "version": 3
   },
   "file_extension": ".py",
   "mimetype": "text/x-python",
   "name": "python",
   "nbconvert_exporter": "python",
   "pygments_lexer": "ipython3",
   "version": "3.6.3"
  }
 },
 "nbformat": 4,
 "nbformat_minor": 2
}
