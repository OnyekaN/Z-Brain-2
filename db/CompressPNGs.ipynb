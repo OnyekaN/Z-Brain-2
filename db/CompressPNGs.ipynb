{
 "cells": [
  {
   "cell_type": "code",
   "execution_count": 1,
   "metadata": {
    "collapsed": true
   },
   "outputs": [],
   "source": [
    "import os, sys, subprocess"
   ]
  },
  {
   "cell_type": "markdown",
   "metadata": {},
   "source": [
    "#### Collect color channel images"
   ]
  },
  {
   "cell_type": "code",
   "execution_count": 2,
   "metadata": {
    "collapsed": false
   },
   "outputs": [
    {
     "data": {
      "text/plain": [
       "186"
      ]
     },
     "execution_count": 2,
     "metadata": {},
     "output_type": "execute_result"
    }
   ],
   "source": [
    "colo_channel_folders = [d for d in os.listdir(\"../app/assets/images/3-ColorChannels\") \n",
    "                       if not d.startswith('.')]\n",
    "len(colo_channel_folders)"
   ]
  },
  {
   "cell_type": "code",
   "execution_count": 119,
   "metadata": {
    "collapsed": false
   },
   "outputs": [],
   "source": [
    "def compress_pngs(folder_path, ext):\n",
    "    folders = sorted([f for f in os.listdir(folder_path) if not f.startswith('.')])\n",
    "    for stack_folder in folders:\n",
    "        stack_folder_path = folder_path + \"/\" + stack_folder\n",
    "        cc_folder = [s for s in os.listdir(stack_folder_path) if not s.startswith('.')]\n",
    "        \n",
    "        for color in cc_folder:\n",
    "            cc_folder_path = stack_folder_path + \"/\" + color\n",
    "            cc_pngs = [cc_folder_path + \"/\" + p for p in os.listdir(cc_folder_path) \n",
    "                             if ext not in p and not p.startswith(\".\")]\n",
    "            for png in cc_pngs:\n",
    "                subprocess.check_output('pngquant --quality=0-100 \"{}\" --force'.format(png), shell=True)\n",
    "            "
   ]
  },
  {
   "cell_type": "code",
   "execution_count": 120,
   "metadata": {
    "collapsed": false
   },
   "outputs": [],
   "source": [
    "compress_pngs(\"../app/assets/images/3-ColorChannels\", \"fs8\")"
   ]
  },
  {
   "cell_type": "code",
   "execution_count": 117,
   "metadata": {
    "collapsed": true
   },
   "outputs": [],
   "source": [
    "def cleanup_pngs(folder_path, ext):\n",
    "    folders = sorted([f for f in os.listdir(folder_path) if not f.startswith('.')])[:2]\n",
    "    for stack_fol in folders:\n",
    "        stack_fol_path = folder_path + \"/\" + stack_fol\n",
    "        colo_fol = [s for s in os.listdir(stack_fol_path) if not s.startswith('.')]\n",
    "        \n",
    "        for colo in colo_fol:\n",
    "            colo_fol_path = stack_fol_path + \"/\" + colo\n",
    "            pngs = [colo_fol_path + \"/\" + i for i in os.listdir(stack_fol_path + \"/\" + colo) \n",
    "                        if ext in i and not i.startswith('.')]\n",
    "            for p in pngs:\n",
    "                os.remove(p)"
   ]
  },
  {
   "cell_type": "code",
   "execution_count": 118,
   "metadata": {
    "collapsed": false
   },
   "outputs": [],
   "source": [
    "cleanup_pngs(\"../app/assets/images/3-ColorChannels\", \"fs8\")"
   ]
  },
  {
   "cell_type": "code",
   "execution_count": null,
   "metadata": {
    "collapsed": true
   },
   "outputs": [],
   "source": []
  },
  {
   "cell_type": "code",
   "execution_count": null,
   "metadata": {
    "collapsed": true
   },
   "outputs": [],
   "source": []
  }
 ],
 "metadata": {
  "anaconda-cloud": {},
  "kernelspec": {
   "display_name": "Python [conda env:py36]",
   "language": "python",
   "name": "conda-env-py36-py"
  },
  "language_info": {
   "codemirror_mode": {
    "name": "ipython",
    "version": 3
   },
   "file_extension": ".py",
   "mimetype": "text/x-python",
   "name": "python",
   "nbconvert_exporter": "python",
   "pygments_lexer": "ipython3",
   "version": "3.6.3"
  }
 },
 "nbformat": 4,
 "nbformat_minor": 1
}
