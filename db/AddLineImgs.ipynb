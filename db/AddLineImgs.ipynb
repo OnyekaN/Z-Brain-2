{
 "cells": [
  {
   "cell_type": "code",
   "execution_count": 18,
   "metadata": {
    "collapsed": false
   },
   "outputs": [],
   "source": [
    "import h5py\n",
    "import numpy as np\n",
    "from PIL import Image\n",
    "from skimage import io\n",
    "from skimage.viewer import ImageViewer\n",
    "import psycopg2"
   ]
  },
  {
   "cell_type": "code",
   "execution_count": 2,
   "metadata": {
    "collapsed": true
   },
   "outputs": [],
   "source": [
    "f = h5py.File('AnatomyLabelDatabase.hdf5', 'r')\n",
    "\n",
    "#f2 = h5py.File('ZBBDatabase.hdf5', 'r')"
   ]
  },
  {
   "cell_type": "code",
   "execution_count": 4,
   "metadata": {
    "collapsed": false
   },
   "outputs": [
    {
     "name": "stdout",
     "output_type": "stream",
     "text": [
      "6.7FRhcrtR-Gal4-uasKaede_6dpf_MeanImageOf12Fish\n",
      "Anti-5HT_6dpf_MeanImageOf40Fish\n",
      "Anti-Gad67_6dpf_MeanImageOf17Fish\n",
      "Anti-GlyR_6dpf_MeanImageOf160Fish\n",
      "Anti-TH_6dpf_MeanImageOf10Fish\n",
      "Anti-Zn12(Hnk-1)_6dpf_MeanImageOf9Fish\n",
      "Anti-Zn1_6dpf_MeanImageOf10Fish\n",
      "Anti-Znp1(Synaptotagmin2)_6dpf_MeanImageOf118Fish\n",
      "Anti-Zrf1(GFAP)_6dpf_MeanImageOf5Fish\n",
      "Anti-Zrf2_6dpf_MeanImageOf5Fish\n",
      "Anti-tERK_6dpf_MeanImageOf193Fish\n",
      "Elavl3-GCaMP5G_6dpf_MeanImageOf7Fish\n",
      "Elavl3-H2BRFP_6dpf_MeanImageOf10Fish\n",
      "EtVmat2-GFP_6dpf_MeanImageOf55Fish\n",
      "Gad1b-GFP_6dpf_MeanImageOf10Fish\n",
      "Glyt2-GFP_6dpf_MeanImageOf13Fish\n",
      "Hcrt-RFP_6dpf_MeanImageOf15Fish\n",
      "Isl1-GFP_6dpf_MeanImageOf17Fish\n",
      "Isl2bGal4-uasDendra_6dpf_MeanImageOf8Fish\n",
      "Olig2-GFP_6dpf_MeanImageOf12Fish\n",
      "Otpb.A-Gal4-UAS-GCaMP_6-7dpf_MeanImageOf19Fish\n",
      "Otpb.A-Nsfb-GFP_6dpf_MeanImageOf10Fish\n",
      "Oxtl-GFP_6dpf_MeanImageOf68Fish\n",
      "Pet1-GFP_6dpf_MeanImageOf13Fish\n",
      "Ptf1aGal4-uasKaede_6dpf_MeanImageOf11Fish\n",
      "Qrfp-GFP_6dpf_MeanImageOf15Fish\n",
      "S1181tGal4-uasKaede_6dpf_MeanImageOf14Fish\n",
      "SpinalBackfills_6dpf_MeanImageOf23Fish\n",
      "Vglut2a-GFP_6dpf_MeanImageOf15Fish\n"
     ]
    }
   ],
   "source": [
    "for key in f.keys():\n",
    "    print key"
   ]
  },
  {
   "cell_type": "code",
   "execution_count": 17,
   "metadata": {
    "collapsed": false
   },
   "outputs": [
    {
     "data": {
      "text/plain": [
       "(138, 621, 1406)"
      ]
     },
     "execution_count": 17,
     "metadata": {},
     "output_type": "execute_result"
    }
   ],
   "source": [
    "data = f.get('Elavl3-H2BRFP_6dpf_MeanImageOf10Fish')\n",
    "#viewer = ImageViewer(data[100])\n",
    "#viewer.show()"
   ]
  },
  {
   "cell_type": "code",
   "execution_count": 10,
   "metadata": {
    "collapsed": false
   },
   "outputs": [],
   "source": [
    "io.imsave('Test/test_16bit_jpeg.jpg', data[86])"
   ]
  },
  {
   "cell_type": "code",
   "execution_count": 11,
   "metadata": {
    "collapsed": true
   },
   "outputs": [],
   "source": [
    "for key in f.keys()[:2]:\n",
    "    stack = f.get(key)\n",
    "    for i, img in enumerate(stack):\n",
    "        fpath = 'Test/%s-%i.jpg' % (key, i)"
   ]
  },
  {
   "cell_type": "code",
   "execution_count": 19,
   "metadata": {
    "collapsed": true
   },
   "outputs": [],
   "source": [
    "conn = psycopg2.connect(dbname='zbrain2db', user='gqe', host='localhost', password='')\n",
    "cursor = conn.cursor()"
   ]
  },
  {
   "cell_type": "code",
   "execution_count": null,
   "metadata": {
    "collapsed": true
   },
   "outputs": [],
   "source": []
  }
 ],
 "metadata": {
  "anaconda-cloud": {},
  "kernelspec": {
   "display_name": "Python [conda root]",
   "language": "python",
   "name": "conda-root-py"
  },
  "language_info": {
   "codemirror_mode": {
    "name": "ipython",
    "version": 2
   },
   "file_extension": ".py",
   "mimetype": "text/x-python",
   "name": "python",
   "nbconvert_exporter": "python",
   "pygments_lexer": "ipython2",
   "version": "2.7.12"
  }
 },
 "nbformat": 4,
 "nbformat_minor": 1
}
