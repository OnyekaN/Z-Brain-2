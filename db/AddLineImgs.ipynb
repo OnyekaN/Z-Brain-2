{
 "cells": [
  {
   "cell_type": "code",
   "execution_count": 4,
   "metadata": {
    "collapsed": false
   },
   "outputs": [],
   "source": [
    "import h5py\n",
    "import numpy as np\n",
    "import os\n",
    "from PIL import Image\n",
    "from skimage import io\n",
    "from skimage import exposure\n",
    "from skimage.viewer import ImageViewer\n",
    "import psycopg2"
   ]
  },
  {
   "cell_type": "code",
   "execution_count": 5,
   "metadata": {
    "collapsed": false
   },
   "outputs": [],
   "source": [
    "f = h5py.File('AnatomyLabelDatabase.hdf5', 'r')\n",
    "\n",
    "f2 = h5py.File('ZBBDatabase.hdf5', 'r')"
   ]
  },
  {
   "cell_type": "code",
   "execution_count": 6,
   "metadata": {
    "collapsed": false,
    "scrolled": true
   },
   "outputs": [
    {
     "name": "stdout",
     "output_type": "stream",
     "text": [
      "6.7FRhcrtR-Gal4-uasKaede_6dpf_MeanImageOf12Fish\n",
      "Anti-5HT_6dpf_MeanImageOf40Fish\n",
      "Anti-Gad67_6dpf_MeanImageOf17Fish\n",
      "Anti-GlyR_6dpf_MeanImageOf160Fish\n",
      "Anti-TH_6dpf_MeanImageOf10Fish\n",
      "Anti-Zn12(Hnk-1)_6dpf_MeanImageOf9Fish\n",
      "Anti-Zn1_6dpf_MeanImageOf10Fish\n",
      "Anti-Znp1(Synaptotagmin2)_6dpf_MeanImageOf118Fish\n",
      "Anti-Zrf1(GFAP)_6dpf_MeanImageOf5Fish\n",
      "Anti-Zrf2_6dpf_MeanImageOf5Fish\n",
      "Anti-tERK_6dpf_MeanImageOf193Fish\n",
      "Elavl3-GCaMP5G_6dpf_MeanImageOf7Fish\n",
      "Elavl3-H2BRFP_6dpf_MeanImageOf10Fish\n",
      "EtVmat2-GFP_6dpf_MeanImageOf55Fish\n",
      "Gad1b-GFP_6dpf_MeanImageOf10Fish\n",
      "Glyt2-GFP_6dpf_MeanImageOf13Fish\n",
      "Hcrt-RFP_6dpf_MeanImageOf15Fish\n",
      "Isl1-GFP_6dpf_MeanImageOf17Fish\n",
      "Isl2bGal4-uasDendra_6dpf_MeanImageOf8Fish\n",
      "Olig2-GFP_6dpf_MeanImageOf12Fish\n",
      "Otpb.A-Gal4-UAS-GCaMP_6-7dpf_MeanImageOf19Fish\n",
      "Otpb.A-Nsfb-GFP_6dpf_MeanImageOf10Fish\n",
      "Oxtl-GFP_6dpf_MeanImageOf68Fish\n",
      "Pet1-GFP_6dpf_MeanImageOf13Fish\n",
      "Ptf1aGal4-uasKaede_6dpf_MeanImageOf11Fish\n",
      "Qrfp-GFP_6dpf_MeanImageOf15Fish\n",
      "S1181tGal4-uasKaede_6dpf_MeanImageOf14Fish\n",
      "SpinalBackfills_6dpf_MeanImageOf23Fish\n",
      "Vglut2a-GFP_6dpf_MeanImageOf15Fish\n"
     ]
    }
   ],
   "source": [
    "for key in f.keys():\n",
    "    print key"
   ]
  },
  {
   "cell_type": "code",
   "execution_count": 7,
   "metadata": {
    "collapsed": false
   },
   "outputs": [
    {
     "data": {
      "text/plain": [
       "[]"
      ]
     },
     "execution_count": 7,
     "metadata": {},
     "output_type": "execute_result"
    }
   ],
   "source": [
    "data = f.get('Elavl3-H2BRFP_6dpf_MeanImageOf10Fish')\n",
    "#data = f2.get('ZBB_HuC-Cer')\n",
    "viewer = ImageViewer(data[80])\n",
    "viewer.show()"
   ]
  },
  {
   "cell_type": "code",
   "execution_count": 8,
   "metadata": {
    "collapsed": false
   },
   "outputs": [],
   "source": [
    "#io.imsave('Test/test_16bit_jpeg.jpg', data[86])"
   ]
  },
  {
   "cell_type": "code",
   "execution_count": 55,
   "metadata": {
    "collapsed": false
   },
   "outputs": [
    {
     "name": "stdout",
     "output_type": "stream",
     "text": [
      "109\n",
      "ZBB_y319-Gal4\n"
     ]
    }
   ],
   "source": [
    "print len(f2.keys())\n",
    "print f2.keys()[62]"
   ]
  },
  {
   "cell_type": "code",
   "execution_count": 21,
   "metadata": {
    "collapsed": true
   },
   "outputs": [],
   "source": [
    "conn = psycopg2.connect(dbname='zbrain2db', user='gqe', host='localhost', password='')\n",
    "cursor = conn.cursor()"
   ]
  },
  {
   "cell_type": "code",
   "execution_count": 22,
   "metadata": {
    "collapsed": false,
    "scrolled": true
   },
   "outputs": [
    {
     "name": "stdout",
     "output_type": "stream",
     "text": [
      "images/ZBB_HuC-Cer/\n",
      "[Errno 17] File exists: '../app/assets/images/ZBB_HuC-Cer/'\n",
      "images/ZBB_ath5-GFP/\n",
      "[Errno 17] File exists: '../app/assets/images/ZBB_ath5-GFP/'\n",
      "images/ZBB_bActin-GFP/\n",
      "[Errno 17] File exists: '../app/assets/images/ZBB_bActin-GFP/'\n",
      "images/ZBB_chx10-gal4/\n",
      "[Errno 17] File exists: '../app/assets/images/ZBB_chx10-gal4/'\n",
      "images/ZBB_dat-GFP/\n",
      "[Errno 17] File exists: '../app/assets/images/ZBB_dat-GFP/'\n",
      "images/ZBB_dbh-Gal4/\n",
      "[Errno 17] File exists: '../app/assets/images/ZBB_dbh-Gal4/'\n",
      "images/ZBB_eng1b-Gal4/\n",
      "[Errno 17] File exists: '../app/assets/images/ZBB_eng1b-Gal4/'\n",
      "images/ZBB_evx2-Gal4/\n",
      "[Errno 17] File exists: '../app/assets/images/ZBB_evx2-Gal4/'\n",
      "images/ZBB_flk-GFP/\n",
      "[Errno 17] File exists: '../app/assets/images/ZBB_flk-GFP/'\n",
      "images/ZBB_gad1b-GFP/\n",
      "[Errno 17] File exists: '../app/assets/images/ZBB_gad1b-GFP/'\n",
      "images/ZBB_gfap-GFP/\n",
      "[Errno 17] File exists: '../app/assets/images/ZBB_gfap-GFP/'\n",
      "images/ZBB_glyt2-GFP/\n",
      "[Errno 17] File exists: '../app/assets/images/ZBB_glyt2-GFP/'\n",
      "images/ZBB_gsx1-GFP/\n",
      "[Errno 17] File exists: '../app/assets/images/ZBB_gsx1-GFP/'\n",
      "images/ZBB_isl2b-GFP/\n",
      "[Errno 17] File exists: '../app/assets/images/ZBB_isl2b-GFP/'\n",
      "images/ZBB_j1229-GFP/\n",
      "[Errno 17] File exists: '../app/assets/images/ZBB_j1229-GFP/'\n",
      "images/ZBB_pet1-GFP/\n",
      "[Errno 17] File exists: '../app/assets/images/ZBB_pet1-GFP/'\n",
      "images/ZBB_phox2b-GFP/\n",
      "[Errno 17] File exists: '../app/assets/images/ZBB_phox2b-GFP/'\n",
      "images/ZBB_shox2-Gal4/\n",
      "[Errno 17] File exists: '../app/assets/images/ZBB_shox2-Gal4/'\n",
      "images/ZBB_tph2-Gal4/\n",
      "[Errno 17] File exists: '../app/assets/images/ZBB_tph2-Gal4/'\n",
      "images/ZBB_vglut-DsRed/\n",
      "[Errno 17] File exists: '../app/assets/images/ZBB_vglut-DsRed/'\n",
      "images/ZBB_y234-Gal4/\n",
      "[Errno 17] File exists: '../app/assets/images/ZBB_y234-Gal4/'\n",
      "images/ZBB_y236-Gal4/\n",
      "[Errno 17] File exists: '../app/assets/images/ZBB_y236-Gal4/'\n",
      "images/ZBB_y237-Gal4/\n",
      "[Errno 17] File exists: '../app/assets/images/ZBB_y237-Gal4/'\n",
      "images/ZBB_y240-Gal4/\n",
      "[Errno 17] File exists: '../app/assets/images/ZBB_y240-Gal4/'\n",
      "images/ZBB_y241-Gal4/\n",
      "[Errno 17] File exists: '../app/assets/images/ZBB_y241-Gal4/'\n",
      "images/ZBB_y244-Gal4/\n",
      "[Errno 17] File exists: '../app/assets/images/ZBB_y244-Gal4/'\n",
      "images/ZBB_y245-Gal4/\n",
      "[Errno 17] File exists: '../app/assets/images/ZBB_y245-Gal4/'\n",
      "images/ZBB_y249-Gal4/\n",
      "[Errno 17] File exists: '../app/assets/images/ZBB_y249-Gal4/'\n",
      "images/ZBB_y252-Gal4/\n",
      "[Errno 17] File exists: '../app/assets/images/ZBB_y252-Gal4/'\n",
      "images/ZBB_y255-Gal4/\n",
      "[Errno 17] File exists: '../app/assets/images/ZBB_y255-Gal4/'\n",
      "images/ZBB_y256-Gal4/\n",
      "[Errno 17] File exists: '../app/assets/images/ZBB_y256-Gal4/'\n",
      "images/ZBB_y264-Gal4/\n",
      "[Errno 17] File exists: '../app/assets/images/ZBB_y264-Gal4/'\n",
      "images/ZBB_y269-Gal4/\n",
      "[Errno 17] File exists: '../app/assets/images/ZBB_y269-Gal4/'\n",
      "images/ZBB_y270-Gal4/\n",
      "[Errno 17] File exists: '../app/assets/images/ZBB_y270-Gal4/'\n",
      "images/ZBB_y275-Gal4/\n",
      "[Errno 17] File exists: '../app/assets/images/ZBB_y275-Gal4/'\n",
      "images/ZBB_y279-Gal4/\n",
      "[Errno 17] File exists: '../app/assets/images/ZBB_y279-Gal4/'\n",
      "images/ZBB_y293-Gal4/\n",
      "[Errno 17] File exists: '../app/assets/images/ZBB_y293-Gal4/'\n",
      "images/ZBB_y294-Gal4/\n",
      "[Errno 17] File exists: '../app/assets/images/ZBB_y294-Gal4/'\n",
      "images/ZBB_y295-Gal4/\n",
      "[Errno 17] File exists: '../app/assets/images/ZBB_y295-Gal4/'\n",
      "images/ZBB_y296-Gal4/\n",
      "[Errno 17] File exists: '../app/assets/images/ZBB_y296-Gal4/'\n",
      "images/ZBB_y297-Gal4/\n",
      "[Errno 17] File exists: '../app/assets/images/ZBB_y297-Gal4/'\n",
      "images/ZBB_y298-Gal4/\n",
      "[Errno 17] File exists: '../app/assets/images/ZBB_y298-Gal4/'\n",
      "images/ZBB_y299-Gal4/\n",
      "[Errno 17] File exists: '../app/assets/images/ZBB_y299-Gal4/'\n",
      "images/ZBB_y300-Gal4/\n",
      "[Errno 17] File exists: '../app/assets/images/ZBB_y300-Gal4/'\n",
      "images/ZBB_y301-Gal4/\n",
      "[Errno 17] File exists: '../app/assets/images/ZBB_y301-Gal4/'\n",
      "images/ZBB_y302-Gal4/\n",
      "[Errno 17] File exists: '../app/assets/images/ZBB_y302-Gal4/'\n",
      "images/ZBB_y303-Gal4/\n",
      "[Errno 17] File exists: '../app/assets/images/ZBB_y303-Gal4/'\n",
      "images/ZBB_y304-Gal4/\n",
      "[Errno 17] File exists: '../app/assets/images/ZBB_y304-Gal4/'\n",
      "images/ZBB_y305-Gal4/\n",
      "[Errno 17] File exists: '../app/assets/images/ZBB_y305-Gal4/'\n",
      "images/ZBB_y306-Gal4/\n",
      "[Errno 17] File exists: '../app/assets/images/ZBB_y306-Gal4/'\n",
      "images/ZBB_y307-Gal4/\n",
      "[Errno 17] File exists: '../app/assets/images/ZBB_y307-Gal4/'\n",
      "images/ZBB_y308-Gal4/\n",
      "[Errno 17] File exists: '../app/assets/images/ZBB_y308-Gal4/'\n",
      "images/ZBB_y309-Gal4/\n",
      "[Errno 17] File exists: '../app/assets/images/ZBB_y309-Gal4/'\n",
      "images/ZBB_y310-Gal4/\n",
      "[Errno 17] File exists: '../app/assets/images/ZBB_y310-Gal4/'\n",
      "images/ZBB_y311-Gal4/\n",
      "[Errno 17] File exists: '../app/assets/images/ZBB_y311-Gal4/'\n",
      "images/ZBB_y312-Gal4/\n",
      "[Errno 17] File exists: '../app/assets/images/ZBB_y312-Gal4/'\n",
      "images/ZBB_y313-Gal4/\n",
      "[Errno 17] File exists: '../app/assets/images/ZBB_y313-Gal4/'\n",
      "images/ZBB_y314-Gal4/\n",
      "[Errno 17] File exists: '../app/assets/images/ZBB_y314-Gal4/'\n",
      "images/ZBB_y315-Gal4/\n",
      "[Errno 17] File exists: '../app/assets/images/ZBB_y315-Gal4/'\n",
      "images/ZBB_y316-Gal4/\n",
      "[Errno 17] File exists: '../app/assets/images/ZBB_y316-Gal4/'\n",
      "images/ZBB_y317-Gal4/\n",
      "[Errno 17] File exists: '../app/assets/images/ZBB_y317-Gal4/'\n",
      "images/ZBB_y318-Gal4/\n",
      "[Errno 17] File exists: '../app/assets/images/ZBB_y318-Gal4/'\n",
      "images/ZBB_y319-Gal4/\n",
      "[Errno 17] File exists: '../app/assets/images/ZBB_y319-Gal4/'\n",
      "images/ZBB_y320-Gal4/\n",
      "[Errno 17] File exists: '../app/assets/images/ZBB_y320-Gal4/'\n",
      "images/ZBB_y321-Gal4/\n",
      "[Errno 17] File exists: '../app/assets/images/ZBB_y321-Gal4/'\n"
     ]
    },
    {
     "name": "stderr",
     "output_type": "stream",
     "text": [
      "/Users/OGN/anaconda/lib/python2.7/site-packages/skimage/io/_io.py:132: UserWarning: ../app/assets/images/ZBB_y321-Gal4/ZBB_y321-Gal4-135.jpg is a low contrast image\n",
      "  warn('%s is a low contrast image' % fname)\n",
      "/Users/OGN/anaconda/lib/python2.7/site-packages/skimage/io/_io.py:132: UserWarning: ../app/assets/images/ZBB_y321-Gal4/ZBB_y321-Gal4-136.jpg is a low contrast image\n",
      "  warn('%s is a low contrast image' % fname)\n"
     ]
    },
    {
     "name": "stdout",
     "output_type": "stream",
     "text": [
      "images/ZBB_y322-Gal4/\n",
      "[Errno 17] File exists: '../app/assets/images/ZBB_y322-Gal4/'\n"
     ]
    },
    {
     "name": "stderr",
     "output_type": "stream",
     "text": [
      "/Users/OGN/anaconda/lib/python2.7/site-packages/skimage/io/_io.py:132: UserWarning: ../app/assets/images/ZBB_y322-Gal4/ZBB_y322-Gal4-18.jpg is a low contrast image\n",
      "  warn('%s is a low contrast image' % fname)\n",
      "/Users/OGN/anaconda/lib/python2.7/site-packages/skimage/io/_io.py:132: UserWarning: ../app/assets/images/ZBB_y322-Gal4/ZBB_y322-Gal4-19.jpg is a low contrast image\n",
      "  warn('%s is a low contrast image' % fname)\n",
      "/Users/OGN/anaconda/lib/python2.7/site-packages/skimage/io/_io.py:132: UserWarning: ../app/assets/images/ZBB_y322-Gal4/ZBB_y322-Gal4-20.jpg is a low contrast image\n",
      "  warn('%s is a low contrast image' % fname)\n",
      "/Users/OGN/anaconda/lib/python2.7/site-packages/skimage/io/_io.py:132: UserWarning: ../app/assets/images/ZBB_y322-Gal4/ZBB_y322-Gal4-21.jpg is a low contrast image\n",
      "  warn('%s is a low contrast image' % fname)\n",
      "/Users/OGN/anaconda/lib/python2.7/site-packages/skimage/io/_io.py:132: UserWarning: ../app/assets/images/ZBB_y322-Gal4/ZBB_y322-Gal4-41.jpg is a low contrast image\n",
      "  warn('%s is a low contrast image' % fname)\n",
      "/Users/OGN/anaconda/lib/python2.7/site-packages/skimage/io/_io.py:132: UserWarning: ../app/assets/images/ZBB_y322-Gal4/ZBB_y322-Gal4-42.jpg is a low contrast image\n",
      "  warn('%s is a low contrast image' % fname)\n",
      "/Users/OGN/anaconda/lib/python2.7/site-packages/skimage/io/_io.py:132: UserWarning: ../app/assets/images/ZBB_y322-Gal4/ZBB_y322-Gal4-43.jpg is a low contrast image\n",
      "  warn('%s is a low contrast image' % fname)\n"
     ]
    },
    {
     "name": "stdout",
     "output_type": "stream",
     "text": [
      "images/ZBB_y323-Gal4/\n",
      "[Errno 17] File exists: '../app/assets/images/ZBB_y323-Gal4/'\n",
      "images/ZBB_y324-Gal4/\n",
      "[Errno 17] File exists: '../app/assets/images/ZBB_y324-Gal4/'\n"
     ]
    },
    {
     "name": "stderr",
     "output_type": "stream",
     "text": [
      "/Users/OGN/anaconda/lib/python2.7/site-packages/skimage/io/_io.py:132: UserWarning: ../app/assets/images/ZBB_y324-Gal4/ZBB_y324-Gal4-7.jpg is a low contrast image\n",
      "  warn('%s is a low contrast image' % fname)\n",
      "/Users/OGN/anaconda/lib/python2.7/site-packages/skimage/io/_io.py:132: UserWarning: ../app/assets/images/ZBB_y324-Gal4/ZBB_y324-Gal4-8.jpg is a low contrast image\n",
      "  warn('%s is a low contrast image' % fname)\n",
      "/Users/OGN/anaconda/lib/python2.7/site-packages/skimage/io/_io.py:132: UserWarning: ../app/assets/images/ZBB_y324-Gal4/ZBB_y324-Gal4-9.jpg is a low contrast image\n",
      "  warn('%s is a low contrast image' % fname)\n",
      "/Users/OGN/anaconda/lib/python2.7/site-packages/skimage/io/_io.py:132: UserWarning: ../app/assets/images/ZBB_y324-Gal4/ZBB_y324-Gal4-10.jpg is a low contrast image\n",
      "  warn('%s is a low contrast image' % fname)\n"
     ]
    },
    {
     "name": "stdout",
     "output_type": "stream",
     "text": [
      "images/ZBB_y325-Gal4/\n",
      "[Errno 17] File exists: '../app/assets/images/ZBB_y325-Gal4/'\n"
     ]
    },
    {
     "name": "stderr",
     "output_type": "stream",
     "text": [
      "/Users/OGN/anaconda/lib/python2.7/site-packages/skimage/io/_io.py:132: UserWarning: ../app/assets/images/ZBB_y325-Gal4/ZBB_y325-Gal4-136.jpg is a low contrast image\n",
      "  warn('%s is a low contrast image' % fname)\n",
      "/Users/OGN/anaconda/lib/python2.7/site-packages/skimage/io/_io.py:132: UserWarning: ../app/assets/images/ZBB_y325-Gal4/ZBB_y325-Gal4-137.jpg is a low contrast image\n",
      "  warn('%s is a low contrast image' % fname)\n"
     ]
    },
    {
     "name": "stdout",
     "output_type": "stream",
     "text": [
      "images/ZBB_y326-Gal4/\n",
      "[Errno 17] File exists: '../app/assets/images/ZBB_y326-Gal4/'\n"
     ]
    },
    {
     "name": "stderr",
     "output_type": "stream",
     "text": [
      "/Users/OGN/anaconda/lib/python2.7/site-packages/skimage/io/_io.py:132: UserWarning: ../app/assets/images/ZBB_y326-Gal4/ZBB_y326-Gal4-0.jpg is a low contrast image\n",
      "  warn('%s is a low contrast image' % fname)\n",
      "/Users/OGN/anaconda/lib/python2.7/site-packages/skimage/io/_io.py:132: UserWarning: ../app/assets/images/ZBB_y326-Gal4/ZBB_y326-Gal4-1.jpg is a low contrast image\n",
      "  warn('%s is a low contrast image' % fname)\n",
      "/Users/OGN/anaconda/lib/python2.7/site-packages/skimage/io/_io.py:132: UserWarning: ../app/assets/images/ZBB_y326-Gal4/ZBB_y326-Gal4-2.jpg is a low contrast image\n",
      "  warn('%s is a low contrast image' % fname)\n",
      "/Users/OGN/anaconda/lib/python2.7/site-packages/skimage/io/_io.py:132: UserWarning: ../app/assets/images/ZBB_y326-Gal4/ZBB_y326-Gal4-3.jpg is a low contrast image\n",
      "  warn('%s is a low contrast image' % fname)\n",
      "/Users/OGN/anaconda/lib/python2.7/site-packages/skimage/io/_io.py:132: UserWarning: ../app/assets/images/ZBB_y326-Gal4/ZBB_y326-Gal4-4.jpg is a low contrast image\n",
      "  warn('%s is a low contrast image' % fname)\n"
     ]
    },
    {
     "name": "stdout",
     "output_type": "stream",
     "text": [
      "images/ZBB_y327-Gal4/\n",
      "[Errno 17] File exists: '../app/assets/images/ZBB_y327-Gal4/'\n",
      "images/ZBB_y328-Gal4/\n",
      "[Errno 17] File exists: '../app/assets/images/ZBB_y328-Gal4/'\n",
      "images/ZBB_y329-Gal4/\n",
      "[Errno 17] File exists: '../app/assets/images/ZBB_y329-Gal4/'\n"
     ]
    },
    {
     "name": "stderr",
     "output_type": "stream",
     "text": [
      "/Users/OGN/anaconda/lib/python2.7/site-packages/skimage/io/_io.py:132: UserWarning: ../app/assets/images/ZBB_y329-Gal4/ZBB_y329-Gal4-136.jpg is a low contrast image\n",
      "  warn('%s is a low contrast image' % fname)\n",
      "/Users/OGN/anaconda/lib/python2.7/site-packages/skimage/io/_io.py:132: UserWarning: ../app/assets/images/ZBB_y329-Gal4/ZBB_y329-Gal4-137.jpg is a low contrast image\n",
      "  warn('%s is a low contrast image' % fname)\n"
     ]
    },
    {
     "name": "stdout",
     "output_type": "stream",
     "text": [
      "images/ZBB_y330-Gal4/\n",
      "[Errno 17] File exists: '../app/assets/images/ZBB_y330-Gal4/'\n",
      "images/ZBB_y331-Gal4/\n",
      "[Errno 17] File exists: '../app/assets/images/ZBB_y331-Gal4/'\n"
     ]
    },
    {
     "name": "stderr",
     "output_type": "stream",
     "text": [
      "/Users/OGN/anaconda/lib/python2.7/site-packages/skimage/io/_io.py:132: UserWarning: ../app/assets/images/ZBB_y331-Gal4/ZBB_y331-Gal4-6.jpg is a low contrast image\n",
      "  warn('%s is a low contrast image' % fname)\n"
     ]
    },
    {
     "name": "stdout",
     "output_type": "stream",
     "text": [
      "images/ZBB_y332-Gal4/\n",
      "[Errno 17] File exists: '../app/assets/images/ZBB_y332-Gal4/'\n"
     ]
    },
    {
     "name": "stderr",
     "output_type": "stream",
     "text": [
      "/Users/OGN/anaconda/lib/python2.7/site-packages/skimage/io/_io.py:132: UserWarning: ../app/assets/images/ZBB_y332-Gal4/ZBB_y332-Gal4-43.jpg is a low contrast image\n",
      "  warn('%s is a low contrast image' % fname)\n",
      "/Users/OGN/anaconda/lib/python2.7/site-packages/skimage/io/_io.py:132: UserWarning: ../app/assets/images/ZBB_y332-Gal4/ZBB_y332-Gal4-44.jpg is a low contrast image\n",
      "  warn('%s is a low contrast image' % fname)\n",
      "/Users/OGN/anaconda/lib/python2.7/site-packages/skimage/io/_io.py:132: UserWarning: ../app/assets/images/ZBB_y332-Gal4/ZBB_y332-Gal4-45.jpg is a low contrast image\n",
      "  warn('%s is a low contrast image' % fname)\n",
      "/Users/OGN/anaconda/lib/python2.7/site-packages/skimage/io/_io.py:132: UserWarning: ../app/assets/images/ZBB_y332-Gal4/ZBB_y332-Gal4-46.jpg is a low contrast image\n",
      "  warn('%s is a low contrast image' % fname)\n",
      "/Users/OGN/anaconda/lib/python2.7/site-packages/skimage/io/_io.py:132: UserWarning: ../app/assets/images/ZBB_y332-Gal4/ZBB_y332-Gal4-47.jpg is a low contrast image\n",
      "  warn('%s is a low contrast image' % fname)\n",
      "/Users/OGN/anaconda/lib/python2.7/site-packages/skimage/io/_io.py:132: UserWarning: ../app/assets/images/ZBB_y332-Gal4/ZBB_y332-Gal4-48.jpg is a low contrast image\n",
      "  warn('%s is a low contrast image' % fname)\n",
      "/Users/OGN/anaconda/lib/python2.7/site-packages/skimage/io/_io.py:132: UserWarning: ../app/assets/images/ZBB_y332-Gal4/ZBB_y332-Gal4-51.jpg is a low contrast image\n",
      "  warn('%s is a low contrast image' % fname)\n",
      "/Users/OGN/anaconda/lib/python2.7/site-packages/skimage/io/_io.py:132: UserWarning: ../app/assets/images/ZBB_y332-Gal4/ZBB_y332-Gal4-52.jpg is a low contrast image\n",
      "  warn('%s is a low contrast image' % fname)\n",
      "/Users/OGN/anaconda/lib/python2.7/site-packages/skimage/io/_io.py:132: UserWarning: ../app/assets/images/ZBB_y332-Gal4/ZBB_y332-Gal4-65.jpg is a low contrast image\n",
      "  warn('%s is a low contrast image' % fname)\n",
      "/Users/OGN/anaconda/lib/python2.7/site-packages/skimage/io/_io.py:132: UserWarning: ../app/assets/images/ZBB_y332-Gal4/ZBB_y332-Gal4-66.jpg is a low contrast image\n",
      "  warn('%s is a low contrast image' % fname)\n",
      "/Users/OGN/anaconda/lib/python2.7/site-packages/skimage/io/_io.py:132: UserWarning: ../app/assets/images/ZBB_y332-Gal4/ZBB_y332-Gal4-67.jpg is a low contrast image\n",
      "  warn('%s is a low contrast image' % fname)\n",
      "/Users/OGN/anaconda/lib/python2.7/site-packages/skimage/io/_io.py:132: UserWarning: ../app/assets/images/ZBB_y332-Gal4/ZBB_y332-Gal4-68.jpg is a low contrast image\n",
      "  warn('%s is a low contrast image' % fname)\n",
      "/Users/OGN/anaconda/lib/python2.7/site-packages/skimage/io/_io.py:132: UserWarning: ../app/assets/images/ZBB_y332-Gal4/ZBB_y332-Gal4-69.jpg is a low contrast image\n",
      "  warn('%s is a low contrast image' % fname)\n",
      "/Users/OGN/anaconda/lib/python2.7/site-packages/skimage/io/_io.py:132: UserWarning: ../app/assets/images/ZBB_y332-Gal4/ZBB_y332-Gal4-70.jpg is a low contrast image\n",
      "  warn('%s is a low contrast image' % fname)\n",
      "/Users/OGN/anaconda/lib/python2.7/site-packages/skimage/io/_io.py:132: UserWarning: ../app/assets/images/ZBB_y332-Gal4/ZBB_y332-Gal4-71.jpg is a low contrast image\n",
      "  warn('%s is a low contrast image' % fname)\n",
      "/Users/OGN/anaconda/lib/python2.7/site-packages/skimage/io/_io.py:132: UserWarning: ../app/assets/images/ZBB_y332-Gal4/ZBB_y332-Gal4-91.jpg is a low contrast image\n",
      "  warn('%s is a low contrast image' % fname)\n",
      "/Users/OGN/anaconda/lib/python2.7/site-packages/skimage/io/_io.py:132: UserWarning: ../app/assets/images/ZBB_y332-Gal4/ZBB_y332-Gal4-92.jpg is a low contrast image\n",
      "  warn('%s is a low contrast image' % fname)\n",
      "/Users/OGN/anaconda/lib/python2.7/site-packages/skimage/io/_io.py:132: UserWarning: ../app/assets/images/ZBB_y332-Gal4/ZBB_y332-Gal4-93.jpg is a low contrast image\n",
      "  warn('%s is a low contrast image' % fname)\n",
      "/Users/OGN/anaconda/lib/python2.7/site-packages/skimage/io/_io.py:132: UserWarning: ../app/assets/images/ZBB_y332-Gal4/ZBB_y332-Gal4-95.jpg is a low contrast image\n",
      "  warn('%s is a low contrast image' % fname)\n",
      "/Users/OGN/anaconda/lib/python2.7/site-packages/skimage/io/_io.py:132: UserWarning: ../app/assets/images/ZBB_y332-Gal4/ZBB_y332-Gal4-97.jpg is a low contrast image\n",
      "  warn('%s is a low contrast image' % fname)\n",
      "/Users/OGN/anaconda/lib/python2.7/site-packages/skimage/io/_io.py:132: UserWarning: ../app/assets/images/ZBB_y332-Gal4/ZBB_y332-Gal4-98.jpg is a low contrast image\n",
      "  warn('%s is a low contrast image' % fname)\n",
      "/Users/OGN/anaconda/lib/python2.7/site-packages/skimage/io/_io.py:132: UserWarning: ../app/assets/images/ZBB_y332-Gal4/ZBB_y332-Gal4-99.jpg is a low contrast image\n",
      "  warn('%s is a low contrast image' % fname)\n",
      "/Users/OGN/anaconda/lib/python2.7/site-packages/skimage/io/_io.py:132: UserWarning: ../app/assets/images/ZBB_y332-Gal4/ZBB_y332-Gal4-100.jpg is a low contrast image\n",
      "  warn('%s is a low contrast image' % fname)\n",
      "/Users/OGN/anaconda/lib/python2.7/site-packages/skimage/io/_io.py:132: UserWarning: ../app/assets/images/ZBB_y332-Gal4/ZBB_y332-Gal4-101.jpg is a low contrast image\n",
      "  warn('%s is a low contrast image' % fname)\n",
      "/Users/OGN/anaconda/lib/python2.7/site-packages/skimage/io/_io.py:132: UserWarning: ../app/assets/images/ZBB_y332-Gal4/ZBB_y332-Gal4-102.jpg is a low contrast image\n",
      "  warn('%s is a low contrast image' % fname)\n",
      "/Users/OGN/anaconda/lib/python2.7/site-packages/skimage/io/_io.py:132: UserWarning: ../app/assets/images/ZBB_y332-Gal4/ZBB_y332-Gal4-103.jpg is a low contrast image\n",
      "  warn('%s is a low contrast image' % fname)\n",
      "/Users/OGN/anaconda/lib/python2.7/site-packages/skimage/io/_io.py:132: UserWarning: ../app/assets/images/ZBB_y332-Gal4/ZBB_y332-Gal4-104.jpg is a low contrast image\n",
      "  warn('%s is a low contrast image' % fname)\n",
      "/Users/OGN/anaconda/lib/python2.7/site-packages/skimage/io/_io.py:132: UserWarning: ../app/assets/images/ZBB_y332-Gal4/ZBB_y332-Gal4-105.jpg is a low contrast image\n",
      "  warn('%s is a low contrast image' % fname)\n",
      "/Users/OGN/anaconda/lib/python2.7/site-packages/skimage/io/_io.py:132: UserWarning: ../app/assets/images/ZBB_y332-Gal4/ZBB_y332-Gal4-106.jpg is a low contrast image\n",
      "  warn('%s is a low contrast image' % fname)\n",
      "/Users/OGN/anaconda/lib/python2.7/site-packages/skimage/io/_io.py:132: UserWarning: ../app/assets/images/ZBB_y332-Gal4/ZBB_y332-Gal4-107.jpg is a low contrast image\n",
      "  warn('%s is a low contrast image' % fname)\n",
      "/Users/OGN/anaconda/lib/python2.7/site-packages/skimage/io/_io.py:132: UserWarning: ../app/assets/images/ZBB_y332-Gal4/ZBB_y332-Gal4-108.jpg is a low contrast image\n",
      "  warn('%s is a low contrast image' % fname)\n",
      "/Users/OGN/anaconda/lib/python2.7/site-packages/skimage/io/_io.py:132: UserWarning: ../app/assets/images/ZBB_y332-Gal4/ZBB_y332-Gal4-109.jpg is a low contrast image\n",
      "  warn('%s is a low contrast image' % fname)\n",
      "/Users/OGN/anaconda/lib/python2.7/site-packages/skimage/io/_io.py:132: UserWarning: ../app/assets/images/ZBB_y332-Gal4/ZBB_y332-Gal4-110.jpg is a low contrast image\n",
      "  warn('%s is a low contrast image' % fname)\n",
      "/Users/OGN/anaconda/lib/python2.7/site-packages/skimage/io/_io.py:132: UserWarning: ../app/assets/images/ZBB_y332-Gal4/ZBB_y332-Gal4-111.jpg is a low contrast image\n",
      "  warn('%s is a low contrast image' % fname)\n",
      "/Users/OGN/anaconda/lib/python2.7/site-packages/skimage/io/_io.py:132: UserWarning: ../app/assets/images/ZBB_y332-Gal4/ZBB_y332-Gal4-112.jpg is a low contrast image\n",
      "  warn('%s is a low contrast image' % fname)\n",
      "/Users/OGN/anaconda/lib/python2.7/site-packages/skimage/io/_io.py:132: UserWarning: ../app/assets/images/ZBB_y332-Gal4/ZBB_y332-Gal4-114.jpg is a low contrast image\n",
      "  warn('%s is a low contrast image' % fname)\n",
      "/Users/OGN/anaconda/lib/python2.7/site-packages/skimage/io/_io.py:132: UserWarning: ../app/assets/images/ZBB_y332-Gal4/ZBB_y332-Gal4-115.jpg is a low contrast image\n",
      "  warn('%s is a low contrast image' % fname)\n",
      "/Users/OGN/anaconda/lib/python2.7/site-packages/skimage/io/_io.py:132: UserWarning: ../app/assets/images/ZBB_y332-Gal4/ZBB_y332-Gal4-116.jpg is a low contrast image\n",
      "  warn('%s is a low contrast image' % fname)\n",
      "/Users/OGN/anaconda/lib/python2.7/site-packages/skimage/io/_io.py:132: UserWarning: ../app/assets/images/ZBB_y332-Gal4/ZBB_y332-Gal4-126.jpg is a low contrast image\n",
      "  warn('%s is a low contrast image' % fname)\n",
      "/Users/OGN/anaconda/lib/python2.7/site-packages/skimage/io/_io.py:132: UserWarning: ../app/assets/images/ZBB_y332-Gal4/ZBB_y332-Gal4-127.jpg is a low contrast image\n",
      "  warn('%s is a low contrast image' % fname)\n",
      "/Users/OGN/anaconda/lib/python2.7/site-packages/skimage/io/_io.py:132: UserWarning: ../app/assets/images/ZBB_y332-Gal4/ZBB_y332-Gal4-128.jpg is a low contrast image\n",
      "  warn('%s is a low contrast image' % fname)\n",
      "/Users/OGN/anaconda/lib/python2.7/site-packages/skimage/io/_io.py:132: UserWarning: ../app/assets/images/ZBB_y332-Gal4/ZBB_y332-Gal4-129.jpg is a low contrast image\n",
      "  warn('%s is a low contrast image' % fname)\n",
      "/Users/OGN/anaconda/lib/python2.7/site-packages/skimage/io/_io.py:132: UserWarning: ../app/assets/images/ZBB_y332-Gal4/ZBB_y332-Gal4-136.jpg is a low contrast image\n",
      "  warn('%s is a low contrast image' % fname)\n"
     ]
    },
    {
     "name": "stdout",
     "output_type": "stream",
     "text": [
      "images/ZBB_y333-Gal4/\n",
      "[Errno 17] File exists: '../app/assets/images/ZBB_y333-Gal4/'\n"
     ]
    },
    {
     "name": "stderr",
     "output_type": "stream",
     "text": [
      "/Users/OGN/anaconda/lib/python2.7/site-packages/skimage/io/_io.py:132: UserWarning: ../app/assets/images/ZBB_y333-Gal4/ZBB_y333-Gal4-53.jpg is a low contrast image\n",
      "  warn('%s is a low contrast image' % fname)\n",
      "/Users/OGN/anaconda/lib/python2.7/site-packages/skimage/io/_io.py:132: UserWarning: ../app/assets/images/ZBB_y333-Gal4/ZBB_y333-Gal4-54.jpg is a low contrast image\n",
      "  warn('%s is a low contrast image' % fname)\n",
      "/Users/OGN/anaconda/lib/python2.7/site-packages/skimage/io/_io.py:132: UserWarning: ../app/assets/images/ZBB_y333-Gal4/ZBB_y333-Gal4-55.jpg is a low contrast image\n",
      "  warn('%s is a low contrast image' % fname)\n",
      "/Users/OGN/anaconda/lib/python2.7/site-packages/skimage/io/_io.py:132: UserWarning: ../app/assets/images/ZBB_y333-Gal4/ZBB_y333-Gal4-56.jpg is a low contrast image\n",
      "  warn('%s is a low contrast image' % fname)\n",
      "/Users/OGN/anaconda/lib/python2.7/site-packages/skimage/io/_io.py:132: UserWarning: ../app/assets/images/ZBB_y333-Gal4/ZBB_y333-Gal4-57.jpg is a low contrast image\n",
      "  warn('%s is a low contrast image' % fname)\n",
      "/Users/OGN/anaconda/lib/python2.7/site-packages/skimage/io/_io.py:132: UserWarning: ../app/assets/images/ZBB_y333-Gal4/ZBB_y333-Gal4-92.jpg is a low contrast image\n",
      "  warn('%s is a low contrast image' % fname)\n",
      "/Users/OGN/anaconda/lib/python2.7/site-packages/skimage/io/_io.py:132: UserWarning: ../app/assets/images/ZBB_y333-Gal4/ZBB_y333-Gal4-93.jpg is a low contrast image\n",
      "  warn('%s is a low contrast image' % fname)\n",
      "/Users/OGN/anaconda/lib/python2.7/site-packages/skimage/io/_io.py:132: UserWarning: ../app/assets/images/ZBB_y333-Gal4/ZBB_y333-Gal4-94.jpg is a low contrast image\n",
      "  warn('%s is a low contrast image' % fname)\n",
      "/Users/OGN/anaconda/lib/python2.7/site-packages/skimage/io/_io.py:132: UserWarning: ../app/assets/images/ZBB_y333-Gal4/ZBB_y333-Gal4-95.jpg is a low contrast image\n",
      "  warn('%s is a low contrast image' % fname)\n",
      "/Users/OGN/anaconda/lib/python2.7/site-packages/skimage/io/_io.py:132: UserWarning: ../app/assets/images/ZBB_y333-Gal4/ZBB_y333-Gal4-96.jpg is a low contrast image\n",
      "  warn('%s is a low contrast image' % fname)\n",
      "/Users/OGN/anaconda/lib/python2.7/site-packages/skimage/io/_io.py:132: UserWarning: ../app/assets/images/ZBB_y333-Gal4/ZBB_y333-Gal4-97.jpg is a low contrast image\n",
      "  warn('%s is a low contrast image' % fname)\n"
     ]
    },
    {
     "name": "stdout",
     "output_type": "stream",
     "text": [
      "images/ZBB_y334-Gal4/\n",
      "[Errno 17] File exists: '../app/assets/images/ZBB_y334-Gal4/'\n"
     ]
    },
    {
     "name": "stderr",
     "output_type": "stream",
     "text": [
      "/Users/OGN/anaconda/lib/python2.7/site-packages/skimage/io/_io.py:132: UserWarning: ../app/assets/images/ZBB_y334-Gal4/ZBB_y334-Gal4-24.jpg is a low contrast image\n",
      "  warn('%s is a low contrast image' % fname)\n",
      "/Users/OGN/anaconda/lib/python2.7/site-packages/skimage/io/_io.py:132: UserWarning: ../app/assets/images/ZBB_y334-Gal4/ZBB_y334-Gal4-26.jpg is a low contrast image\n",
      "  warn('%s is a low contrast image' % fname)\n"
     ]
    },
    {
     "name": "stdout",
     "output_type": "stream",
     "text": [
      "images/ZBB_y336-Gal4/\n",
      "[Errno 17] File exists: '../app/assets/images/ZBB_y336-Gal4/'\n"
     ]
    },
    {
     "name": "stderr",
     "output_type": "stream",
     "text": [
      "/Users/OGN/anaconda/lib/python2.7/site-packages/skimage/io/_io.py:132: UserWarning: ../app/assets/images/ZBB_y336-Gal4/ZBB_y336-Gal4-0.jpg is a low contrast image\n",
      "  warn('%s is a low contrast image' % fname)\n",
      "/Users/OGN/anaconda/lib/python2.7/site-packages/skimage/io/_io.py:132: UserWarning: ../app/assets/images/ZBB_y336-Gal4/ZBB_y336-Gal4-1.jpg is a low contrast image\n",
      "  warn('%s is a low contrast image' % fname)\n",
      "/Users/OGN/anaconda/lib/python2.7/site-packages/skimage/io/_io.py:132: UserWarning: ../app/assets/images/ZBB_y336-Gal4/ZBB_y336-Gal4-2.jpg is a low contrast image\n",
      "  warn('%s is a low contrast image' % fname)\n",
      "/Users/OGN/anaconda/lib/python2.7/site-packages/skimage/io/_io.py:132: UserWarning: ../app/assets/images/ZBB_y336-Gal4/ZBB_y336-Gal4-3.jpg is a low contrast image\n",
      "  warn('%s is a low contrast image' % fname)\n",
      "/Users/OGN/anaconda/lib/python2.7/site-packages/skimage/io/_io.py:132: UserWarning: ../app/assets/images/ZBB_y336-Gal4/ZBB_y336-Gal4-4.jpg is a low contrast image\n",
      "  warn('%s is a low contrast image' % fname)\n",
      "/Users/OGN/anaconda/lib/python2.7/site-packages/skimage/io/_io.py:132: UserWarning: ../app/assets/images/ZBB_y336-Gal4/ZBB_y336-Gal4-5.jpg is a low contrast image\n",
      "  warn('%s is a low contrast image' % fname)\n",
      "/Users/OGN/anaconda/lib/python2.7/site-packages/skimage/io/_io.py:132: UserWarning: ../app/assets/images/ZBB_y336-Gal4/ZBB_y336-Gal4-6.jpg is a low contrast image\n",
      "  warn('%s is a low contrast image' % fname)\n",
      "/Users/OGN/anaconda/lib/python2.7/site-packages/skimage/io/_io.py:132: UserWarning: ../app/assets/images/ZBB_y336-Gal4/ZBB_y336-Gal4-7.jpg is a low contrast image\n",
      "  warn('%s is a low contrast image' % fname)\n",
      "/Users/OGN/anaconda/lib/python2.7/site-packages/skimage/io/_io.py:132: UserWarning: ../app/assets/images/ZBB_y336-Gal4/ZBB_y336-Gal4-8.jpg is a low contrast image\n",
      "  warn('%s is a low contrast image' % fname)\n",
      "/Users/OGN/anaconda/lib/python2.7/site-packages/skimage/io/_io.py:132: UserWarning: ../app/assets/images/ZBB_y336-Gal4/ZBB_y336-Gal4-9.jpg is a low contrast image\n",
      "  warn('%s is a low contrast image' % fname)\n"
     ]
    },
    {
     "name": "stdout",
     "output_type": "stream",
     "text": [
      "images/ZBB_y337-Gal4/\n",
      "[Errno 17] File exists: '../app/assets/images/ZBB_y337-Gal4/'\n"
     ]
    },
    {
     "name": "stderr",
     "output_type": "stream",
     "text": [
      "/Users/OGN/anaconda/lib/python2.7/site-packages/skimage/io/_io.py:132: UserWarning: ../app/assets/images/ZBB_y337-Gal4/ZBB_y337-Gal4-0.jpg is a low contrast image\n",
      "  warn('%s is a low contrast image' % fname)\n",
      "/Users/OGN/anaconda/lib/python2.7/site-packages/skimage/io/_io.py:132: UserWarning: ../app/assets/images/ZBB_y337-Gal4/ZBB_y337-Gal4-1.jpg is a low contrast image\n",
      "  warn('%s is a low contrast image' % fname)\n",
      "/Users/OGN/anaconda/lib/python2.7/site-packages/skimage/io/_io.py:132: UserWarning: ../app/assets/images/ZBB_y337-Gal4/ZBB_y337-Gal4-2.jpg is a low contrast image\n",
      "  warn('%s is a low contrast image' % fname)\n",
      "/Users/OGN/anaconda/lib/python2.7/site-packages/skimage/io/_io.py:132: UserWarning: ../app/assets/images/ZBB_y337-Gal4/ZBB_y337-Gal4-3.jpg is a low contrast image\n",
      "  warn('%s is a low contrast image' % fname)\n",
      "/Users/OGN/anaconda/lib/python2.7/site-packages/skimage/io/_io.py:132: UserWarning: ../app/assets/images/ZBB_y337-Gal4/ZBB_y337-Gal4-4.jpg is a low contrast image\n",
      "  warn('%s is a low contrast image' % fname)\n",
      "/Users/OGN/anaconda/lib/python2.7/site-packages/skimage/io/_io.py:132: UserWarning: ../app/assets/images/ZBB_y337-Gal4/ZBB_y337-Gal4-5.jpg is a low contrast image\n",
      "  warn('%s is a low contrast image' % fname)\n",
      "/Users/OGN/anaconda/lib/python2.7/site-packages/skimage/io/_io.py:132: UserWarning: ../app/assets/images/ZBB_y337-Gal4/ZBB_y337-Gal4-6.jpg is a low contrast image\n",
      "  warn('%s is a low contrast image' % fname)\n",
      "/Users/OGN/anaconda/lib/python2.7/site-packages/skimage/io/_io.py:132: UserWarning: ../app/assets/images/ZBB_y337-Gal4/ZBB_y337-Gal4-7.jpg is a low contrast image\n",
      "  warn('%s is a low contrast image' % fname)\n",
      "/Users/OGN/anaconda/lib/python2.7/site-packages/skimage/io/_io.py:132: UserWarning: ../app/assets/images/ZBB_y337-Gal4/ZBB_y337-Gal4-10.jpg is a low contrast image\n",
      "  warn('%s is a low contrast image' % fname)\n",
      "/Users/OGN/anaconda/lib/python2.7/site-packages/skimage/io/_io.py:132: UserWarning: ../app/assets/images/ZBB_y337-Gal4/ZBB_y337-Gal4-11.jpg is a low contrast image\n",
      "  warn('%s is a low contrast image' % fname)\n",
      "/Users/OGN/anaconda/lib/python2.7/site-packages/skimage/io/_io.py:132: UserWarning: ../app/assets/images/ZBB_y337-Gal4/ZBB_y337-Gal4-12.jpg is a low contrast image\n",
      "  warn('%s is a low contrast image' % fname)\n",
      "/Users/OGN/anaconda/lib/python2.7/site-packages/skimage/io/_io.py:132: UserWarning: ../app/assets/images/ZBB_y337-Gal4/ZBB_y337-Gal4-13.jpg is a low contrast image\n",
      "  warn('%s is a low contrast image' % fname)\n",
      "/Users/OGN/anaconda/lib/python2.7/site-packages/skimage/io/_io.py:132: UserWarning: ../app/assets/images/ZBB_y337-Gal4/ZBB_y337-Gal4-14.jpg is a low contrast image\n",
      "  warn('%s is a low contrast image' % fname)\n",
      "/Users/OGN/anaconda/lib/python2.7/site-packages/skimage/io/_io.py:132: UserWarning: ../app/assets/images/ZBB_y337-Gal4/ZBB_y337-Gal4-15.jpg is a low contrast image\n",
      "  warn('%s is a low contrast image' % fname)\n",
      "/Users/OGN/anaconda/lib/python2.7/site-packages/skimage/io/_io.py:132: UserWarning: ../app/assets/images/ZBB_y337-Gal4/ZBB_y337-Gal4-16.jpg is a low contrast image\n",
      "  warn('%s is a low contrast image' % fname)\n",
      "/Users/OGN/anaconda/lib/python2.7/site-packages/skimage/io/_io.py:132: UserWarning: ../app/assets/images/ZBB_y337-Gal4/ZBB_y337-Gal4-17.jpg is a low contrast image\n",
      "  warn('%s is a low contrast image' % fname)\n",
      "/Users/OGN/anaconda/lib/python2.7/site-packages/skimage/io/_io.py:132: UserWarning: ../app/assets/images/ZBB_y337-Gal4/ZBB_y337-Gal4-18.jpg is a low contrast image\n",
      "  warn('%s is a low contrast image' % fname)\n",
      "/Users/OGN/anaconda/lib/python2.7/site-packages/skimage/io/_io.py:132: UserWarning: ../app/assets/images/ZBB_y337-Gal4/ZBB_y337-Gal4-19.jpg is a low contrast image\n",
      "  warn('%s is a low contrast image' % fname)\n",
      "/Users/OGN/anaconda/lib/python2.7/site-packages/skimage/io/_io.py:132: UserWarning: ../app/assets/images/ZBB_y337-Gal4/ZBB_y337-Gal4-20.jpg is a low contrast image\n",
      "  warn('%s is a low contrast image' % fname)\n",
      "/Users/OGN/anaconda/lib/python2.7/site-packages/skimage/io/_io.py:132: UserWarning: ../app/assets/images/ZBB_y337-Gal4/ZBB_y337-Gal4-21.jpg is a low contrast image\n",
      "  warn('%s is a low contrast image' % fname)\n",
      "/Users/OGN/anaconda/lib/python2.7/site-packages/skimage/io/_io.py:132: UserWarning: ../app/assets/images/ZBB_y337-Gal4/ZBB_y337-Gal4-22.jpg is a low contrast image\n",
      "  warn('%s is a low contrast image' % fname)\n",
      "/Users/OGN/anaconda/lib/python2.7/site-packages/skimage/io/_io.py:132: UserWarning: ../app/assets/images/ZBB_y337-Gal4/ZBB_y337-Gal4-23.jpg is a low contrast image\n",
      "  warn('%s is a low contrast image' % fname)\n",
      "/Users/OGN/anaconda/lib/python2.7/site-packages/skimage/io/_io.py:132: UserWarning: ../app/assets/images/ZBB_y337-Gal4/ZBB_y337-Gal4-24.jpg is a low contrast image\n",
      "  warn('%s is a low contrast image' % fname)\n",
      "/Users/OGN/anaconda/lib/python2.7/site-packages/skimage/io/_io.py:132: UserWarning: ../app/assets/images/ZBB_y337-Gal4/ZBB_y337-Gal4-25.jpg is a low contrast image\n",
      "  warn('%s is a low contrast image' % fname)\n",
      "/Users/OGN/anaconda/lib/python2.7/site-packages/skimage/io/_io.py:132: UserWarning: ../app/assets/images/ZBB_y337-Gal4/ZBB_y337-Gal4-26.jpg is a low contrast image\n",
      "  warn('%s is a low contrast image' % fname)\n",
      "/Users/OGN/anaconda/lib/python2.7/site-packages/skimage/io/_io.py:132: UserWarning: ../app/assets/images/ZBB_y337-Gal4/ZBB_y337-Gal4-27.jpg is a low contrast image\n",
      "  warn('%s is a low contrast image' % fname)\n",
      "/Users/OGN/anaconda/lib/python2.7/site-packages/skimage/io/_io.py:132: UserWarning: ../app/assets/images/ZBB_y337-Gal4/ZBB_y337-Gal4-28.jpg is a low contrast image\n",
      "  warn('%s is a low contrast image' % fname)\n",
      "/Users/OGN/anaconda/lib/python2.7/site-packages/skimage/io/_io.py:132: UserWarning: ../app/assets/images/ZBB_y337-Gal4/ZBB_y337-Gal4-29.jpg is a low contrast image\n",
      "  warn('%s is a low contrast image' % fname)\n",
      "/Users/OGN/anaconda/lib/python2.7/site-packages/skimage/io/_io.py:132: UserWarning: ../app/assets/images/ZBB_y337-Gal4/ZBB_y337-Gal4-30.jpg is a low contrast image\n",
      "  warn('%s is a low contrast image' % fname)\n",
      "/Users/OGN/anaconda/lib/python2.7/site-packages/skimage/io/_io.py:132: UserWarning: ../app/assets/images/ZBB_y337-Gal4/ZBB_y337-Gal4-31.jpg is a low contrast image\n",
      "  warn('%s is a low contrast image' % fname)\n",
      "/Users/OGN/anaconda/lib/python2.7/site-packages/skimage/io/_io.py:132: UserWarning: ../app/assets/images/ZBB_y337-Gal4/ZBB_y337-Gal4-32.jpg is a low contrast image\n",
      "  warn('%s is a low contrast image' % fname)\n",
      "/Users/OGN/anaconda/lib/python2.7/site-packages/skimage/io/_io.py:132: UserWarning: ../app/assets/images/ZBB_y337-Gal4/ZBB_y337-Gal4-33.jpg is a low contrast image\n",
      "  warn('%s is a low contrast image' % fname)\n",
      "/Users/OGN/anaconda/lib/python2.7/site-packages/skimage/io/_io.py:132: UserWarning: ../app/assets/images/ZBB_y337-Gal4/ZBB_y337-Gal4-34.jpg is a low contrast image\n",
      "  warn('%s is a low contrast image' % fname)\n",
      "/Users/OGN/anaconda/lib/python2.7/site-packages/skimage/io/_io.py:132: UserWarning: ../app/assets/images/ZBB_y337-Gal4/ZBB_y337-Gal4-35.jpg is a low contrast image\n",
      "  warn('%s is a low contrast image' % fname)\n",
      "/Users/OGN/anaconda/lib/python2.7/site-packages/skimage/io/_io.py:132: UserWarning: ../app/assets/images/ZBB_y337-Gal4/ZBB_y337-Gal4-39.jpg is a low contrast image\n",
      "  warn('%s is a low contrast image' % fname)\n",
      "/Users/OGN/anaconda/lib/python2.7/site-packages/skimage/io/_io.py:132: UserWarning: ../app/assets/images/ZBB_y337-Gal4/ZBB_y337-Gal4-40.jpg is a low contrast image\n",
      "  warn('%s is a low contrast image' % fname)\n",
      "/Users/OGN/anaconda/lib/python2.7/site-packages/skimage/io/_io.py:132: UserWarning: ../app/assets/images/ZBB_y337-Gal4/ZBB_y337-Gal4-41.jpg is a low contrast image\n",
      "  warn('%s is a low contrast image' % fname)\n",
      "/Users/OGN/anaconda/lib/python2.7/site-packages/skimage/io/_io.py:132: UserWarning: ../app/assets/images/ZBB_y337-Gal4/ZBB_y337-Gal4-42.jpg is a low contrast image\n",
      "  warn('%s is a low contrast image' % fname)\n",
      "/Users/OGN/anaconda/lib/python2.7/site-packages/skimage/io/_io.py:132: UserWarning: ../app/assets/images/ZBB_y337-Gal4/ZBB_y337-Gal4-43.jpg is a low contrast image\n",
      "  warn('%s is a low contrast image' % fname)\n",
      "/Users/OGN/anaconda/lib/python2.7/site-packages/skimage/io/_io.py:132: UserWarning: ../app/assets/images/ZBB_y337-Gal4/ZBB_y337-Gal4-52.jpg is a low contrast image\n",
      "  warn('%s is a low contrast image' % fname)\n",
      "/Users/OGN/anaconda/lib/python2.7/site-packages/skimage/io/_io.py:132: UserWarning: ../app/assets/images/ZBB_y337-Gal4/ZBB_y337-Gal4-53.jpg is a low contrast image\n",
      "  warn('%s is a low contrast image' % fname)\n",
      "/Users/OGN/anaconda/lib/python2.7/site-packages/skimage/io/_io.py:132: UserWarning: ../app/assets/images/ZBB_y337-Gal4/ZBB_y337-Gal4-55.jpg is a low contrast image\n",
      "  warn('%s is a low contrast image' % fname)\n",
      "/Users/OGN/anaconda/lib/python2.7/site-packages/skimage/io/_io.py:132: UserWarning: ../app/assets/images/ZBB_y337-Gal4/ZBB_y337-Gal4-56.jpg is a low contrast image\n",
      "  warn('%s is a low contrast image' % fname)\n",
      "/Users/OGN/anaconda/lib/python2.7/site-packages/skimage/io/_io.py:132: UserWarning: ../app/assets/images/ZBB_y337-Gal4/ZBB_y337-Gal4-57.jpg is a low contrast image\n",
      "  warn('%s is a low contrast image' % fname)\n",
      "/Users/OGN/anaconda/lib/python2.7/site-packages/skimage/io/_io.py:132: UserWarning: ../app/assets/images/ZBB_y337-Gal4/ZBB_y337-Gal4-58.jpg is a low contrast image\n",
      "  warn('%s is a low contrast image' % fname)\n",
      "/Users/OGN/anaconda/lib/python2.7/site-packages/skimage/io/_io.py:132: UserWarning: ../app/assets/images/ZBB_y337-Gal4/ZBB_y337-Gal4-64.jpg is a low contrast image\n",
      "  warn('%s is a low contrast image' % fname)\n",
      "/Users/OGN/anaconda/lib/python2.7/site-packages/skimage/io/_io.py:132: UserWarning: ../app/assets/images/ZBB_y337-Gal4/ZBB_y337-Gal4-65.jpg is a low contrast image\n",
      "  warn('%s is a low contrast image' % fname)\n",
      "/Users/OGN/anaconda/lib/python2.7/site-packages/skimage/io/_io.py:132: UserWarning: ../app/assets/images/ZBB_y337-Gal4/ZBB_y337-Gal4-88.jpg is a low contrast image\n",
      "  warn('%s is a low contrast image' % fname)\n",
      "/Users/OGN/anaconda/lib/python2.7/site-packages/skimage/io/_io.py:132: UserWarning: ../app/assets/images/ZBB_y337-Gal4/ZBB_y337-Gal4-89.jpg is a low contrast image\n",
      "  warn('%s is a low contrast image' % fname)\n",
      "/Users/OGN/anaconda/lib/python2.7/site-packages/skimage/io/_io.py:132: UserWarning: ../app/assets/images/ZBB_y337-Gal4/ZBB_y337-Gal4-90.jpg is a low contrast image\n",
      "  warn('%s is a low contrast image' % fname)\n",
      "/Users/OGN/anaconda/lib/python2.7/site-packages/skimage/io/_io.py:132: UserWarning: ../app/assets/images/ZBB_y337-Gal4/ZBB_y337-Gal4-91.jpg is a low contrast image\n",
      "  warn('%s is a low contrast image' % fname)\n",
      "/Users/OGN/anaconda/lib/python2.7/site-packages/skimage/io/_io.py:132: UserWarning: ../app/assets/images/ZBB_y337-Gal4/ZBB_y337-Gal4-92.jpg is a low contrast image\n",
      "  warn('%s is a low contrast image' % fname)\n",
      "/Users/OGN/anaconda/lib/python2.7/site-packages/skimage/io/_io.py:132: UserWarning: ../app/assets/images/ZBB_y337-Gal4/ZBB_y337-Gal4-93.jpg is a low contrast image\n",
      "  warn('%s is a low contrast image' % fname)\n",
      "/Users/OGN/anaconda/lib/python2.7/site-packages/skimage/io/_io.py:132: UserWarning: ../app/assets/images/ZBB_y337-Gal4/ZBB_y337-Gal4-94.jpg is a low contrast image\n",
      "  warn('%s is a low contrast image' % fname)\n",
      "/Users/OGN/anaconda/lib/python2.7/site-packages/skimage/io/_io.py:132: UserWarning: ../app/assets/images/ZBB_y337-Gal4/ZBB_y337-Gal4-95.jpg is a low contrast image\n",
      "  warn('%s is a low contrast image' % fname)\n"
     ]
    },
    {
     "name": "stdout",
     "output_type": "stream",
     "text": [
      "images/ZBB_y338-Gal4/\n",
      "[Errno 17] File exists: '../app/assets/images/ZBB_y338-Gal4/'\n"
     ]
    },
    {
     "name": "stderr",
     "output_type": "stream",
     "text": [
      "/Users/OGN/anaconda/lib/python2.7/site-packages/skimage/io/_io.py:132: UserWarning: ../app/assets/images/ZBB_y338-Gal4/ZBB_y338-Gal4-13.jpg is a low contrast image\n",
      "  warn('%s is a low contrast image' % fname)\n",
      "/Users/OGN/anaconda/lib/python2.7/site-packages/skimage/io/_io.py:132: UserWarning: ../app/assets/images/ZBB_y338-Gal4/ZBB_y338-Gal4-14.jpg is a low contrast image\n",
      "  warn('%s is a low contrast image' % fname)\n",
      "/Users/OGN/anaconda/lib/python2.7/site-packages/skimage/io/_io.py:132: UserWarning: ../app/assets/images/ZBB_y338-Gal4/ZBB_y338-Gal4-15.jpg is a low contrast image\n",
      "  warn('%s is a low contrast image' % fname)\n",
      "/Users/OGN/anaconda/lib/python2.7/site-packages/skimage/io/_io.py:132: UserWarning: ../app/assets/images/ZBB_y338-Gal4/ZBB_y338-Gal4-16.jpg is a low contrast image\n",
      "  warn('%s is a low contrast image' % fname)\n",
      "/Users/OGN/anaconda/lib/python2.7/site-packages/skimage/io/_io.py:132: UserWarning: ../app/assets/images/ZBB_y338-Gal4/ZBB_y338-Gal4-17.jpg is a low contrast image\n",
      "  warn('%s is a low contrast image' % fname)\n",
      "/Users/OGN/anaconda/lib/python2.7/site-packages/skimage/io/_io.py:132: UserWarning: ../app/assets/images/ZBB_y338-Gal4/ZBB_y338-Gal4-18.jpg is a low contrast image\n",
      "  warn('%s is a low contrast image' % fname)\n",
      "/Users/OGN/anaconda/lib/python2.7/site-packages/skimage/io/_io.py:132: UserWarning: ../app/assets/images/ZBB_y338-Gal4/ZBB_y338-Gal4-19.jpg is a low contrast image\n",
      "  warn('%s is a low contrast image' % fname)\n",
      "/Users/OGN/anaconda/lib/python2.7/site-packages/skimage/io/_io.py:132: UserWarning: ../app/assets/images/ZBB_y338-Gal4/ZBB_y338-Gal4-20.jpg is a low contrast image\n",
      "  warn('%s is a low contrast image' % fname)\n",
      "/Users/OGN/anaconda/lib/python2.7/site-packages/skimage/io/_io.py:132: UserWarning: ../app/assets/images/ZBB_y338-Gal4/ZBB_y338-Gal4-21.jpg is a low contrast image\n",
      "  warn('%s is a low contrast image' % fname)\n",
      "/Users/OGN/anaconda/lib/python2.7/site-packages/skimage/io/_io.py:132: UserWarning: ../app/assets/images/ZBB_y338-Gal4/ZBB_y338-Gal4-22.jpg is a low contrast image\n",
      "  warn('%s is a low contrast image' % fname)\n",
      "/Users/OGN/anaconda/lib/python2.7/site-packages/skimage/io/_io.py:132: UserWarning: ../app/assets/images/ZBB_y338-Gal4/ZBB_y338-Gal4-23.jpg is a low contrast image\n",
      "  warn('%s is a low contrast image' % fname)\n",
      "/Users/OGN/anaconda/lib/python2.7/site-packages/skimage/io/_io.py:132: UserWarning: ../app/assets/images/ZBB_y338-Gal4/ZBB_y338-Gal4-32.jpg is a low contrast image\n",
      "  warn('%s is a low contrast image' % fname)\n",
      "/Users/OGN/anaconda/lib/python2.7/site-packages/skimage/io/_io.py:132: UserWarning: ../app/assets/images/ZBB_y338-Gal4/ZBB_y338-Gal4-33.jpg is a low contrast image\n",
      "  warn('%s is a low contrast image' % fname)\n",
      "/Users/OGN/anaconda/lib/python2.7/site-packages/skimage/io/_io.py:132: UserWarning: ../app/assets/images/ZBB_y338-Gal4/ZBB_y338-Gal4-34.jpg is a low contrast image\n",
      "  warn('%s is a low contrast image' % fname)\n",
      "/Users/OGN/anaconda/lib/python2.7/site-packages/skimage/io/_io.py:132: UserWarning: ../app/assets/images/ZBB_y338-Gal4/ZBB_y338-Gal4-35.jpg is a low contrast image\n",
      "  warn('%s is a low contrast image' % fname)\n",
      "/Users/OGN/anaconda/lib/python2.7/site-packages/skimage/io/_io.py:132: UserWarning: ../app/assets/images/ZBB_y338-Gal4/ZBB_y338-Gal4-63.jpg is a low contrast image\n",
      "  warn('%s is a low contrast image' % fname)\n",
      "/Users/OGN/anaconda/lib/python2.7/site-packages/skimage/io/_io.py:132: UserWarning: ../app/assets/images/ZBB_y338-Gal4/ZBB_y338-Gal4-64.jpg is a low contrast image\n",
      "  warn('%s is a low contrast image' % fname)\n",
      "/Users/OGN/anaconda/lib/python2.7/site-packages/skimage/io/_io.py:132: UserWarning: ../app/assets/images/ZBB_y338-Gal4/ZBB_y338-Gal4-65.jpg is a low contrast image\n",
      "  warn('%s is a low contrast image' % fname)\n",
      "/Users/OGN/anaconda/lib/python2.7/site-packages/skimage/io/_io.py:132: UserWarning: ../app/assets/images/ZBB_y338-Gal4/ZBB_y338-Gal4-66.jpg is a low contrast image\n",
      "  warn('%s is a low contrast image' % fname)\n"
     ]
    },
    {
     "name": "stdout",
     "output_type": "stream",
     "text": [
      "images/ZBB_y339-Gal4/\n",
      "[Errno 17] File exists: '../app/assets/images/ZBB_y339-Gal4/'\n",
      "images/ZBB_y341-Gal4/\n",
      "[Errno 17] File exists: '../app/assets/images/ZBB_y341-Gal4/'\n",
      "images/ZBB_y342-Gal4/\n",
      "[Errno 17] File exists: '../app/assets/images/ZBB_y342-Gal4/'\n"
     ]
    },
    {
     "name": "stderr",
     "output_type": "stream",
     "text": [
      "/Users/OGN/anaconda/lib/python2.7/site-packages/skimage/io/_io.py:132: UserWarning: ../app/assets/images/ZBB_y342-Gal4/ZBB_y342-Gal4-30.jpg is a low contrast image\n",
      "  warn('%s is a low contrast image' % fname)\n",
      "/Users/OGN/anaconda/lib/python2.7/site-packages/skimage/io/_io.py:132: UserWarning: ../app/assets/images/ZBB_y342-Gal4/ZBB_y342-Gal4-31.jpg is a low contrast image\n",
      "  warn('%s is a low contrast image' % fname)\n",
      "/Users/OGN/anaconda/lib/python2.7/site-packages/skimage/io/_io.py:132: UserWarning: ../app/assets/images/ZBB_y342-Gal4/ZBB_y342-Gal4-33.jpg is a low contrast image\n",
      "  warn('%s is a low contrast image' % fname)\n"
     ]
    },
    {
     "name": "stdout",
     "output_type": "stream",
     "text": [
      "images/ZBB_y345-Gal4/\n",
      "[Errno 17] File exists: '../app/assets/images/ZBB_y345-Gal4/'\n"
     ]
    },
    {
     "name": "stderr",
     "output_type": "stream",
     "text": [
      "/Users/OGN/anaconda/lib/python2.7/site-packages/skimage/io/_io.py:132: UserWarning: ../app/assets/images/ZBB_y345-Gal4/ZBB_y345-Gal4-28.jpg is a low contrast image\n",
      "  warn('%s is a low contrast image' % fname)\n",
      "/Users/OGN/anaconda/lib/python2.7/site-packages/skimage/io/_io.py:132: UserWarning: ../app/assets/images/ZBB_y345-Gal4/ZBB_y345-Gal4-29.jpg is a low contrast image\n",
      "  warn('%s is a low contrast image' % fname)\n",
      "/Users/OGN/anaconda/lib/python2.7/site-packages/skimage/io/_io.py:132: UserWarning: ../app/assets/images/ZBB_y345-Gal4/ZBB_y345-Gal4-30.jpg is a low contrast image\n",
      "  warn('%s is a low contrast image' % fname)\n",
      "/Users/OGN/anaconda/lib/python2.7/site-packages/skimage/io/_io.py:132: UserWarning: ../app/assets/images/ZBB_y345-Gal4/ZBB_y345-Gal4-31.jpg is a low contrast image\n",
      "  warn('%s is a low contrast image' % fname)\n",
      "/Users/OGN/anaconda/lib/python2.7/site-packages/skimage/io/_io.py:132: UserWarning: ../app/assets/images/ZBB_y345-Gal4/ZBB_y345-Gal4-32.jpg is a low contrast image\n",
      "  warn('%s is a low contrast image' % fname)\n",
      "/Users/OGN/anaconda/lib/python2.7/site-packages/skimage/io/_io.py:132: UserWarning: ../app/assets/images/ZBB_y345-Gal4/ZBB_y345-Gal4-33.jpg is a low contrast image\n",
      "  warn('%s is a low contrast image' % fname)\n",
      "/Users/OGN/anaconda/lib/python2.7/site-packages/skimage/io/_io.py:132: UserWarning: ../app/assets/images/ZBB_y345-Gal4/ZBB_y345-Gal4-34.jpg is a low contrast image\n",
      "  warn('%s is a low contrast image' % fname)\n",
      "/Users/OGN/anaconda/lib/python2.7/site-packages/skimage/io/_io.py:132: UserWarning: ../app/assets/images/ZBB_y345-Gal4/ZBB_y345-Gal4-35.jpg is a low contrast image\n",
      "  warn('%s is a low contrast image' % fname)\n",
      "/Users/OGN/anaconda/lib/python2.7/site-packages/skimage/io/_io.py:132: UserWarning: ../app/assets/images/ZBB_y345-Gal4/ZBB_y345-Gal4-36.jpg is a low contrast image\n",
      "  warn('%s is a low contrast image' % fname)\n",
      "/Users/OGN/anaconda/lib/python2.7/site-packages/skimage/io/_io.py:132: UserWarning: ../app/assets/images/ZBB_y345-Gal4/ZBB_y345-Gal4-37.jpg is a low contrast image\n",
      "  warn('%s is a low contrast image' % fname)\n",
      "/Users/OGN/anaconda/lib/python2.7/site-packages/skimage/io/_io.py:132: UserWarning: ../app/assets/images/ZBB_y345-Gal4/ZBB_y345-Gal4-41.jpg is a low contrast image\n",
      "  warn('%s is a low contrast image' % fname)\n",
      "/Users/OGN/anaconda/lib/python2.7/site-packages/skimage/io/_io.py:132: UserWarning: ../app/assets/images/ZBB_y345-Gal4/ZBB_y345-Gal4-42.jpg is a low contrast image\n",
      "  warn('%s is a low contrast image' % fname)\n",
      "/Users/OGN/anaconda/lib/python2.7/site-packages/skimage/io/_io.py:132: UserWarning: ../app/assets/images/ZBB_y345-Gal4/ZBB_y345-Gal4-43.jpg is a low contrast image\n",
      "  warn('%s is a low contrast image' % fname)\n",
      "/Users/OGN/anaconda/lib/python2.7/site-packages/skimage/io/_io.py:132: UserWarning: ../app/assets/images/ZBB_y345-Gal4/ZBB_y345-Gal4-44.jpg is a low contrast image\n",
      "  warn('%s is a low contrast image' % fname)\n",
      "/Users/OGN/anaconda/lib/python2.7/site-packages/skimage/io/_io.py:132: UserWarning: ../app/assets/images/ZBB_y345-Gal4/ZBB_y345-Gal4-45.jpg is a low contrast image\n",
      "  warn('%s is a low contrast image' % fname)\n",
      "/Users/OGN/anaconda/lib/python2.7/site-packages/skimage/io/_io.py:132: UserWarning: ../app/assets/images/ZBB_y345-Gal4/ZBB_y345-Gal4-62.jpg is a low contrast image\n",
      "  warn('%s is a low contrast image' % fname)\n",
      "/Users/OGN/anaconda/lib/python2.7/site-packages/skimage/io/_io.py:132: UserWarning: ../app/assets/images/ZBB_y345-Gal4/ZBB_y345-Gal4-67.jpg is a low contrast image\n",
      "  warn('%s is a low contrast image' % fname)\n",
      "/Users/OGN/anaconda/lib/python2.7/site-packages/skimage/io/_io.py:132: UserWarning: ../app/assets/images/ZBB_y345-Gal4/ZBB_y345-Gal4-68.jpg is a low contrast image\n",
      "  warn('%s is a low contrast image' % fname)\n"
     ]
    },
    {
     "name": "stdout",
     "output_type": "stream",
     "text": [
      "images/ZBB_y347-Gal4/\n",
      "[Errno 17] File exists: '../app/assets/images/ZBB_y347-Gal4/'\n"
     ]
    },
    {
     "name": "stderr",
     "output_type": "stream",
     "text": [
      "/Users/OGN/anaconda/lib/python2.7/site-packages/skimage/io/_io.py:132: UserWarning: ../app/assets/images/ZBB_y347-Gal4/ZBB_y347-Gal4-37.jpg is a low contrast image\n",
      "  warn('%s is a low contrast image' % fname)\n",
      "/Users/OGN/anaconda/lib/python2.7/site-packages/skimage/io/_io.py:132: UserWarning: ../app/assets/images/ZBB_y347-Gal4/ZBB_y347-Gal4-38.jpg is a low contrast image\n",
      "  warn('%s is a low contrast image' % fname)\n",
      "/Users/OGN/anaconda/lib/python2.7/site-packages/skimage/io/_io.py:132: UserWarning: ../app/assets/images/ZBB_y347-Gal4/ZBB_y347-Gal4-40.jpg is a low contrast image\n",
      "  warn('%s is a low contrast image' % fname)\n",
      "/Users/OGN/anaconda/lib/python2.7/site-packages/skimage/io/_io.py:132: UserWarning: ../app/assets/images/ZBB_y347-Gal4/ZBB_y347-Gal4-41.jpg is a low contrast image\n",
      "  warn('%s is a low contrast image' % fname)\n",
      "/Users/OGN/anaconda/lib/python2.7/site-packages/skimage/io/_io.py:132: UserWarning: ../app/assets/images/ZBB_y347-Gal4/ZBB_y347-Gal4-42.jpg is a low contrast image\n",
      "  warn('%s is a low contrast image' % fname)\n",
      "/Users/OGN/anaconda/lib/python2.7/site-packages/skimage/io/_io.py:132: UserWarning: ../app/assets/images/ZBB_y347-Gal4/ZBB_y347-Gal4-43.jpg is a low contrast image\n",
      "  warn('%s is a low contrast image' % fname)\n",
      "/Users/OGN/anaconda/lib/python2.7/site-packages/skimage/io/_io.py:132: UserWarning: ../app/assets/images/ZBB_y347-Gal4/ZBB_y347-Gal4-44.jpg is a low contrast image\n",
      "  warn('%s is a low contrast image' % fname)\n",
      "/Users/OGN/anaconda/lib/python2.7/site-packages/skimage/io/_io.py:132: UserWarning: ../app/assets/images/ZBB_y347-Gal4/ZBB_y347-Gal4-45.jpg is a low contrast image\n",
      "  warn('%s is a low contrast image' % fname)\n",
      "/Users/OGN/anaconda/lib/python2.7/site-packages/skimage/io/_io.py:132: UserWarning: ../app/assets/images/ZBB_y347-Gal4/ZBB_y347-Gal4-64.jpg is a low contrast image\n",
      "  warn('%s is a low contrast image' % fname)\n",
      "/Users/OGN/anaconda/lib/python2.7/site-packages/skimage/io/_io.py:132: UserWarning: ../app/assets/images/ZBB_y347-Gal4/ZBB_y347-Gal4-65.jpg is a low contrast image\n",
      "  warn('%s is a low contrast image' % fname)\n",
      "/Users/OGN/anaconda/lib/python2.7/site-packages/skimage/io/_io.py:132: UserWarning: ../app/assets/images/ZBB_y347-Gal4/ZBB_y347-Gal4-66.jpg is a low contrast image\n",
      "  warn('%s is a low contrast image' % fname)\n"
     ]
    },
    {
     "name": "stdout",
     "output_type": "stream",
     "text": [
      "images/ZBB_y351-Gal4/\n",
      "[Errno 17] File exists: '../app/assets/images/ZBB_y351-Gal4/'\n"
     ]
    },
    {
     "name": "stderr",
     "output_type": "stream",
     "text": [
      "/Users/OGN/anaconda/lib/python2.7/site-packages/skimage/io/_io.py:132: UserWarning: ../app/assets/images/ZBB_y351-Gal4/ZBB_y351-Gal4-2.jpg is a low contrast image\n",
      "  warn('%s is a low contrast image' % fname)\n",
      "/Users/OGN/anaconda/lib/python2.7/site-packages/skimage/io/_io.py:132: UserWarning: ../app/assets/images/ZBB_y351-Gal4/ZBB_y351-Gal4-3.jpg is a low contrast image\n",
      "  warn('%s is a low contrast image' % fname)\n",
      "/Users/OGN/anaconda/lib/python2.7/site-packages/skimage/io/_io.py:132: UserWarning: ../app/assets/images/ZBB_y351-Gal4/ZBB_y351-Gal4-4.jpg is a low contrast image\n",
      "  warn('%s is a low contrast image' % fname)\n",
      "/Users/OGN/anaconda/lib/python2.7/site-packages/skimage/io/_io.py:132: UserWarning: ../app/assets/images/ZBB_y351-Gal4/ZBB_y351-Gal4-5.jpg is a low contrast image\n",
      "  warn('%s is a low contrast image' % fname)\n",
      "/Users/OGN/anaconda/lib/python2.7/site-packages/skimage/io/_io.py:132: UserWarning: ../app/assets/images/ZBB_y351-Gal4/ZBB_y351-Gal4-6.jpg is a low contrast image\n",
      "  warn('%s is a low contrast image' % fname)\n",
      "/Users/OGN/anaconda/lib/python2.7/site-packages/skimage/io/_io.py:132: UserWarning: ../app/assets/images/ZBB_y351-Gal4/ZBB_y351-Gal4-8.jpg is a low contrast image\n",
      "  warn('%s is a low contrast image' % fname)\n",
      "/Users/OGN/anaconda/lib/python2.7/site-packages/skimage/io/_io.py:132: UserWarning: ../app/assets/images/ZBB_y351-Gal4/ZBB_y351-Gal4-9.jpg is a low contrast image\n",
      "  warn('%s is a low contrast image' % fname)\n",
      "/Users/OGN/anaconda/lib/python2.7/site-packages/skimage/io/_io.py:132: UserWarning: ../app/assets/images/ZBB_y351-Gal4/ZBB_y351-Gal4-10.jpg is a low contrast image\n",
      "  warn('%s is a low contrast image' % fname)\n",
      "/Users/OGN/anaconda/lib/python2.7/site-packages/skimage/io/_io.py:132: UserWarning: ../app/assets/images/ZBB_y351-Gal4/ZBB_y351-Gal4-11.jpg is a low contrast image\n",
      "  warn('%s is a low contrast image' % fname)\n",
      "/Users/OGN/anaconda/lib/python2.7/site-packages/skimage/io/_io.py:132: UserWarning: ../app/assets/images/ZBB_y351-Gal4/ZBB_y351-Gal4-12.jpg is a low contrast image\n",
      "  warn('%s is a low contrast image' % fname)\n",
      "/Users/OGN/anaconda/lib/python2.7/site-packages/skimage/io/_io.py:132: UserWarning: ../app/assets/images/ZBB_y351-Gal4/ZBB_y351-Gal4-13.jpg is a low contrast image\n",
      "  warn('%s is a low contrast image' % fname)\n",
      "/Users/OGN/anaconda/lib/python2.7/site-packages/skimage/io/_io.py:132: UserWarning: ../app/assets/images/ZBB_y351-Gal4/ZBB_y351-Gal4-14.jpg is a low contrast image\n",
      "  warn('%s is a low contrast image' % fname)\n",
      "/Users/OGN/anaconda/lib/python2.7/site-packages/skimage/io/_io.py:132: UserWarning: ../app/assets/images/ZBB_y351-Gal4/ZBB_y351-Gal4-15.jpg is a low contrast image\n",
      "  warn('%s is a low contrast image' % fname)\n",
      "/Users/OGN/anaconda/lib/python2.7/site-packages/skimage/io/_io.py:132: UserWarning: ../app/assets/images/ZBB_y351-Gal4/ZBB_y351-Gal4-16.jpg is a low contrast image\n",
      "  warn('%s is a low contrast image' % fname)\n",
      "/Users/OGN/anaconda/lib/python2.7/site-packages/skimage/io/_io.py:132: UserWarning: ../app/assets/images/ZBB_y351-Gal4/ZBB_y351-Gal4-17.jpg is a low contrast image\n",
      "  warn('%s is a low contrast image' % fname)\n",
      "/Users/OGN/anaconda/lib/python2.7/site-packages/skimage/io/_io.py:132: UserWarning: ../app/assets/images/ZBB_y351-Gal4/ZBB_y351-Gal4-18.jpg is a low contrast image\n",
      "  warn('%s is a low contrast image' % fname)\n",
      "/Users/OGN/anaconda/lib/python2.7/site-packages/skimage/io/_io.py:132: UserWarning: ../app/assets/images/ZBB_y351-Gal4/ZBB_y351-Gal4-19.jpg is a low contrast image\n",
      "  warn('%s is a low contrast image' % fname)\n",
      "/Users/OGN/anaconda/lib/python2.7/site-packages/skimage/io/_io.py:132: UserWarning: ../app/assets/images/ZBB_y351-Gal4/ZBB_y351-Gal4-20.jpg is a low contrast image\n",
      "  warn('%s is a low contrast image' % fname)\n",
      "/Users/OGN/anaconda/lib/python2.7/site-packages/skimage/io/_io.py:132: UserWarning: ../app/assets/images/ZBB_y351-Gal4/ZBB_y351-Gal4-21.jpg is a low contrast image\n",
      "  warn('%s is a low contrast image' % fname)\n",
      "/Users/OGN/anaconda/lib/python2.7/site-packages/skimage/io/_io.py:132: UserWarning: ../app/assets/images/ZBB_y351-Gal4/ZBB_y351-Gal4-22.jpg is a low contrast image\n",
      "  warn('%s is a low contrast image' % fname)\n",
      "/Users/OGN/anaconda/lib/python2.7/site-packages/skimage/io/_io.py:132: UserWarning: ../app/assets/images/ZBB_y351-Gal4/ZBB_y351-Gal4-23.jpg is a low contrast image\n",
      "  warn('%s is a low contrast image' % fname)\n",
      "/Users/OGN/anaconda/lib/python2.7/site-packages/skimage/io/_io.py:132: UserWarning: ../app/assets/images/ZBB_y351-Gal4/ZBB_y351-Gal4-24.jpg is a low contrast image\n",
      "  warn('%s is a low contrast image' % fname)\n",
      "/Users/OGN/anaconda/lib/python2.7/site-packages/skimage/io/_io.py:132: UserWarning: ../app/assets/images/ZBB_y351-Gal4/ZBB_y351-Gal4-25.jpg is a low contrast image\n",
      "  warn('%s is a low contrast image' % fname)\n",
      "/Users/OGN/anaconda/lib/python2.7/site-packages/skimage/io/_io.py:132: UserWarning: ../app/assets/images/ZBB_y351-Gal4/ZBB_y351-Gal4-26.jpg is a low contrast image\n",
      "  warn('%s is a low contrast image' % fname)\n",
      "/Users/OGN/anaconda/lib/python2.7/site-packages/skimage/io/_io.py:132: UserWarning: ../app/assets/images/ZBB_y351-Gal4/ZBB_y351-Gal4-27.jpg is a low contrast image\n",
      "  warn('%s is a low contrast image' % fname)\n",
      "/Users/OGN/anaconda/lib/python2.7/site-packages/skimage/io/_io.py:132: UserWarning: ../app/assets/images/ZBB_y351-Gal4/ZBB_y351-Gal4-28.jpg is a low contrast image\n",
      "  warn('%s is a low contrast image' % fname)\n",
      "/Users/OGN/anaconda/lib/python2.7/site-packages/skimage/io/_io.py:132: UserWarning: ../app/assets/images/ZBB_y351-Gal4/ZBB_y351-Gal4-29.jpg is a low contrast image\n",
      "  warn('%s is a low contrast image' % fname)\n",
      "/Users/OGN/anaconda/lib/python2.7/site-packages/skimage/io/_io.py:132: UserWarning: ../app/assets/images/ZBB_y351-Gal4/ZBB_y351-Gal4-115.jpg is a low contrast image\n",
      "  warn('%s is a low contrast image' % fname)\n",
      "/Users/OGN/anaconda/lib/python2.7/site-packages/skimage/io/_io.py:132: UserWarning: ../app/assets/images/ZBB_y351-Gal4/ZBB_y351-Gal4-116.jpg is a low contrast image\n",
      "  warn('%s is a low contrast image' % fname)\n",
      "/Users/OGN/anaconda/lib/python2.7/site-packages/skimage/io/_io.py:132: UserWarning: ../app/assets/images/ZBB_y351-Gal4/ZBB_y351-Gal4-117.jpg is a low contrast image\n",
      "  warn('%s is a low contrast image' % fname)\n",
      "/Users/OGN/anaconda/lib/python2.7/site-packages/skimage/io/_io.py:132: UserWarning: ../app/assets/images/ZBB_y351-Gal4/ZBB_y351-Gal4-118.jpg is a low contrast image\n",
      "  warn('%s is a low contrast image' % fname)\n",
      "/Users/OGN/anaconda/lib/python2.7/site-packages/skimage/io/_io.py:132: UserWarning: ../app/assets/images/ZBB_y351-Gal4/ZBB_y351-Gal4-119.jpg is a low contrast image\n",
      "  warn('%s is a low contrast image' % fname)\n",
      "/Users/OGN/anaconda/lib/python2.7/site-packages/skimage/io/_io.py:132: UserWarning: ../app/assets/images/ZBB_y351-Gal4/ZBB_y351-Gal4-120.jpg is a low contrast image\n",
      "  warn('%s is a low contrast image' % fname)\n",
      "/Users/OGN/anaconda/lib/python2.7/site-packages/skimage/io/_io.py:132: UserWarning: ../app/assets/images/ZBB_y351-Gal4/ZBB_y351-Gal4-121.jpg is a low contrast image\n",
      "  warn('%s is a low contrast image' % fname)\n",
      "/Users/OGN/anaconda/lib/python2.7/site-packages/skimage/io/_io.py:132: UserWarning: ../app/assets/images/ZBB_y351-Gal4/ZBB_y351-Gal4-122.jpg is a low contrast image\n",
      "  warn('%s is a low contrast image' % fname)\n",
      "/Users/OGN/anaconda/lib/python2.7/site-packages/skimage/io/_io.py:132: UserWarning: ../app/assets/images/ZBB_y351-Gal4/ZBB_y351-Gal4-123.jpg is a low contrast image\n",
      "  warn('%s is a low contrast image' % fname)\n",
      "/Users/OGN/anaconda/lib/python2.7/site-packages/skimage/io/_io.py:132: UserWarning: ../app/assets/images/ZBB_y351-Gal4/ZBB_y351-Gal4-124.jpg is a low contrast image\n",
      "  warn('%s is a low contrast image' % fname)\n"
     ]
    },
    {
     "name": "stdout",
     "output_type": "stream",
     "text": [
      "images/ZBB_y352-Gal4/\n",
      "[Errno 17] File exists: '../app/assets/images/ZBB_y352-Gal4/'\n"
     ]
    },
    {
     "name": "stderr",
     "output_type": "stream",
     "text": [
      "/Users/OGN/anaconda/lib/python2.7/site-packages/skimage/io/_io.py:132: UserWarning: ../app/assets/images/ZBB_y352-Gal4/ZBB_y352-Gal4-8.jpg is a low contrast image\n",
      "  warn('%s is a low contrast image' % fname)\n",
      "/Users/OGN/anaconda/lib/python2.7/site-packages/skimage/io/_io.py:132: UserWarning: ../app/assets/images/ZBB_y352-Gal4/ZBB_y352-Gal4-9.jpg is a low contrast image\n",
      "  warn('%s is a low contrast image' % fname)\n",
      "/Users/OGN/anaconda/lib/python2.7/site-packages/skimage/io/_io.py:132: UserWarning: ../app/assets/images/ZBB_y352-Gal4/ZBB_y352-Gal4-18.jpg is a low contrast image\n",
      "  warn('%s is a low contrast image' % fname)\n",
      "/Users/OGN/anaconda/lib/python2.7/site-packages/skimage/io/_io.py:132: UserWarning: ../app/assets/images/ZBB_y352-Gal4/ZBB_y352-Gal4-19.jpg is a low contrast image\n",
      "  warn('%s is a low contrast image' % fname)\n",
      "/Users/OGN/anaconda/lib/python2.7/site-packages/skimage/io/_io.py:132: UserWarning: ../app/assets/images/ZBB_y352-Gal4/ZBB_y352-Gal4-20.jpg is a low contrast image\n",
      "  warn('%s is a low contrast image' % fname)\n",
      "/Users/OGN/anaconda/lib/python2.7/site-packages/skimage/io/_io.py:132: UserWarning: ../app/assets/images/ZBB_y352-Gal4/ZBB_y352-Gal4-21.jpg is a low contrast image\n",
      "  warn('%s is a low contrast image' % fname)\n",
      "/Users/OGN/anaconda/lib/python2.7/site-packages/skimage/io/_io.py:132: UserWarning: ../app/assets/images/ZBB_y352-Gal4/ZBB_y352-Gal4-22.jpg is a low contrast image\n",
      "  warn('%s is a low contrast image' % fname)\n",
      "/Users/OGN/anaconda/lib/python2.7/site-packages/skimage/io/_io.py:132: UserWarning: ../app/assets/images/ZBB_y352-Gal4/ZBB_y352-Gal4-23.jpg is a low contrast image\n",
      "  warn('%s is a low contrast image' % fname)\n",
      "/Users/OGN/anaconda/lib/python2.7/site-packages/skimage/io/_io.py:132: UserWarning: ../app/assets/images/ZBB_y352-Gal4/ZBB_y352-Gal4-24.jpg is a low contrast image\n",
      "  warn('%s is a low contrast image' % fname)\n",
      "/Users/OGN/anaconda/lib/python2.7/site-packages/skimage/io/_io.py:132: UserWarning: ../app/assets/images/ZBB_y352-Gal4/ZBB_y352-Gal4-25.jpg is a low contrast image\n",
      "  warn('%s is a low contrast image' % fname)\n",
      "/Users/OGN/anaconda/lib/python2.7/site-packages/skimage/io/_io.py:132: UserWarning: ../app/assets/images/ZBB_y352-Gal4/ZBB_y352-Gal4-26.jpg is a low contrast image\n",
      "  warn('%s is a low contrast image' % fname)\n",
      "/Users/OGN/anaconda/lib/python2.7/site-packages/skimage/io/_io.py:132: UserWarning: ../app/assets/images/ZBB_y352-Gal4/ZBB_y352-Gal4-27.jpg is a low contrast image\n",
      "  warn('%s is a low contrast image' % fname)\n",
      "/Users/OGN/anaconda/lib/python2.7/site-packages/skimage/io/_io.py:132: UserWarning: ../app/assets/images/ZBB_y352-Gal4/ZBB_y352-Gal4-28.jpg is a low contrast image\n",
      "  warn('%s is a low contrast image' % fname)\n",
      "/Users/OGN/anaconda/lib/python2.7/site-packages/skimage/io/_io.py:132: UserWarning: ../app/assets/images/ZBB_y352-Gal4/ZBB_y352-Gal4-29.jpg is a low contrast image\n",
      "  warn('%s is a low contrast image' % fname)\n",
      "/Users/OGN/anaconda/lib/python2.7/site-packages/skimage/io/_io.py:132: UserWarning: ../app/assets/images/ZBB_y352-Gal4/ZBB_y352-Gal4-30.jpg is a low contrast image\n",
      "  warn('%s is a low contrast image' % fname)\n",
      "/Users/OGN/anaconda/lib/python2.7/site-packages/skimage/io/_io.py:132: UserWarning: ../app/assets/images/ZBB_y352-Gal4/ZBB_y352-Gal4-31.jpg is a low contrast image\n",
      "  warn('%s is a low contrast image' % fname)\n",
      "/Users/OGN/anaconda/lib/python2.7/site-packages/skimage/io/_io.py:132: UserWarning: ../app/assets/images/ZBB_y352-Gal4/ZBB_y352-Gal4-32.jpg is a low contrast image\n",
      "  warn('%s is a low contrast image' % fname)\n",
      "/Users/OGN/anaconda/lib/python2.7/site-packages/skimage/io/_io.py:132: UserWarning: ../app/assets/images/ZBB_y352-Gal4/ZBB_y352-Gal4-91.jpg is a low contrast image\n",
      "  warn('%s is a low contrast image' % fname)\n",
      "/Users/OGN/anaconda/lib/python2.7/site-packages/skimage/io/_io.py:132: UserWarning: ../app/assets/images/ZBB_y352-Gal4/ZBB_y352-Gal4-92.jpg is a low contrast image\n",
      "  warn('%s is a low contrast image' % fname)\n",
      "/Users/OGN/anaconda/lib/python2.7/site-packages/skimage/io/_io.py:132: UserWarning: ../app/assets/images/ZBB_y352-Gal4/ZBB_y352-Gal4-93.jpg is a low contrast image\n",
      "  warn('%s is a low contrast image' % fname)\n",
      "/Users/OGN/anaconda/lib/python2.7/site-packages/skimage/io/_io.py:132: UserWarning: ../app/assets/images/ZBB_y352-Gal4/ZBB_y352-Gal4-94.jpg is a low contrast image\n",
      "  warn('%s is a low contrast image' % fname)\n",
      "/Users/OGN/anaconda/lib/python2.7/site-packages/skimage/io/_io.py:132: UserWarning: ../app/assets/images/ZBB_y352-Gal4/ZBB_y352-Gal4-97.jpg is a low contrast image\n",
      "  warn('%s is a low contrast image' % fname)\n",
      "/Users/OGN/anaconda/lib/python2.7/site-packages/skimage/io/_io.py:132: UserWarning: ../app/assets/images/ZBB_y352-Gal4/ZBB_y352-Gal4-135.jpg is a low contrast image\n",
      "  warn('%s is a low contrast image' % fname)\n"
     ]
    },
    {
     "name": "stdout",
     "output_type": "stream",
     "text": [
      "images/ZBB_y353-Gal4/\n",
      "[Errno 17] File exists: '../app/assets/images/ZBB_y353-Gal4/'\n",
      "images/ZBB_y354-Gal4/\n",
      "[Errno 17] File exists: '../app/assets/images/ZBB_y354-Gal4/'\n"
     ]
    },
    {
     "name": "stderr",
     "output_type": "stream",
     "text": [
      "/Users/OGN/anaconda/lib/python2.7/site-packages/skimage/io/_io.py:132: UserWarning: ../app/assets/images/ZBB_y354-Gal4/ZBB_y354-Gal4-132.jpg is a low contrast image\n",
      "  warn('%s is a low contrast image' % fname)\n",
      "/Users/OGN/anaconda/lib/python2.7/site-packages/skimage/io/_io.py:132: UserWarning: ../app/assets/images/ZBB_y354-Gal4/ZBB_y354-Gal4-134.jpg is a low contrast image\n",
      "  warn('%s is a low contrast image' % fname)\n"
     ]
    },
    {
     "name": "stdout",
     "output_type": "stream",
     "text": [
      "images/ZBB_y355-Gal4/\n",
      "[Errno 17] File exists: '../app/assets/images/ZBB_y355-Gal4/'\n",
      "images/ZBB_y356-Gal4/\n",
      "[Errno 17] File exists: '../app/assets/images/ZBB_y356-Gal4/'\n",
      "images/ZBB_y357-Gal4/\n",
      "[Errno 17] File exists: '../app/assets/images/ZBB_y357-Gal4/'\n"
     ]
    },
    {
     "name": "stderr",
     "output_type": "stream",
     "text": [
      "/Users/OGN/anaconda/lib/python2.7/site-packages/skimage/io/_io.py:132: UserWarning: ../app/assets/images/ZBB_y357-Gal4/ZBB_y357-Gal4-32.jpg is a low contrast image\n",
      "  warn('%s is a low contrast image' % fname)\n",
      "/Users/OGN/anaconda/lib/python2.7/site-packages/skimage/io/_io.py:132: UserWarning: ../app/assets/images/ZBB_y357-Gal4/ZBB_y357-Gal4-33.jpg is a low contrast image\n",
      "  warn('%s is a low contrast image' % fname)\n",
      "/Users/OGN/anaconda/lib/python2.7/site-packages/skimage/io/_io.py:132: UserWarning: ../app/assets/images/ZBB_y357-Gal4/ZBB_y357-Gal4-34.jpg is a low contrast image\n",
      "  warn('%s is a low contrast image' % fname)\n",
      "/Users/OGN/anaconda/lib/python2.7/site-packages/skimage/io/_io.py:132: UserWarning: ../app/assets/images/ZBB_y357-Gal4/ZBB_y357-Gal4-37.jpg is a low contrast image\n",
      "  warn('%s is a low contrast image' % fname)\n",
      "/Users/OGN/anaconda/lib/python2.7/site-packages/skimage/io/_io.py:132: UserWarning: ../app/assets/images/ZBB_y357-Gal4/ZBB_y357-Gal4-39.jpg is a low contrast image\n",
      "  warn('%s is a low contrast image' % fname)\n",
      "/Users/OGN/anaconda/lib/python2.7/site-packages/skimage/io/_io.py:132: UserWarning: ../app/assets/images/ZBB_y357-Gal4/ZBB_y357-Gal4-40.jpg is a low contrast image\n",
      "  warn('%s is a low contrast image' % fname)\n",
      "/Users/OGN/anaconda/lib/python2.7/site-packages/skimage/io/_io.py:132: UserWarning: ../app/assets/images/ZBB_y357-Gal4/ZBB_y357-Gal4-41.jpg is a low contrast image\n",
      "  warn('%s is a low contrast image' % fname)\n",
      "/Users/OGN/anaconda/lib/python2.7/site-packages/skimage/io/_io.py:132: UserWarning: ../app/assets/images/ZBB_y357-Gal4/ZBB_y357-Gal4-42.jpg is a low contrast image\n",
      "  warn('%s is a low contrast image' % fname)\n",
      "/Users/OGN/anaconda/lib/python2.7/site-packages/skimage/io/_io.py:132: UserWarning: ../app/assets/images/ZBB_y357-Gal4/ZBB_y357-Gal4-43.jpg is a low contrast image\n",
      "  warn('%s is a low contrast image' % fname)\n",
      "/Users/OGN/anaconda/lib/python2.7/site-packages/skimage/io/_io.py:132: UserWarning: ../app/assets/images/ZBB_y357-Gal4/ZBB_y357-Gal4-45.jpg is a low contrast image\n",
      "  warn('%s is a low contrast image' % fname)\n"
     ]
    },
    {
     "name": "stdout",
     "output_type": "stream",
     "text": [
      "images/ZBB_y358-Gal4/\n",
      "[Errno 17] File exists: '../app/assets/images/ZBB_y358-Gal4/'\n"
     ]
    },
    {
     "name": "stderr",
     "output_type": "stream",
     "text": [
      "/Users/OGN/anaconda/lib/python2.7/site-packages/skimage/io/_io.py:132: UserWarning: ../app/assets/images/ZBB_y358-Gal4/ZBB_y358-Gal4-45.jpg is a low contrast image\n",
      "  warn('%s is a low contrast image' % fname)\n",
      "/Users/OGN/anaconda/lib/python2.7/site-packages/skimage/io/_io.py:132: UserWarning: ../app/assets/images/ZBB_y358-Gal4/ZBB_y358-Gal4-47.jpg is a low contrast image\n",
      "  warn('%s is a low contrast image' % fname)\n",
      "/Users/OGN/anaconda/lib/python2.7/site-packages/skimage/io/_io.py:132: UserWarning: ../app/assets/images/ZBB_y358-Gal4/ZBB_y358-Gal4-53.jpg is a low contrast image\n",
      "  warn('%s is a low contrast image' % fname)\n",
      "/Users/OGN/anaconda/lib/python2.7/site-packages/skimage/io/_io.py:132: UserWarning: ../app/assets/images/ZBB_y358-Gal4/ZBB_y358-Gal4-54.jpg is a low contrast image\n",
      "  warn('%s is a low contrast image' % fname)\n",
      "/Users/OGN/anaconda/lib/python2.7/site-packages/skimage/io/_io.py:132: UserWarning: ../app/assets/images/ZBB_y358-Gal4/ZBB_y358-Gal4-55.jpg is a low contrast image\n",
      "  warn('%s is a low contrast image' % fname)\n",
      "/Users/OGN/anaconda/lib/python2.7/site-packages/skimage/io/_io.py:132: UserWarning: ../app/assets/images/ZBB_y358-Gal4/ZBB_y358-Gal4-64.jpg is a low contrast image\n",
      "  warn('%s is a low contrast image' % fname)\n",
      "/Users/OGN/anaconda/lib/python2.7/site-packages/skimage/io/_io.py:132: UserWarning: ../app/assets/images/ZBB_y358-Gal4/ZBB_y358-Gal4-65.jpg is a low contrast image\n",
      "  warn('%s is a low contrast image' % fname)\n",
      "/Users/OGN/anaconda/lib/python2.7/site-packages/skimage/io/_io.py:132: UserWarning: ../app/assets/images/ZBB_y358-Gal4/ZBB_y358-Gal4-109.jpg is a low contrast image\n",
      "  warn('%s is a low contrast image' % fname)\n",
      "/Users/OGN/anaconda/lib/python2.7/site-packages/skimage/io/_io.py:132: UserWarning: ../app/assets/images/ZBB_y358-Gal4/ZBB_y358-Gal4-112.jpg is a low contrast image\n",
      "  warn('%s is a low contrast image' % fname)\n",
      "/Users/OGN/anaconda/lib/python2.7/site-packages/skimage/io/_io.py:132: UserWarning: ../app/assets/images/ZBB_y358-Gal4/ZBB_y358-Gal4-113.jpg is a low contrast image\n",
      "  warn('%s is a low contrast image' % fname)\n",
      "/Users/OGN/anaconda/lib/python2.7/site-packages/skimage/io/_io.py:132: UserWarning: ../app/assets/images/ZBB_y358-Gal4/ZBB_y358-Gal4-114.jpg is a low contrast image\n",
      "  warn('%s is a low contrast image' % fname)\n",
      "/Users/OGN/anaconda/lib/python2.7/site-packages/skimage/io/_io.py:132: UserWarning: ../app/assets/images/ZBB_y358-Gal4/ZBB_y358-Gal4-117.jpg is a low contrast image\n",
      "  warn('%s is a low contrast image' % fname)\n",
      "/Users/OGN/anaconda/lib/python2.7/site-packages/skimage/io/_io.py:132: UserWarning: ../app/assets/images/ZBB_y358-Gal4/ZBB_y358-Gal4-118.jpg is a low contrast image\n",
      "  warn('%s is a low contrast image' % fname)\n",
      "/Users/OGN/anaconda/lib/python2.7/site-packages/skimage/io/_io.py:132: UserWarning: ../app/assets/images/ZBB_y358-Gal4/ZBB_y358-Gal4-119.jpg is a low contrast image\n",
      "  warn('%s is a low contrast image' % fname)\n",
      "/Users/OGN/anaconda/lib/python2.7/site-packages/skimage/io/_io.py:132: UserWarning: ../app/assets/images/ZBB_y358-Gal4/ZBB_y358-Gal4-120.jpg is a low contrast image\n",
      "  warn('%s is a low contrast image' % fname)\n",
      "/Users/OGN/anaconda/lib/python2.7/site-packages/skimage/io/_io.py:132: UserWarning: ../app/assets/images/ZBB_y358-Gal4/ZBB_y358-Gal4-122.jpg is a low contrast image\n",
      "  warn('%s is a low contrast image' % fname)\n",
      "/Users/OGN/anaconda/lib/python2.7/site-packages/skimage/io/_io.py:132: UserWarning: ../app/assets/images/ZBB_y358-Gal4/ZBB_y358-Gal4-123.jpg is a low contrast image\n",
      "  warn('%s is a low contrast image' % fname)\n",
      "/Users/OGN/anaconda/lib/python2.7/site-packages/skimage/io/_io.py:132: UserWarning: ../app/assets/images/ZBB_y358-Gal4/ZBB_y358-Gal4-124.jpg is a low contrast image\n",
      "  warn('%s is a low contrast image' % fname)\n",
      "/Users/OGN/anaconda/lib/python2.7/site-packages/skimage/io/_io.py:132: UserWarning: ../app/assets/images/ZBB_y358-Gal4/ZBB_y358-Gal4-126.jpg is a low contrast image\n",
      "  warn('%s is a low contrast image' % fname)\n"
     ]
    },
    {
     "name": "stdout",
     "output_type": "stream",
     "text": [
      "images/ZBB_y359-Gal4/\n",
      "[Errno 17] File exists: '../app/assets/images/ZBB_y359-Gal4/'\n"
     ]
    },
    {
     "name": "stderr",
     "output_type": "stream",
     "text": [
      "/Users/OGN/anaconda/lib/python2.7/site-packages/skimage/io/_io.py:132: UserWarning: ../app/assets/images/ZBB_y359-Gal4/ZBB_y359-Gal4-16.jpg is a low contrast image\n",
      "  warn('%s is a low contrast image' % fname)\n",
      "/Users/OGN/anaconda/lib/python2.7/site-packages/skimage/io/_io.py:132: UserWarning: ../app/assets/images/ZBB_y359-Gal4/ZBB_y359-Gal4-17.jpg is a low contrast image\n",
      "  warn('%s is a low contrast image' % fname)\n",
      "/Users/OGN/anaconda/lib/python2.7/site-packages/skimage/io/_io.py:132: UserWarning: ../app/assets/images/ZBB_y359-Gal4/ZBB_y359-Gal4-18.jpg is a low contrast image\n",
      "  warn('%s is a low contrast image' % fname)\n",
      "/Users/OGN/anaconda/lib/python2.7/site-packages/skimage/io/_io.py:132: UserWarning: ../app/assets/images/ZBB_y359-Gal4/ZBB_y359-Gal4-22.jpg is a low contrast image\n",
      "  warn('%s is a low contrast image' % fname)\n",
      "/Users/OGN/anaconda/lib/python2.7/site-packages/skimage/io/_io.py:132: UserWarning: ../app/assets/images/ZBB_y359-Gal4/ZBB_y359-Gal4-23.jpg is a low contrast image\n",
      "  warn('%s is a low contrast image' % fname)\n",
      "/Users/OGN/anaconda/lib/python2.7/site-packages/skimage/io/_io.py:132: UserWarning: ../app/assets/images/ZBB_y359-Gal4/ZBB_y359-Gal4-66.jpg is a low contrast image\n",
      "  warn('%s is a low contrast image' % fname)\n",
      "/Users/OGN/anaconda/lib/python2.7/site-packages/skimage/io/_io.py:132: UserWarning: ../app/assets/images/ZBB_y359-Gal4/ZBB_y359-Gal4-67.jpg is a low contrast image\n",
      "  warn('%s is a low contrast image' % fname)\n"
     ]
    },
    {
     "name": "stdout",
     "output_type": "stream",
     "text": [
      "images/ZBB_y364-Gal4/\n",
      "[Errno 17] File exists: '../app/assets/images/ZBB_y364-Gal4/'\n",
      "images/ZBB_y365-Gal4/\n",
      "[Errno 17] File exists: '../app/assets/images/ZBB_y365-Gal4/'\n",
      "images/ZBB_y371-Cre/\n",
      "[Errno 17] File exists: '../app/assets/images/ZBB_y371-Cre/'\n"
     ]
    },
    {
     "name": "stderr",
     "output_type": "stream",
     "text": [
      "/Users/OGN/anaconda/lib/python2.7/site-packages/skimage/io/_io.py:132: UserWarning: ../app/assets/images/ZBB_y371-Cre/ZBB_y371-Cre-8.jpg is a low contrast image\n",
      "  warn('%s is a low contrast image' % fname)\n",
      "/Users/OGN/anaconda/lib/python2.7/site-packages/skimage/io/_io.py:132: UserWarning: ../app/assets/images/ZBB_y371-Cre/ZBB_y371-Cre-9.jpg is a low contrast image\n",
      "  warn('%s is a low contrast image' % fname)\n"
     ]
    },
    {
     "name": "stdout",
     "output_type": "stream",
     "text": [
      "images/ZBB_y372-Gal4/\n",
      "[Errno 17] File exists: '../app/assets/images/ZBB_y372-Gal4/'\n",
      "images/ZBB_y373-Gal4/\n",
      "[Errno 17] File exists: '../app/assets/images/ZBB_y373-Gal4/'\n"
     ]
    },
    {
     "name": "stderr",
     "output_type": "stream",
     "text": [
      "/Users/OGN/anaconda/lib/python2.7/site-packages/skimage/io/_io.py:132: UserWarning: ../app/assets/images/ZBB_y373-Gal4/ZBB_y373-Gal4-33.jpg is a low contrast image\n",
      "  warn('%s is a low contrast image' % fname)\n",
      "/Users/OGN/anaconda/lib/python2.7/site-packages/skimage/io/_io.py:132: UserWarning: ../app/assets/images/ZBB_y373-Gal4/ZBB_y373-Gal4-34.jpg is a low contrast image\n",
      "  warn('%s is a low contrast image' % fname)\n"
     ]
    },
    {
     "name": "stdout",
     "output_type": "stream",
     "text": [
      "images/ZBB_y375-Gal4/\n",
      "[Errno 17] File exists: '../app/assets/images/ZBB_y375-Gal4/'\n"
     ]
    },
    {
     "name": "stderr",
     "output_type": "stream",
     "text": [
      "/Users/OGN/anaconda/lib/python2.7/site-packages/skimage/io/_io.py:132: UserWarning: ../app/assets/images/ZBB_y375-Gal4/ZBB_y375-Gal4-126.jpg is a low contrast image\n",
      "  warn('%s is a low contrast image' % fname)\n",
      "/Users/OGN/anaconda/lib/python2.7/site-packages/skimage/io/_io.py:132: UserWarning: ../app/assets/images/ZBB_y375-Gal4/ZBB_y375-Gal4-127.jpg is a low contrast image\n",
      "  warn('%s is a low contrast image' % fname)\n",
      "/Users/OGN/anaconda/lib/python2.7/site-packages/skimage/io/_io.py:132: UserWarning: ../app/assets/images/ZBB_y375-Gal4/ZBB_y375-Gal4-130.jpg is a low contrast image\n",
      "  warn('%s is a low contrast image' % fname)\n"
     ]
    },
    {
     "name": "stdout",
     "output_type": "stream",
     "text": [
      "images/ZBB_y378-Cre/\n",
      "[Errno 17] File exists: '../app/assets/images/ZBB_y378-Cre/'\n",
      "images/ZBB_y379-Cre/\n",
      "[Errno 17] File exists: '../app/assets/images/ZBB_y379-Cre/'\n",
      "images/ZBB_y380-Cre/\n",
      "[Errno 17] File exists: '../app/assets/images/ZBB_y380-Cre/'\n"
     ]
    },
    {
     "name": "stderr",
     "output_type": "stream",
     "text": [
      "/Users/OGN/anaconda/lib/python2.7/site-packages/skimage/io/_io.py:132: UserWarning: ../app/assets/images/ZBB_y380-Cre/ZBB_y380-Cre-24.jpg is a low contrast image\n",
      "  warn('%s is a low contrast image' % fname)\n",
      "/Users/OGN/anaconda/lib/python2.7/site-packages/skimage/io/_io.py:132: UserWarning: ../app/assets/images/ZBB_y380-Cre/ZBB_y380-Cre-25.jpg is a low contrast image\n",
      "  warn('%s is a low contrast image' % fname)\n",
      "/Users/OGN/anaconda/lib/python2.7/site-packages/skimage/io/_io.py:132: UserWarning: ../app/assets/images/ZBB_y380-Cre/ZBB_y380-Cre-26.jpg is a low contrast image\n",
      "  warn('%s is a low contrast image' % fname)\n",
      "/Users/OGN/anaconda/lib/python2.7/site-packages/skimage/io/_io.py:132: UserWarning: ../app/assets/images/ZBB_y380-Cre/ZBB_y380-Cre-27.jpg is a low contrast image\n",
      "  warn('%s is a low contrast image' % fname)\n",
      "/Users/OGN/anaconda/lib/python2.7/site-packages/skimage/io/_io.py:132: UserWarning: ../app/assets/images/ZBB_y380-Cre/ZBB_y380-Cre-28.jpg is a low contrast image\n",
      "  warn('%s is a low contrast image' % fname)\n",
      "/Users/OGN/anaconda/lib/python2.7/site-packages/skimage/io/_io.py:132: UserWarning: ../app/assets/images/ZBB_y380-Cre/ZBB_y380-Cre-29.jpg is a low contrast image\n",
      "  warn('%s is a low contrast image' % fname)\n",
      "/Users/OGN/anaconda/lib/python2.7/site-packages/skimage/io/_io.py:132: UserWarning: ../app/assets/images/ZBB_y380-Cre/ZBB_y380-Cre-30.jpg is a low contrast image\n",
      "  warn('%s is a low contrast image' % fname)\n",
      "/Users/OGN/anaconda/lib/python2.7/site-packages/skimage/io/_io.py:132: UserWarning: ../app/assets/images/ZBB_y380-Cre/ZBB_y380-Cre-31.jpg is a low contrast image\n",
      "  warn('%s is a low contrast image' % fname)\n",
      "/Users/OGN/anaconda/lib/python2.7/site-packages/skimage/io/_io.py:132: UserWarning: ../app/assets/images/ZBB_y380-Cre/ZBB_y380-Cre-32.jpg is a low contrast image\n",
      "  warn('%s is a low contrast image' % fname)\n",
      "/Users/OGN/anaconda/lib/python2.7/site-packages/skimage/io/_io.py:132: UserWarning: ../app/assets/images/ZBB_y380-Cre/ZBB_y380-Cre-33.jpg is a low contrast image\n",
      "  warn('%s is a low contrast image' % fname)\n",
      "/Users/OGN/anaconda/lib/python2.7/site-packages/skimage/io/_io.py:132: UserWarning: ../app/assets/images/ZBB_y380-Cre/ZBB_y380-Cre-34.jpg is a low contrast image\n",
      "  warn('%s is a low contrast image' % fname)\n",
      "/Users/OGN/anaconda/lib/python2.7/site-packages/skimage/io/_io.py:132: UserWarning: ../app/assets/images/ZBB_y380-Cre/ZBB_y380-Cre-35.jpg is a low contrast image\n",
      "  warn('%s is a low contrast image' % fname)\n",
      "/Users/OGN/anaconda/lib/python2.7/site-packages/skimage/io/_io.py:132: UserWarning: ../app/assets/images/ZBB_y380-Cre/ZBB_y380-Cre-36.jpg is a low contrast image\n",
      "  warn('%s is a low contrast image' % fname)\n",
      "/Users/OGN/anaconda/lib/python2.7/site-packages/skimage/io/_io.py:132: UserWarning: ../app/assets/images/ZBB_y380-Cre/ZBB_y380-Cre-37.jpg is a low contrast image\n",
      "  warn('%s is a low contrast image' % fname)\n",
      "/Users/OGN/anaconda/lib/python2.7/site-packages/skimage/io/_io.py:132: UserWarning: ../app/assets/images/ZBB_y380-Cre/ZBB_y380-Cre-38.jpg is a low contrast image\n",
      "  warn('%s is a low contrast image' % fname)\n",
      "/Users/OGN/anaconda/lib/python2.7/site-packages/skimage/io/_io.py:132: UserWarning: ../app/assets/images/ZBB_y380-Cre/ZBB_y380-Cre-39.jpg is a low contrast image\n",
      "  warn('%s is a low contrast image' % fname)\n",
      "/Users/OGN/anaconda/lib/python2.7/site-packages/skimage/io/_io.py:132: UserWarning: ../app/assets/images/ZBB_y380-Cre/ZBB_y380-Cre-40.jpg is a low contrast image\n",
      "  warn('%s is a low contrast image' % fname)\n",
      "/Users/OGN/anaconda/lib/python2.7/site-packages/skimage/io/_io.py:132: UserWarning: ../app/assets/images/ZBB_y380-Cre/ZBB_y380-Cre-43.jpg is a low contrast image\n",
      "  warn('%s is a low contrast image' % fname)\n",
      "/Users/OGN/anaconda/lib/python2.7/site-packages/skimage/io/_io.py:132: UserWarning: ../app/assets/images/ZBB_y380-Cre/ZBB_y380-Cre-44.jpg is a low contrast image\n",
      "  warn('%s is a low contrast image' % fname)\n",
      "/Users/OGN/anaconda/lib/python2.7/site-packages/skimage/io/_io.py:132: UserWarning: ../app/assets/images/ZBB_y380-Cre/ZBB_y380-Cre-45.jpg is a low contrast image\n",
      "  warn('%s is a low contrast image' % fname)\n",
      "/Users/OGN/anaconda/lib/python2.7/site-packages/skimage/io/_io.py:132: UserWarning: ../app/assets/images/ZBB_y380-Cre/ZBB_y380-Cre-46.jpg is a low contrast image\n",
      "  warn('%s is a low contrast image' % fname)\n",
      "/Users/OGN/anaconda/lib/python2.7/site-packages/skimage/io/_io.py:132: UserWarning: ../app/assets/images/ZBB_y380-Cre/ZBB_y380-Cre-136.jpg is a low contrast image\n",
      "  warn('%s is a low contrast image' % fname)\n"
     ]
    },
    {
     "name": "stdout",
     "output_type": "stream",
     "text": [
      "images/ZBB_y381-Cre/\n",
      "[Errno 17] File exists: '../app/assets/images/ZBB_y381-Cre/'\n",
      "images/ZBB_y382-Cre/\n",
      "[Errno 17] File exists: '../app/assets/images/ZBB_y382-Cre/'\n"
     ]
    },
    {
     "name": "stderr",
     "output_type": "stream",
     "text": [
      "/Users/OGN/anaconda/lib/python2.7/site-packages/skimage/io/_io.py:132: UserWarning: ../app/assets/images/ZBB_y382-Cre/ZBB_y382-Cre-15.jpg is a low contrast image\n",
      "  warn('%s is a low contrast image' % fname)\n",
      "/Users/OGN/anaconda/lib/python2.7/site-packages/skimage/io/_io.py:132: UserWarning: ../app/assets/images/ZBB_y382-Cre/ZBB_y382-Cre-26.jpg is a low contrast image\n",
      "  warn('%s is a low contrast image' % fname)\n"
     ]
    },
    {
     "name": "stdout",
     "output_type": "stream",
     "text": [
      "images/ZBB_y383-Cre/\n",
      "[Errno 17] File exists: '../app/assets/images/ZBB_y383-Cre/'\n",
      "images/ZBB_y384-Cre/\n",
      "[Errno 17] File exists: '../app/assets/images/ZBB_y384-Cre/'\n",
      "images/ZBB_y385-Cre/\n",
      "[Errno 17] File exists: '../app/assets/images/ZBB_y385-Cre/'\n"
     ]
    }
   ],
   "source": [
    "counter = 0;\n",
    "counter2 = 4002;\n",
    "for k, key in enumerate(f2.keys()[:]):\n",
    "    #stack = f.get(key)\n",
    "    #stack_name = key.split('_')[0]\n",
    "    stack = f2.get(key)\n",
    "    stack_name = key\n",
    "    folder_path = '../app/assets/images/%s/' % (stack_name)\n",
    "    rel_folder_path = 'images/%s/' % (stack_name)\n",
    "    print rel_folder_path\n",
    "    \n",
    "    try:\n",
    "        os.makedirs(folder_path)\n",
    "    except OSError as exception:\n",
    "        print exception\n",
    "        \n",
    "    for i, img in enumerate(stack):\n",
    "        adapthist_adjusted = exposure.equalize_adapthist(stack[i])\n",
    "        img_path = '../app/assets/images/%s/%s-%i.jpg' % (stack_name, key, i)\n",
    "        rel_img_path = 'images/%s/%s-%i.jpg' % (stack_name, key, i)\n",
    "        io.imsave(img_path, adapthist_adjusted)\n",
    "        \n",
    "        insert_command = (\"INSERT INTO images (image_id, line_name, image_path) values (%i, '%s', '%s')\" \n",
    "                % (counter, stack_name, rel_img_path))\n",
    "        \n",
    "        update_command = (\"UPDATE images SET image_path='%s' WHERE image_id=%i\" \n",
    "                         % (rel_img_path, counter2))\n",
    "        try:\n",
    "            #print update_command\n",
    "            cursor.execute(update_command)\n",
    "            counter2 += 1\n",
    "        except Exception, e:\n",
    "            print repr(e)\n"
   ]
  },
  {
   "cell_type": "code",
   "execution_count": 23,
   "metadata": {
    "collapsed": true
   },
   "outputs": [],
   "source": [
    "cursor.close()\n",
    "conn.commit()"
   ]
  },
  {
   "cell_type": "code",
   "execution_count": 6,
   "metadata": {
    "collapsed": true
   },
   "outputs": [],
   "source": [
    "conn = psycopg2.connect(dbname='zbrain2db', user='gqe', host='localhost', password='')\n",
    "cursor = conn.cursor()"
   ]
  },
  {
   "cell_type": "code",
   "execution_count": 10,
   "metadata": {
    "collapsed": true
   },
   "outputs": [],
   "source": [
    "create_table_command = (\n",
    "\"\"\"\n",
    "    DROP TABLE images;\n",
    "    CREATE TABLE images (\n",
    "        image_id SERIAL PRIMARY KEY,\n",
    "        line_name TEXT NOT NULL,\n",
    "        image_path TEXT NOT NULL\n",
    "    );\n",
    "\"\"\")"
   ]
  },
  {
   "cell_type": "code",
   "execution_count": 11,
   "metadata": {
    "collapsed": false
   },
   "outputs": [],
   "source": [
    "try:\n",
    "    #cursor.execute(create_table_command)\n",
    "    cursor.close()\n",
    "    conn.commit()\n",
    "except (Exception, psycopg2.DatabaseError) as error:\n",
    "    print error\n",
    "finally:\n",
    "    if conn is not None:\n",
    "        conn.close()"
   ]
  },
  {
   "cell_type": "code",
   "execution_count": 44,
   "metadata": {
    "collapsed": true
   },
   "outputs": [],
   "source": [
    "cursor.close()\n",
    "conn.commit()"
   ]
  },
  {
   "cell_type": "code",
   "execution_count": 51,
   "metadata": {
    "collapsed": false
   },
   "outputs": [],
   "source": [
    "conn = psycopg2.connect(dbname='zbrain2db', user='gqe', host='localhost', password='')\n",
    "cursor = conn.cursor()\n",
    "cursor.execute('SELECT * FROM images')"
   ]
  },
  {
   "cell_type": "code",
   "execution_count": 52,
   "metadata": {
    "collapsed": false
   },
   "outputs": [
    {
     "name": "stdout",
     "output_type": "stream",
     "text": [
      "(0, '6.7FRhcrtR-Gal4-uasKaede', 'images/6.7FRhcrtR-Gal4-uasKaede/6.7FRhcrtR-Gal4-uasKaede_6dpf_MeanImageOf12Fish-0.jpg')\n",
      "(1, '6.7FRhcrtR-Gal4-uasKaede', 'images/6.7FRhcrtR-Gal4-uasKaede/6.7FRhcrtR-Gal4-uasKaede_6dpf_MeanImageOf12Fish-1.jpg')\n",
      "(2, '6.7FRhcrtR-Gal4-uasKaede', 'images/6.7FRhcrtR-Gal4-uasKaede/6.7FRhcrtR-Gal4-uasKaede_6dpf_MeanImageOf12Fish-2.jpg')\n",
      "(3, '6.7FRhcrtR-Gal4-uasKaede', 'images/6.7FRhcrtR-Gal4-uasKaede/6.7FRhcrtR-Gal4-uasKaede_6dpf_MeanImageOf12Fish-3.jpg')\n",
      "(4, '6.7FRhcrtR-Gal4-uasKaede', 'images/6.7FRhcrtR-Gal4-uasKaede/6.7FRhcrtR-Gal4-uasKaede_6dpf_MeanImageOf12Fish-4.jpg')\n",
      "(5, '6.7FRhcrtR-Gal4-uasKaede', 'images/6.7FRhcrtR-Gal4-uasKaede/6.7FRhcrtR-Gal4-uasKaede_6dpf_MeanImageOf12Fish-5.jpg')\n",
      "(6, '6.7FRhcrtR-Gal4-uasKaede', 'images/6.7FRhcrtR-Gal4-uasKaede/6.7FRhcrtR-Gal4-uasKaede_6dpf_MeanImageOf12Fish-6.jpg')\n",
      "(7, '6.7FRhcrtR-Gal4-uasKaede', 'images/6.7FRhcrtR-Gal4-uasKaede/6.7FRhcrtR-Gal4-uasKaede_6dpf_MeanImageOf12Fish-7.jpg')\n",
      "(8, '6.7FRhcrtR-Gal4-uasKaede', 'images/6.7FRhcrtR-Gal4-uasKaede/6.7FRhcrtR-Gal4-uasKaede_6dpf_MeanImageOf12Fish-8.jpg')\n",
      "(9, '6.7FRhcrtR-Gal4-uasKaede', 'images/6.7FRhcrtR-Gal4-uasKaede/6.7FRhcrtR-Gal4-uasKaede_6dpf_MeanImageOf12Fish-9.jpg')\n"
     ]
    }
   ],
   "source": [
    "total_len = 19043\n",
    "rows = cursor.fetchall()\n",
    "for row in rows[0:10]:\n",
    "    print row"
   ]
  },
  {
   "cell_type": "code",
   "execution_count": 7,
   "metadata": {
    "collapsed": false
   },
   "outputs": [],
   "source": [
    "from skimage import exposure"
   ]
  },
  {
   "cell_type": "code",
   "execution_count": 22,
   "metadata": {
    "collapsed": false
   },
   "outputs": [
    {
     "data": {
      "text/plain": [
       "[]"
      ]
     },
     "execution_count": 22,
     "metadata": {},
     "output_type": "execute_result"
    }
   ],
   "source": [
    "data = f.get('Elavl3-H2BRFP_6dpf_MeanImageOf10Fish')\n",
    "\n",
    "gamma_adjusted = exposure.adjust_gamma(data[90])\n",
    "adapt_adjusted = exposure.equalize_adapthist(data[90])\n",
    "viewer = ImageViewer(adapt_adjusted)\n",
    "viewer.show()"
   ]
  },
  {
   "cell_type": "code",
   "execution_count": 23,
   "metadata": {
    "collapsed": false
   },
   "outputs": [
    {
     "data": {
      "text/plain": [
       "[]"
      ]
     },
     "execution_count": 23,
     "metadata": {},
     "output_type": "execute_result"
    }
   ],
   "source": [
    "viewer_orig = ImageViewer(data[90])\n",
    "viewer_orig.show()"
   ]
  },
  {
   "cell_type": "code",
   "execution_count": null,
   "metadata": {
    "collapsed": true
   },
   "outputs": [],
   "source": []
  }
 ],
 "metadata": {
  "anaconda-cloud": {},
  "kernelspec": {
   "display_name": "Python [conda root]",
   "language": "python",
   "name": "conda-root-py"
  },
  "language_info": {
   "codemirror_mode": {
    "name": "ipython",
    "version": 2
   },
   "file_extension": ".py",
   "mimetype": "text/x-python",
   "name": "python",
   "nbconvert_exporter": "python",
   "pygments_lexer": "ipython2",
   "version": "2.7.12"
  }
 },
 "nbformat": 4,
 "nbformat_minor": 1
}
