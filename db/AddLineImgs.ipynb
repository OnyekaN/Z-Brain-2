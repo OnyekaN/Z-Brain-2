{
 "cells": [
  {
   "cell_type": "code",
   "execution_count": 1,
   "metadata": {
    "collapsed": false
   },
   "outputs": [
    {
     "name": "stderr",
     "output_type": "stream",
     "text": [
      "/Users/OGN/anaconda/envs/py36/lib/python3.6/site-packages/skimage/viewer/utils/core.py:10: UserWarning: Recommended matplotlib backend is `Agg` for full skimage.viewer functionality.\n",
      "  warn(\"Recommended matplotlib backend is `Agg` for full \"\n"
     ]
    }
   ],
   "source": [
    "import os, re, h5py\n",
    "import numpy as np\n",
    "import tifffile as Tiff\n",
    "from PIL import Image\n",
    "from skimage import io\n",
    "from skimage import exposure\n",
    "from skimage.viewer import ImageViewer\n",
    "from subprocess import call\n",
    "from natsort import natsorted\n",
    "import subprocess\n",
    "import psycopg2\n",
    "import warnings; warnings.simplefilter('ignore')"
   ]
  },
  {
   "cell_type": "markdown",
   "metadata": {},
   "source": [
    "### Import HDF5 contents from the Randlett, Burgess, and Heisemeyer lines (Anatomy, ZBB, MH)\n"
   ]
  },
  {
   "cell_type": "code",
   "execution_count": 2,
   "metadata": {
    "collapsed": false
   },
   "outputs": [],
   "source": [
    "# from IPython.display import Image\n",
    "\n",
    "HDF5s = []\n",
    "HDF5s.append(h5py.File('AnatomyLabelDatabase.hdf5', 'r'))\n",
    "HDF5s.append(h5py.File('ZBBDatabase.hdf5', 'r'))\n",
    "HDF5s.append(h5py.File('ZBBDatabase2.hdf5', 'r'))\n",
    "HDF5s.append(h5py.File('Harvard_MH_Lines.hdf5', 'r'))"
   ]
  },
  {
   "cell_type": "markdown",
   "metadata": {},
   "source": [
    "#### Print the names of all lines (stacks)\n"
   ]
  },
  {
   "cell_type": "code",
   "execution_count": 3,
   "metadata": {
    "collapsed": false,
    "scrolled": true
   },
   "outputs": [
    {
     "name": "stdout",
     "output_type": "stream",
     "text": [
      "Anatomy:\n",
      " ['6.7FRhcrtR-Gal4-uasKaede_6dpf_MeanImageOf12Fish', 'Anti-5HT_6dpf_MeanImageOf40Fish', 'Anti-Gad67_6dpf_MeanImageOf17Fish', 'Anti-GlyR_6dpf_MeanImageOf160Fish', 'Anti-TH_6dpf_MeanImageOf10Fish', 'Anti-Zn12(Hnk-1)_6dpf_MeanImageOf9Fish', 'Anti-Zn1_6dpf_MeanImageOf10Fish', 'Anti-Znp1(Synaptotagmin2)_6dpf_MeanImageOf118Fish', 'Anti-Zrf1(GFAP)_6dpf_MeanImageOf5Fish', 'Anti-Zrf2_6dpf_MeanImageOf5Fish', 'Anti-tERK_6dpf_MeanImageOf193Fish', 'Elavl3-GCaMP5G_6dpf_MeanImageOf7Fish', 'Elavl3-H2BRFP_6dpf_MeanImageOf10Fish', 'EtVmat2-GFP_6dpf_MeanImageOf55Fish', 'Gad1b-GFP_6dpf_MeanImageOf10Fish', 'Glyt2-GFP_6dpf_MeanImageOf13Fish', 'Hcrt-RFP_6dpf_MeanImageOf15Fish', 'Isl1-GFP_6dpf_MeanImageOf17Fish', 'Isl2bGal4-uasDendra_6dpf_MeanImageOf8Fish', 'Olig2-GFP_6dpf_MeanImageOf12Fish', 'Otpb.A-Gal4-UAS-GCaMP_6-7dpf_MeanImageOf19Fish', 'Otpb.A-Nsfb-GFP_6dpf_MeanImageOf10Fish', 'Oxtl-GFP_6dpf_MeanImageOf68Fish', 'Pet1-GFP_6dpf_MeanImageOf13Fish', 'Ptf1aGal4-uasKaede_6dpf_MeanImageOf11Fish', 'Qrfp-GFP_6dpf_MeanImageOf15Fish', 'S1181tGal4-uasKaede_6dpf_MeanImageOf14Fish', 'SpinalBackfills_6dpf_MeanImageOf23Fish', 'Vglut2a-GFP_6dpf_MeanImageOf15Fish'] \n",
      "\n",
      "ZBB:\n",
      " ['ZBB_HuC-Cer', 'ZBB_ath5-GFP', 'ZBB_bActin-GFP', 'ZBB_chx10-gal4', 'ZBB_dat-GFP', 'ZBB_dbh-Gal4', 'ZBB_eng1b-Gal4', 'ZBB_evx2-Gal4', 'ZBB_flk-GFP', 'ZBB_gad1b-GFP', 'ZBB_gfap-GFP', 'ZBB_glyt2-GFP', 'ZBB_gsx1-GFP', 'ZBB_isl2b-GFP', 'ZBB_j1229-GFP', 'ZBB_pet1-GFP', 'ZBB_phox2b-GFP', 'ZBB_shox2-Gal4', 'ZBB_tph2-Gal4', 'ZBB_vglut-DsRed', 'ZBB_y234-Gal4', 'ZBB_y236-Gal4', 'ZBB_y237-Gal4', 'ZBB_y240-Gal4', 'ZBB_y241-Gal4', 'ZBB_y244-Gal4', 'ZBB_y245-Gal4', 'ZBB_y249-Gal4', 'ZBB_y252-Gal4', 'ZBB_y255-Gal4', 'ZBB_y256-Gal4', 'ZBB_y264-Gal4', 'ZBB_y269-Gal4', 'ZBB_y270-Gal4', 'ZBB_y275-Gal4', 'ZBB_y279-Gal4', 'ZBB_y293-Gal4', 'ZBB_y294-Gal4', 'ZBB_y295-Gal4', 'ZBB_y296-Gal4', 'ZBB_y297-Gal4', 'ZBB_y298-Gal4', 'ZBB_y299-Gal4', 'ZBB_y300-Gal4', 'ZBB_y301-Gal4', 'ZBB_y302-Gal4', 'ZBB_y303-Gal4', 'ZBB_y304-Gal4', 'ZBB_y305-Gal4', 'ZBB_y306-Gal4', 'ZBB_y307-Gal4', 'ZBB_y308-Gal4', 'ZBB_y309-Gal4', 'ZBB_y310-Gal4', 'ZBB_y311-Gal4', 'ZBB_y312-Gal4', 'ZBB_y313-Gal4', 'ZBB_y314-Gal4', 'ZBB_y315-Gal4', 'ZBB_y316-Gal4', 'ZBB_y317-Gal4', 'ZBB_y318-Gal4', 'ZBB_y319-Gal4', 'ZBB_y320-Gal4', 'ZBB_y321-Gal4', 'ZBB_y322-Gal4', 'ZBB_y323-Gal4', 'ZBB_y324-Gal4', 'ZBB_y325-Gal4', 'ZBB_y326-Gal4', 'ZBB_y327-Gal4', 'ZBB_y328-Gal4', 'ZBB_y329-Gal4', 'ZBB_y330-Gal4', 'ZBB_y331-Gal4', 'ZBB_y332-Gal4', 'ZBB_y333-Gal4', 'ZBB_y334-Gal4', 'ZBB_y336-Gal4', 'ZBB_y337-Gal4', 'ZBB_y338-Gal4', 'ZBB_y339-Gal4', 'ZBB_y341-Gal4', 'ZBB_y342-Gal4', 'ZBB_y345-Gal4', 'ZBB_y347-Gal4', 'ZBB_y351-Gal4', 'ZBB_y352-Gal4', 'ZBB_y353-Gal4', 'ZBB_y354-Gal4', 'ZBB_y355-Gal4', 'ZBB_y356-Gal4', 'ZBB_y357-Gal4', 'ZBB_y358-Gal4', 'ZBB_y359-Gal4', 'ZBB_y364-Gal4', 'ZBB_y365-Gal4', 'ZBB_y371-Cre', 'ZBB_y372-Gal4', 'ZBB_y373-Gal4', 'ZBB_y375-Gal4', 'ZBB_y378-Cre', 'ZBB_y379-Cre', 'ZBB_y380-Cre', 'ZBB_y381-Cre', 'ZBB_y382-Cre', 'ZBB_y383-Cre', 'ZBB_y384-Cre', 'ZBB_y385-Cre'] \n",
      "\n",
      "ZBB2:\n",
      " ['ba2_sox10-GFP', 'jf9_huC-CaMPARI', 'm1233_th-Gal4', 'ml2_mnx1-GFP', 'nl1_neurod-GFP', 's1156t-Gal4', 's356t_brn3c-GFP', 'sb1_neurog1-GFP', 'sd2_gata1-dsRed', 'y226_tph2-ntr-mCh', 'y227-ntr-mCh', 'y242-Gal4', 'y265-Gal4', 'y271-Gal4', 'y274-Gal4', 'y348-Gal4', 'y350-Gal4', 'y378-Cre', 'y379-Cre', 'y380-Cre', 'y381-Cre', 'y382-Cre', 'y383-Cre', 'y384-Cre', 'y385-Cre', 'y387-Gal4', 'y388-Gal4', 'y393-Gal4', 'y394-Gal4', 'y396-Gal4', 'y397-Gal4', 'y401-Gal4', 'y405-Gal4', 'y407-Gal4', 'y412-Gal4', 'y416-Gal4', 'y417-Gal4', 'y420-Gal4', 'y421-Gal4', 'y423-Gal4', 'y425-Gal4', 'y433-Gal4', 'y436-Gal4', 'y441-Gal4', 'y444-Gal4', 'y445-Cre', 'y446-ntr-mCh', 'y454_R3-eltC-Cre', 'y455_R5-dr16-Cre', 'y456-Cre', 'y457-Cre', 'y458-Cre', 'y459-Cre', 'y460-ntr-mCh', 'y461_R4-hoxb1a-Cre', 'y465-Cre', 'y466_R2-hoxa2-Cre', 'y467-Gal4', 'y468-Gal4', 'y469-Gal4', 'y470-Gal4', 'y471-Gal4', 'y472-Gal4', 'y473-Gal4', 'y477-Gal4', 'y478-Cre', 'y479-Cre', 'y480-Cre', 'y481-Cre', 'y483-Cre', 'y484-Cre', 'y485-Cre', 'y486-Cre', 'y487-Cre', 'y488-Cre', 'y489-Cre', 'y490-Cre', 'y492-Cre', 'y493-Cre', 'y494-Cre', 'y495-Cre', 'y511-Gal4', 'y512-Gal4', 'y514-Gal4', 'y515-Gal4', 'y516_tuba-mCar', 'y517_huC-nls-mCar', 'y519-Cre', 'y520-Cre', 'y521-Cre', 'y523-Cre', 'y524-Cre', 'y526-Cre', 'y527-Cre', 'y528-Cre', 'y532-Gal4', 'y533-Gal4', 'y534_kctd15a-GFP', 'y541-Cre', 'y542-Cre', 'y543-Cre', 'y544-Cre', 'y545-Cre', 'y546-Cre', 'y547-Cre', 'y548-Cre', 'y549-Cre', 'y550-Cre', 'y551-Cre', 'y552-Cre', 'y553-Cre', 'y554-Cre', 'y555-Cre', 'y556-Cre', 'y557-Cre', 'y558-Cre', 'y559-Cre', 'y564-Gal4', 'y565-Gal4', 'y566-Gal4', 'y567-Gal4', 'y568-Cre', 'y569-Cre', 'y570-Cre', 'y571-Cre', 'y574-Cre', 'y575-Gal4', 'y576-Gal4', 'y583_huC-mCardinal'] \n",
      "\n",
      "MH:\n",
      " ['13319_6dpf_MeanImageOf10Fish', '15576_6dpf_MeanImageOf7Fish', '16659_6dpf_MeanImageOf6Fish', '16715_6dpf_MeanImageOf8Fish', '16913_6dpf_MeanImageOf4Fish', '16914_6dpf_MeanImageOf7Fish', '16915_6dpf_MeanImageOf3Fish', '16916_6dpf_MeanImageOf7Fish', '16946_6dpf_MeanImageOf5Fish', '17056_6dpf_MeanImageOf5Fish', '17767_6dpf_MeanImageOf9Fish', '17768_6dpf_MeanImageOf9Fish', '17776_6dpf_MeanImageOf5Fish', '17777_6dpf_MeanImageOf7Fish', '17787_6dpf_MeanImageOf9Fish', '17845_6dpf_MeanImageOf13Fish', '17846_6dpf_MeanImageOf5Fish', '18107_6dpf_MeanImageOf10Fish', '18108_6dpf_MeanImageOf8Fish', '18327_6dpf_MeanImageOf11Fish', '18329_6dpf_MeanImageOf9Fish', '19322_6dpf_MeanImageOf9Fish', '19566_6dpf_MeanImageOf10Fish', '20360_6dpf_MeanImageOf4Fish', '20361_6dpf_MeanImageOf10Fish', '20454_6dpf_MeanImageOf9Fish', '20552_6dpf_MeanImageOf11Fish', '20553_6dpf_MeanImageOf6Fish', '20638_6dpf_MeanImageOf11Fish', '20639_6dpf_MeanImageOf4Fish', '20640_6dpf_MeanImageOf9Fish', '20641_6dpf_MeanImageOf9Fish', '20642_6dpf_MeanImageOf1Fish', '20643_6dpf_MeanImageOf12Fish', '20644_6dpf_MeanImageOf8Fish', '20646_6dpf_MeanImageOf2Fish', '20647_6dpf_MeanImageOf13Fish', '20648_6dpf_MeanImageOf1Fish', '20649_6dpf_MeanImageOf2Fish', '20652_6dpf_MeanImageOf4Fish', '20653_6dpf_MeanImageOf12Fish', '20654_6dpf_MeanImageOf9Fish', '20655_6dpf_MeanImageOf13Fish', '20660_6dpf_MeanImageOf6Fish', '20661_6dpf_MeanImageOf7Fish', '20663_6dpf_MeanImageOf9Fish', '20940_6dpf_MeanImageOf9Fish', '20941_6dpf_MeanImageOf9Fish'] \n",
      "\n"
     ]
    }
   ],
   "source": [
    "print('Anatomy:\\n', [k for k in HDF5s[0].keys()], '\\n')\n",
    "print('ZBB:\\n', [k for k in HDF5s[1].keys()], '\\n')\n",
    "print('ZBB2:\\n', [k for k in HDF5s[2].keys()], '\\n')\n",
    "print('MH:\\n', [k for k in HDF5s[3].keys()], '\\n')"
   ]
  },
  {
   "cell_type": "markdown",
   "metadata": {},
   "source": [
    "#### Copy single stack from one HDF5"
   ]
  },
  {
   "cell_type": "code",
   "execution_count": 4,
   "metadata": {
    "collapsed": false
   },
   "outputs": [],
   "source": [
    "data = HDF5s[0].get('Otpb.A-Nsfb-GFP_6dpf_MeanImageOf10Fish')"
   ]
  },
  {
   "cell_type": "markdown",
   "metadata": {},
   "source": [
    "#### Copy single slice from one stack"
   ]
  },
  {
   "cell_type": "code",
   "execution_count": 5,
   "metadata": {
    "collapsed": false
   },
   "outputs": [],
   "source": [
    "image = data[75]\n",
    "# tiff.imsave('Otpb_a-Nsfb75.tiff', image)\n",
    "# io.imsave('Otpb_a-Nsfb75.jpeg', image)"
   ]
  },
  {
   "cell_type": "markdown",
   "metadata": {},
   "source": [
    "#### Check brightness stats (all images grayscale)"
   ]
  },
  {
   "cell_type": "code",
   "execution_count": 6,
   "metadata": {
    "collapsed": false
   },
   "outputs": [
    {
     "name": "stdout",
     "output_type": "stream",
     "text": [
      "4645.82173008\n"
     ]
    },
    {
     "data": {
      "text/plain": [
       "65535"
      ]
     },
     "execution_count": 6,
     "metadata": {},
     "output_type": "execute_result"
    }
   ],
   "source": [
    "print(np.mean(data))\n",
    "np.max(data)"
   ]
  },
  {
   "cell_type": "code",
   "execution_count": 7,
   "metadata": {
    "collapsed": false,
    "scrolled": true
   },
   "outputs": [
    {
     "name": "stdout",
     "output_type": "stream",
     "text": [
      "56.0304036003\n"
     ]
    }
   ],
   "source": [
    "data = HDF5s[2].get('s356t_brn3c-GFP')\n",
    "print(np.mean(data))"
   ]
  },
  {
   "cell_type": "markdown",
   "metadata": {},
   "source": [
    "### Test basic image manipulation with Subprocess >> Imagemagick c.l. tools"
   ]
  },
  {
   "cell_type": "code",
   "execution_count": 8,
   "metadata": {
    "collapsed": false
   },
   "outputs": [
    {
     "name": "stdout",
     "output_type": "stream",
     "text": [
      "[Errno 2] No such file or directory: 'Test/test_16bit_jpeg0.jpg'\n"
     ]
    }
   ],
   "source": [
    "adj_data0 = data[90]\n",
    "try:\n",
    "    io.imsave('Test/test_16bit_jpeg0.jpg', adj_data0)\n",
    "except Exception as e:\n",
    "    print(e)"
   ]
  },
  {
   "cell_type": "markdown",
   "metadata": {},
   "source": [
    "#### Image created ^ Now modify with 'convert'"
   ]
  },
  {
   "cell_type": "code",
   "execution_count": 38,
   "metadata": {
    "collapsed": false,
    "scrolled": true
   },
   "outputs": [
    {
     "name": "stdout",
     "output_type": "stream",
     "text": [
      "Command '['convert', 'Test/test_16bit_jpeg0.jpg', '-format', 'jpg', '-level', '0%, 50%', 'Test/test_16bit_jpeg1.jpg']' returned non-zero exit status 1.\n"
     ]
    }
   ],
   "source": [
    "try:\n",
    "    subprocess.check_output([\"convert\", \"Test/test_16bit_jpeg0.jpg\", \"-format\", \"jpg\", \"-level\", \"0%, 50%\", \"Test/test_16bit_jpeg1.jpg\"], stderr=subprocess.STDOUT)\n",
    "except Exception as e:\n",
    "    print(e)"
   ]
  },
  {
   "cell_type": "markdown",
   "metadata": {},
   "source": [
    "#### Display image"
   ]
  },
  {
   "cell_type": "code",
   "execution_count": 39,
   "metadata": {
    "collapsed": false
   },
   "outputs": [
    {
     "name": "stdout",
     "output_type": "stream",
     "text": [
      "'module' object is not callable\n"
     ]
    }
   ],
   "source": [
    "try:\n",
    "    Image(\"Test/test_16bit_jpeg0.jpg\")\n",
    "except Exception as e:\n",
    "    print(e)"
   ]
  },
  {
   "cell_type": "markdown",
   "metadata": {},
   "source": [
    "### Export images from HDF5 files"
   ]
  },
  {
   "cell_type": "markdown",
   "metadata": {},
   "source": [
    "#### Export tiff stacks from HDF5 files"
   ]
  },
  {
   "cell_type": "code",
   "execution_count": 40,
   "metadata": {
    "collapsed": false,
    "scrolled": true
   },
   "outputs": [],
   "source": [
    "for n, h in enumerate(HDF5s):\n",
    "    for k, key in enumerate(h.keys()):\n",
    "        stack = h.get(key)\n",
    "        stack_name = str(re.split('_6(.*)dpf', key)[0]) # applies only to Anatomy and MH lines, chops dpf suffix\n",
    "        \n",
    "        try:\n",
    "            int(stack_name)                             # applies only to MH Lines\n",
    "            stack_name = 'MH_{}-Gal4'.format(stack_name)\n",
    "        except:\n",
    "            pass\n",
    "        \n",
    "        if n == 2: # assuming ZBBDatabase2 is HDF5s[2]\n",
    "            stack_name = 'ZBB_' + stack_name\n",
    "        else: \n",
    "            continue\n",
    "        \n",
    "        tiff_path = '../app/assets/images/4-TiffStacks/{}.tif'.format(stack_name) # assuming cwd is db/\n",
    "        if not os.path.isfile(tiff_path):\n",
    "            print(tiff_path)\n",
    "            Tiff.imsave(tiff_path, stack)\n",
    "        "
   ]
  },
  {
   "cell_type": "code",
   "execution_count": 10,
   "metadata": {
    "collapsed": false
   },
   "outputs": [],
   "source": [
    "AN = HDF5s[0]\n",
    "ZBB1 = HDF5s[1]\n",
    "ZBB2 = HDF5s[2]\n",
    "MH = HDF5s[3]"
   ]
  },
  {
   "cell_type": "markdown",
   "metadata": {},
   "source": [
    "#### Export line JPGs from Anatomy HFD5"
   ]
  },
  {
   "cell_type": "code",
   "execution_count": 13,
   "metadata": {
    "collapsed": true
   },
   "outputs": [
    {
     "name": "stdout",
     "output_type": "stream",
     "text": [
      "../app/assets/images/6-Lines/6.7FRhcrtR-Gal4-uasKaede/\n",
      "2097.70344932\n",
      "[Errno 17] File exists: '../app/assets/images/6-Lines/6.7FRhcrtR-Gal4-uasKaede/'\n",
      "../app/assets/images/6-Lines/Anti-5HT/\n",
      "5949.16077933\n",
      "../app/assets/images/6-Lines/Anti-Gad67/\n",
      "3533.79462989\n"
     ]
    },
    {
     "ename": "KeyboardInterrupt",
     "evalue": "",
     "output_type": "error",
     "traceback": [
      "\u001b[0;31m---------------------------------------------------------------------------\u001b[0m",
      "\u001b[0;31mKeyboardInterrupt\u001b[0m                         Traceback (most recent call last)",
      "\u001b[0;32m<ipython-input-13-a2d22d25c6b1>\u001b[0m in \u001b[0;36m<module>\u001b[0;34m()\u001b[0m\n\u001b[1;32m     14\u001b[0m         \u001b[0mimg_path\u001b[0m \u001b[0;34m=\u001b[0m \u001b[0;34m'../app/assets/images/6-Lines/%s/%s-%i.png'\u001b[0m \u001b[0;34m%\u001b[0m \u001b[0;34m(\u001b[0m\u001b[0mstack_name\u001b[0m\u001b[0;34m,\u001b[0m \u001b[0mkey\u001b[0m\u001b[0;34m,\u001b[0m \u001b[0mi\u001b[0m\u001b[0;34m)\u001b[0m\u001b[0;34m\u001b[0m\u001b[0m\n\u001b[1;32m     15\u001b[0m         \u001b[0mio\u001b[0m\u001b[0;34m.\u001b[0m\u001b[0mimsave\u001b[0m\u001b[0;34m(\u001b[0m\u001b[0mimg_path\u001b[0m\u001b[0;34m,\u001b[0m \u001b[0mstack\u001b[0m\u001b[0;34m[\u001b[0m\u001b[0mi\u001b[0m\u001b[0;34m]\u001b[0m\u001b[0;34m)\u001b[0m\u001b[0;34m\u001b[0m\u001b[0m\n\u001b[0;32m---> 16\u001b[0;31m         \u001b[0msubprocess\u001b[0m\u001b[0;34m.\u001b[0m\u001b[0mcheck_output\u001b[0m\u001b[0;34m(\u001b[0m\u001b[0;34m[\u001b[0m\u001b[0;34m\"convert\"\u001b[0m\u001b[0;34m,\u001b[0m \u001b[0mimg_path\u001b[0m\u001b[0;34m,\u001b[0m \u001b[0;34m\"-format\"\u001b[0m\u001b[0;34m,\u001b[0m \u001b[0;34m\"png\"\u001b[0m\u001b[0;34m,\u001b[0m \u001b[0;34m\"-level\"\u001b[0m\u001b[0;34m,\u001b[0m \u001b[0;34m\"0%, 50%\"\u001b[0m\u001b[0;34m,\u001b[0m \u001b[0mimg_path\u001b[0m\u001b[0;34m]\u001b[0m\u001b[0;34m,\u001b[0m \u001b[0mstderr\u001b[0m\u001b[0;34m=\u001b[0m\u001b[0msubprocess\u001b[0m\u001b[0;34m.\u001b[0m\u001b[0mSTDOUT\u001b[0m\u001b[0;34m)\u001b[0m\u001b[0;34m\u001b[0m\u001b[0m\n\u001b[0m",
      "\u001b[0;32m~/anaconda/envs/py36/lib/python3.6/subprocess.py\u001b[0m in \u001b[0;36mcheck_output\u001b[0;34m(timeout, *popenargs, **kwargs)\u001b[0m\n\u001b[1;32m    334\u001b[0m \u001b[0;34m\u001b[0m\u001b[0m\n\u001b[1;32m    335\u001b[0m     return run(*popenargs, stdout=PIPE, timeout=timeout, check=True,\n\u001b[0;32m--> 336\u001b[0;31m                **kwargs).stdout\n\u001b[0m\u001b[1;32m    337\u001b[0m \u001b[0;34m\u001b[0m\u001b[0m\n\u001b[1;32m    338\u001b[0m \u001b[0;34m\u001b[0m\u001b[0m\n",
      "\u001b[0;32m~/anaconda/envs/py36/lib/python3.6/subprocess.py\u001b[0m in \u001b[0;36mrun\u001b[0;34m(input, timeout, check, *popenargs, **kwargs)\u001b[0m\n\u001b[1;32m    403\u001b[0m     \u001b[0;32mwith\u001b[0m \u001b[0mPopen\u001b[0m\u001b[0;34m(\u001b[0m\u001b[0;34m*\u001b[0m\u001b[0mpopenargs\u001b[0m\u001b[0;34m,\u001b[0m \u001b[0;34m**\u001b[0m\u001b[0mkwargs\u001b[0m\u001b[0;34m)\u001b[0m \u001b[0;32mas\u001b[0m \u001b[0mprocess\u001b[0m\u001b[0;34m:\u001b[0m\u001b[0;34m\u001b[0m\u001b[0m\n\u001b[1;32m    404\u001b[0m         \u001b[0;32mtry\u001b[0m\u001b[0;34m:\u001b[0m\u001b[0;34m\u001b[0m\u001b[0m\n\u001b[0;32m--> 405\u001b[0;31m             \u001b[0mstdout\u001b[0m\u001b[0;34m,\u001b[0m \u001b[0mstderr\u001b[0m \u001b[0;34m=\u001b[0m \u001b[0mprocess\u001b[0m\u001b[0;34m.\u001b[0m\u001b[0mcommunicate\u001b[0m\u001b[0;34m(\u001b[0m\u001b[0minput\u001b[0m\u001b[0;34m,\u001b[0m \u001b[0mtimeout\u001b[0m\u001b[0;34m=\u001b[0m\u001b[0mtimeout\u001b[0m\u001b[0;34m)\u001b[0m\u001b[0;34m\u001b[0m\u001b[0m\n\u001b[0m\u001b[1;32m    406\u001b[0m         \u001b[0;32mexcept\u001b[0m \u001b[0mTimeoutExpired\u001b[0m\u001b[0;34m:\u001b[0m\u001b[0;34m\u001b[0m\u001b[0m\n\u001b[1;32m    407\u001b[0m             \u001b[0mprocess\u001b[0m\u001b[0;34m.\u001b[0m\u001b[0mkill\u001b[0m\u001b[0;34m(\u001b[0m\u001b[0;34m)\u001b[0m\u001b[0;34m\u001b[0m\u001b[0m\n",
      "\u001b[0;32m~/anaconda/envs/py36/lib/python3.6/subprocess.py\u001b[0m in \u001b[0;36mcommunicate\u001b[0;34m(self, input, timeout)\u001b[0m\n\u001b[1;32m    828\u001b[0m                 \u001b[0mself\u001b[0m\u001b[0;34m.\u001b[0m\u001b[0m_stdin_write\u001b[0m\u001b[0;34m(\u001b[0m\u001b[0minput\u001b[0m\u001b[0;34m)\u001b[0m\u001b[0;34m\u001b[0m\u001b[0m\n\u001b[1;32m    829\u001b[0m             \u001b[0;32melif\u001b[0m \u001b[0mself\u001b[0m\u001b[0;34m.\u001b[0m\u001b[0mstdout\u001b[0m\u001b[0;34m:\u001b[0m\u001b[0;34m\u001b[0m\u001b[0m\n\u001b[0;32m--> 830\u001b[0;31m                 \u001b[0mstdout\u001b[0m \u001b[0;34m=\u001b[0m \u001b[0mself\u001b[0m\u001b[0;34m.\u001b[0m\u001b[0mstdout\u001b[0m\u001b[0;34m.\u001b[0m\u001b[0mread\u001b[0m\u001b[0;34m(\u001b[0m\u001b[0;34m)\u001b[0m\u001b[0;34m\u001b[0m\u001b[0m\n\u001b[0m\u001b[1;32m    831\u001b[0m                 \u001b[0mself\u001b[0m\u001b[0;34m.\u001b[0m\u001b[0mstdout\u001b[0m\u001b[0;34m.\u001b[0m\u001b[0mclose\u001b[0m\u001b[0;34m(\u001b[0m\u001b[0;34m)\u001b[0m\u001b[0;34m\u001b[0m\u001b[0m\n\u001b[1;32m    832\u001b[0m             \u001b[0;32melif\u001b[0m \u001b[0mself\u001b[0m\u001b[0;34m.\u001b[0m\u001b[0mstderr\u001b[0m\u001b[0;34m:\u001b[0m\u001b[0;34m\u001b[0m\u001b[0m\n",
      "\u001b[0;31mKeyboardInterrupt\u001b[0m: "
     ]
    }
   ],
   "source": [
    "for k, key in enumerate(AN.keys()):\n",
    "    stack = AN.get(key)\n",
    "    stack_name = key.split('_')[0]\n",
    "    folder_path = '../app/assets/images/0-Lines/%s/' % (stack_name)\n",
    "    print(folder_path)\n",
    "    print(np.mean(stack))\n",
    "\n",
    "    try:\n",
    "        os.makedirs(folder_path)\n",
    "    except OSError as exception:\n",
    "        print(exception)\n",
    "        \n",
    "    for i, img in enumerate(stack):\n",
    "        img_path = '../app/assets/images/0-Lines/%s/%s-%i.jpg' % (stack_name, key, i)\n",
    "        io.imsave(img_path, stack[i])\n",
    "        subprocess.check_output([\"convert\", img_path, \"-format\", \"jpg\", \"-level\", \"0%, 50%\", img_path], stderr=subprocess.STDOUT)\n"
   ]
  },
  {
   "cell_type": "markdown",
   "metadata": {},
   "source": [
    "#### Export line JPGs from first ZBB HDF5"
   ]
  },
  {
   "cell_type": "code",
   "execution_count": null,
   "metadata": {
    "collapsed": true
   },
   "outputs": [],
   "source": [
    "for k, key in enumerate(ZBB1.keys()):\n",
    "    stack = ZBB1.get(key)\n",
    "    stack_name = key\n",
    "    folder_path = '../app/assets/images/0-Lines/%s/' % (stack_name)\n",
    "    print(folder_path)\n",
    "    mean_intensity = np.mean(stack)\n",
    "    \n",
    "    if mean_intensity >= 1000:\n",
    "        white_point = 50\n",
    "    elif mean_intensity >= 100 and mean_intensity < 1000:\n",
    "        white_point = 40\n",
    "    else:\n",
    "        white_point = 30\n",
    "\n",
    "    try:\n",
    "        os.makedirs(folder_path)\n",
    "    except OSError as exception:\n",
    "        print(exception)\n",
    "    \n",
    "    print(white_point)\n",
    "    for i, img in enumerate(stack):\n",
    "        img_path = '../app/assets/images/0-Lines/%s/%s-%i.jpg' % (stack_name, key, i)\n",
    "        #io.imsave(img_path, stack[i])\n",
    "        #subprocess.check_output([\"convert\", img_path, \"-format\", \"jpg\", \"-level\", \"0%%, %i%%\" % (white_point) , img_path], stderr=subprocess.STDOUT)    \n",
    "        "
   ]
  },
  {
   "cell_type": "markdown",
   "metadata": {},
   "source": [
    "#### Export line JPGs from second ZBB HDF5"
   ]
  },
  {
   "cell_type": "code",
   "execution_count": null,
   "metadata": {
    "collapsed": true
   },
   "outputs": [],
   "source": [
    "for k, key in enumerate(ZBB2.keys()):\n",
    "    stack = ZBB2.get(key)\n",
    "    stack_name = 'ZBB_' + key\n",
    "    folder_path = '../app/assets/images/0-Lines/%s/' % (stack_name)\n",
    "    mean_intensity = np.mean(stack)\n",
    "    print (stack_name, mean_intensity)\n",
    "\n",
    "    if mean_intensity >= 1000:\n",
    "        white_point = 50\n",
    "    elif mean_intensity >= 100 and mean_intensity < 1000:\n",
    "        white_point = 40\n",
    "    else:\n",
    "        white_point = 30\n",
    "\n",
    "    try:\n",
    "        os.makedirs(folder_path)\n",
    "    except OSError as exception:\n",
    "        print(exception)\n",
    "    \n",
    "    for i, img in enumerate(stack):\n",
    "        img_path = '../app/assets/images/0-Lines/%s/%s-%i.jpg' % (stack_name, stack_name, i)\n",
    "        io.imsave(img_path, stack[i])\n",
    "        subprocess.check_output([\"convert\", img_path, \"-format\", \"jpg\", \"-level\", \"0%%, %i%%\" % (white_point) , img_path], stderr=subprocess.STDOUT)    \n",
    "        "
   ]
  },
  {
   "cell_type": "markdown",
   "metadata": {},
   "source": [
    "#### Export line JPGs from Harvard_MH HFD5 without creating database entries"
   ]
  },
  {
   "cell_type": "code",
   "execution_count": 6,
   "metadata": {
    "collapsed": true
   },
   "outputs": [
    {
     "name": "stdout",
     "output_type": "stream",
     "text": [
      "MH_13319-Gal4 2812.68795899\n",
      "MH_15576-Gal4 3574.26017525\n",
      "MH_16659-Gal4 11615.5238966\n",
      "MH_16715-Gal4 9433.42074963\n",
      "MH_16913-Gal4 10686.3600645\n",
      "MH_16914-Gal4 1450.09333567\n",
      "MH_16915-Gal4 6869.44971984\n",
      "MH_16916-Gal4 2636.40262084\n",
      "MH_16946-Gal4 5873.45485924\n",
      "MH_17056-Gal4 3005.27221835\n",
      "MH_17767-Gal4 2076.90699749\n",
      "MH_17768-Gal4 2019.05356542\n",
      "MH_17776-Gal4 6648.48493657\n",
      "MH_17777-Gal4 3427.17666903\n",
      "MH_17787-Gal4 4313.95343514\n",
      "MH_17845-Gal4 2636.49697203\n",
      "MH_17846-Gal4 4107.92464891\n",
      "MH_18107-Gal4 3221.95892779\n",
      "MH_18108-Gal4 2774.80982257\n",
      "MH_18327-Gal4 5405.86273808\n",
      "MH_18329-Gal4 3135.75183934\n",
      "MH_19322-Gal4 5112.56925594\n",
      "MH_19566-Gal4 3466.57842414\n",
      "MH_20360-Gal4 2407.11234121\n",
      "MH_20361-Gal4 2513.67460918\n",
      "MH_20454-Gal4 1228.75951744\n",
      "MH_20552-Gal4 4935.75330039\n",
      "MH_20553-Gal4 1847.23119936\n",
      "MH_20638-Gal4 2387.89796152\n",
      "MH_20639-Gal4 1210.14545137\n",
      "MH_20640-Gal4 1347.12983667\n",
      "MH_20641-Gal4 1341.35001877\n",
      "MH_20642-Gal4 1790.26426982\n",
      "MH_20643-Gal4 2817.13097499\n",
      "MH_20644-Gal4 3250.35008935\n",
      "MH_20646-Gal4 2192.1400422\n",
      "MH_20647-Gal4 5386.20093697\n",
      "MH_20648-Gal4 2082.34591264\n",
      "MH_20649-Gal4 2484.0816302\n",
      "MH_20652-Gal4 2515.58570287\n",
      "MH_20653-Gal4 4183.43061571\n",
      "MH_20654-Gal4 1970.49835499\n",
      "MH_20655-Gal4 2611.14620902\n",
      "MH_20660-Gal4 4424.42277837\n",
      "MH_20661-Gal4 2431.80325276\n",
      "MH_20663-Gal4 2686.94886113\n",
      "MH_20940-Gal4 1394.95001536\n",
      "MH_20941-Gal4 2479.18091321\n"
     ]
    }
   ],
   "source": [
    "for k, key in enumerate(MH.keys()):\n",
    "    stack = MH.get(key)\n",
    "    stack_number = key.split('_')[0]\n",
    "    stack_name = 'MH_{}-Gal4'.format(stack_number)\n",
    "    folder_path = '../app/assets/images/0-Lines/%s/' % (stack_name)\n",
    "    mean_intensity = np.mean(stack)\n",
    "    print (stack_name, mean_intensity)\n",
    "\n",
    "    try:\n",
    "        os.makedirs(folder_path)\n",
    "    except OSError as exception:\n",
    "        pass\n",
    "    \n",
    "    white_point = 40\n",
    "\n",
    "    for i, img in enumerate(stack):\n",
    "        img_path = '{}/{}-{}.jpg'.format(folder_path, stack_name, i)\n",
    "        img = np.flipud(img)\n",
    "        io.imsave(img_path, img)\n",
    "            # skip to keep native whitelevels\n",
    "        #subprocess.check_output([\"convert\", img_path, \"-format\", \"jpg\", \"-level\", \"0%%, %i%%\" % (white_point) , img_path], stderr=subprocess.STDOUT)"
   ]
  },
  {
   "cell_type": "markdown",
   "metadata": {},
   "source": [
    "#### Export line JPGs from Reference-Brain tif"
   ]
  },
  {
   "cell_type": "code",
   "execution_count": null,
   "metadata": {
    "collapsed": false
   },
   "outputs": [],
   "source": [
    "tiff = Tiff.imread('..app/assets/images/4-TiffStacks/Reference-Brain.tif')\n",
    "print(tiff.shape)\n",
    "tiff = np.squeeze(tiff, axis=0)\n",
    "tiff = np.squeeze(tiff, axis=1)\n",
    "print(tiff.shape)\n",
    "\n",
    "for i, image in enumerate(tiff):\n",
    "    img_path = '../app/assets/images/0-Reference-Brain/Reference-Brain-{}.jpg'.format(i)\n",
    "    io.imsave(img_path, image)"
   ]
  },
  {
   "cell_type": "markdown",
   "metadata": {},
   "source": [
    "### Create database entries for exported images"
   ]
  },
  {
   "cell_type": "markdown",
   "metadata": {},
   "source": [
    "#### Connect to Postgresql db"
   ]
  },
  {
   "cell_type": "code",
   "execution_count": 2,
   "metadata": {
    "collapsed": true
   },
   "outputs": [],
   "source": [
    "conn = psycopg2.connect(dbname='zbrain2db', user='gqe', host='localhost', password='')\n",
    "cursor = conn.cursor()"
   ]
  },
  {
   "cell_type": "markdown",
   "metadata": {},
   "source": [
    "#### Initialize '*images*' table"
   ]
  },
  {
   "cell_type": "code",
   "execution_count": 3,
   "metadata": {
    "collapsed": true
   },
   "outputs": [],
   "source": [
    "create_table_command = (\n",
    "\"\"\"\n",
    "    DROP TABLE images;\n",
    "    CREATE TABLE images (\n",
    "        image_id SERIAL PRIMARY KEY,\n",
    "        line_name TEXT NOT NULL,\n",
    "        line_id INT NOT NULL,\n",
    "        image_path TEXT NOT NULL\n",
    "    );\n",
    "\"\"\")"
   ]
  },
  {
   "cell_type": "code",
   "execution_count": 4,
   "metadata": {
    "collapsed": false
   },
   "outputs": [],
   "source": [
    "try:\n",
    "    cursor.execute(create_table_command)\n",
    "    cursor.close()\n",
    "    conn.commit()\n",
    "except (Exception, psycopg2.DatabaseError) as error:\n",
    "    print(error)\n",
    "finally:\n",
    "    if conn is not None:\n",
    "        conn.close()"
   ]
  },
  {
   "cell_type": "markdown",
   "metadata": {},
   "source": [
    "#### Iterate stack directories and create database entries for each JPG"
   ]
  },
  {
   "cell_type": "code",
   "execution_count": 5,
   "metadata": {
    "collapsed": false
   },
   "outputs": [
    {
     "data": {
      "text/plain": [
       "['0-Reference-Brain',\n",
       " '6.7FRhcrtR-Gal4-uasKaede',\n",
       " 'Anti-5HT',\n",
       " 'Anti-Gad67',\n",
       " 'Anti-GlyR',\n",
       " 'Anti-TH',\n",
       " 'Anti-Zn1',\n",
       " 'Anti-Zn12(Hnk-1)',\n",
       " 'Anti-Znp1(Synaptotagmin2)',\n",
       " 'Anti-Zrf1(GFAP)',\n",
       " 'Anti-Zrf2',\n",
       " 'Anti-tERK',\n",
       " 'Elavl3-GCaMP5G',\n",
       " 'Elavl3-H2BRFP',\n",
       " 'EtVmat2-GFP',\n",
       " 'Gad1b-GFP',\n",
       " 'Glyt2-GFP',\n",
       " 'Hcrt-RFP',\n",
       " 'Isl1-GFP',\n",
       " 'Isl2bGal4-uasDendra',\n",
       " 'MH_13319-Gal4',\n",
       " 'MH_15576-Gal4',\n",
       " 'MH_16659-Gal4',\n",
       " 'MH_16715-Gal4',\n",
       " 'MH_16913-Gal4',\n",
       " 'MH_16914-Gal4',\n",
       " 'MH_16915-Gal4',\n",
       " 'MH_16916-Gal4',\n",
       " 'MH_16946-Gal4',\n",
       " 'MH_17056-Gal4',\n",
       " 'MH_17767-Gal4',\n",
       " 'MH_17768-Gal4',\n",
       " 'MH_17776-Gal4',\n",
       " 'MH_17777-Gal4',\n",
       " 'MH_17787-Gal4',\n",
       " 'MH_17845-Gal4',\n",
       " 'MH_17846-Gal4',\n",
       " 'MH_18107-Gal4',\n",
       " 'MH_18108-Gal4',\n",
       " 'MH_18327-Gal4',\n",
       " 'MH_18329-Gal4',\n",
       " 'MH_19322-Gal4',\n",
       " 'MH_19566-Gal4',\n",
       " 'MH_20360-Gal4',\n",
       " 'MH_20361-Gal4',\n",
       " 'MH_20454-Gal4',\n",
       " 'MH_20552-Gal4',\n",
       " 'MH_20553-Gal4',\n",
       " 'MH_20638-Gal4',\n",
       " 'MH_20639-Gal4',\n",
       " 'MH_20640-Gal4',\n",
       " 'MH_20641-Gal4',\n",
       " 'MH_20642-Gal4',\n",
       " 'MH_20643-Gal4',\n",
       " 'MH_20644-Gal4',\n",
       " 'MH_20646-Gal4',\n",
       " 'MH_20647-Gal4',\n",
       " 'MH_20648-Gal4',\n",
       " 'MH_20649-Gal4',\n",
       " 'MH_20652-Gal4',\n",
       " 'MH_20653-Gal4',\n",
       " 'MH_20654-Gal4',\n",
       " 'MH_20655-Gal4',\n",
       " 'MH_20660-Gal4',\n",
       " 'MH_20661-Gal4',\n",
       " 'MH_20663-Gal4',\n",
       " 'MH_20940-Gal4',\n",
       " 'MH_20941-Gal4',\n",
       " 'Olig2-GFP',\n",
       " 'Otpb.A-Gal4-UAS-GCaMP',\n",
       " 'Otpb.A-Nsfb-GFP',\n",
       " 'Oxtl-GFP',\n",
       " 'Pet1-GFP',\n",
       " 'Ptf1aGal4-uasKaede',\n",
       " 'Qrfp-GFP',\n",
       " 'S1181tGal4-uasKaede',\n",
       " 'SpinalBackfills',\n",
       " 'Vglut2a-GFP',\n",
       " 'ZBB_HuC-Cer',\n",
       " 'ZBB_ath5-GFP',\n",
       " 'ZBB_bActin-GFP',\n",
       " 'ZBB_ba2_sox10-GFP',\n",
       " 'ZBB_chx10-gal4',\n",
       " 'ZBB_dat-GFP',\n",
       " 'ZBB_dbh-Gal4',\n",
       " 'ZBB_eng1b-Gal4',\n",
       " 'ZBB_evx2-Gal4',\n",
       " 'ZBB_flk-GFP',\n",
       " 'ZBB_gad1b-GFP',\n",
       " 'ZBB_gfap-GFP',\n",
       " 'ZBB_glyt2-GFP',\n",
       " 'ZBB_gsx1-GFP',\n",
       " 'ZBB_isl2b-GFP',\n",
       " 'ZBB_j1229-GFP',\n",
       " 'ZBB_jf9_huC-CaMPARI',\n",
       " 'ZBB_m1233_th-Gal4',\n",
       " 'ZBB_ml2_mnx1-GFP',\n",
       " 'ZBB_nl1_neurod-GFP',\n",
       " 'ZBB_pet1-GFP',\n",
       " 'ZBB_phox2b-GFP',\n",
       " 'ZBB_s1156t-Gal4',\n",
       " 'ZBB_s356t_brn3c-GFP',\n",
       " 'ZBB_sb1_neurog1-GFP',\n",
       " 'ZBB_sd2_gata1-dsRed',\n",
       " 'ZBB_shox2-Gal4',\n",
       " 'ZBB_tph2-Gal4',\n",
       " 'ZBB_vglut-DsRed',\n",
       " 'ZBB_y226_tph2-ntr-mCh',\n",
       " 'ZBB_y227-ntr-mCh',\n",
       " 'ZBB_y234-Gal4',\n",
       " 'ZBB_y236-Gal4',\n",
       " 'ZBB_y237-Gal4',\n",
       " 'ZBB_y240-Gal4',\n",
       " 'ZBB_y241-Gal4',\n",
       " 'ZBB_y242-Gal4',\n",
       " 'ZBB_y244-Gal4',\n",
       " 'ZBB_y245-Gal4',\n",
       " 'ZBB_y249-Gal4',\n",
       " 'ZBB_y252-Gal4',\n",
       " 'ZBB_y255-Gal4',\n",
       " 'ZBB_y256-Gal4',\n",
       " 'ZBB_y264-Gal4',\n",
       " 'ZBB_y265-Gal4',\n",
       " 'ZBB_y269-Gal4',\n",
       " 'ZBB_y270-Gal4',\n",
       " 'ZBB_y271-Gal4',\n",
       " 'ZBB_y274-Gal4',\n",
       " 'ZBB_y275-Gal4',\n",
       " 'ZBB_y279-Gal4',\n",
       " 'ZBB_y293-Gal4',\n",
       " 'ZBB_y294-Gal4',\n",
       " 'ZBB_y295-Gal4',\n",
       " 'ZBB_y296-Gal4',\n",
       " 'ZBB_y297-Gal4',\n",
       " 'ZBB_y298-Gal4',\n",
       " 'ZBB_y299-Gal4',\n",
       " 'ZBB_y300-Gal4',\n",
       " 'ZBB_y301-Gal4',\n",
       " 'ZBB_y302-Gal4',\n",
       " 'ZBB_y303-Gal4',\n",
       " 'ZBB_y304-Gal4',\n",
       " 'ZBB_y305-Gal4',\n",
       " 'ZBB_y306-Gal4',\n",
       " 'ZBB_y307-Gal4',\n",
       " 'ZBB_y308-Gal4',\n",
       " 'ZBB_y309-Gal4',\n",
       " 'ZBB_y310-Gal4',\n",
       " 'ZBB_y311-Gal4',\n",
       " 'ZBB_y312-Gal4',\n",
       " 'ZBB_y313-Gal4',\n",
       " 'ZBB_y314-Gal4',\n",
       " 'ZBB_y315-Gal4',\n",
       " 'ZBB_y316-Gal4',\n",
       " 'ZBB_y317-Gal4',\n",
       " 'ZBB_y318-Gal4',\n",
       " 'ZBB_y319-Gal4',\n",
       " 'ZBB_y320-Gal4',\n",
       " 'ZBB_y321-Gal4',\n",
       " 'ZBB_y322-Gal4',\n",
       " 'ZBB_y323-Gal4',\n",
       " 'ZBB_y324-Gal4',\n",
       " 'ZBB_y325-Gal4',\n",
       " 'ZBB_y326-Gal4',\n",
       " 'ZBB_y327-Gal4',\n",
       " 'ZBB_y328-Gal4',\n",
       " 'ZBB_y329-Gal4',\n",
       " 'ZBB_y330-Gal4',\n",
       " 'ZBB_y331-Gal4',\n",
       " 'ZBB_y332-Gal4',\n",
       " 'ZBB_y333-Gal4',\n",
       " 'ZBB_y334-Gal4',\n",
       " 'ZBB_y336-Gal4',\n",
       " 'ZBB_y337-Gal4',\n",
       " 'ZBB_y338-Gal4',\n",
       " 'ZBB_y339-Gal4',\n",
       " 'ZBB_y341-Gal4',\n",
       " 'ZBB_y342-Gal4',\n",
       " 'ZBB_y345-Gal4',\n",
       " 'ZBB_y347-Gal4',\n",
       " 'ZBB_y348-Gal4',\n",
       " 'ZBB_y350-Gal4',\n",
       " 'ZBB_y351-Gal4',\n",
       " 'ZBB_y352-Gal4',\n",
       " 'ZBB_y353-Gal4',\n",
       " 'ZBB_y354-Gal4',\n",
       " 'ZBB_y355-Gal4',\n",
       " 'ZBB_y356-Gal4',\n",
       " 'ZBB_y357-Gal4',\n",
       " 'ZBB_y358-Gal4',\n",
       " 'ZBB_y359-Gal4',\n",
       " 'ZBB_y364-Gal4',\n",
       " 'ZBB_y365-Gal4',\n",
       " 'ZBB_y371-Cre',\n",
       " 'ZBB_y372-Gal4',\n",
       " 'ZBB_y373-Gal4',\n",
       " 'ZBB_y375-Gal4',\n",
       " 'ZBB_y378-Cre',\n",
       " 'ZBB_y379-Cre',\n",
       " 'ZBB_y380-Cre',\n",
       " 'ZBB_y381-Cre',\n",
       " 'ZBB_y382-Cre',\n",
       " 'ZBB_y383-Cre',\n",
       " 'ZBB_y384-Cre',\n",
       " 'ZBB_y385-Cre',\n",
       " 'ZBB_y387-Gal4',\n",
       " 'ZBB_y388-Gal4',\n",
       " 'ZBB_y393-Gal4',\n",
       " 'ZBB_y394-Gal4',\n",
       " 'ZBB_y396-Gal4',\n",
       " 'ZBB_y397-Gal4',\n",
       " 'ZBB_y401-Gal4',\n",
       " 'ZBB_y405-Gal4',\n",
       " 'ZBB_y407-Gal4',\n",
       " 'ZBB_y412-Gal4',\n",
       " 'ZBB_y416-Gal4',\n",
       " 'ZBB_y417-Gal4',\n",
       " 'ZBB_y420-Gal4',\n",
       " 'ZBB_y421-Gal4',\n",
       " 'ZBB_y423-Gal4',\n",
       " 'ZBB_y425-Gal4',\n",
       " 'ZBB_y433-Gal4',\n",
       " 'ZBB_y436-Gal4',\n",
       " 'ZBB_y441-Gal4',\n",
       " 'ZBB_y444-Gal4',\n",
       " 'ZBB_y445-Cre',\n",
       " 'ZBB_y446-ntr-mCh',\n",
       " 'ZBB_y454_R3-eltC-Cre',\n",
       " 'ZBB_y455_R5-dr16-Cre',\n",
       " 'ZBB_y456-Cre',\n",
       " 'ZBB_y457-Cre',\n",
       " 'ZBB_y458-Cre',\n",
       " 'ZBB_y459-Cre',\n",
       " 'ZBB_y460-ntr-mCh',\n",
       " 'ZBB_y461_R4-hoxb1a-Cre',\n",
       " 'ZBB_y465-Cre',\n",
       " 'ZBB_y466_R2-hoxa2-Cre',\n",
       " 'ZBB_y467-Gal4',\n",
       " 'ZBB_y468-Gal4',\n",
       " 'ZBB_y469-Gal4',\n",
       " 'ZBB_y470-Gal4',\n",
       " 'ZBB_y471-Gal4',\n",
       " 'ZBB_y472-Gal4',\n",
       " 'ZBB_y473-Gal4',\n",
       " 'ZBB_y477-Gal4',\n",
       " 'ZBB_y478-Cre',\n",
       " 'ZBB_y479-Cre',\n",
       " 'ZBB_y480-Cre',\n",
       " 'ZBB_y481-Cre',\n",
       " 'ZBB_y483-Cre',\n",
       " 'ZBB_y484-Cre',\n",
       " 'ZBB_y485-Cre',\n",
       " 'ZBB_y486-Cre',\n",
       " 'ZBB_y487-Cre',\n",
       " 'ZBB_y488-Cre',\n",
       " 'ZBB_y489-Cre',\n",
       " 'ZBB_y490-Cre',\n",
       " 'ZBB_y492-Cre',\n",
       " 'ZBB_y493-Cre',\n",
       " 'ZBB_y494-Cre',\n",
       " 'ZBB_y495-Cre',\n",
       " 'ZBB_y511-Gal4',\n",
       " 'ZBB_y512-Gal4',\n",
       " 'ZBB_y514-Gal4',\n",
       " 'ZBB_y515-Gal4',\n",
       " 'ZBB_y516_tuba-mCar',\n",
       " 'ZBB_y517_huC-nls-mCar',\n",
       " 'ZBB_y519-Cre',\n",
       " 'ZBB_y520-Cre',\n",
       " 'ZBB_y521-Cre',\n",
       " 'ZBB_y523-Cre',\n",
       " 'ZBB_y524-Cre',\n",
       " 'ZBB_y526-Cre',\n",
       " 'ZBB_y527-Cre',\n",
       " 'ZBB_y528-Cre',\n",
       " 'ZBB_y532-Gal4',\n",
       " 'ZBB_y533-Gal4',\n",
       " 'ZBB_y534_kctd15a-GFP',\n",
       " 'ZBB_y541-Cre',\n",
       " 'ZBB_y542-Cre',\n",
       " 'ZBB_y543-Cre',\n",
       " 'ZBB_y544-Cre',\n",
       " 'ZBB_y545-Cre',\n",
       " 'ZBB_y546-Cre',\n",
       " 'ZBB_y547-Cre',\n",
       " 'ZBB_y548-Cre',\n",
       " 'ZBB_y549-Cre',\n",
       " 'ZBB_y550-Cre',\n",
       " 'ZBB_y551-Cre',\n",
       " 'ZBB_y552-Cre',\n",
       " 'ZBB_y553-Cre',\n",
       " 'ZBB_y554-Cre',\n",
       " 'ZBB_y555-Cre',\n",
       " 'ZBB_y556-Cre',\n",
       " 'ZBB_y557-Cre',\n",
       " 'ZBB_y558-Cre',\n",
       " 'ZBB_y559-Cre',\n",
       " 'ZBB_y564-Gal4',\n",
       " 'ZBB_y565-Gal4',\n",
       " 'ZBB_y566-Gal4',\n",
       " 'ZBB_y567-Gal4',\n",
       " 'ZBB_y568-Cre',\n",
       " 'ZBB_y569-Cre',\n",
       " 'ZBB_y570-Cre',\n",
       " 'ZBB_y571-Cre',\n",
       " 'ZBB_y574-Cre',\n",
       " 'ZBB_y575-Gal4',\n",
       " 'ZBB_y576-Gal4',\n",
       " 'ZBB_y583_huC-mCardinal']"
      ]
     },
     "execution_count": 5,
     "metadata": {},
     "output_type": "execute_result"
    }
   ],
   "source": [
    "stacks = sorted([d for d in os.listdir('../app/assets/images/0-Lines') if not d.startswith('.')])\n",
    "stacks"
   ]
  },
  {
   "cell_type": "code",
   "execution_count": 6,
   "metadata": {
    "collapsed": true
   },
   "outputs": [],
   "source": [
    "conn = psycopg2.connect(dbname='zbrain2db', user='gqe', host='localhost', password='')\n",
    "cursor = conn.cursor()"
   ]
  },
  {
   "cell_type": "code",
   "execution_count": 7,
   "metadata": {
    "collapsed": false
   },
   "outputs": [],
   "source": [
    "counter = 0\n",
    "for i, stack_name in enumerate(stacks, 100):\n",
    "    folder_path = '../app/assets/images/0-Lines/%s/' % stack_name\n",
    "    rel_folder_path = '%s/' % stack_name\n",
    "    stack = natsorted([i for i in os.listdir(folder_path) if not i.startswith('.')])\n",
    "    stack_id = i\n",
    "    \n",
    "    for i, s in enumerate(stack):\n",
    "        rel_img_path = rel_folder_path + s\n",
    "        insert_command = (\"INSERT INTO images (image_id, line_name, line_id, image_path) values (%i, '%s', %i, '%s')\" \n",
    "                % (counter, stack_name, stack_id, rel_img_path))\n",
    "        \n",
    "        try:\n",
    "            insert_command\n",
    "            cursor.execute(insert_command)\n",
    "            counter += 1\n",
    "        except Exception as e:\n",
    "            print(e)"
   ]
  },
  {
   "cell_type": "markdown",
   "metadata": {},
   "source": [
    "#### Check that appropriate number rows, and appropriate row content"
   ]
  },
  {
   "cell_type": "code",
   "execution_count": 8,
   "metadata": {
    "collapsed": false
   },
   "outputs": [
    {
     "name": "stdout",
     "output_type": "stream",
     "text": [
      "42504\n"
     ]
    }
   ],
   "source": [
    "cursor.execute('SELECT * FROM images')\n",
    "rows = cursor.rowcount\n",
    "print(rows)"
   ]
  },
  {
   "cell_type": "code",
   "execution_count": 9,
   "metadata": {
    "collapsed": true
   },
   "outputs": [],
   "source": [
    "cursor.close()\n",
    "conn.commit()"
   ]
  },
  {
   "cell_type": "code",
   "execution_count": 10,
   "metadata": {
    "collapsed": true
   },
   "outputs": [],
   "source": [
    "conn = psycopg2.connect(dbname='zbrain2db', user='gqe', host='localhost', password='')\n",
    "cursor = conn.cursor()"
   ]
  },
  {
   "cell_type": "code",
   "execution_count": 11,
   "metadata": {
    "collapsed": false
   },
   "outputs": [],
   "source": [
    "cursor.execute('SELECT * FROM images order by image_id')"
   ]
  },
  {
   "cell_type": "code",
   "execution_count": 12,
   "metadata": {
    "collapsed": false
   },
   "outputs": [
    {
     "name": "stdout",
     "output_type": "stream",
     "text": [
      "(11100, 'ZBB_bActin-GFP', 180, 'ZBB_bActin-GFP/ZBB_bActin-GFP-60.jpg')\n",
      "(11101, 'ZBB_bActin-GFP', 180, 'ZBB_bActin-GFP/ZBB_bActin-GFP-61.jpg')\n",
      "(11102, 'ZBB_bActin-GFP', 180, 'ZBB_bActin-GFP/ZBB_bActin-GFP-62.jpg')\n",
      "(11103, 'ZBB_bActin-GFP', 180, 'ZBB_bActin-GFP/ZBB_bActin-GFP-63.jpg')\n",
      "(11104, 'ZBB_bActin-GFP', 180, 'ZBB_bActin-GFP/ZBB_bActin-GFP-64.jpg')\n",
      "(11105, 'ZBB_bActin-GFP', 180, 'ZBB_bActin-GFP/ZBB_bActin-GFP-65.jpg')\n",
      "(11106, 'ZBB_bActin-GFP', 180, 'ZBB_bActin-GFP/ZBB_bActin-GFP-66.jpg')\n",
      "(11107, 'ZBB_bActin-GFP', 180, 'ZBB_bActin-GFP/ZBB_bActin-GFP-67.jpg')\n",
      "(11108, 'ZBB_bActin-GFP', 180, 'ZBB_bActin-GFP/ZBB_bActin-GFP-68.jpg')\n",
      "(11109, 'ZBB_bActin-GFP', 180, 'ZBB_bActin-GFP/ZBB_bActin-GFP-69.jpg')\n",
      "(11110, 'ZBB_bActin-GFP', 180, 'ZBB_bActin-GFP/ZBB_bActin-GFP-70.jpg')\n",
      "(11111, 'ZBB_bActin-GFP', 180, 'ZBB_bActin-GFP/ZBB_bActin-GFP-71.jpg')\n",
      "(11112, 'ZBB_bActin-GFP', 180, 'ZBB_bActin-GFP/ZBB_bActin-GFP-72.jpg')\n",
      "(11113, 'ZBB_bActin-GFP', 180, 'ZBB_bActin-GFP/ZBB_bActin-GFP-73.jpg')\n",
      "(11114, 'ZBB_bActin-GFP', 180, 'ZBB_bActin-GFP/ZBB_bActin-GFP-74.jpg')\n",
      "(11115, 'ZBB_bActin-GFP', 180, 'ZBB_bActin-GFP/ZBB_bActin-GFP-75.jpg')\n",
      "(11116, 'ZBB_bActin-GFP', 180, 'ZBB_bActin-GFP/ZBB_bActin-GFP-76.jpg')\n",
      "(11117, 'ZBB_bActin-GFP', 180, 'ZBB_bActin-GFP/ZBB_bActin-GFP-77.jpg')\n",
      "(11118, 'ZBB_bActin-GFP', 180, 'ZBB_bActin-GFP/ZBB_bActin-GFP-78.jpg')\n",
      "(11119, 'ZBB_bActin-GFP', 180, 'ZBB_bActin-GFP/ZBB_bActin-GFP-79.jpg')\n",
      "(11120, 'ZBB_bActin-GFP', 180, 'ZBB_bActin-GFP/ZBB_bActin-GFP-80.jpg')\n",
      "(11121, 'ZBB_bActin-GFP', 180, 'ZBB_bActin-GFP/ZBB_bActin-GFP-81.jpg')\n",
      "(11122, 'ZBB_bActin-GFP', 180, 'ZBB_bActin-GFP/ZBB_bActin-GFP-82.jpg')\n",
      "(11123, 'ZBB_bActin-GFP', 180, 'ZBB_bActin-GFP/ZBB_bActin-GFP-83.jpg')\n",
      "(11124, 'ZBB_bActin-GFP', 180, 'ZBB_bActin-GFP/ZBB_bActin-GFP-84.jpg')\n",
      "(11125, 'ZBB_bActin-GFP', 180, 'ZBB_bActin-GFP/ZBB_bActin-GFP-85.jpg')\n",
      "(11126, 'ZBB_bActin-GFP', 180, 'ZBB_bActin-GFP/ZBB_bActin-GFP-86.jpg')\n",
      "(11127, 'ZBB_bActin-GFP', 180, 'ZBB_bActin-GFP/ZBB_bActin-GFP-87.jpg')\n",
      "(11128, 'ZBB_bActin-GFP', 180, 'ZBB_bActin-GFP/ZBB_bActin-GFP-88.jpg')\n",
      "(11129, 'ZBB_bActin-GFP', 180, 'ZBB_bActin-GFP/ZBB_bActin-GFP-89.jpg')\n",
      "(11130, 'ZBB_bActin-GFP', 180, 'ZBB_bActin-GFP/ZBB_bActin-GFP-90.jpg')\n",
      "(11131, 'ZBB_bActin-GFP', 180, 'ZBB_bActin-GFP/ZBB_bActin-GFP-91.jpg')\n",
      "(11132, 'ZBB_bActin-GFP', 180, 'ZBB_bActin-GFP/ZBB_bActin-GFP-92.jpg')\n",
      "(11133, 'ZBB_bActin-GFP', 180, 'ZBB_bActin-GFP/ZBB_bActin-GFP-93.jpg')\n",
      "(11134, 'ZBB_bActin-GFP', 180, 'ZBB_bActin-GFP/ZBB_bActin-GFP-94.jpg')\n",
      "(11135, 'ZBB_bActin-GFP', 180, 'ZBB_bActin-GFP/ZBB_bActin-GFP-95.jpg')\n",
      "(11136, 'ZBB_bActin-GFP', 180, 'ZBB_bActin-GFP/ZBB_bActin-GFP-96.jpg')\n",
      "(11137, 'ZBB_bActin-GFP', 180, 'ZBB_bActin-GFP/ZBB_bActin-GFP-97.jpg')\n",
      "(11138, 'ZBB_bActin-GFP', 180, 'ZBB_bActin-GFP/ZBB_bActin-GFP-98.jpg')\n",
      "(11139, 'ZBB_bActin-GFP', 180, 'ZBB_bActin-GFP/ZBB_bActin-GFP-99.jpg')\n",
      "(11140, 'ZBB_bActin-GFP', 180, 'ZBB_bActin-GFP/ZBB_bActin-GFP-100.jpg')\n",
      "(11141, 'ZBB_bActin-GFP', 180, 'ZBB_bActin-GFP/ZBB_bActin-GFP-101.jpg')\n",
      "(11142, 'ZBB_bActin-GFP', 180, 'ZBB_bActin-GFP/ZBB_bActin-GFP-102.jpg')\n",
      "(11143, 'ZBB_bActin-GFP', 180, 'ZBB_bActin-GFP/ZBB_bActin-GFP-103.jpg')\n",
      "(11144, 'ZBB_bActin-GFP', 180, 'ZBB_bActin-GFP/ZBB_bActin-GFP-104.jpg')\n",
      "(11145, 'ZBB_bActin-GFP', 180, 'ZBB_bActin-GFP/ZBB_bActin-GFP-105.jpg')\n",
      "(11146, 'ZBB_bActin-GFP', 180, 'ZBB_bActin-GFP/ZBB_bActin-GFP-106.jpg')\n",
      "(11147, 'ZBB_bActin-GFP', 180, 'ZBB_bActin-GFP/ZBB_bActin-GFP-107.jpg')\n",
      "(11148, 'ZBB_bActin-GFP', 180, 'ZBB_bActin-GFP/ZBB_bActin-GFP-108.jpg')\n",
      "(11149, 'ZBB_bActin-GFP', 180, 'ZBB_bActin-GFP/ZBB_bActin-GFP-109.jpg')\n",
      "(11150, 'ZBB_bActin-GFP', 180, 'ZBB_bActin-GFP/ZBB_bActin-GFP-110.jpg')\n",
      "(11151, 'ZBB_bActin-GFP', 180, 'ZBB_bActin-GFP/ZBB_bActin-GFP-111.jpg')\n",
      "(11152, 'ZBB_bActin-GFP', 180, 'ZBB_bActin-GFP/ZBB_bActin-GFP-112.jpg')\n",
      "(11153, 'ZBB_bActin-GFP', 180, 'ZBB_bActin-GFP/ZBB_bActin-GFP-113.jpg')\n",
      "(11154, 'ZBB_bActin-GFP', 180, 'ZBB_bActin-GFP/ZBB_bActin-GFP-114.jpg')\n",
      "(11155, 'ZBB_bActin-GFP', 180, 'ZBB_bActin-GFP/ZBB_bActin-GFP-115.jpg')\n",
      "(11156, 'ZBB_bActin-GFP', 180, 'ZBB_bActin-GFP/ZBB_bActin-GFP-116.jpg')\n",
      "(11157, 'ZBB_bActin-GFP', 180, 'ZBB_bActin-GFP/ZBB_bActin-GFP-117.jpg')\n",
      "(11158, 'ZBB_bActin-GFP', 180, 'ZBB_bActin-GFP/ZBB_bActin-GFP-118.jpg')\n",
      "(11159, 'ZBB_bActin-GFP', 180, 'ZBB_bActin-GFP/ZBB_bActin-GFP-119.jpg')\n",
      "(11160, 'ZBB_bActin-GFP', 180, 'ZBB_bActin-GFP/ZBB_bActin-GFP-120.jpg')\n",
      "(11161, 'ZBB_bActin-GFP', 180, 'ZBB_bActin-GFP/ZBB_bActin-GFP-121.jpg')\n",
      "(11162, 'ZBB_bActin-GFP', 180, 'ZBB_bActin-GFP/ZBB_bActin-GFP-122.jpg')\n",
      "(11163, 'ZBB_bActin-GFP', 180, 'ZBB_bActin-GFP/ZBB_bActin-GFP-123.jpg')\n",
      "(11164, 'ZBB_bActin-GFP', 180, 'ZBB_bActin-GFP/ZBB_bActin-GFP-124.jpg')\n",
      "(11165, 'ZBB_bActin-GFP', 180, 'ZBB_bActin-GFP/ZBB_bActin-GFP-125.jpg')\n",
      "(11166, 'ZBB_bActin-GFP', 180, 'ZBB_bActin-GFP/ZBB_bActin-GFP-126.jpg')\n",
      "(11167, 'ZBB_bActin-GFP', 180, 'ZBB_bActin-GFP/ZBB_bActin-GFP-127.jpg')\n",
      "(11168, 'ZBB_bActin-GFP', 180, 'ZBB_bActin-GFP/ZBB_bActin-GFP-128.jpg')\n",
      "(11169, 'ZBB_bActin-GFP', 180, 'ZBB_bActin-GFP/ZBB_bActin-GFP-129.jpg')\n",
      "(11170, 'ZBB_bActin-GFP', 180, 'ZBB_bActin-GFP/ZBB_bActin-GFP-130.jpg')\n",
      "(11171, 'ZBB_bActin-GFP', 180, 'ZBB_bActin-GFP/ZBB_bActin-GFP-131.jpg')\n",
      "(11172, 'ZBB_bActin-GFP', 180, 'ZBB_bActin-GFP/ZBB_bActin-GFP-132.jpg')\n",
      "(11173, 'ZBB_bActin-GFP', 180, 'ZBB_bActin-GFP/ZBB_bActin-GFP-133.jpg')\n",
      "(11174, 'ZBB_bActin-GFP', 180, 'ZBB_bActin-GFP/ZBB_bActin-GFP-134.jpg')\n",
      "(11175, 'ZBB_bActin-GFP', 180, 'ZBB_bActin-GFP/ZBB_bActin-GFP-135.jpg')\n",
      "(11176, 'ZBB_bActin-GFP', 180, 'ZBB_bActin-GFP/ZBB_bActin-GFP-136.jpg')\n",
      "(11177, 'ZBB_bActin-GFP', 180, 'ZBB_bActin-GFP/ZBB_bActin-GFP-137.jpg')\n",
      "(11178, 'ZBB_ba2_sox10-GFP', 181, 'ZBB_ba2_sox10-GFP/ZBB_ba2_sox10-GFP-0.jpg')\n",
      "(11179, 'ZBB_ba2_sox10-GFP', 181, 'ZBB_ba2_sox10-GFP/ZBB_ba2_sox10-GFP-1.jpg')\n",
      "(11180, 'ZBB_ba2_sox10-GFP', 181, 'ZBB_ba2_sox10-GFP/ZBB_ba2_sox10-GFP-2.jpg')\n",
      "(11181, 'ZBB_ba2_sox10-GFP', 181, 'ZBB_ba2_sox10-GFP/ZBB_ba2_sox10-GFP-3.jpg')\n",
      "(11182, 'ZBB_ba2_sox10-GFP', 181, 'ZBB_ba2_sox10-GFP/ZBB_ba2_sox10-GFP-4.jpg')\n",
      "(11183, 'ZBB_ba2_sox10-GFP', 181, 'ZBB_ba2_sox10-GFP/ZBB_ba2_sox10-GFP-5.jpg')\n",
      "(11184, 'ZBB_ba2_sox10-GFP', 181, 'ZBB_ba2_sox10-GFP/ZBB_ba2_sox10-GFP-6.jpg')\n",
      "(11185, 'ZBB_ba2_sox10-GFP', 181, 'ZBB_ba2_sox10-GFP/ZBB_ba2_sox10-GFP-7.jpg')\n",
      "(11186, 'ZBB_ba2_sox10-GFP', 181, 'ZBB_ba2_sox10-GFP/ZBB_ba2_sox10-GFP-8.jpg')\n",
      "(11187, 'ZBB_ba2_sox10-GFP', 181, 'ZBB_ba2_sox10-GFP/ZBB_ba2_sox10-GFP-9.jpg')\n",
      "(11188, 'ZBB_ba2_sox10-GFP', 181, 'ZBB_ba2_sox10-GFP/ZBB_ba2_sox10-GFP-10.jpg')\n",
      "(11189, 'ZBB_ba2_sox10-GFP', 181, 'ZBB_ba2_sox10-GFP/ZBB_ba2_sox10-GFP-11.jpg')\n",
      "(11190, 'ZBB_ba2_sox10-GFP', 181, 'ZBB_ba2_sox10-GFP/ZBB_ba2_sox10-GFP-12.jpg')\n",
      "(11191, 'ZBB_ba2_sox10-GFP', 181, 'ZBB_ba2_sox10-GFP/ZBB_ba2_sox10-GFP-13.jpg')\n",
      "(11192, 'ZBB_ba2_sox10-GFP', 181, 'ZBB_ba2_sox10-GFP/ZBB_ba2_sox10-GFP-14.jpg')\n",
      "(11193, 'ZBB_ba2_sox10-GFP', 181, 'ZBB_ba2_sox10-GFP/ZBB_ba2_sox10-GFP-15.jpg')\n",
      "(11194, 'ZBB_ba2_sox10-GFP', 181, 'ZBB_ba2_sox10-GFP/ZBB_ba2_sox10-GFP-16.jpg')\n",
      "(11195, 'ZBB_ba2_sox10-GFP', 181, 'ZBB_ba2_sox10-GFP/ZBB_ba2_sox10-GFP-17.jpg')\n",
      "(11196, 'ZBB_ba2_sox10-GFP', 181, 'ZBB_ba2_sox10-GFP/ZBB_ba2_sox10-GFP-18.jpg')\n",
      "(11197, 'ZBB_ba2_sox10-GFP', 181, 'ZBB_ba2_sox10-GFP/ZBB_ba2_sox10-GFP-19.jpg')\n",
      "(11198, 'ZBB_ba2_sox10-GFP', 181, 'ZBB_ba2_sox10-GFP/ZBB_ba2_sox10-GFP-20.jpg')\n",
      "(11199, 'ZBB_ba2_sox10-GFP', 181, 'ZBB_ba2_sox10-GFP/ZBB_ba2_sox10-GFP-21.jpg')\n"
     ]
    }
   ],
   "source": [
    "rows = cursor.fetchall()\n",
    "for row in rows[11100:11200]:\n",
    "    print(row)"
   ]
  },
  {
   "cell_type": "code",
   "execution_count": null,
   "metadata": {
    "collapsed": true
   },
   "outputs": [],
   "source": []
  },
  {
   "cell_type": "code",
   "execution_count": null,
   "metadata": {},
   "outputs": [],
   "source": []
  }
 ],
 "metadata": {
  "anaconda-cloud": {},
  "kernelspec": {
   "display_name": "Python [conda env:py36]",
   "language": "python",
   "name": "conda-env-py36-py"
  },
  "language_info": {
   "codemirror_mode": {
    "name": "ipython",
    "version": 3
   },
   "file_extension": ".py",
   "mimetype": "text/x-python",
   "name": "python",
   "nbconvert_exporter": "python",
   "pygments_lexer": "ipython3",
   "version": "3.6.3"
  }
 },
 "nbformat": 4,
 "nbformat_minor": 2
}
