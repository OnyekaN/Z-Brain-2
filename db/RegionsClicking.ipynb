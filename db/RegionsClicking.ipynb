{
 "cells": [
  {
   "cell_type": "code",
   "execution_count": 1,
   "metadata": {},
   "outputs": [],
   "source": [
    "import os, sys, psycopg2, pickle\n",
    "import numpy as np\n",
    "import warnings; warnings.filterwarnings(\"ignore\")\n",
    "from natsort import natsorted\n",
    "from scipy import misc\n",
    "from PIL import Image, ImageFilter"
   ]
  },
  {
   "cell_type": "markdown",
   "metadata": {},
   "source": [
    "### Create database table for Regions Clicking feature"
   ]
  },
  {
   "cell_type": "code",
   "execution_count": 2,
   "metadata": {},
   "outputs": [
    {
     "name": "stdout",
     "output_type": "stream",
     "text": [
      "292 ../app/assets/images/2-Regions/Forebrain - Diencephalon - Anterior group of the posterior tubercular vmat2 neurons/cyan\n"
     ]
    }
   ],
   "source": [
    "regions_dir = '../app/assets/images/2-Regions'\n",
    "regions_subdirs = [d for d in os.listdir(regions_dir) if not d.startswith('.')]\n",
    "regions_subdirs = [os.path.join(regions_dir, s, 'cyan') for s in regions_subdirs]\n",
    "regions_subdirs = natsorted(regions_subdirs)[2:]\n",
    "print(len(regions_subdirs), regions_subdirs[0])"
   ]
  },
  {
   "cell_type": "markdown",
   "metadata": {},
   "source": [
    "#### Create blank dict (138, 621, 1406, [])"
   ]
  },
  {
   "cell_type": "code",
   "execution_count": 1,
   "metadata": {},
   "outputs": [
    {
     "ename": "NameError",
     "evalue": "name 'np' is not defined",
     "output_type": "error",
     "traceback": [
      "\u001b[0;31m---------------------------------------------------------------------------\u001b[0m",
      "\u001b[0;31mNameError\u001b[0m                                 Traceback (most recent call last)",
      "\u001b[0;32m<ipython-input-1-38415adaafdf>\u001b[0m in \u001b[0;36m<module>\u001b[0;34m()\u001b[0m\n\u001b[1;32m      3\u001b[0m \u001b[0mno_slices\u001b[0m \u001b[0;34m=\u001b[0m \u001b[0;36m138\u001b[0m\u001b[0;34m\u001b[0m\u001b[0m\n\u001b[1;32m      4\u001b[0m \u001b[0;32mfor\u001b[0m \u001b[0mi\u001b[0m \u001b[0;32min\u001b[0m \u001b[0mrange\u001b[0m\u001b[0;34m(\u001b[0m\u001b[0;36m0\u001b[0m\u001b[0;34m,\u001b[0m \u001b[0mno_slices\u001b[0m\u001b[0;34m)\u001b[0m\u001b[0;34m:\u001b[0m\u001b[0;34m\u001b[0m\u001b[0m\n\u001b[0;32m----> 5\u001b[0;31m     \u001b[0mslices_dict\u001b[0m\u001b[0;34m[\u001b[0m\u001b[0mi\u001b[0m\u001b[0;34m]\u001b[0m \u001b[0;34m=\u001b[0m \u001b[0mnp\u001b[0m\u001b[0;34m.\u001b[0m\u001b[0mndarray\u001b[0m\u001b[0;34m(\u001b[0m\u001b[0mslice_shape\u001b[0m\u001b[0;34m,\u001b[0m \u001b[0mdtype\u001b[0m\u001b[0;34m=\u001b[0m\u001b[0mobject\u001b[0m\u001b[0;34m)\u001b[0m\u001b[0;34m\u001b[0m\u001b[0m\n\u001b[0m",
      "\u001b[0;31mNameError\u001b[0m: name 'np' is not defined"
     ]
    }
   ],
   "source": [
    "slices_dict = dict()\n",
    "slice_shape = (621, 1406)\n",
    "no_slices = 138\n",
    "for i in range(0, no_slices):\n",
    "    slices_dict[i] = np.ndarray(slice_shape, dtype=object)"
   ]
  },
  {
   "cell_type": "code",
   "execution_count": 65,
   "metadata": {},
   "outputs": [
    {
     "name": "stderr",
     "output_type": "stream",
     "text": [
      "Exception ignored in: 'zmq.backend.cython.message.Frame.__dealloc__'\n",
      "Traceback (most recent call last):\n",
      "  File \"zmq/backend/cython/checkrc.pxd\", line 12, in zmq.backend.cython.checkrc._check_rc (zmq/backend/cython/message.c:4294)\n",
      "KeyboardInterrupt\n"
     ]
    }
   ],
   "source": [
    "for i in range(0, no_slices):\n",
    "    for index, x in np.ndenumerate(slices_dict[i]):\n",
    "        slices_dict[i][index] = list()"
   ]
  },
  {
   "cell_type": "markdown",
   "metadata": {},
   "source": [
    "#### Populate dict with vals for region matches"
   ]
  },
  {
   "cell_type": "code",
   "execution_count": 3,
   "metadata": {},
   "outputs": [],
   "source": [
    "def populate_slices_dict(slices_dict, regions_subdirs):\n",
    "    for i, subdir in enumerate(regions_subdirs):\n",
    "        try:\n",
    "            images = natsorted([os.path.join(subdir, image) \\\n",
    "                        for image in os.listdir(subdir)\n",
    "                        if not image.startswith('.')])\n",
    "        except:\n",
    "            continue\n",
    "        for sli_n, image in enumerate(images):\n",
    "            im = misc.imread(image, 'L')\n",
    "            for index, x in np.ndenumerate(im):\n",
    "                if x:\n",
    "                    region_name = subdir.split('/')[5]\n",
    "                    if region_name not in slices_dict[sli_n][index]:\n",
    "                        slices_dict[sli_n][index].append(region_name)"
   ]
  },
  {
   "cell_type": "code",
   "execution_count": null,
   "metadata": {},
   "outputs": [],
   "source": [
    "try: \n",
    "    slices_dict = pickle.load(open('slices_dict.p', 'rb'))\n",
    "except:\n",
    "    print('pickle does not exist')"
   ]
  },
  {
   "cell_type": "code",
   "execution_count": null,
   "metadata": {},
   "outputs": [
    {
     "name": "stdout",
     "output_type": "stream",
     "text": [
      "189 ../app/assets/images/2-Regions/Hindbrain - Rhombomere 1 - Cerebellum - Valvula Cerebellum/cyan\n",
      "190 ../app/assets/images/2-Regions/Hindbrain - Rhombomere 1 - Interpeduncular Nucleus/cyan\n",
      "191 ../app/assets/images/2-Regions/Hindbrain - Rhombomere 1 - Locus Coreuleus/cyan\n",
      "192 ../app/assets/images/2-Regions/Hindbrain - Rhombomere 1 - Oculomotor Nucleus nIV/cyan\n",
      "193 ../app/assets/images/2-Regions/Hindbrain - Rhombomere 1 - Raphe - Superior/cyan\n",
      "194 ../app/assets/images/2-Regions/Hindbrain - Rhombomere 1 - RoL-R1/cyan\n",
      "195 ../app/assets/images/2-Regions/Hindbrain - Rhombomere 1 - Ventrolateral Stripe of Serotonergic Neurons/cyan\n",
      "196 ../app/assets/images/2-Regions/Hindbrain - Rhombomere 1/cyan\n",
      "197 ../app/assets/images/2-Regions/Hindbrain - Rhombomere 2 - Anterior Cluster of nV Trigeminal Motorneurons/cyan\n",
      "198 ../app/assets/images/2-Regions/Hindbrain - Rhombomere 2 - Locus Coreuleus/cyan\n",
      "199 ../app/assets/images/2-Regions/Hindbrain - Rhombomere 2 - Raphe - Superior/cyan\n",
      "200 ../app/assets/images/2-Regions/Hindbrain - Rhombomere 2 - RoL2/cyan\n",
      "201 ../app/assets/images/2-Regions/Hindbrain - Rhombomere 2 - RoM1/cyan\n",
      "202 ../app/assets/images/2-Regions/Hindbrain - Rhombomere 2 - RoM2/cyan\n",
      "203 ../app/assets/images/2-Regions/Hindbrain - Rhombomere 2 - Ventrolateral Stripe of Serotonergic Neurons/cyan\n",
      "204 ../app/assets/images/2-Regions/Hindbrain - Rhombomere 2/cyan\n",
      "205 ../app/assets/images/2-Regions/Hindbrain - Rhombomere 3 - Posterior Cluster of nV Trigeminal Motorneurons/cyan\n",
      "206 ../app/assets/images/2-Regions/Hindbrain - Rhombomere 3 - Raphe - Inferior/cyan\n",
      "207 ../app/assets/images/2-Regions/Hindbrain - Rhombomere 3 - RoL3/cyan\n",
      "208 ../app/assets/images/2-Regions/Hindbrain - Rhombomere 3 - RoM3/cyan\n",
      "209 ../app/assets/images/2-Regions/Hindbrain - Rhombomere 3 - RoV3/cyan\n",
      "210 ../app/assets/images/2-Regions/Hindbrain - Rhombomere 3 - Spiral Fiber Neuron Anterior cluster/cyan\n",
      "211 ../app/assets/images/2-Regions/Hindbrain - Rhombomere 3 - Spiral Fiber Neuron Posterior cluster/cyan\n",
      "212 ../app/assets/images/2-Regions/Hindbrain - Rhombomere 3 - Ventrolateral Stripe of Serotonergic Neurons/cyan\n",
      "213 ../app/assets/images/2-Regions/Hindbrain - Rhombomere 3/cyan\n",
      "214 ../app/assets/images/2-Regions/Hindbrain - Rhombomere 4 - Mauthner Cell Axon Cap/cyan\n",
      "215 ../app/assets/images/2-Regions/Hindbrain - Rhombomere 4 - Mauthner/cyan\n",
      "216 ../app/assets/images/2-Regions/Hindbrain - Rhombomere 4 - MiM1/cyan\n",
      "217 ../app/assets/images/2-Regions/Hindbrain - Rhombomere 4 - MiR1/cyan\n",
      "218 ../app/assets/images/2-Regions/Hindbrain - Rhombomere 4 - MiR2/cyan\n",
      "219 ../app/assets/images/2-Regions/Hindbrain - Rhombomere 4 - MiV1/cyan\n",
      "220 ../app/assets/images/2-Regions/Hindbrain - Rhombomere 4 - Raphe - Inferior/cyan\n",
      "221 ../app/assets/images/2-Regions/Hindbrain - Rhombomere 4 - Spinal Backfill Vestibular Population/cyan\n",
      "222 ../app/assets/images/2-Regions/Hindbrain - Rhombomere 4/cyan\n",
      "223 ../app/assets/images/2-Regions/Hindbrain - Rhombomere 5 - Medial Vestibular Nucleus/cyan\n",
      "224 ../app/assets/images/2-Regions/Hindbrain - Rhombomere 5 - MiD2/cyan\n",
      "225 ../app/assets/images/2-Regions/Hindbrain - Rhombomere 5 - MiV2/cyan\n",
      "226 ../app/assets/images/2-Regions/Hindbrain - Rhombomere 5 - Raphe - Inferior/cyan\n",
      "227 ../app/assets/images/2-Regions/Hindbrain - Rhombomere 5 - Tangential Vestibular Nucleus/cyan\n",
      "228 ../app/assets/images/2-Regions/Hindbrain - Rhombomere 5 - VII Facial Motor and octavolateralis efferent neurons/cyan\n",
      "229 ../app/assets/images/2-Regions/Hindbrain - Rhombomere 5/cyan\n",
      "230 ../app/assets/images/2-Regions/Hindbrain - Rhombomere 6 - Medial Vestibular Nucleus/cyan\n",
      "231 ../app/assets/images/2-Regions/Hindbrain - Rhombomere 6 - MiD3/cyan\n",
      "232 ../app/assets/images/2-Regions/Hindbrain - Rhombomere 6 - MiT/cyan\n",
      "233 ../app/assets/images/2-Regions/Hindbrain - Rhombomere 6 - Raphe - Inferior/cyan\n",
      "234 ../app/assets/images/2-Regions/Hindbrain - Rhombomere 6 - Tangential Vestibular Nucleus/cyan\n",
      "235 ../app/assets/images/2-Regions/Hindbrain - Rhombomere 6 - VII Facial Motor and octavolateralis efferent neurons/cyan\n",
      "236 ../app/assets/images/2-Regions/Hindbrain - Rhombomere 6/cyan\n",
      "237 ../app/assets/images/2-Regions/Hindbrain - Rhombomere 7 - CaD/cyan\n",
      "238 ../app/assets/images/2-Regions/Hindbrain - Rhombomere 7 - CaV/cyan\n",
      "239 ../app/assets/images/2-Regions/Hindbrain - Rhombomere 7 - Raphe - Inferior/cyan\n",
      "240 ../app/assets/images/2-Regions/Hindbrain - Rhombomere 7 - VII' Facial Motor and octavolateralis efferent neurons/cyan\n",
      "241 ../app/assets/images/2-Regions/Hindbrain - Rhombomere 7/cyan\n",
      "242 ../app/assets/images/2-Regions/Hindbrain - S1181t Cluster/cyan\n",
      "243 ../app/assets/images/2-Regions/Hindbrain - Vglut2 Stripe 1/cyan\n",
      "244 ../app/assets/images/2-Regions/Hindbrain - Vglut2 Stripe 2/cyan\n",
      "245 ../app/assets/images/2-Regions/Hindbrain - Vglut2 Stripe 3/cyan\n",
      "246 ../app/assets/images/2-Regions/Hindbrain - Vglut2 Stripe 4/cyan\n",
      "247 ../app/assets/images/2-Regions/Hindbrain - Vglut2 cluster 1/cyan\n",
      "248 ../app/assets/images/2-Regions/Hindbrain - Vglut2 cluster 2/cyan\n",
      "249 ../app/assets/images/2-Regions/Hindbrain - Vglut2 cluster 3/cyan\n",
      "250 ../app/assets/images/2-Regions/Hindbrain - Vglut2 cluster 4/cyan\n",
      "251 ../app/assets/images/2-Regions/Hindbrain - Vmat2 Cluster 1/cyan\n",
      "252 ../app/assets/images/2-Regions/Hindbrain - Vmat2 Cluster 2/cyan\n",
      "253 ../app/assets/images/2-Regions/Hindbrain - Vmat2 Cluster 3/cyan\n",
      "254 ../app/assets/images/2-Regions/Hindbrain - Vmat2 Cluster 4/cyan\n",
      "255 ../app/assets/images/2-Regions/Hindbrain - Vmat2 Cluster 5/cyan\n",
      "256 ../app/assets/images/2-Regions/Hindbrain - Vmat2 Stripe1/cyan\n",
      "257 ../app/assets/images/2-Regions/Hindbrain - Vmat2 Stripe2/cyan\n",
      "258 ../app/assets/images/2-Regions/Hindbrain - Vmat2 Stripe3/cyan\n",
      "259 ../app/assets/images/2-Regions/Hindbrain - X Vagus motorneuron cluster/cyan\n",
      "260 ../app/assets/images/2-Regions/Midbrain - Isl1 cluster of the mesencephalic region/cyan\n",
      "261 ../app/assets/images/2-Regions/Midbrain - Medial Tectal Band/cyan\n",
      "262 ../app/assets/images/2-Regions/Midbrain - Otpb Cluster/cyan\n",
      "263 ../app/assets/images/2-Regions/Midbrain - Oxtl Cluster Sparse/cyan\n",
      "264 ../app/assets/images/2-Regions/Midbrain - Ptf1a Cluster/cyan\n",
      "265 ../app/assets/images/2-Regions/Midbrain - Sparse 6.7FRhcrtR cluster/cyan\n",
      "266 ../app/assets/images/2-Regions/Midbrain - Tectum - Neuropil/cyan\n",
      "267 ../app/assets/images/2-Regions/Midbrain - Tectum - Stratum Periventriculare/cyan\n",
      "268 ../app/assets/images/2-Regions/Midbrain - Tegmentum - NucMLF (nucleus of the medial longitudinal fascicle/cyan\n",
      "269 ../app/assets/images/2-Regions/Midbrain - Tegmentum - Oculomotor Nucleus nIII/cyan\n",
      "270 ../app/assets/images/2-Regions/Midbrain - Tegmentum/cyan\n",
      "271 ../app/assets/images/2-Regions/Midbrain - Torus Longitudinalis/cyan\n",
      "272 ../app/assets/images/2-Regions/Midbrain - Torus Semicircularis/cyan\n",
      "273 ../app/assets/images/2-Regions/Midbrain - Vglut2 cluster 1/cyan\n",
      "274 ../app/assets/images/2-Regions/Midbrain - Vmat2 cluster2/cyan\n",
      "275 ../app/assets/images/2-Regions/Midbrain - Vmat2 cluster of paraventricular organ/cyan\n",
      "276 ../app/assets/images/2-Regions/Retina - Retina/cyan\n",
      "277 ../app/assets/images/2-Regions/Spinal Cord - 6.7FDhcrtR-Gal4 Stripe/cyan\n",
      "278 ../app/assets/images/2-Regions/Spinal Cord - Dorsal Sparse Isl1 cluster/cyan\n",
      "279 ../app/assets/images/2-Regions/Spinal Cord - Gad1b Stripe 1/cyan\n",
      "280 ../app/assets/images/2-Regions/Spinal Cord - Gad1b Stripe 2/cyan\n",
      "281 ../app/assets/images/2-Regions/Spinal Cord - Glyt2 Stripe/cyan\n",
      "282 ../app/assets/images/2-Regions/Spinal Cord - Isl1 stripe - motorneurons/cyan\n",
      "283 ../app/assets/images/2-Regions/Spinal Cord - Neurons with descending projections labelled by spinal backfills/cyan\n",
      "284 ../app/assets/images/2-Regions/Spinal Cord - Neuropil Region/cyan\n",
      "285 ../app/assets/images/2-Regions/Spinal Cord - Olig2 Stripe/cyan\n",
      "286 ../app/assets/images/2-Regions/Spinal Cord - Spinal Cord/cyan\n",
      "287 ../app/assets/images/2-Regions/Spinal Cord - Vglut2 Stripe 1/cyan\n",
      "288 ../app/assets/images/2-Regions/Spinal Cord - Vglut2 Stripe 2/cyan\n",
      "289 ../app/assets/images/2-Regions/Spinal Cord - Vglut2 Stripe 3/cyan\n",
      "290 ../app/assets/images/2-Regions/Spinal Cord - Vmat2 Stripe1/cyan\n",
      "291 ../app/assets/images/2-Regions/Spinal Cord - Vmat2 Stripe2/cyan\n"
     ]
    }
   ],
   "source": [
    "for i in range(189, len(regions_subdirs)):\n",
    "    print(i, regions_subdirs[i])\n",
    "    populate_slices_dict(slices_dict, [regions_subdirs[i]])\n",
    "    if i % 5 == 0:\n",
    "        try:\n",
    "            slices_dict_pickle = pickle.load(open('slices_dict.p', 'rb'))\n",
    "            slices_dict_pickle.update(slices_dict)\n",
    "            pickle.dump(slices_dict_pickle, open('slices_dict.p', 'wb'))\n",
    "        except:\n",
    "            pickle.dump(slices_dict, open('slices_dict.p', 'wb'))\n"
   ]
  },
  {
   "cell_type": "code",
   "execution_count": 18,
   "metadata": {},
   "outputs": [],
   "source": [
    "for key in slices_dict.keys():\n",
    "    for index, x in np.ndenumerate(slices_dict[key]):\n",
    "        if x and x != [None]:\n",
    "            slices_dict[key][index] = ', '.join(x)\n",
    "        else:\n",
    "            slices_dict[key][index] = [None]"
   ]
  },
  {
   "cell_type": "code",
   "execution_count": 21,
   "metadata": {},
   "outputs": [
    {
     "name": "stdout",
     "output_type": "stream",
     "text": [
      "[None]\n"
     ]
    }
   ],
   "source": [
    "print(slices_dict[1][0][30])"
   ]
  },
  {
   "cell_type": "markdown",
   "metadata": {},
   "source": [
    "#### Init and fill PostgreSQL database with slices_dict vals"
   ]
  },
  {
   "cell_type": "code",
   "execution_count": 22,
   "metadata": {},
   "outputs": [],
   "source": [
    "conn = psycopg2.connect(dbname='zbrain2db', user='gqe', host='localhost', password='')\n",
    "cursor = conn.cursor()"
   ]
  },
  {
   "cell_type": "code",
   "execution_count": 23,
   "metadata": {},
   "outputs": [],
   "source": [
    "create_table_command = (\n",
    "\"\"\"\n",
    "    DROP TABLE IF EXISTS regionsClicking;\n",
    "    CREATE TABLE regionsClicking (\n",
    "        slice_id SERIAL PRIMARY KEY,\n",
    "        slice_no INT NOT NULL,\n",
    "        slice_vals text[][]\n",
    "    );\n",
    "\"\"\")"
   ]
  },
  {
   "cell_type": "code",
   "execution_count": 24,
   "metadata": {},
   "outputs": [],
   "source": [
    "try:\n",
    "    cursor.execute(create_table_command)\n",
    "    cursor.close()\n",
    "    conn.commit()\n",
    "except (Exception, psycopg2.DatabaseError) as error:\n",
    "    print(error)\n",
    "finally:\n",
    "    if conn is not None:\n",
    "        conn.close()"
   ]
  },
  {
   "cell_type": "code",
   "execution_count": 25,
   "metadata": {},
   "outputs": [],
   "source": [
    "conn = psycopg2.connect(dbname='zbrain2db', user='gqe', host='localhost', password='')\n",
    "cursor = conn.cursor()"
   ]
  },
  {
   "cell_type": "code",
   "execution_count": 26,
   "metadata": {},
   "outputs": [],
   "source": [
    "def create_insert_commands(slices_dict_pickle):\n",
    "    keys = natsorted(slices_dict_pickle.keys())\n",
    "    for i, key in enumerate(keys):\n",
    "        sli = slices_dict_pickle[key].tolist()\n",
    "        insert_SQL = (\n",
    "            \"INSERT INTO regionsClicking \"\n",
    "            \"(slice_no, slice_vals) \"\n",
    "            \"VALUES (%s, %s);\")\n",
    "        values = [i, sli]\n",
    "        yield (insert_SQL, values)"
   ]
  },
  {
   "cell_type": "code",
   "execution_count": 27,
   "metadata": {},
   "outputs": [],
   "source": [
    "insert_commands = list(create_insert_commands(slices_dict_pickle))"
   ]
  },
  {
   "cell_type": "code",
   "execution_count": 29,
   "metadata": {},
   "outputs": [
    {
     "name": "stdout",
     "output_type": "stream",
     "text": [
      "[[list([None]) list([None]) list([None]) ..., list([None]) list([None])\n",
      "  list([None])]\n",
      " [list([None]) list([None]) list([None]) ..., list([None]) list([None])\n",
      "  list([None])]\n",
      " [list([None]) list([None]) list([None]) ..., list([None]) list([None])\n",
      "  list([None])]\n",
      " ..., \n",
      " [list([None]) list([None]) list([None]) ..., list([None]) list([None])\n",
      "  list([None])]\n",
      " [list([None]) list([None]) list([None]) ..., list([None]) list([None])\n",
      "  list([None])]\n",
      " [list([None]) list([None]) list([None]) ..., list([None]) list([None])\n",
      "  list([None])]]\n"
     ]
    }
   ],
   "source": [
    "print(np.array(insert_commands[58][1][1]))"
   ]
  },
  {
   "cell_type": "code",
   "execution_count": 30,
   "metadata": {},
   "outputs": [],
   "source": [
    "def execute_inserts(insert_commands):\n",
    "    conn = psycopg2.connect(dbname='zbrain2db', user='gqe', host='localhost', password='')\n",
    "    cursor = conn.cursor()\n",
    "\n",
    "    for insert_command in insert_commands:\n",
    "        try:\n",
    "            cursor.execute(insert_command[0], insert_command[1])\n",
    "        except Exception as e:\n",
    "            print(e)\n",
    "        \n",
    "    cursor.close()\n",
    "    conn.commit()"
   ]
  },
  {
   "cell_type": "code",
   "execution_count": null,
   "metadata": {},
   "outputs": [],
   "source": [
    "execute_inserts(insert_commands)"
   ]
  },
  {
   "cell_type": "code",
   "execution_count": 52,
   "metadata": {},
   "outputs": [
    {
     "name": "stdout",
     "output_type": "stream",
     "text": [
      "Ganglia - Vagal Ganglia\n"
     ]
    }
   ],
   "source": [
    "conn = psycopg2.connect(dbname='zbrain2db', user='gqe', host='localhost', password='')\n",
    "cursor = conn.cursor()\n",
    "cursor.execute('SELECT * FROM regionsClicking WHERE slice_id=40')\n",
    "\n",
    "rows = cursor.fetchall()\n",
    "for index, item in np.ndenumerate(rows[0][2]):\n",
    "    if item != '{NULL}':\n",
    "        print(item)\n",
    "        break\n",
    "\n",
    "cursor.close()\n",
    "conn.close()"
   ]
  },
  {
   "cell_type": "code",
   "execution_count": null,
   "metadata": {},
   "outputs": [],
   "source": []
  }
 ],
 "metadata": {
  "kernelspec": {
   "display_name": "Python 3",
   "language": "python",
   "name": "python3"
  },
  "language_info": {
   "codemirror_mode": {
    "name": "ipython",
    "version": 3
   },
   "file_extension": ".py",
   "mimetype": "text/x-python",
   "name": "python",
   "nbconvert_exporter": "python",
   "pygments_lexer": "ipython3",
   "version": "3.6.3"
  }
 },
 "nbformat": 4,
 "nbformat_minor": 2
}
