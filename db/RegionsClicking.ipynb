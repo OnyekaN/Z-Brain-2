{
 "cells": [
  {
   "cell_type": "markdown",
   "metadata": {},
   "source": [
    "### Create database table for Regions Clicking"
   ]
  },
  {
   "cell_type": "code",
   "execution_count": 34,
   "metadata": {},
   "outputs": [],
   "source": [
    "import os, sys, psycopg2\n",
    "import numpy as np\n",
    "import warnings; warnings.filterwarnings(\"ignore\")\n",
    "from natsort import natsorted\n",
    "from scipy import misc\n",
    "from PIL import Image, ImageFilter"
   ]
  },
  {
   "cell_type": "code",
   "execution_count": 3,
   "metadata": {},
   "outputs": [],
   "source": [
    "regions_dir = '../app/assets/images/2-Regions'"
   ]
  },
  {
   "cell_type": "code",
   "execution_count": 164,
   "metadata": {},
   "outputs": [],
   "source": [
    "regions_subdirs = os.listdir(regions_dir)\n",
    "regions_subdirs = [os.path.join(regions_dir, s, 'cyan') for s in regions_subdirs]\n",
    "regions_subdirs = natsorted(regions_subdirs)"
   ]
  },
  {
   "cell_type": "code",
   "execution_count": 165,
   "metadata": {},
   "outputs": [],
   "source": [
    "slices_dict = dict()\n",
    "slice_shape = (621, 1406)\n",
    "no_slices = 138\n",
    "for i in range(0, no_slices):\n",
    "    slices_dict[i] = np.ndarray(slice_shape, dtype=object)"
   ]
  },
  {
   "cell_type": "code",
   "execution_count": 178,
   "metadata": {},
   "outputs": [],
   "source": [
    "def populate_slices_dict(slices_dict, regions_subdirs, start=0):\n",
    "    for i, subdir in enumerate(regions_subdirs):\n",
    "        try:\n",
    "            images = natsorted([os.path.join(subdir, image) \\\n",
    "                        for image in os.listdir(subdir)])\n",
    "        except:\n",
    "            continue\n",
    "        for sli_n, image in enumerate(images):\n",
    "            im = misc.imread(image, 'L')\n",
    "            for index, x in np.ndenumerate(im):\n",
    "                if x:\n",
    "                    matching_slis = slices_dict[sli_n][index]\n",
    "                    if matching_slis == None:\n",
    "                        matching_slis = list()\n",
    "                    region_name = subdir.split('/')[5]\n",
    "                    if region_name not in matching_slis:\n",
    "                        matching_slis.append(region_name)\n",
    "        print(i + start, subdir)"
   ]
  },
  {
   "cell_type": "code",
   "execution_count": null,
   "metadata": {},
   "outputs": [
    {
     "name": "stdout",
     "output_type": "stream",
     "text": [
      "(9, '../app/assets/images/2-Regions/Forebrain - Diencephalon - Dopaminergic Cluster 3 - hypothalamus/cyan')\n",
      "(10, '../app/assets/images/2-Regions/Forebrain - Diencephalon - Dopaminergic Cluster 4-5 - posterior tuberculum and hypothalamus/cyan')\n",
      "(11, '../app/assets/images/2-Regions/Forebrain - Diencephalon - Dopaminergic Cluster 6 - hypothalamus/cyan')\n",
      "(12, '../app/assets/images/2-Regions/Forebrain - Diencephalon - Dopaminergic Cluster 7 - Caudal Hypothalamus/cyan')\n",
      "(13, '../app/assets/images/2-Regions/Forebrain - Diencephalon - Eminentia Thalami/cyan')\n",
      "(14, '../app/assets/images/2-Regions/Forebrain - Diencephalon - Habenula/cyan')\n",
      "(15, '../app/assets/images/2-Regions/Forebrain - Diencephalon - Hypothalamus 6.7FRhcrtR-Gal4 cluster 1/cyan')\n",
      "(16, '../app/assets/images/2-Regions/Forebrain - Diencephalon - Hypothalamus 6.7FRhcrtR-Gal4 cluster 2/cyan')\n",
      "(17, '../app/assets/images/2-Regions/Forebrain - Diencephalon - Hypothalamus - Caudal Hypothalamus Neural Cluster/cyan')\n",
      "(18, '../app/assets/images/2-Regions/Forebrain - Diencephalon - Hypothalamus - Intermediate Hypothalamus Neural Cluster/cyan')\n",
      "(19, '../app/assets/images/2-Regions/Forebrain - Diencephalon - Hypothalamus Gad1b Cluster 1/cyan')\n",
      "(20, '../app/assets/images/2-Regions/Forebrain - Diencephalon - Hypothalamus Gad1b Cluster 2/cyan')\n"
     ]
    }
   ],
   "source": [
    "populate_slices_dict(slices_dict, regions_subdirs[9:], 9)"
   ]
  },
  {
   "cell_type": "code",
   "execution_count": 176,
   "metadata": {},
   "outputs": [
    {
     "name": "stdout",
     "output_type": "stream",
     "text": [
      "../app/assets/images/2-Regions/Forebrain - Diencephalon - Anterior pretectum cluster of vmat2 Neurons/cyan\n"
     ]
    }
   ],
   "source": [
    "print(regions_subdirs[5])"
   ]
  },
  {
   "cell_type": "code",
   "execution_count": null,
   "metadata": {},
   "outputs": [],
   "source": []
  }
 ],
 "metadata": {
  "kernelspec": {
   "display_name": "Python [default]",
   "language": "python",
   "name": "python2"
  },
  "language_info": {
   "codemirror_mode": {
    "name": "ipython",
    "version": 2
   },
   "file_extension": ".py",
   "mimetype": "text/x-python",
   "name": "python",
   "nbconvert_exporter": "python",
   "pygments_lexer": "ipython2",
   "version": "2.7.14"
  }
 },
 "nbformat": 4,
 "nbformat_minor": 2
}
